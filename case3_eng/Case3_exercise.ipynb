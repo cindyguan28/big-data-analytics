{
 "cells": [
  {
   "cell_type": "code",
   "execution_count": 20,
   "metadata": {
    "tags": [
     "remove-output"
    ]
   },
   "outputs": [],
   "source": [
    "\n",
    "# import necessary packages for case study\n",
    "import pandas as pd\n",
    "import numpy as np\n",
    "import matplotlib.pyplot as plt\n",
    "import statsmodels.api as sm\n",
    "import os\n",
    "import urllib.request\n",
    "\n",
    "#Load data\n",
    "df_fundamentals = pd.read_csv(\"case3_fundamentals.csv\", index_col=0)\n",
    "df_prices_split = pd.read_csv(\"case3_prices-split-adjusted.csv\")\n",
    "df_securities = pd.read_csv(\"case3_securities.csv\")"
   ]
  },
  {
   "cell_type": "code",
   "execution_count": 21,
   "metadata": {},
   "outputs": [],
   "source": [
    "\n",
    "# replace ' ' with '.'\n",
    "df_fundamentals.columns = [c.replace(' ', '.') for c in df_fundamentals.columns]\n",
    "df_prices_split.columns = [c.replace(' ', '.') for c in df_prices_split.columns]\n",
    "df_securities.columns = [c.replace(' ', '.') for c in df_securities.columns]\n"
   ]
  },
  {
   "cell_type": "code",
   "execution_count": 22,
   "metadata": {},
   "outputs": [],
   "source": [
    "# Check Type of Variables\n",
    "df_prices_split['date'] = pd.to_datetime(df_prices_split['date'],\n",
    "               format='%Y-%m-%d')\n",
    "df_securities['Date.first.added'] = pd.to_datetime(df_securities['Date.first.added'],\n",
    "               format='%Y-%m-%d')\n",
    "df_securities['CIK'] = df_securities.CIK.astype('category')\n",
    "df_securities['Security'] = df_securities.Security.astype('category')\n",
    "df_securities['GICS.Sub.Industry'] = df_securities['GICS.Sub.Industry'].astype('category')\n",
    "df_securities['GICS.Sector'] = df_securities['GICS.Sector'].astype('category')\n",
    "df_securities['Address.of.Headquarters'] = df_securities['Address.of.Headquarters'].astype('category')\n",
    "df_securities['SEC.filings'] = df_securities['SEC.filings'].astype('category')\n",
    "df_fundamentals['Period.Ending'] = pd.to_datetime(df_fundamentals['Period.Ending'],\n",
    "               format='%Y-%m-%d')\n"
   ]
  },
  {
   "cell_type": "code",
   "execution_count": 23,
   "metadata": {},
   "outputs": [
    {
     "data": {
      "text/html": [
       "<div>\n",
       "<style scoped>\n",
       "    .dataframe tbody tr th:only-of-type {\n",
       "        vertical-align: middle;\n",
       "    }\n",
       "\n",
       "    .dataframe tbody tr th {\n",
       "        vertical-align: top;\n",
       "    }\n",
       "\n",
       "    .dataframe thead th {\n",
       "        text-align: right;\n",
       "    }\n",
       "</style>\n",
       "<table border=\"1\" class=\"dataframe\">\n",
       "  <thead>\n",
       "    <tr style=\"text-align: right;\">\n",
       "      <th></th>\n",
       "      <th>Ticker.Symbol</th>\n",
       "      <th>Period.Ending</th>\n",
       "      <th>Accounts.Payable</th>\n",
       "      <th>Accounts.Receivable</th>\n",
       "      <th>Add'l.income/expense.items</th>\n",
       "      <th>After.Tax.ROE</th>\n",
       "      <th>Capital.Expenditures</th>\n",
       "      <th>Capital.Surplus</th>\n",
       "      <th>Cash.Ratio</th>\n",
       "      <th>Cash.and.Cash.Equivalents</th>\n",
       "      <th>...</th>\n",
       "      <th>For.Year</th>\n",
       "      <th>Earnings.Per.Share</th>\n",
       "      <th>Estimated.Shares.Outstanding</th>\n",
       "      <th>date</th>\n",
       "      <th>symbol</th>\n",
       "      <th>open</th>\n",
       "      <th>close</th>\n",
       "      <th>low</th>\n",
       "      <th>high</th>\n",
       "      <th>volume</th>\n",
       "    </tr>\n",
       "  </thead>\n",
       "  <tbody>\n",
       "    <tr>\n",
       "      <th>0</th>\n",
       "      <td>AAL</td>\n",
       "      <td>2012-12-31</td>\n",
       "      <td>3.068000e+09</td>\n",
       "      <td>-222000000.0</td>\n",
       "      <td>-1.961000e+09</td>\n",
       "      <td>23.0</td>\n",
       "      <td>-1.888000e+09</td>\n",
       "      <td>4.695000e+09</td>\n",
       "      <td>53.0</td>\n",
       "      <td>1.330000e+09</td>\n",
       "      <td>...</td>\n",
       "      <td>2012.0</td>\n",
       "      <td>-5.60</td>\n",
       "      <td>3.350000e+08</td>\n",
       "      <td>2012-12-31</td>\n",
       "      <td>AAL</td>\n",
       "      <td>12.850000</td>\n",
       "      <td>13.500000</td>\n",
       "      <td>12.840000</td>\n",
       "      <td>13.680000</td>\n",
       "      <td>7005600.0</td>\n",
       "    </tr>\n",
       "    <tr>\n",
       "      <th>1</th>\n",
       "      <td>AAL</td>\n",
       "      <td>2013-12-31</td>\n",
       "      <td>4.975000e+09</td>\n",
       "      <td>-93000000.0</td>\n",
       "      <td>-2.723000e+09</td>\n",
       "      <td>67.0</td>\n",
       "      <td>-3.114000e+09</td>\n",
       "      <td>1.059200e+10</td>\n",
       "      <td>75.0</td>\n",
       "      <td>2.175000e+09</td>\n",
       "      <td>...</td>\n",
       "      <td>2013.0</td>\n",
       "      <td>-11.25</td>\n",
       "      <td>1.630222e+08</td>\n",
       "      <td>2013-12-31</td>\n",
       "      <td>AAL</td>\n",
       "      <td>24.740000</td>\n",
       "      <td>25.250000</td>\n",
       "      <td>24.629999</td>\n",
       "      <td>25.250000</td>\n",
       "      <td>7166600.0</td>\n",
       "    </tr>\n",
       "    <tr>\n",
       "      <th>2</th>\n",
       "      <td>AAL</td>\n",
       "      <td>2014-12-31</td>\n",
       "      <td>4.668000e+09</td>\n",
       "      <td>-160000000.0</td>\n",
       "      <td>-1.500000e+08</td>\n",
       "      <td>143.0</td>\n",
       "      <td>-5.311000e+09</td>\n",
       "      <td>1.513500e+10</td>\n",
       "      <td>60.0</td>\n",
       "      <td>1.768000e+09</td>\n",
       "      <td>...</td>\n",
       "      <td>2014.0</td>\n",
       "      <td>4.02</td>\n",
       "      <td>7.169154e+08</td>\n",
       "      <td>2014-12-31</td>\n",
       "      <td>AAL</td>\n",
       "      <td>53.900002</td>\n",
       "      <td>53.630001</td>\n",
       "      <td>53.320000</td>\n",
       "      <td>54.639999</td>\n",
       "      <td>10626000.0</td>\n",
       "    </tr>\n",
       "    <tr>\n",
       "      <th>3</th>\n",
       "      <td>AAL</td>\n",
       "      <td>2015-12-31</td>\n",
       "      <td>5.102000e+09</td>\n",
       "      <td>352000000.0</td>\n",
       "      <td>-7.080000e+08</td>\n",
       "      <td>135.0</td>\n",
       "      <td>-6.151000e+09</td>\n",
       "      <td>1.159100e+10</td>\n",
       "      <td>51.0</td>\n",
       "      <td>1.085000e+09</td>\n",
       "      <td>...</td>\n",
       "      <td>2015.0</td>\n",
       "      <td>11.39</td>\n",
       "      <td>6.681299e+08</td>\n",
       "      <td>2015-12-31</td>\n",
       "      <td>AAL</td>\n",
       "      <td>42.540001</td>\n",
       "      <td>42.349998</td>\n",
       "      <td>41.830002</td>\n",
       "      <td>42.570000</td>\n",
       "      <td>6788900.0</td>\n",
       "    </tr>\n",
       "    <tr>\n",
       "      <th>4</th>\n",
       "      <td>ABBV</td>\n",
       "      <td>2013-12-31</td>\n",
       "      <td>6.448000e+09</td>\n",
       "      <td>681000000.0</td>\n",
       "      <td>-5.400000e+07</td>\n",
       "      <td>92.0</td>\n",
       "      <td>-4.910000e+08</td>\n",
       "      <td>3.671000e+09</td>\n",
       "      <td>144.0</td>\n",
       "      <td>9.595000e+09</td>\n",
       "      <td>...</td>\n",
       "      <td>2013.0</td>\n",
       "      <td>2.58</td>\n",
       "      <td>1.600000e+09</td>\n",
       "      <td>2013-12-31</td>\n",
       "      <td>ABBV</td>\n",
       "      <td>52.990002</td>\n",
       "      <td>52.810001</td>\n",
       "      <td>52.360001</td>\n",
       "      <td>53.060001</td>\n",
       "      <td>3019700.0</td>\n",
       "    </tr>\n",
       "    <tr>\n",
       "      <th>...</th>\n",
       "      <td>...</td>\n",
       "      <td>...</td>\n",
       "      <td>...</td>\n",
       "      <td>...</td>\n",
       "      <td>...</td>\n",
       "      <td>...</td>\n",
       "      <td>...</td>\n",
       "      <td>...</td>\n",
       "      <td>...</td>\n",
       "      <td>...</td>\n",
       "      <td>...</td>\n",
       "      <td>...</td>\n",
       "      <td>...</td>\n",
       "      <td>...</td>\n",
       "      <td>...</td>\n",
       "      <td>...</td>\n",
       "      <td>...</td>\n",
       "      <td>...</td>\n",
       "      <td>...</td>\n",
       "      <td>...</td>\n",
       "      <td>...</td>\n",
       "    </tr>\n",
       "    <tr>\n",
       "      <th>1352</th>\n",
       "      <td>ZION</td>\n",
       "      <td>2014-12-31</td>\n",
       "      <td>0.000000e+00</td>\n",
       "      <td>0.0</td>\n",
       "      <td>-4.442200e+07</td>\n",
       "      <td>5.0</td>\n",
       "      <td>-1.757990e+08</td>\n",
       "      <td>0.000000e+00</td>\n",
       "      <td>NaN</td>\n",
       "      <td>1.396843e+10</td>\n",
       "      <td>...</td>\n",
       "      <td>2014.0</td>\n",
       "      <td>1.68</td>\n",
       "      <td>2.371798e+08</td>\n",
       "      <td>2014-12-31</td>\n",
       "      <td>ZION</td>\n",
       "      <td>28.680000</td>\n",
       "      <td>28.510000</td>\n",
       "      <td>28.490000</td>\n",
       "      <td>28.770000</td>\n",
       "      <td>1470800.0</td>\n",
       "    </tr>\n",
       "    <tr>\n",
       "      <th>1353</th>\n",
       "      <td>ZION</td>\n",
       "      <td>2015-12-31</td>\n",
       "      <td>0.000000e+00</td>\n",
       "      <td>0.0</td>\n",
       "      <td>-2.530000e+06</td>\n",
       "      <td>4.0</td>\n",
       "      <td>-1.573610e+08</td>\n",
       "      <td>0.000000e+00</td>\n",
       "      <td>NaN</td>\n",
       "      <td>1.576313e+10</td>\n",
       "      <td>...</td>\n",
       "      <td>2015.0</td>\n",
       "      <td>1.20</td>\n",
       "      <td>2.578925e+08</td>\n",
       "      <td>2015-12-31</td>\n",
       "      <td>ZION</td>\n",
       "      <td>27.260000</td>\n",
       "      <td>27.299999</td>\n",
       "      <td>27.139999</td>\n",
       "      <td>27.639999</td>\n",
       "      <td>1737600.0</td>\n",
       "    </tr>\n",
       "    <tr>\n",
       "      <th>1354</th>\n",
       "      <td>ZTS</td>\n",
       "      <td>2013-12-31</td>\n",
       "      <td>1.381000e+09</td>\n",
       "      <td>-99000000.0</td>\n",
       "      <td>9.000000e+06</td>\n",
       "      <td>54.0</td>\n",
       "      <td>-1.840000e+08</td>\n",
       "      <td>8.780000e+08</td>\n",
       "      <td>43.0</td>\n",
       "      <td>6.100000e+08</td>\n",
       "      <td>...</td>\n",
       "      <td>2013.0</td>\n",
       "      <td>1.01</td>\n",
       "      <td>4.990099e+08</td>\n",
       "      <td>2013-12-31</td>\n",
       "      <td>ZTS</td>\n",
       "      <td>32.799999</td>\n",
       "      <td>32.689999</td>\n",
       "      <td>32.459999</td>\n",
       "      <td>32.810001</td>\n",
       "      <td>2270400.0</td>\n",
       "    </tr>\n",
       "    <tr>\n",
       "      <th>1355</th>\n",
       "      <td>ZTS</td>\n",
       "      <td>2014-12-31</td>\n",
       "      <td>1.071000e+09</td>\n",
       "      <td>69000000.0</td>\n",
       "      <td>-7.000000e+06</td>\n",
       "      <td>44.0</td>\n",
       "      <td>-1.800000e+08</td>\n",
       "      <td>9.580000e+08</td>\n",
       "      <td>81.0</td>\n",
       "      <td>8.820000e+08</td>\n",
       "      <td>...</td>\n",
       "      <td>2014.0</td>\n",
       "      <td>1.16</td>\n",
       "      <td>5.025862e+08</td>\n",
       "      <td>2014-12-31</td>\n",
       "      <td>ZTS</td>\n",
       "      <td>43.459999</td>\n",
       "      <td>43.029999</td>\n",
       "      <td>43.000000</td>\n",
       "      <td>43.880001</td>\n",
       "      <td>2131900.0</td>\n",
       "    </tr>\n",
       "    <tr>\n",
       "      <th>1356</th>\n",
       "      <td>ZTS</td>\n",
       "      <td>2015-12-31</td>\n",
       "      <td>1.313000e+09</td>\n",
       "      <td>-58000000.0</td>\n",
       "      <td>-8.100000e+07</td>\n",
       "      <td>32.0</td>\n",
       "      <td>-2.240000e+08</td>\n",
       "      <td>1.012000e+09</td>\n",
       "      <td>65.0</td>\n",
       "      <td>1.154000e+09</td>\n",
       "      <td>...</td>\n",
       "      <td>2015.0</td>\n",
       "      <td>0.68</td>\n",
       "      <td>4.985294e+08</td>\n",
       "      <td>2015-12-31</td>\n",
       "      <td>ZTS</td>\n",
       "      <td>47.930000</td>\n",
       "      <td>47.919998</td>\n",
       "      <td>47.810001</td>\n",
       "      <td>48.400002</td>\n",
       "      <td>1758000.0</td>\n",
       "    </tr>\n",
       "  </tbody>\n",
       "</table>\n",
       "<p>1357 rows × 85 columns</p>\n",
       "</div>"
      ],
      "text/plain": [
       "     Ticker.Symbol Period.Ending  Accounts.Payable  Accounts.Receivable  \\\n",
       "0              AAL    2012-12-31      3.068000e+09         -222000000.0   \n",
       "1              AAL    2013-12-31      4.975000e+09          -93000000.0   \n",
       "2              AAL    2014-12-31      4.668000e+09         -160000000.0   \n",
       "3              AAL    2015-12-31      5.102000e+09          352000000.0   \n",
       "4             ABBV    2013-12-31      6.448000e+09          681000000.0   \n",
       "...            ...           ...               ...                  ...   \n",
       "1352          ZION    2014-12-31      0.000000e+00                  0.0   \n",
       "1353          ZION    2015-12-31      0.000000e+00                  0.0   \n",
       "1354           ZTS    2013-12-31      1.381000e+09          -99000000.0   \n",
       "1355           ZTS    2014-12-31      1.071000e+09           69000000.0   \n",
       "1356           ZTS    2015-12-31      1.313000e+09          -58000000.0   \n",
       "\n",
       "      Add'l.income/expense.items  After.Tax.ROE  Capital.Expenditures  \\\n",
       "0                  -1.961000e+09           23.0         -1.888000e+09   \n",
       "1                  -2.723000e+09           67.0         -3.114000e+09   \n",
       "2                  -1.500000e+08          143.0         -5.311000e+09   \n",
       "3                  -7.080000e+08          135.0         -6.151000e+09   \n",
       "4                  -5.400000e+07           92.0         -4.910000e+08   \n",
       "...                          ...            ...                   ...   \n",
       "1352               -4.442200e+07            5.0         -1.757990e+08   \n",
       "1353               -2.530000e+06            4.0         -1.573610e+08   \n",
       "1354                9.000000e+06           54.0         -1.840000e+08   \n",
       "1355               -7.000000e+06           44.0         -1.800000e+08   \n",
       "1356               -8.100000e+07           32.0         -2.240000e+08   \n",
       "\n",
       "      Capital.Surplus  Cash.Ratio  Cash.and.Cash.Equivalents  ...  For.Year  \\\n",
       "0        4.695000e+09        53.0               1.330000e+09  ...    2012.0   \n",
       "1        1.059200e+10        75.0               2.175000e+09  ...    2013.0   \n",
       "2        1.513500e+10        60.0               1.768000e+09  ...    2014.0   \n",
       "3        1.159100e+10        51.0               1.085000e+09  ...    2015.0   \n",
       "4        3.671000e+09       144.0               9.595000e+09  ...    2013.0   \n",
       "...               ...         ...                        ...  ...       ...   \n",
       "1352     0.000000e+00         NaN               1.396843e+10  ...    2014.0   \n",
       "1353     0.000000e+00         NaN               1.576313e+10  ...    2015.0   \n",
       "1354     8.780000e+08        43.0               6.100000e+08  ...    2013.0   \n",
       "1355     9.580000e+08        81.0               8.820000e+08  ...    2014.0   \n",
       "1356     1.012000e+09        65.0               1.154000e+09  ...    2015.0   \n",
       "\n",
       "      Earnings.Per.Share  Estimated.Shares.Outstanding       date  symbol  \\\n",
       "0                  -5.60                  3.350000e+08 2012-12-31     AAL   \n",
       "1                 -11.25                  1.630222e+08 2013-12-31     AAL   \n",
       "2                   4.02                  7.169154e+08 2014-12-31     AAL   \n",
       "3                  11.39                  6.681299e+08 2015-12-31     AAL   \n",
       "4                   2.58                  1.600000e+09 2013-12-31    ABBV   \n",
       "...                  ...                           ...        ...     ...   \n",
       "1352                1.68                  2.371798e+08 2014-12-31    ZION   \n",
       "1353                1.20                  2.578925e+08 2015-12-31    ZION   \n",
       "1354                1.01                  4.990099e+08 2013-12-31     ZTS   \n",
       "1355                1.16                  5.025862e+08 2014-12-31     ZTS   \n",
       "1356                0.68                  4.985294e+08 2015-12-31     ZTS   \n",
       "\n",
       "           open      close        low       high      volume  \n",
       "0     12.850000  13.500000  12.840000  13.680000   7005600.0  \n",
       "1     24.740000  25.250000  24.629999  25.250000   7166600.0  \n",
       "2     53.900002  53.630001  53.320000  54.639999  10626000.0  \n",
       "3     42.540001  42.349998  41.830002  42.570000   6788900.0  \n",
       "4     52.990002  52.810001  52.360001  53.060001   3019700.0  \n",
       "...         ...        ...        ...        ...         ...  \n",
       "1352  28.680000  28.510000  28.490000  28.770000   1470800.0  \n",
       "1353  27.260000  27.299999  27.139999  27.639999   1737600.0  \n",
       "1354  32.799999  32.689999  32.459999  32.810001   2270400.0  \n",
       "1355  43.459999  43.029999  43.000000  43.880001   2131900.0  \n",
       "1356  47.930000  47.919998  47.810001  48.400002   1758000.0  \n",
       "\n",
       "[1357 rows x 85 columns]"
      ]
     },
     "execution_count": 23,
     "metadata": {},
     "output_type": "execute_result"
    }
   ],
   "source": [
    "df_merge1 = df_fundamentals.merge(df_prices_split, left_on = ['Period.Ending','Ticker.Symbol'], right_on = ['date', 'symbol'])\n",
    "df_merge1"
   ]
  },
  {
   "cell_type": "code",
   "execution_count": 24,
   "metadata": {},
   "outputs": [
    {
     "data": {
      "text/html": [
       "<div>\n",
       "<style scoped>\n",
       "    .dataframe tbody tr th:only-of-type {\n",
       "        vertical-align: middle;\n",
       "    }\n",
       "\n",
       "    .dataframe tbody tr th {\n",
       "        vertical-align: top;\n",
       "    }\n",
       "\n",
       "    .dataframe thead th {\n",
       "        text-align: right;\n",
       "    }\n",
       "</style>\n",
       "<table border=\"1\" class=\"dataframe\">\n",
       "  <thead>\n",
       "    <tr style=\"text-align: right;\">\n",
       "      <th></th>\n",
       "      <th>Ticker.Symbol</th>\n",
       "      <th>Period.Ending</th>\n",
       "      <th>Accounts.Payable</th>\n",
       "      <th>Accounts.Receivable</th>\n",
       "      <th>Add'l.income/expense.items</th>\n",
       "      <th>After.Tax.ROE</th>\n",
       "      <th>Capital.Expenditures</th>\n",
       "      <th>Capital.Surplus</th>\n",
       "      <th>Cash.Ratio</th>\n",
       "      <th>Cash.and.Cash.Equivalents</th>\n",
       "      <th>...</th>\n",
       "      <th>Total.Revenue</th>\n",
       "      <th>Treasury.Stock</th>\n",
       "      <th>For.Year</th>\n",
       "      <th>Earnings.Per.Share</th>\n",
       "      <th>Estimated.Shares.Outstanding</th>\n",
       "      <th>open</th>\n",
       "      <th>close</th>\n",
       "      <th>low</th>\n",
       "      <th>high</th>\n",
       "      <th>volume</th>\n",
       "    </tr>\n",
       "  </thead>\n",
       "  <tbody>\n",
       "    <tr>\n",
       "      <th>0</th>\n",
       "      <td>AAL</td>\n",
       "      <td>2012-12-31</td>\n",
       "      <td>3.068000e+09</td>\n",
       "      <td>-222000000.0</td>\n",
       "      <td>-1.961000e+09</td>\n",
       "      <td>23.0</td>\n",
       "      <td>-1.888000e+09</td>\n",
       "      <td>4.695000e+09</td>\n",
       "      <td>53.0</td>\n",
       "      <td>1.330000e+09</td>\n",
       "      <td>...</td>\n",
       "      <td>2.485500e+10</td>\n",
       "      <td>-367000000.0</td>\n",
       "      <td>2012.0</td>\n",
       "      <td>-5.60</td>\n",
       "      <td>3.350000e+08</td>\n",
       "      <td>12.850000</td>\n",
       "      <td>13.500000</td>\n",
       "      <td>12.840000</td>\n",
       "      <td>13.680000</td>\n",
       "      <td>7005600.0</td>\n",
       "    </tr>\n",
       "    <tr>\n",
       "      <th>1</th>\n",
       "      <td>AAL</td>\n",
       "      <td>2013-12-31</td>\n",
       "      <td>4.975000e+09</td>\n",
       "      <td>-93000000.0</td>\n",
       "      <td>-2.723000e+09</td>\n",
       "      <td>67.0</td>\n",
       "      <td>-3.114000e+09</td>\n",
       "      <td>1.059200e+10</td>\n",
       "      <td>75.0</td>\n",
       "      <td>2.175000e+09</td>\n",
       "      <td>...</td>\n",
       "      <td>2.674300e+10</td>\n",
       "      <td>0.0</td>\n",
       "      <td>2013.0</td>\n",
       "      <td>-11.25</td>\n",
       "      <td>1.630222e+08</td>\n",
       "      <td>24.740000</td>\n",
       "      <td>25.250000</td>\n",
       "      <td>24.629999</td>\n",
       "      <td>25.250000</td>\n",
       "      <td>7166600.0</td>\n",
       "    </tr>\n",
       "    <tr>\n",
       "      <th>2</th>\n",
       "      <td>AAL</td>\n",
       "      <td>2014-12-31</td>\n",
       "      <td>4.668000e+09</td>\n",
       "      <td>-160000000.0</td>\n",
       "      <td>-1.500000e+08</td>\n",
       "      <td>143.0</td>\n",
       "      <td>-5.311000e+09</td>\n",
       "      <td>1.513500e+10</td>\n",
       "      <td>60.0</td>\n",
       "      <td>1.768000e+09</td>\n",
       "      <td>...</td>\n",
       "      <td>4.265000e+10</td>\n",
       "      <td>0.0</td>\n",
       "      <td>2014.0</td>\n",
       "      <td>4.02</td>\n",
       "      <td>7.169154e+08</td>\n",
       "      <td>53.900002</td>\n",
       "      <td>53.630001</td>\n",
       "      <td>53.320000</td>\n",
       "      <td>54.639999</td>\n",
       "      <td>10626000.0</td>\n",
       "    </tr>\n",
       "    <tr>\n",
       "      <th>3</th>\n",
       "      <td>AAL</td>\n",
       "      <td>2015-12-31</td>\n",
       "      <td>5.102000e+09</td>\n",
       "      <td>352000000.0</td>\n",
       "      <td>-7.080000e+08</td>\n",
       "      <td>135.0</td>\n",
       "      <td>-6.151000e+09</td>\n",
       "      <td>1.159100e+10</td>\n",
       "      <td>51.0</td>\n",
       "      <td>1.085000e+09</td>\n",
       "      <td>...</td>\n",
       "      <td>4.099000e+10</td>\n",
       "      <td>0.0</td>\n",
       "      <td>2015.0</td>\n",
       "      <td>11.39</td>\n",
       "      <td>6.681299e+08</td>\n",
       "      <td>42.540001</td>\n",
       "      <td>42.349998</td>\n",
       "      <td>41.830002</td>\n",
       "      <td>42.570000</td>\n",
       "      <td>6788900.0</td>\n",
       "    </tr>\n",
       "    <tr>\n",
       "      <th>4</th>\n",
       "      <td>ABBV</td>\n",
       "      <td>2013-12-31</td>\n",
       "      <td>6.448000e+09</td>\n",
       "      <td>681000000.0</td>\n",
       "      <td>-5.400000e+07</td>\n",
       "      <td>92.0</td>\n",
       "      <td>-4.910000e+08</td>\n",
       "      <td>3.671000e+09</td>\n",
       "      <td>144.0</td>\n",
       "      <td>9.595000e+09</td>\n",
       "      <td>...</td>\n",
       "      <td>1.879000e+10</td>\n",
       "      <td>-320000000.0</td>\n",
       "      <td>2013.0</td>\n",
       "      <td>2.58</td>\n",
       "      <td>1.600000e+09</td>\n",
       "      <td>52.990002</td>\n",
       "      <td>52.810001</td>\n",
       "      <td>52.360001</td>\n",
       "      <td>53.060001</td>\n",
       "      <td>3019700.0</td>\n",
       "    </tr>\n",
       "    <tr>\n",
       "      <th>...</th>\n",
       "      <td>...</td>\n",
       "      <td>...</td>\n",
       "      <td>...</td>\n",
       "      <td>...</td>\n",
       "      <td>...</td>\n",
       "      <td>...</td>\n",
       "      <td>...</td>\n",
       "      <td>...</td>\n",
       "      <td>...</td>\n",
       "      <td>...</td>\n",
       "      <td>...</td>\n",
       "      <td>...</td>\n",
       "      <td>...</td>\n",
       "      <td>...</td>\n",
       "      <td>...</td>\n",
       "      <td>...</td>\n",
       "      <td>...</td>\n",
       "      <td>...</td>\n",
       "      <td>...</td>\n",
       "      <td>...</td>\n",
       "      <td>...</td>\n",
       "    </tr>\n",
       "    <tr>\n",
       "      <th>1352</th>\n",
       "      <td>ZION</td>\n",
       "      <td>2014-12-31</td>\n",
       "      <td>0.000000e+00</td>\n",
       "      <td>0.0</td>\n",
       "      <td>-4.442200e+07</td>\n",
       "      <td>5.0</td>\n",
       "      <td>-1.757990e+08</td>\n",
       "      <td>0.000000e+00</td>\n",
       "      <td>NaN</td>\n",
       "      <td>1.396843e+10</td>\n",
       "      <td>...</td>\n",
       "      <td>2.361631e+09</td>\n",
       "      <td>0.0</td>\n",
       "      <td>2014.0</td>\n",
       "      <td>1.68</td>\n",
       "      <td>2.371798e+08</td>\n",
       "      <td>28.680000</td>\n",
       "      <td>28.510000</td>\n",
       "      <td>28.490000</td>\n",
       "      <td>28.770000</td>\n",
       "      <td>1470800.0</td>\n",
       "    </tr>\n",
       "    <tr>\n",
       "      <th>1353</th>\n",
       "      <td>ZION</td>\n",
       "      <td>2015-12-31</td>\n",
       "      <td>0.000000e+00</td>\n",
       "      <td>0.0</td>\n",
       "      <td>-2.530000e+06</td>\n",
       "      <td>4.0</td>\n",
       "      <td>-1.573610e+08</td>\n",
       "      <td>0.000000e+00</td>\n",
       "      <td>NaN</td>\n",
       "      <td>1.576313e+10</td>\n",
       "      <td>...</td>\n",
       "      <td>2.210591e+09</td>\n",
       "      <td>0.0</td>\n",
       "      <td>2015.0</td>\n",
       "      <td>1.20</td>\n",
       "      <td>2.578925e+08</td>\n",
       "      <td>27.260000</td>\n",
       "      <td>27.299999</td>\n",
       "      <td>27.139999</td>\n",
       "      <td>27.639999</td>\n",
       "      <td>1737600.0</td>\n",
       "    </tr>\n",
       "    <tr>\n",
       "      <th>1354</th>\n",
       "      <td>ZTS</td>\n",
       "      <td>2013-12-31</td>\n",
       "      <td>1.381000e+09</td>\n",
       "      <td>-99000000.0</td>\n",
       "      <td>9.000000e+06</td>\n",
       "      <td>54.0</td>\n",
       "      <td>-1.840000e+08</td>\n",
       "      <td>8.780000e+08</td>\n",
       "      <td>43.0</td>\n",
       "      <td>6.100000e+08</td>\n",
       "      <td>...</td>\n",
       "      <td>4.561000e+09</td>\n",
       "      <td>0.0</td>\n",
       "      <td>2013.0</td>\n",
       "      <td>1.01</td>\n",
       "      <td>4.990099e+08</td>\n",
       "      <td>32.799999</td>\n",
       "      <td>32.689999</td>\n",
       "      <td>32.459999</td>\n",
       "      <td>32.810001</td>\n",
       "      <td>2270400.0</td>\n",
       "    </tr>\n",
       "    <tr>\n",
       "      <th>1355</th>\n",
       "      <td>ZTS</td>\n",
       "      <td>2014-12-31</td>\n",
       "      <td>1.071000e+09</td>\n",
       "      <td>69000000.0</td>\n",
       "      <td>-7.000000e+06</td>\n",
       "      <td>44.0</td>\n",
       "      <td>-1.800000e+08</td>\n",
       "      <td>9.580000e+08</td>\n",
       "      <td>81.0</td>\n",
       "      <td>8.820000e+08</td>\n",
       "      <td>...</td>\n",
       "      <td>4.785000e+09</td>\n",
       "      <td>0.0</td>\n",
       "      <td>2014.0</td>\n",
       "      <td>1.16</td>\n",
       "      <td>5.025862e+08</td>\n",
       "      <td>43.459999</td>\n",
       "      <td>43.029999</td>\n",
       "      <td>43.000000</td>\n",
       "      <td>43.880001</td>\n",
       "      <td>2131900.0</td>\n",
       "    </tr>\n",
       "    <tr>\n",
       "      <th>1356</th>\n",
       "      <td>ZTS</td>\n",
       "      <td>2015-12-31</td>\n",
       "      <td>1.313000e+09</td>\n",
       "      <td>-58000000.0</td>\n",
       "      <td>-8.100000e+07</td>\n",
       "      <td>32.0</td>\n",
       "      <td>-2.240000e+08</td>\n",
       "      <td>1.012000e+09</td>\n",
       "      <td>65.0</td>\n",
       "      <td>1.154000e+09</td>\n",
       "      <td>...</td>\n",
       "      <td>4.765000e+09</td>\n",
       "      <td>-203000000.0</td>\n",
       "      <td>2015.0</td>\n",
       "      <td>0.68</td>\n",
       "      <td>4.985294e+08</td>\n",
       "      <td>47.930000</td>\n",
       "      <td>47.919998</td>\n",
       "      <td>47.810001</td>\n",
       "      <td>48.400002</td>\n",
       "      <td>1758000.0</td>\n",
       "    </tr>\n",
       "  </tbody>\n",
       "</table>\n",
       "<p>1357 rows × 83 columns</p>\n",
       "</div>"
      ],
      "text/plain": [
       "     Ticker.Symbol Period.Ending  Accounts.Payable  Accounts.Receivable  \\\n",
       "0              AAL    2012-12-31      3.068000e+09         -222000000.0   \n",
       "1              AAL    2013-12-31      4.975000e+09          -93000000.0   \n",
       "2              AAL    2014-12-31      4.668000e+09         -160000000.0   \n",
       "3              AAL    2015-12-31      5.102000e+09          352000000.0   \n",
       "4             ABBV    2013-12-31      6.448000e+09          681000000.0   \n",
       "...            ...           ...               ...                  ...   \n",
       "1352          ZION    2014-12-31      0.000000e+00                  0.0   \n",
       "1353          ZION    2015-12-31      0.000000e+00                  0.0   \n",
       "1354           ZTS    2013-12-31      1.381000e+09          -99000000.0   \n",
       "1355           ZTS    2014-12-31      1.071000e+09           69000000.0   \n",
       "1356           ZTS    2015-12-31      1.313000e+09          -58000000.0   \n",
       "\n",
       "      Add'l.income/expense.items  After.Tax.ROE  Capital.Expenditures  \\\n",
       "0                  -1.961000e+09           23.0         -1.888000e+09   \n",
       "1                  -2.723000e+09           67.0         -3.114000e+09   \n",
       "2                  -1.500000e+08          143.0         -5.311000e+09   \n",
       "3                  -7.080000e+08          135.0         -6.151000e+09   \n",
       "4                  -5.400000e+07           92.0         -4.910000e+08   \n",
       "...                          ...            ...                   ...   \n",
       "1352               -4.442200e+07            5.0         -1.757990e+08   \n",
       "1353               -2.530000e+06            4.0         -1.573610e+08   \n",
       "1354                9.000000e+06           54.0         -1.840000e+08   \n",
       "1355               -7.000000e+06           44.0         -1.800000e+08   \n",
       "1356               -8.100000e+07           32.0         -2.240000e+08   \n",
       "\n",
       "      Capital.Surplus  Cash.Ratio  Cash.and.Cash.Equivalents  ...  \\\n",
       "0        4.695000e+09        53.0               1.330000e+09  ...   \n",
       "1        1.059200e+10        75.0               2.175000e+09  ...   \n",
       "2        1.513500e+10        60.0               1.768000e+09  ...   \n",
       "3        1.159100e+10        51.0               1.085000e+09  ...   \n",
       "4        3.671000e+09       144.0               9.595000e+09  ...   \n",
       "...               ...         ...                        ...  ...   \n",
       "1352     0.000000e+00         NaN               1.396843e+10  ...   \n",
       "1353     0.000000e+00         NaN               1.576313e+10  ...   \n",
       "1354     8.780000e+08        43.0               6.100000e+08  ...   \n",
       "1355     9.580000e+08        81.0               8.820000e+08  ...   \n",
       "1356     1.012000e+09        65.0               1.154000e+09  ...   \n",
       "\n",
       "      Total.Revenue  Treasury.Stock  For.Year  Earnings.Per.Share  \\\n",
       "0      2.485500e+10    -367000000.0    2012.0               -5.60   \n",
       "1      2.674300e+10             0.0    2013.0              -11.25   \n",
       "2      4.265000e+10             0.0    2014.0                4.02   \n",
       "3      4.099000e+10             0.0    2015.0               11.39   \n",
       "4      1.879000e+10    -320000000.0    2013.0                2.58   \n",
       "...             ...             ...       ...                 ...   \n",
       "1352   2.361631e+09             0.0    2014.0                1.68   \n",
       "1353   2.210591e+09             0.0    2015.0                1.20   \n",
       "1354   4.561000e+09             0.0    2013.0                1.01   \n",
       "1355   4.785000e+09             0.0    2014.0                1.16   \n",
       "1356   4.765000e+09    -203000000.0    2015.0                0.68   \n",
       "\n",
       "      Estimated.Shares.Outstanding       open      close        low  \\\n",
       "0                     3.350000e+08  12.850000  13.500000  12.840000   \n",
       "1                     1.630222e+08  24.740000  25.250000  24.629999   \n",
       "2                     7.169154e+08  53.900002  53.630001  53.320000   \n",
       "3                     6.681299e+08  42.540001  42.349998  41.830002   \n",
       "4                     1.600000e+09  52.990002  52.810001  52.360001   \n",
       "...                            ...        ...        ...        ...   \n",
       "1352                  2.371798e+08  28.680000  28.510000  28.490000   \n",
       "1353                  2.578925e+08  27.260000  27.299999  27.139999   \n",
       "1354                  4.990099e+08  32.799999  32.689999  32.459999   \n",
       "1355                  5.025862e+08  43.459999  43.029999  43.000000   \n",
       "1356                  4.985294e+08  47.930000  47.919998  47.810001   \n",
       "\n",
       "           high      volume  \n",
       "0     13.680000   7005600.0  \n",
       "1     25.250000   7166600.0  \n",
       "2     54.639999  10626000.0  \n",
       "3     42.570000   6788900.0  \n",
       "4     53.060001   3019700.0  \n",
       "...         ...         ...  \n",
       "1352  28.770000   1470800.0  \n",
       "1353  27.639999   1737600.0  \n",
       "1354  32.810001   2270400.0  \n",
       "1355  43.880001   2131900.0  \n",
       "1356  48.400002   1758000.0  \n",
       "\n",
       "[1357 rows x 83 columns]"
      ]
     },
     "execution_count": 24,
     "metadata": {},
     "output_type": "execute_result"
    }
   ],
   "source": [
    "df_merge1 = df_merge1.drop(['date', 'symbol'], axis=1)\n",
    "df_merge1\n"
   ]
  },
  {
   "cell_type": "code",
   "execution_count": 25,
   "metadata": {},
   "outputs": [
    {
     "data": {
      "text/html": [
       "<div>\n",
       "<style scoped>\n",
       "    .dataframe tbody tr th:only-of-type {\n",
       "        vertical-align: middle;\n",
       "    }\n",
       "\n",
       "    .dataframe tbody tr th {\n",
       "        vertical-align: top;\n",
       "    }\n",
       "\n",
       "    .dataframe thead th {\n",
       "        text-align: right;\n",
       "    }\n",
       "</style>\n",
       "<table border=\"1\" class=\"dataframe\">\n",
       "  <thead>\n",
       "    <tr style=\"text-align: right;\">\n",
       "      <th></th>\n",
       "      <th>Ticker.Symbol</th>\n",
       "      <th>Period.Ending</th>\n",
       "      <th>Accounts.Payable</th>\n",
       "      <th>Accounts.Receivable</th>\n",
       "      <th>Add'l.income/expense.items</th>\n",
       "      <th>After.Tax.ROE</th>\n",
       "      <th>Capital.Expenditures</th>\n",
       "      <th>Capital.Surplus</th>\n",
       "      <th>Cash.Ratio</th>\n",
       "      <th>Cash.and.Cash.Equivalents</th>\n",
       "      <th>...</th>\n",
       "      <th>high</th>\n",
       "      <th>volume</th>\n",
       "      <th>Ticker.symbol</th>\n",
       "      <th>Security</th>\n",
       "      <th>SEC.filings</th>\n",
       "      <th>GICS.Sector</th>\n",
       "      <th>GICS.Sub.Industry</th>\n",
       "      <th>Address.of.Headquarters</th>\n",
       "      <th>Date.first.added</th>\n",
       "      <th>CIK</th>\n",
       "    </tr>\n",
       "  </thead>\n",
       "  <tbody>\n",
       "    <tr>\n",
       "      <th>0</th>\n",
       "      <td>AAL</td>\n",
       "      <td>2012-12-31</td>\n",
       "      <td>3.068000e+09</td>\n",
       "      <td>-222000000.0</td>\n",
       "      <td>-1.961000e+09</td>\n",
       "      <td>23.0</td>\n",
       "      <td>-1.888000e+09</td>\n",
       "      <td>4.695000e+09</td>\n",
       "      <td>53.0</td>\n",
       "      <td>1.330000e+09</td>\n",
       "      <td>...</td>\n",
       "      <td>13.680000</td>\n",
       "      <td>7005600.0</td>\n",
       "      <td>AAL</td>\n",
       "      <td>American Airlines Group</td>\n",
       "      <td>reports</td>\n",
       "      <td>Industrials</td>\n",
       "      <td>Airlines</td>\n",
       "      <td>Fort Worth, Texas</td>\n",
       "      <td>2015-03-23</td>\n",
       "      <td>6201</td>\n",
       "    </tr>\n",
       "    <tr>\n",
       "      <th>1</th>\n",
       "      <td>AAL</td>\n",
       "      <td>2013-12-31</td>\n",
       "      <td>4.975000e+09</td>\n",
       "      <td>-93000000.0</td>\n",
       "      <td>-2.723000e+09</td>\n",
       "      <td>67.0</td>\n",
       "      <td>-3.114000e+09</td>\n",
       "      <td>1.059200e+10</td>\n",
       "      <td>75.0</td>\n",
       "      <td>2.175000e+09</td>\n",
       "      <td>...</td>\n",
       "      <td>25.250000</td>\n",
       "      <td>7166600.0</td>\n",
       "      <td>AAL</td>\n",
       "      <td>American Airlines Group</td>\n",
       "      <td>reports</td>\n",
       "      <td>Industrials</td>\n",
       "      <td>Airlines</td>\n",
       "      <td>Fort Worth, Texas</td>\n",
       "      <td>2015-03-23</td>\n",
       "      <td>6201</td>\n",
       "    </tr>\n",
       "    <tr>\n",
       "      <th>2</th>\n",
       "      <td>AAL</td>\n",
       "      <td>2014-12-31</td>\n",
       "      <td>4.668000e+09</td>\n",
       "      <td>-160000000.0</td>\n",
       "      <td>-1.500000e+08</td>\n",
       "      <td>143.0</td>\n",
       "      <td>-5.311000e+09</td>\n",
       "      <td>1.513500e+10</td>\n",
       "      <td>60.0</td>\n",
       "      <td>1.768000e+09</td>\n",
       "      <td>...</td>\n",
       "      <td>54.639999</td>\n",
       "      <td>10626000.0</td>\n",
       "      <td>AAL</td>\n",
       "      <td>American Airlines Group</td>\n",
       "      <td>reports</td>\n",
       "      <td>Industrials</td>\n",
       "      <td>Airlines</td>\n",
       "      <td>Fort Worth, Texas</td>\n",
       "      <td>2015-03-23</td>\n",
       "      <td>6201</td>\n",
       "    </tr>\n",
       "    <tr>\n",
       "      <th>3</th>\n",
       "      <td>AAL</td>\n",
       "      <td>2015-12-31</td>\n",
       "      <td>5.102000e+09</td>\n",
       "      <td>352000000.0</td>\n",
       "      <td>-7.080000e+08</td>\n",
       "      <td>135.0</td>\n",
       "      <td>-6.151000e+09</td>\n",
       "      <td>1.159100e+10</td>\n",
       "      <td>51.0</td>\n",
       "      <td>1.085000e+09</td>\n",
       "      <td>...</td>\n",
       "      <td>42.570000</td>\n",
       "      <td>6788900.0</td>\n",
       "      <td>AAL</td>\n",
       "      <td>American Airlines Group</td>\n",
       "      <td>reports</td>\n",
       "      <td>Industrials</td>\n",
       "      <td>Airlines</td>\n",
       "      <td>Fort Worth, Texas</td>\n",
       "      <td>2015-03-23</td>\n",
       "      <td>6201</td>\n",
       "    </tr>\n",
       "    <tr>\n",
       "      <th>4</th>\n",
       "      <td>ABBV</td>\n",
       "      <td>2013-12-31</td>\n",
       "      <td>6.448000e+09</td>\n",
       "      <td>681000000.0</td>\n",
       "      <td>-5.400000e+07</td>\n",
       "      <td>92.0</td>\n",
       "      <td>-4.910000e+08</td>\n",
       "      <td>3.671000e+09</td>\n",
       "      <td>144.0</td>\n",
       "      <td>9.595000e+09</td>\n",
       "      <td>...</td>\n",
       "      <td>53.060001</td>\n",
       "      <td>3019700.0</td>\n",
       "      <td>ABBV</td>\n",
       "      <td>AbbVie</td>\n",
       "      <td>reports</td>\n",
       "      <td>Health Care</td>\n",
       "      <td>Pharmaceuticals</td>\n",
       "      <td>North Chicago, Illinois</td>\n",
       "      <td>2012-12-31</td>\n",
       "      <td>1551152</td>\n",
       "    </tr>\n",
       "    <tr>\n",
       "      <th>...</th>\n",
       "      <td>...</td>\n",
       "      <td>...</td>\n",
       "      <td>...</td>\n",
       "      <td>...</td>\n",
       "      <td>...</td>\n",
       "      <td>...</td>\n",
       "      <td>...</td>\n",
       "      <td>...</td>\n",
       "      <td>...</td>\n",
       "      <td>...</td>\n",
       "      <td>...</td>\n",
       "      <td>...</td>\n",
       "      <td>...</td>\n",
       "      <td>...</td>\n",
       "      <td>...</td>\n",
       "      <td>...</td>\n",
       "      <td>...</td>\n",
       "      <td>...</td>\n",
       "      <td>...</td>\n",
       "      <td>...</td>\n",
       "      <td>...</td>\n",
       "    </tr>\n",
       "    <tr>\n",
       "      <th>1352</th>\n",
       "      <td>ZION</td>\n",
       "      <td>2014-12-31</td>\n",
       "      <td>0.000000e+00</td>\n",
       "      <td>0.0</td>\n",
       "      <td>-4.442200e+07</td>\n",
       "      <td>5.0</td>\n",
       "      <td>-1.757990e+08</td>\n",
       "      <td>0.000000e+00</td>\n",
       "      <td>NaN</td>\n",
       "      <td>1.396843e+10</td>\n",
       "      <td>...</td>\n",
       "      <td>28.770000</td>\n",
       "      <td>1470800.0</td>\n",
       "      <td>ZION</td>\n",
       "      <td>Zions Bancorp</td>\n",
       "      <td>reports</td>\n",
       "      <td>Financials</td>\n",
       "      <td>Regional Banks</td>\n",
       "      <td>Salt Lake City, Utah</td>\n",
       "      <td>NaT</td>\n",
       "      <td>109380</td>\n",
       "    </tr>\n",
       "    <tr>\n",
       "      <th>1353</th>\n",
       "      <td>ZION</td>\n",
       "      <td>2015-12-31</td>\n",
       "      <td>0.000000e+00</td>\n",
       "      <td>0.0</td>\n",
       "      <td>-2.530000e+06</td>\n",
       "      <td>4.0</td>\n",
       "      <td>-1.573610e+08</td>\n",
       "      <td>0.000000e+00</td>\n",
       "      <td>NaN</td>\n",
       "      <td>1.576313e+10</td>\n",
       "      <td>...</td>\n",
       "      <td>27.639999</td>\n",
       "      <td>1737600.0</td>\n",
       "      <td>ZION</td>\n",
       "      <td>Zions Bancorp</td>\n",
       "      <td>reports</td>\n",
       "      <td>Financials</td>\n",
       "      <td>Regional Banks</td>\n",
       "      <td>Salt Lake City, Utah</td>\n",
       "      <td>NaT</td>\n",
       "      <td>109380</td>\n",
       "    </tr>\n",
       "    <tr>\n",
       "      <th>1354</th>\n",
       "      <td>ZTS</td>\n",
       "      <td>2013-12-31</td>\n",
       "      <td>1.381000e+09</td>\n",
       "      <td>-99000000.0</td>\n",
       "      <td>9.000000e+06</td>\n",
       "      <td>54.0</td>\n",
       "      <td>-1.840000e+08</td>\n",
       "      <td>8.780000e+08</td>\n",
       "      <td>43.0</td>\n",
       "      <td>6.100000e+08</td>\n",
       "      <td>...</td>\n",
       "      <td>32.810001</td>\n",
       "      <td>2270400.0</td>\n",
       "      <td>ZTS</td>\n",
       "      <td>Zoetis</td>\n",
       "      <td>reports</td>\n",
       "      <td>Health Care</td>\n",
       "      <td>Pharmaceuticals</td>\n",
       "      <td>Florham Park, New Jersey</td>\n",
       "      <td>2013-06-21</td>\n",
       "      <td>1555280</td>\n",
       "    </tr>\n",
       "    <tr>\n",
       "      <th>1355</th>\n",
       "      <td>ZTS</td>\n",
       "      <td>2014-12-31</td>\n",
       "      <td>1.071000e+09</td>\n",
       "      <td>69000000.0</td>\n",
       "      <td>-7.000000e+06</td>\n",
       "      <td>44.0</td>\n",
       "      <td>-1.800000e+08</td>\n",
       "      <td>9.580000e+08</td>\n",
       "      <td>81.0</td>\n",
       "      <td>8.820000e+08</td>\n",
       "      <td>...</td>\n",
       "      <td>43.880001</td>\n",
       "      <td>2131900.0</td>\n",
       "      <td>ZTS</td>\n",
       "      <td>Zoetis</td>\n",
       "      <td>reports</td>\n",
       "      <td>Health Care</td>\n",
       "      <td>Pharmaceuticals</td>\n",
       "      <td>Florham Park, New Jersey</td>\n",
       "      <td>2013-06-21</td>\n",
       "      <td>1555280</td>\n",
       "    </tr>\n",
       "    <tr>\n",
       "      <th>1356</th>\n",
       "      <td>ZTS</td>\n",
       "      <td>2015-12-31</td>\n",
       "      <td>1.313000e+09</td>\n",
       "      <td>-58000000.0</td>\n",
       "      <td>-8.100000e+07</td>\n",
       "      <td>32.0</td>\n",
       "      <td>-2.240000e+08</td>\n",
       "      <td>1.012000e+09</td>\n",
       "      <td>65.0</td>\n",
       "      <td>1.154000e+09</td>\n",
       "      <td>...</td>\n",
       "      <td>48.400002</td>\n",
       "      <td>1758000.0</td>\n",
       "      <td>ZTS</td>\n",
       "      <td>Zoetis</td>\n",
       "      <td>reports</td>\n",
       "      <td>Health Care</td>\n",
       "      <td>Pharmaceuticals</td>\n",
       "      <td>Florham Park, New Jersey</td>\n",
       "      <td>2013-06-21</td>\n",
       "      <td>1555280</td>\n",
       "    </tr>\n",
       "  </tbody>\n",
       "</table>\n",
       "<p>1357 rows × 91 columns</p>\n",
       "</div>"
      ],
      "text/plain": [
       "     Ticker.Symbol Period.Ending  Accounts.Payable  Accounts.Receivable  \\\n",
       "0              AAL    2012-12-31      3.068000e+09         -222000000.0   \n",
       "1              AAL    2013-12-31      4.975000e+09          -93000000.0   \n",
       "2              AAL    2014-12-31      4.668000e+09         -160000000.0   \n",
       "3              AAL    2015-12-31      5.102000e+09          352000000.0   \n",
       "4             ABBV    2013-12-31      6.448000e+09          681000000.0   \n",
       "...            ...           ...               ...                  ...   \n",
       "1352          ZION    2014-12-31      0.000000e+00                  0.0   \n",
       "1353          ZION    2015-12-31      0.000000e+00                  0.0   \n",
       "1354           ZTS    2013-12-31      1.381000e+09          -99000000.0   \n",
       "1355           ZTS    2014-12-31      1.071000e+09           69000000.0   \n",
       "1356           ZTS    2015-12-31      1.313000e+09          -58000000.0   \n",
       "\n",
       "      Add'l.income/expense.items  After.Tax.ROE  Capital.Expenditures  \\\n",
       "0                  -1.961000e+09           23.0         -1.888000e+09   \n",
       "1                  -2.723000e+09           67.0         -3.114000e+09   \n",
       "2                  -1.500000e+08          143.0         -5.311000e+09   \n",
       "3                  -7.080000e+08          135.0         -6.151000e+09   \n",
       "4                  -5.400000e+07           92.0         -4.910000e+08   \n",
       "...                          ...            ...                   ...   \n",
       "1352               -4.442200e+07            5.0         -1.757990e+08   \n",
       "1353               -2.530000e+06            4.0         -1.573610e+08   \n",
       "1354                9.000000e+06           54.0         -1.840000e+08   \n",
       "1355               -7.000000e+06           44.0         -1.800000e+08   \n",
       "1356               -8.100000e+07           32.0         -2.240000e+08   \n",
       "\n",
       "      Capital.Surplus  Cash.Ratio  Cash.and.Cash.Equivalents  ...       high  \\\n",
       "0        4.695000e+09        53.0               1.330000e+09  ...  13.680000   \n",
       "1        1.059200e+10        75.0               2.175000e+09  ...  25.250000   \n",
       "2        1.513500e+10        60.0               1.768000e+09  ...  54.639999   \n",
       "3        1.159100e+10        51.0               1.085000e+09  ...  42.570000   \n",
       "4        3.671000e+09       144.0               9.595000e+09  ...  53.060001   \n",
       "...               ...         ...                        ...  ...        ...   \n",
       "1352     0.000000e+00         NaN               1.396843e+10  ...  28.770000   \n",
       "1353     0.000000e+00         NaN               1.576313e+10  ...  27.639999   \n",
       "1354     8.780000e+08        43.0               6.100000e+08  ...  32.810001   \n",
       "1355     9.580000e+08        81.0               8.820000e+08  ...  43.880001   \n",
       "1356     1.012000e+09        65.0               1.154000e+09  ...  48.400002   \n",
       "\n",
       "          volume  Ticker.symbol                 Security  SEC.filings  \\\n",
       "0      7005600.0            AAL  American Airlines Group      reports   \n",
       "1      7166600.0            AAL  American Airlines Group      reports   \n",
       "2     10626000.0            AAL  American Airlines Group      reports   \n",
       "3      6788900.0            AAL  American Airlines Group      reports   \n",
       "4      3019700.0           ABBV                   AbbVie      reports   \n",
       "...          ...            ...                      ...          ...   \n",
       "1352   1470800.0           ZION            Zions Bancorp      reports   \n",
       "1353   1737600.0           ZION            Zions Bancorp      reports   \n",
       "1354   2270400.0            ZTS                   Zoetis      reports   \n",
       "1355   2131900.0            ZTS                   Zoetis      reports   \n",
       "1356   1758000.0            ZTS                   Zoetis      reports   \n",
       "\n",
       "      GICS.Sector  GICS.Sub.Industry   Address.of.Headquarters  \\\n",
       "0     Industrials           Airlines         Fort Worth, Texas   \n",
       "1     Industrials           Airlines         Fort Worth, Texas   \n",
       "2     Industrials           Airlines         Fort Worth, Texas   \n",
       "3     Industrials           Airlines         Fort Worth, Texas   \n",
       "4     Health Care    Pharmaceuticals   North Chicago, Illinois   \n",
       "...           ...                ...                       ...   \n",
       "1352   Financials     Regional Banks      Salt Lake City, Utah   \n",
       "1353   Financials     Regional Banks      Salt Lake City, Utah   \n",
       "1354  Health Care    Pharmaceuticals  Florham Park, New Jersey   \n",
       "1355  Health Care    Pharmaceuticals  Florham Park, New Jersey   \n",
       "1356  Health Care    Pharmaceuticals  Florham Park, New Jersey   \n",
       "\n",
       "      Date.first.added      CIK  \n",
       "0           2015-03-23     6201  \n",
       "1           2015-03-23     6201  \n",
       "2           2015-03-23     6201  \n",
       "3           2015-03-23     6201  \n",
       "4           2012-12-31  1551152  \n",
       "...                ...      ...  \n",
       "1352               NaT   109380  \n",
       "1353               NaT   109380  \n",
       "1354        2013-06-21  1555280  \n",
       "1355        2013-06-21  1555280  \n",
       "1356        2013-06-21  1555280  \n",
       "\n",
       "[1357 rows x 91 columns]"
      ]
     },
     "execution_count": 25,
     "metadata": {},
     "output_type": "execute_result"
    }
   ],
   "source": [
    "\n",
    "df_merge2 = df_merge1.merge(df_securities, left_on='Ticker.Symbol', right_on='Ticker.symbol')\n",
    "df_merge2\n"
   ]
  },
  {
   "cell_type": "code",
   "execution_count": 26,
   "metadata": {},
   "outputs": [
    {
     "data": {
      "text/html": [
       "<div>\n",
       "<style scoped>\n",
       "    .dataframe tbody tr th:only-of-type {\n",
       "        vertical-align: middle;\n",
       "    }\n",
       "\n",
       "    .dataframe tbody tr th {\n",
       "        vertical-align: top;\n",
       "    }\n",
       "\n",
       "    .dataframe thead th {\n",
       "        text-align: right;\n",
       "    }\n",
       "</style>\n",
       "<table border=\"1\" class=\"dataframe\">\n",
       "  <thead>\n",
       "    <tr style=\"text-align: right;\">\n",
       "      <th></th>\n",
       "      <th>Ticker.Symbol</th>\n",
       "      <th>Period.Ending</th>\n",
       "      <th>Accounts.Payable</th>\n",
       "      <th>Accounts.Receivable</th>\n",
       "      <th>Add'l.income/expense.items</th>\n",
       "      <th>After.Tax.ROE</th>\n",
       "      <th>Capital.Expenditures</th>\n",
       "      <th>Capital.Surplus</th>\n",
       "      <th>Cash.Ratio</th>\n",
       "      <th>Cash.and.Cash.Equivalents</th>\n",
       "      <th>...</th>\n",
       "      <th>low</th>\n",
       "      <th>high</th>\n",
       "      <th>volume</th>\n",
       "      <th>Security</th>\n",
       "      <th>SEC.filings</th>\n",
       "      <th>GICS.Sector</th>\n",
       "      <th>GICS.Sub.Industry</th>\n",
       "      <th>Address.of.Headquarters</th>\n",
       "      <th>Date.first.added</th>\n",
       "      <th>CIK</th>\n",
       "    </tr>\n",
       "  </thead>\n",
       "  <tbody>\n",
       "    <tr>\n",
       "      <th>0</th>\n",
       "      <td>AAL</td>\n",
       "      <td>2012-12-31</td>\n",
       "      <td>3.068000e+09</td>\n",
       "      <td>-222000000.0</td>\n",
       "      <td>-1.961000e+09</td>\n",
       "      <td>23.0</td>\n",
       "      <td>-1.888000e+09</td>\n",
       "      <td>4.695000e+09</td>\n",
       "      <td>53.0</td>\n",
       "      <td>1.330000e+09</td>\n",
       "      <td>...</td>\n",
       "      <td>12.840000</td>\n",
       "      <td>13.680000</td>\n",
       "      <td>7005600.0</td>\n",
       "      <td>American Airlines Group</td>\n",
       "      <td>reports</td>\n",
       "      <td>Industrials</td>\n",
       "      <td>Airlines</td>\n",
       "      <td>Fort Worth, Texas</td>\n",
       "      <td>2015-03-23</td>\n",
       "      <td>6201</td>\n",
       "    </tr>\n",
       "    <tr>\n",
       "      <th>1</th>\n",
       "      <td>AAL</td>\n",
       "      <td>2013-12-31</td>\n",
       "      <td>4.975000e+09</td>\n",
       "      <td>-93000000.0</td>\n",
       "      <td>-2.723000e+09</td>\n",
       "      <td>67.0</td>\n",
       "      <td>-3.114000e+09</td>\n",
       "      <td>1.059200e+10</td>\n",
       "      <td>75.0</td>\n",
       "      <td>2.175000e+09</td>\n",
       "      <td>...</td>\n",
       "      <td>24.629999</td>\n",
       "      <td>25.250000</td>\n",
       "      <td>7166600.0</td>\n",
       "      <td>American Airlines Group</td>\n",
       "      <td>reports</td>\n",
       "      <td>Industrials</td>\n",
       "      <td>Airlines</td>\n",
       "      <td>Fort Worth, Texas</td>\n",
       "      <td>2015-03-23</td>\n",
       "      <td>6201</td>\n",
       "    </tr>\n",
       "    <tr>\n",
       "      <th>2</th>\n",
       "      <td>AAL</td>\n",
       "      <td>2014-12-31</td>\n",
       "      <td>4.668000e+09</td>\n",
       "      <td>-160000000.0</td>\n",
       "      <td>-1.500000e+08</td>\n",
       "      <td>143.0</td>\n",
       "      <td>-5.311000e+09</td>\n",
       "      <td>1.513500e+10</td>\n",
       "      <td>60.0</td>\n",
       "      <td>1.768000e+09</td>\n",
       "      <td>...</td>\n",
       "      <td>53.320000</td>\n",
       "      <td>54.639999</td>\n",
       "      <td>10626000.0</td>\n",
       "      <td>American Airlines Group</td>\n",
       "      <td>reports</td>\n",
       "      <td>Industrials</td>\n",
       "      <td>Airlines</td>\n",
       "      <td>Fort Worth, Texas</td>\n",
       "      <td>2015-03-23</td>\n",
       "      <td>6201</td>\n",
       "    </tr>\n",
       "    <tr>\n",
       "      <th>3</th>\n",
       "      <td>AAL</td>\n",
       "      <td>2015-12-31</td>\n",
       "      <td>5.102000e+09</td>\n",
       "      <td>352000000.0</td>\n",
       "      <td>-7.080000e+08</td>\n",
       "      <td>135.0</td>\n",
       "      <td>-6.151000e+09</td>\n",
       "      <td>1.159100e+10</td>\n",
       "      <td>51.0</td>\n",
       "      <td>1.085000e+09</td>\n",
       "      <td>...</td>\n",
       "      <td>41.830002</td>\n",
       "      <td>42.570000</td>\n",
       "      <td>6788900.0</td>\n",
       "      <td>American Airlines Group</td>\n",
       "      <td>reports</td>\n",
       "      <td>Industrials</td>\n",
       "      <td>Airlines</td>\n",
       "      <td>Fort Worth, Texas</td>\n",
       "      <td>2015-03-23</td>\n",
       "      <td>6201</td>\n",
       "    </tr>\n",
       "    <tr>\n",
       "      <th>4</th>\n",
       "      <td>ABBV</td>\n",
       "      <td>2013-12-31</td>\n",
       "      <td>6.448000e+09</td>\n",
       "      <td>681000000.0</td>\n",
       "      <td>-5.400000e+07</td>\n",
       "      <td>92.0</td>\n",
       "      <td>-4.910000e+08</td>\n",
       "      <td>3.671000e+09</td>\n",
       "      <td>144.0</td>\n",
       "      <td>9.595000e+09</td>\n",
       "      <td>...</td>\n",
       "      <td>52.360001</td>\n",
       "      <td>53.060001</td>\n",
       "      <td>3019700.0</td>\n",
       "      <td>AbbVie</td>\n",
       "      <td>reports</td>\n",
       "      <td>Health Care</td>\n",
       "      <td>Pharmaceuticals</td>\n",
       "      <td>North Chicago, Illinois</td>\n",
       "      <td>2012-12-31</td>\n",
       "      <td>1551152</td>\n",
       "    </tr>\n",
       "    <tr>\n",
       "      <th>...</th>\n",
       "      <td>...</td>\n",
       "      <td>...</td>\n",
       "      <td>...</td>\n",
       "      <td>...</td>\n",
       "      <td>...</td>\n",
       "      <td>...</td>\n",
       "      <td>...</td>\n",
       "      <td>...</td>\n",
       "      <td>...</td>\n",
       "      <td>...</td>\n",
       "      <td>...</td>\n",
       "      <td>...</td>\n",
       "      <td>...</td>\n",
       "      <td>...</td>\n",
       "      <td>...</td>\n",
       "      <td>...</td>\n",
       "      <td>...</td>\n",
       "      <td>...</td>\n",
       "      <td>...</td>\n",
       "      <td>...</td>\n",
       "      <td>...</td>\n",
       "    </tr>\n",
       "    <tr>\n",
       "      <th>1352</th>\n",
       "      <td>ZION</td>\n",
       "      <td>2014-12-31</td>\n",
       "      <td>0.000000e+00</td>\n",
       "      <td>0.0</td>\n",
       "      <td>-4.442200e+07</td>\n",
       "      <td>5.0</td>\n",
       "      <td>-1.757990e+08</td>\n",
       "      <td>0.000000e+00</td>\n",
       "      <td>NaN</td>\n",
       "      <td>1.396843e+10</td>\n",
       "      <td>...</td>\n",
       "      <td>28.490000</td>\n",
       "      <td>28.770000</td>\n",
       "      <td>1470800.0</td>\n",
       "      <td>Zions Bancorp</td>\n",
       "      <td>reports</td>\n",
       "      <td>Financials</td>\n",
       "      <td>Regional Banks</td>\n",
       "      <td>Salt Lake City, Utah</td>\n",
       "      <td>NaT</td>\n",
       "      <td>109380</td>\n",
       "    </tr>\n",
       "    <tr>\n",
       "      <th>1353</th>\n",
       "      <td>ZION</td>\n",
       "      <td>2015-12-31</td>\n",
       "      <td>0.000000e+00</td>\n",
       "      <td>0.0</td>\n",
       "      <td>-2.530000e+06</td>\n",
       "      <td>4.0</td>\n",
       "      <td>-1.573610e+08</td>\n",
       "      <td>0.000000e+00</td>\n",
       "      <td>NaN</td>\n",
       "      <td>1.576313e+10</td>\n",
       "      <td>...</td>\n",
       "      <td>27.139999</td>\n",
       "      <td>27.639999</td>\n",
       "      <td>1737600.0</td>\n",
       "      <td>Zions Bancorp</td>\n",
       "      <td>reports</td>\n",
       "      <td>Financials</td>\n",
       "      <td>Regional Banks</td>\n",
       "      <td>Salt Lake City, Utah</td>\n",
       "      <td>NaT</td>\n",
       "      <td>109380</td>\n",
       "    </tr>\n",
       "    <tr>\n",
       "      <th>1354</th>\n",
       "      <td>ZTS</td>\n",
       "      <td>2013-12-31</td>\n",
       "      <td>1.381000e+09</td>\n",
       "      <td>-99000000.0</td>\n",
       "      <td>9.000000e+06</td>\n",
       "      <td>54.0</td>\n",
       "      <td>-1.840000e+08</td>\n",
       "      <td>8.780000e+08</td>\n",
       "      <td>43.0</td>\n",
       "      <td>6.100000e+08</td>\n",
       "      <td>...</td>\n",
       "      <td>32.459999</td>\n",
       "      <td>32.810001</td>\n",
       "      <td>2270400.0</td>\n",
       "      <td>Zoetis</td>\n",
       "      <td>reports</td>\n",
       "      <td>Health Care</td>\n",
       "      <td>Pharmaceuticals</td>\n",
       "      <td>Florham Park, New Jersey</td>\n",
       "      <td>2013-06-21</td>\n",
       "      <td>1555280</td>\n",
       "    </tr>\n",
       "    <tr>\n",
       "      <th>1355</th>\n",
       "      <td>ZTS</td>\n",
       "      <td>2014-12-31</td>\n",
       "      <td>1.071000e+09</td>\n",
       "      <td>69000000.0</td>\n",
       "      <td>-7.000000e+06</td>\n",
       "      <td>44.0</td>\n",
       "      <td>-1.800000e+08</td>\n",
       "      <td>9.580000e+08</td>\n",
       "      <td>81.0</td>\n",
       "      <td>8.820000e+08</td>\n",
       "      <td>...</td>\n",
       "      <td>43.000000</td>\n",
       "      <td>43.880001</td>\n",
       "      <td>2131900.0</td>\n",
       "      <td>Zoetis</td>\n",
       "      <td>reports</td>\n",
       "      <td>Health Care</td>\n",
       "      <td>Pharmaceuticals</td>\n",
       "      <td>Florham Park, New Jersey</td>\n",
       "      <td>2013-06-21</td>\n",
       "      <td>1555280</td>\n",
       "    </tr>\n",
       "    <tr>\n",
       "      <th>1356</th>\n",
       "      <td>ZTS</td>\n",
       "      <td>2015-12-31</td>\n",
       "      <td>1.313000e+09</td>\n",
       "      <td>-58000000.0</td>\n",
       "      <td>-8.100000e+07</td>\n",
       "      <td>32.0</td>\n",
       "      <td>-2.240000e+08</td>\n",
       "      <td>1.012000e+09</td>\n",
       "      <td>65.0</td>\n",
       "      <td>1.154000e+09</td>\n",
       "      <td>...</td>\n",
       "      <td>47.810001</td>\n",
       "      <td>48.400002</td>\n",
       "      <td>1758000.0</td>\n",
       "      <td>Zoetis</td>\n",
       "      <td>reports</td>\n",
       "      <td>Health Care</td>\n",
       "      <td>Pharmaceuticals</td>\n",
       "      <td>Florham Park, New Jersey</td>\n",
       "      <td>2013-06-21</td>\n",
       "      <td>1555280</td>\n",
       "    </tr>\n",
       "  </tbody>\n",
       "</table>\n",
       "<p>1357 rows × 90 columns</p>\n",
       "</div>"
      ],
      "text/plain": [
       "     Ticker.Symbol Period.Ending  Accounts.Payable  Accounts.Receivable  \\\n",
       "0              AAL    2012-12-31      3.068000e+09         -222000000.0   \n",
       "1              AAL    2013-12-31      4.975000e+09          -93000000.0   \n",
       "2              AAL    2014-12-31      4.668000e+09         -160000000.0   \n",
       "3              AAL    2015-12-31      5.102000e+09          352000000.0   \n",
       "4             ABBV    2013-12-31      6.448000e+09          681000000.0   \n",
       "...            ...           ...               ...                  ...   \n",
       "1352          ZION    2014-12-31      0.000000e+00                  0.0   \n",
       "1353          ZION    2015-12-31      0.000000e+00                  0.0   \n",
       "1354           ZTS    2013-12-31      1.381000e+09          -99000000.0   \n",
       "1355           ZTS    2014-12-31      1.071000e+09           69000000.0   \n",
       "1356           ZTS    2015-12-31      1.313000e+09          -58000000.0   \n",
       "\n",
       "      Add'l.income/expense.items  After.Tax.ROE  Capital.Expenditures  \\\n",
       "0                  -1.961000e+09           23.0         -1.888000e+09   \n",
       "1                  -2.723000e+09           67.0         -3.114000e+09   \n",
       "2                  -1.500000e+08          143.0         -5.311000e+09   \n",
       "3                  -7.080000e+08          135.0         -6.151000e+09   \n",
       "4                  -5.400000e+07           92.0         -4.910000e+08   \n",
       "...                          ...            ...                   ...   \n",
       "1352               -4.442200e+07            5.0         -1.757990e+08   \n",
       "1353               -2.530000e+06            4.0         -1.573610e+08   \n",
       "1354                9.000000e+06           54.0         -1.840000e+08   \n",
       "1355               -7.000000e+06           44.0         -1.800000e+08   \n",
       "1356               -8.100000e+07           32.0         -2.240000e+08   \n",
       "\n",
       "      Capital.Surplus  Cash.Ratio  Cash.and.Cash.Equivalents  ...        low  \\\n",
       "0        4.695000e+09        53.0               1.330000e+09  ...  12.840000   \n",
       "1        1.059200e+10        75.0               2.175000e+09  ...  24.629999   \n",
       "2        1.513500e+10        60.0               1.768000e+09  ...  53.320000   \n",
       "3        1.159100e+10        51.0               1.085000e+09  ...  41.830002   \n",
       "4        3.671000e+09       144.0               9.595000e+09  ...  52.360001   \n",
       "...               ...         ...                        ...  ...        ...   \n",
       "1352     0.000000e+00         NaN               1.396843e+10  ...  28.490000   \n",
       "1353     0.000000e+00         NaN               1.576313e+10  ...  27.139999   \n",
       "1354     8.780000e+08        43.0               6.100000e+08  ...  32.459999   \n",
       "1355     9.580000e+08        81.0               8.820000e+08  ...  43.000000   \n",
       "1356     1.012000e+09        65.0               1.154000e+09  ...  47.810001   \n",
       "\n",
       "           high      volume                 Security  SEC.filings  \\\n",
       "0     13.680000   7005600.0  American Airlines Group      reports   \n",
       "1     25.250000   7166600.0  American Airlines Group      reports   \n",
       "2     54.639999  10626000.0  American Airlines Group      reports   \n",
       "3     42.570000   6788900.0  American Airlines Group      reports   \n",
       "4     53.060001   3019700.0                   AbbVie      reports   \n",
       "...         ...         ...                      ...          ...   \n",
       "1352  28.770000   1470800.0            Zions Bancorp      reports   \n",
       "1353  27.639999   1737600.0            Zions Bancorp      reports   \n",
       "1354  32.810001   2270400.0                   Zoetis      reports   \n",
       "1355  43.880001   2131900.0                   Zoetis      reports   \n",
       "1356  48.400002   1758000.0                   Zoetis      reports   \n",
       "\n",
       "      GICS.Sector  GICS.Sub.Industry   Address.of.Headquarters  \\\n",
       "0     Industrials           Airlines         Fort Worth, Texas   \n",
       "1     Industrials           Airlines         Fort Worth, Texas   \n",
       "2     Industrials           Airlines         Fort Worth, Texas   \n",
       "3     Industrials           Airlines         Fort Worth, Texas   \n",
       "4     Health Care    Pharmaceuticals   North Chicago, Illinois   \n",
       "...           ...                ...                       ...   \n",
       "1352   Financials     Regional Banks      Salt Lake City, Utah   \n",
       "1353   Financials     Regional Banks      Salt Lake City, Utah   \n",
       "1354  Health Care    Pharmaceuticals  Florham Park, New Jersey   \n",
       "1355  Health Care    Pharmaceuticals  Florham Park, New Jersey   \n",
       "1356  Health Care    Pharmaceuticals  Florham Park, New Jersey   \n",
       "\n",
       "      Date.first.added      CIK  \n",
       "0           2015-03-23     6201  \n",
       "1           2015-03-23     6201  \n",
       "2           2015-03-23     6201  \n",
       "3           2015-03-23     6201  \n",
       "4           2012-12-31  1551152  \n",
       "...                ...      ...  \n",
       "1352               NaT   109380  \n",
       "1353               NaT   109380  \n",
       "1354        2013-06-21  1555280  \n",
       "1355        2013-06-21  1555280  \n",
       "1356        2013-06-21  1555280  \n",
       "\n",
       "[1357 rows x 90 columns]"
      ]
     },
     "execution_count": 26,
     "metadata": {},
     "output_type": "execute_result"
    }
   ],
   "source": [
    "\n",
    "df_merge2 = df_merge2.drop('Ticker.symbol', axis=1)\n",
    "df_merge2"
   ]
  },
  {
   "cell_type": "code",
   "execution_count": 27,
   "metadata": {
    "tags": [
     "remove-output"
    ]
   },
   "outputs": [
    {
     "name": "stderr",
     "output_type": "stream",
     "text": [
      "/var/folders/m3/xzzyd2195pg_n5xvcz71sc4w0000gn/T/ipykernel_15688/2691083109.py:19: SettingWithCopyWarning: \n",
      "A value is trying to be set on a copy of a slice from a DataFrame.\n",
      "Try using .loc[row_indexer,col_indexer] = value instead\n",
      "\n",
      "See the caveats in the documentation: https://pandas.pydata.org/pandas-docs/stable/user_guide/indexing.html#returning-a-view-versus-a-copy\n",
      "  df_ana12to15['Period.Ending'] = pd.DatetimeIndex(df_ana12to15['Period.Ending']).year\n"
     ]
    }
   ],
   "source": [
    "# Exclude the sector 'Financials' as it generally behaves different as compared to the other sectors.\n",
    "df_merge2 = df_merge2[df_merge2['GICS.Sector'] != 'Financials']\n",
    "\n",
    "# Remove rows containing NA\n",
    "df_merge2 = df_merge2.dropna(subset=['Estimated.Shares.Outstanding'])\n",
    "\n",
    "#Remove entries that are not reasonable\n",
    "df_merge2 = df_merge2[df_merge2['Earnings.Before.Tax']>0]\n",
    "df_merge2 = df_merge2[df_merge2['Short-Term.Debt./.Current.Portion.of.Long-Term.Debt']>0]\n",
    "df_merge2 = df_merge2[df_merge2['Estimated.Shares.Outstanding']>0]\n",
    "df_merge2 = df_merge2[df_merge2['Sales,.General.and.Admin.']>0]\n",
    "\n",
    "# Filter 'Period.Ending' for the last day of each years\n",
    "# Find more elegant way of doing this\n",
    "df_ana12to15 = df_merge2[(df_merge2['Period.Ending'] == '2012-12-31') | \n",
    "        (df_merge2['Period.Ending'] == '2013-12-31') |\n",
    "        (df_merge2['Period.Ending'] == '2014-12-31') |\n",
    "        (df_merge2['Period.Ending'] == '2015-12-31')]\n",
    "df_ana12to15['Period.Ending'] = pd.DatetimeIndex(df_ana12to15['Period.Ending']).year"
   ]
  },
  {
   "cell_type": "code",
   "execution_count": 28,
   "metadata": {},
   "outputs": [
    {
     "name": "stdout",
     "output_type": "stream",
     "text": [
      "2       2014\n",
      "3       2015\n",
      "4       2013\n",
      "5       2014\n",
      "6       2015\n",
      "        ... \n",
      "1341    2015\n",
      "1346    2012\n",
      "1354    2013\n",
      "1355    2014\n",
      "1356    2015\n",
      "Name: Period.Ending, Length: 705, dtype: int64\n"
     ]
    },
    {
     "ename": "AttributeError",
     "evalue": "'NoneType' object has no attribute 'year'",
     "output_type": "error",
     "traceback": [
      "\u001b[0;31m---------------------------------------------------------------------------\u001b[0m",
      "\u001b[0;31mAttributeError\u001b[0m                            Traceback (most recent call last)",
      "\u001b[1;32m/Users/XinGuan/Documents/01 TUM/00 WS22:23/EEBDA/case3_eng/Case3_exercise.ipynb Cell 9\u001b[0m in \u001b[0;36m<cell line: 1>\u001b[0;34m()\u001b[0m\n\u001b[0;32m----> <a href='vscode-notebook-cell:/Users/XinGuan/Documents/01%20TUM/00%20WS22%3A23/EEBDA/case3_eng/Case3_exercise.ipynb#X11sZmlsZQ%3D%3D?line=0'>1</a>\u001b[0m \u001b[39mprint\u001b[39;49m(df_ana12to15[\u001b[39m'\u001b[39;49m\u001b[39mPeriod.Ending\u001b[39;49m\u001b[39m'\u001b[39;49m])\u001b[39m.\u001b[39;49myear\n",
      "\u001b[0;31mAttributeError\u001b[0m: 'NoneType' object has no attribute 'year'"
     ]
    }
   ],
   "source": [
    "print(df_ana12to15['Period.Ending']).year"
   ]
  },
  {
   "cell_type": "code",
   "execution_count": null,
   "metadata": {},
   "outputs": [
    {
     "data": {
      "text/plain": [
       "2       Industrials\n",
       "3       Industrials\n",
       "4       Health Care\n",
       "5       Health Care\n",
       "6       Health Care\n",
       "           ...     \n",
       "1341    Industrials\n",
       "1346    Health Care\n",
       "1354    Health Care\n",
       "1355    Health Care\n",
       "1356    Health Care\n",
       "Name: GICS.Sector, Length: 705, dtype: category\n",
       "Categories (11, object): ['Consumer Discretionary', 'Consumer Staples', 'Energy', 'Financials', ..., 'Materials', 'Real Estate', 'Telecommunications Services', 'Utilities']"
      ]
     },
     "metadata": {},
     "output_type": "display_data"
    }
   ],
   "source": [
    "df_ana12to15['GICS.Sector']"
   ]
  },
  {
   "cell_type": "code",
   "execution_count": 29,
   "metadata": {},
   "outputs": [
    {
     "name": "stdout",
     "output_type": "stream",
     "text": [
      "Index(['Consumer Discretionary', 'Consumer Staples', 'Energy', 'Financials',\n",
      "       'Health Care', 'Industrials', 'Information Technology', 'Materials',\n",
      "       'Real Estate', 'Telecommunications Services', 'Utilities'],\n",
      "      dtype='object')\n"
     ]
    }
   ],
   "source": [
    "# Drop unused categories\n",
    "print(df_ana12to15['GICS.Sector'].cat.categories)"
   ]
  },
  {
   "cell_type": "code",
   "execution_count": 30,
   "metadata": {
    "tags": [
     "remove-output"
    ]
   },
   "outputs": [
    {
     "name": "stderr",
     "output_type": "stream",
     "text": [
      "/var/folders/m3/xzzyd2195pg_n5xvcz71sc4w0000gn/T/ipykernel_15688/4174548140.py:1: SettingWithCopyWarning: \n",
      "A value is trying to be set on a copy of a slice from a DataFrame.\n",
      "Try using .loc[row_indexer,col_indexer] = value instead\n",
      "\n",
      "See the caveats in the documentation: https://pandas.pydata.org/pandas-docs/stable/user_guide/indexing.html#returning-a-view-versus-a-copy\n",
      "  df_ana12to15['GICS.Sector'] = df_ana12to15['GICS.Sector'].cat.remove_unused_categories()\n"
     ]
    }
   ],
   "source": [
    "df_ana12to15['GICS.Sector'] = df_ana12to15['GICS.Sector'].cat.remove_unused_categories()\n"
   ]
  },
  {
   "cell_type": "code",
   "execution_count": 31,
   "metadata": {},
   "outputs": [
    {
     "name": "stdout",
     "output_type": "stream",
     "text": [
      "Index(['Consumer Discretionary', 'Consumer Staples', 'Energy', 'Health Care',\n",
      "       'Industrials', 'Information Technology', 'Materials', 'Real Estate',\n",
      "       'Telecommunications Services', 'Utilities'],\n",
      "      dtype='object')\n"
     ]
    }
   ],
   "source": [
    "print(df_ana12to15['GICS.Sector'].cat.categories)"
   ]
  },
  {
   "cell_type": "markdown",
   "metadata": {},
   "source": [
    "Calculating multiples using location parameters\n",
    "Use the basic knowledge in Python acquired in the previous case studies to create a subset of df_ana12to15 called df_HC that contains only observations from the Health Care sector for the years 2012 to 2014. Determine the multiple for df_HC based on the three location parameters\n",
    "\n",
    "Arithmetic mean\n",
    "\n",
    "Median\n",
    "\n",
    "Harmonic mean.\n",
    "Then, calculate the company values on the basis of the resulting multiples as well as their relative deviations (errors) from the actual company values. Next, plot the density curves of the relative errors. Which location parameter tends to overestimate the true enterprise value?\n",
    "\n",
    "Note: To determine the multiples based on the location parameters, the EV/EBITDA ratio must first be determined for each company."
   ]
  },
  {
   "cell_type": "code",
   "execution_count": null,
   "metadata": {},
   "outputs": [],
   "source": [
    "from statistics import harmonic_mean, mean, median\n",
    "\n",
    "# filter health care sector from 2012 - 2014\n",
    "df_HC = df_ana12to15[(df_ana12to15['GICS.Sector'] == 'Health Care') \n",
    "                     & (df_ana12to15['Period.Ending'] < 2015)]\n",
    "# Calculate EBITDA and EV\n",
    "df_HC['EBITDA'] = df_HC['Earnings.Before.Interest.and.Tax'] + df_HC['Depreciation'] \n",
    "df_HC['EV'] = df_HC['close']*df_HC['Estimated.Shares.Outstanding']+df_HC['Total.Liabilities']-df_HC['Cash.and.Cash.Equivalents']\n",
    "df_HC['Multiple'] = df_HC['EV'] / df_HC['EBITDA']\n",
    "\n",
    "arithMean = mean(df_HC['Multiple'])\n",
    "median_Multiple = median(df_HC['Multiple'])\n",
    "harmoMean = harmonic_mean(df_HC['Multiple'])\n",
    "df_HC['estimated_EV_arithMean'] =  df_HC['EBITDA'] * arithMean\n",
    "df_HC['estimated_EV_median'] =  df_HC['EBITDA'] * median_Multiple\n",
    "df_HC['estimated_EV_harmoMean'] =  df_HC['EBITDA'] * harmoMean\n",
    "df_HC['deviation_arithMean'] = df_HC['EV'] - df_HC['estimated_EV_arithMean']\n",
    "df_HC['deviation_median'] = df_HC['EV'] - df_HC['estimated_EV_median']\n",
    "df_HC['deviation_harmoMean'] = df_HC['EV'] - df_HC['estimated_EV_harmoMean']\n",
    "\n",
    "df_HC"
   ]
  },
  {
   "cell_type": "code",
   "execution_count": 33,
   "metadata": {},
   "outputs": [],
   "source": [
    "df_HC_deviation_arithMean = df_HC['deviation_arithMean']\n",
    "df_HC_deviation_median = df_HC['deviation_arithMean']\n",
    "df_HC_deviation_harmoMean = df_HC['deviation_harmoMean']\n"
   ]
  },
  {
   "cell_type": "code",
   "execution_count": 2,
   "metadata": {},
   "outputs": [
    {
     "ename": "NameError",
     "evalue": "name 'df_HC_deviation_arithMean' is not defined",
     "output_type": "error",
     "traceback": [
      "\u001b[0;31m---------------------------------------------------------------------------\u001b[0m",
      "\u001b[0;31mNameError\u001b[0m                                 Traceback (most recent call last)",
      "\u001b[1;32m/Users/XinGuan/Documents/01 TUM/00 WS22:23/EEBDA/case3_eng/Case3_exercise.ipynb Cell 17\u001b[0m in \u001b[0;36m<cell line: 5>\u001b[0;34m()\u001b[0m\n\u001b[1;32m      <a href='vscode-notebook-cell:/Users/XinGuan/Documents/01%20TUM/00%20WS22%3A23/EEBDA/case3_eng/Case3_exercise.ipynb#X22sZmlsZQ%3D%3D?line=1'>2</a>\u001b[0m \u001b[39mimport\u001b[39;00m \u001b[39mmatplotlib\u001b[39;00m\u001b[39m.\u001b[39;00m\u001b[39mpyplot\u001b[39;00m \u001b[39mas\u001b[39;00m \u001b[39mplt\u001b[39;00m\n\u001b[1;32m      <a href='vscode-notebook-cell:/Users/XinGuan/Documents/01%20TUM/00%20WS22%3A23/EEBDA/case3_eng/Case3_exercise.ipynb#X22sZmlsZQ%3D%3D?line=2'>3</a>\u001b[0m \u001b[39mimport\u001b[39;00m \u001b[39mplotly\u001b[39;00m\u001b[39m.\u001b[39;00m\u001b[39mexpress\u001b[39;00m \u001b[39mas\u001b[39;00m \u001b[39mpx\u001b[39;00m\n\u001b[0;32m----> <a href='vscode-notebook-cell:/Users/XinGuan/Documents/01%20TUM/00%20WS22%3A23/EEBDA/case3_eng/Case3_exercise.ipynb#X22sZmlsZQ%3D%3D?line=4'>5</a>\u001b[0m plt\u001b[39m.\u001b[39mhist(df_HC_deviation_arithMean,rwidth\u001b[39m=\u001b[39m\u001b[39m0.3\u001b[39m, alpha\u001b[39m=\u001b[39m\u001b[39m0.8\u001b[39m, label\u001b[39m=\u001b[39m\u001b[39m'\u001b[39m\u001b[39marithMean as Multiple\u001b[39m\u001b[39m'\u001b[39m)\n\u001b[1;32m      <a href='vscode-notebook-cell:/Users/XinGuan/Documents/01%20TUM/00%20WS22%3A23/EEBDA/case3_eng/Case3_exercise.ipynb#X22sZmlsZQ%3D%3D?line=5'>6</a>\u001b[0m plt\u001b[39m.\u001b[39mhist(df_HC_deviation_median, rwidth\u001b[39m=\u001b[39m\u001b[39m0.3\u001b[39m, alpha\u001b[39m=\u001b[39m\u001b[39m0.5\u001b[39m,label\u001b[39m=\u001b[39m\u001b[39m'\u001b[39m\u001b[39mMedian as Multiple\u001b[39m\u001b[39m'\u001b[39m)\n\u001b[1;32m      <a href='vscode-notebook-cell:/Users/XinGuan/Documents/01%20TUM/00%20WS22%3A23/EEBDA/case3_eng/Case3_exercise.ipynb#X22sZmlsZQ%3D%3D?line=6'>7</a>\u001b[0m plt\u001b[39m.\u001b[39mhist(df_HC_deviation_harmoMean, rwidth\u001b[39m=\u001b[39m\u001b[39m0.3\u001b[39m, alpha\u001b[39m=\u001b[39m\u001b[39m0.5\u001b[39m,label\u001b[39m=\u001b[39m\u001b[39m'\u001b[39m\u001b[39mharmoMean as Multiple\u001b[39m\u001b[39m'\u001b[39m)\n",
      "\u001b[0;31mNameError\u001b[0m: name 'df_HC_deviation_arithMean' is not defined"
     ]
    }
   ],
   "source": [
    "import pandas as pd\n",
    "import matplotlib.pyplot as plt\n",
    "import plotly.express as px\n",
    "\n",
    "plt.hist(df_HC_deviation_arithMean,rwidth=0.3, alpha=0.8, label='arithMean as Multiple')\n",
    "plt.hist(df_HC_deviation_median, rwidth=0.3, alpha=0.5,label='Median as Multiple')\n",
    "plt.hist(df_HC_deviation_harmoMean, rwidth=0.3, alpha=0.5,label='harmoMean as Multiple')\n",
    "plt.legend(loc='upper left')\n",
    "plt.show()\n"
   ]
  },
  {
   "cell_type": "code",
   "execution_count": null,
   "metadata": {},
   "outputs": [
    {
     "data": {
      "application/vnd.plotly.v1+json": {
       "config": {
        "plotlyServerURL": "https://plot.ly"
       },
       "data": [
        {
         "autobinx": false,
         "histnorm": "probability density",
         "legendgroup": "error arithMean",
         "marker": {
          "color": "rgb(31, 119, 180)"
         },
         "name": "error arithMean",
         "opacity": 0.7,
         "type": "histogram",
         "x": [
          -22043472111.00392,
          55715474141.18873,
          1507908997.18219,
          5348967062.453354,
          15943357425.182468,
          19334732517.350582,
          -15483023958.363632,
          -3220550257.2327576,
          -43285546667.38054,
          -39243824746.77913,
          -38842937789.010666,
          -37855271911.65222,
          13295992051.573898,
          9977741138.63602,
          2665221101.73011,
          12098688673.718117,
          -4449719289.446625,
          18734639665.420807,
          38862013500.171486,
          57847103827.809875,
          -289190200.08548737,
          42826801476.73159,
          -1905425730.2289562,
          -3897397575.4712067,
          -2273863836.139,
          -14308763643.649729,
          -20056802367.15638,
          -9223535962.947338,
          -8122648639.235474,
          -5893156857.268425,
          -7989615948.594284,
          -13672904466.199097,
          33128513014.30121,
          -152382532834.50836,
          -65529027084.920654,
          -62165613294.090485,
          -3127690834.723334,
          -2780358291.646817,
          -1339605240.956088,
          -11810602201.163921,
          -10909318393.624908,
          -57892717965.28461,
          -68171594862.658295,
          9130888931.4944,
          -129780347377.05396,
          -46116479366.56601,
          -241817647771.00818,
          -690490199.4232035,
          -11576758.978380203,
          -1661273984.9117203,
          -72392008302.2279,
          -111387911228.98907,
          -41816963458.27826,
          5376411384.960358,
          13856143811.210197,
          -7760955391.716492,
          5984224408.3971405,
          305052298.8564911,
          -13237289576.541424,
          -12281017084.263313,
          -10702992909.679605,
          8576653643.77765,
          -1502361612.4986706,
          -946250729.8404484,
          -1218917649.9785995,
          -12744131509.939888,
          2400965207.4550934,
          4689919218.511131
         ],
         "xaxis": "x",
         "xbins": {
          "end": 57847103827.809875,
          "size": 1000000000,
          "start": -241817647771.00818
         },
         "yaxis": "y"
        },
        {
         "legendgroup": "error arithMean",
         "marker": {
          "color": "rgb(31, 119, 180)"
         },
         "mode": "lines",
         "name": "error arithMean",
         "showlegend": false,
         "type": "scatter",
         "x": [
          -241817647771.00818,
          -241218318267.81055,
          -240618988764.6129,
          -240019659261.41528,
          -239420329758.21762,
          -238821000255.02,
          -238221670751.82236,
          -237622341248.62473,
          -237023011745.4271,
          -236423682242.22946,
          -235824352739.03183,
          -235225023235.83417,
          -234625693732.63654,
          -234026364229.4389,
          -233427034726.24127,
          -232827705223.04364,
          -232228375719.846,
          -231629046216.64838,
          -231029716713.45074,
          -230430387210.25308,
          -229831057707.05545,
          -229231728203.85782,
          -228632398700.6602,
          -228033069197.46255,
          -227433739694.26492,
          -226834410191.06726,
          -226235080687.86963,
          -225635751184.672,
          -225036421681.47437,
          -224437092178.27673,
          -223837762675.0791,
          -223238433171.88147,
          -222639103668.68384,
          -222039774165.48618,
          -221440444662.28854,
          -220841115159.0909,
          -220241785655.89328,
          -219642456152.69565,
          -219043126649.49802,
          -218443797146.30035,
          -217844467643.10272,
          -217245138139.9051,
          -216645808636.70746,
          -216046479133.50983,
          -215447149630.3122,
          -214847820127.11456,
          -214248490623.91693,
          -213649161120.71927,
          -213049831617.52164,
          -212450502114.324,
          -211851172611.12637,
          -211251843107.92874,
          -210652513604.7311,
          -210053184101.53345,
          -209453854598.33582,
          -208854525095.13818,
          -208255195591.94055,
          -207655866088.74292,
          -207056536585.5453,
          -206457207082.34766,
          -205857877579.15002,
          -205258548075.9524,
          -204659218572.75473,
          -204059889069.5571,
          -203460559566.35947,
          -202861230063.16183,
          -202261900559.9642,
          -201662571056.76657,
          -201063241553.5689,
          -200463912050.37128,
          -199864582547.17365,
          -199265253043.976,
          -198665923540.77838,
          -198066594037.58075,
          -197467264534.38312,
          -196867935031.1855,
          -196268605527.98785,
          -195669276024.7902,
          -195069946521.59256,
          -194470617018.39493,
          -193871287515.1973,
          -193271958011.99966,
          -192672628508.802,
          -192073299005.60437,
          -191473969502.40674,
          -190874639999.2091,
          -190275310496.01147,
          -189675980992.81384,
          -189076651489.6162,
          -188477321986.41858,
          -187877992483.22095,
          -187278662980.0233,
          -186679333476.82565,
          -186080003973.62802,
          -185480674470.4304,
          -184881344967.23276,
          -184282015464.03513,
          -183682685960.83746,
          -183083356457.63983,
          -182484026954.4422,
          -181884697451.24457,
          -181285367948.04694,
          -180686038444.8493,
          -180086708941.65167,
          -179487379438.45404,
          -178888049935.2564,
          -178288720432.05875,
          -177689390928.8611,
          -177090061425.66348,
          -176490731922.46585,
          -175891402419.26822,
          -175292072916.07056,
          -174692743412.87292,
          -174093413909.6753,
          -173494084406.47766,
          -172894754903.28003,
          -172295425400.0824,
          -171696095896.88477,
          -171096766393.68713,
          -170497436890.48947,
          -169898107387.29187,
          -169298777884.0942,
          -168699448380.89658,
          -168100118877.69894,
          -167500789374.50128,
          -166901459871.30365,
          -166302130368.10602,
          -165702800864.9084,
          -165103471361.71075,
          -164504141858.51312,
          -163904812355.3155,
          -163305482852.11786,
          -162706153348.92023,
          -162106823845.72256,
          -161507494342.52496,
          -160908164839.3273,
          -160308835336.12967,
          -159709505832.93204,
          -159110176329.73438,
          -158510846826.53674,
          -157911517323.3391,
          -157312187820.14148,
          -156712858316.94385,
          -156113528813.74622,
          -155514199310.54858,
          -154914869807.35095,
          -154315540304.15332,
          -153716210800.95566,
          -153116881297.75806,
          -152517551794.5604,
          -151918222291.36276,
          -151318892788.16513,
          -150719563284.9675,
          -150120233781.76984,
          -149520904278.5722,
          -148921574775.37457,
          -148322245272.17694,
          -147722915768.9793,
          -147123586265.78168,
          -146524256762.58405,
          -145924927259.3864,
          -145325597756.18878,
          -144726268252.99115,
          -144126938749.7935,
          -143527609246.59586,
          -142928279743.39822,
          -142328950240.2006,
          -141729620737.00293,
          -141130291233.8053,
          -140530961730.60767,
          -139931632227.41003,
          -139332302724.2124,
          -138732973221.01477,
          -138133643717.81714,
          -137534314214.6195,
          -136934984711.42186,
          -136335655208.22423,
          -135736325705.02658,
          -135136996201.82895,
          -134537666698.63132,
          -133938337195.43369,
          -133339007692.23604,
          -132739678189.0384,
          -132140348685.84077,
          -131541019182.64313,
          -130941689679.4455,
          -130342360176.24786,
          -129743030673.05023,
          -129143701169.85258,
          -128544371666.65495,
          -127945042163.45732,
          -127345712660.25967,
          -126746383157.06206,
          -126147053653.86441,
          -125547724150.66678,
          -124948394647.46913,
          -124349065144.2715,
          -123749735641.07387,
          -123150406137.87622,
          -122551076634.6786,
          -121951747131.48096,
          -121352417628.28333,
          -120753088125.08568,
          -120153758621.88805,
          -119554429118.69041,
          -118955099615.49277,
          -118355770112.29515,
          -117756440609.0975,
          -117157111105.89987,
          -116557781602.70222,
          -115958452099.50461,
          -115359122596.30696,
          -114759793093.10931,
          -114160463589.9117,
          -113561134086.71405,
          -112961804583.51642,
          -112362475080.31877,
          -111763145577.12115,
          -111163816073.92351,
          -110564486570.72586,
          -109965157067.52824,
          -109365827564.3306,
          -108766498061.13297,
          -108167168557.93532,
          -107567839054.7377,
          -106968509551.54005,
          -106369180048.3424,
          -105769850545.14479,
          -105170521041.94714,
          -104571191538.74951,
          -103971862035.55188,
          -103372532532.35425,
          -102773203029.15659,
          -102173873525.95895,
          -101574544022.76132,
          -100975214519.56369,
          -100375885016.36606,
          -99776555513.16843,
          -99177226009.97076,
          -98577896506.77313,
          -97978567003.57553,
          -97379237500.37787,
          -96779907997.18024,
          -96180578493.9826,
          -95581248990.78497,
          -94981919487.58734,
          -94382589984.38971,
          -93783260481.19205,
          -93183930977.99442,
          -92584601474.79678,
          -91985271971.59915,
          -91385942468.40152,
          -90786612965.20386,
          -90187283462.00626,
          -89587953958.80862,
          -88988624455.61096,
          -88389294952.41333,
          -87789965449.2157,
          -87190635946.01807,
          -86591306442.82043,
          -85991976939.6228,
          -85392647436.42514,
          -84793317933.22751,
          -84193988430.0299,
          -83594658926.83224,
          -82995329423.63461,
          -82395999920.43695,
          -81796670417.23935,
          -81197340914.04172,
          -80598011410.84406,
          -79998681907.64642,
          -79399352404.44879,
          -78800022901.25116,
          -78200693398.05353,
          -77601363894.8559,
          -77002034391.65823,
          -76402704888.4606,
          -75803375385.263,
          -75204045882.06534,
          -74604716378.8677,
          -74005386875.67004,
          -73406057372.47244,
          -72806727869.27481,
          -72207398366.07715,
          -71608068862.87952,
          -71008739359.68188,
          -70409409856.48425,
          -69810080353.28662,
          -69210750850.08899,
          -68611421346.89133,
          -68012091843.693695,
          -67412762340.49609,
          -66813432837.29843,
          -66214103334.1008,
          -65614773830.90314,
          -65015444327.705536,
          -64416114824.507904,
          -63816785321.31024,
          -63217455818.11261,
          -62618126314.91498,
          -62018796811.71735,
          -61419467308.519714,
          -60820137805.32208,
          -60220808302.12442,
          -59621478798.92682,
          -59022149295.72919,
          -58422819792.531525,
          -57823490289.33389,
          -57224160786.13626,
          -56624831282.93863,
          -56025501779.741,
          -55426172276.543335,
          -54826842773.3457,
          -54227513270.14807,
          -53628183766.95044,
          -53028854263.75281,
          -52429524760.555176,
          -51830195257.35751,
          -51230865754.15991,
          -50631536250.96228,
          -50032206747.76462,
          -49432877244.566986,
          -48833547741.369354,
          -48234218238.17172,
          -47634888734.97409,
          -47035559231.77643,
          -46436229728.5788,
          -45836900225.381165,
          -45237570722.18353,
          -44638241218.9859,
          -44038911715.78827,
          -43439582212.59061,
          -42840252709.393005,
          -42240923206.19537,
          -41641593702.99771,
          -41042264199.80008,
          -40442934696.60245,
          -39843605193.404816,
          -39244275690.207184,
          -38644946187.00952,
          -38045616683.81189,
          -37446287180.61426,
          -36846957677.416626,
          -36247628174.218994,
          -35648298671.02136,
          -35048969167.8237,
          -34449639664.6261,
          -33850310161.428467,
          -33250980658.230804,
          -32651651155.033173,
          -32052321651.83554,
          -31452992148.63791,
          -30853662645.440277,
          -30254333142.242645,
          -29655003639.044983,
          -29055674135.84735,
          -28456344632.64972,
          -27857015129.452087,
          -27257685626.254456,
          -26658356123.056793,
          -26059026619.85919,
          -25459697116.66156,
          -24860367613.463898,
          -24261038110.266266,
          -23661708607.068634,
          -23062379103.871002,
          -22463049600.67337,
          -21863720097.47574,
          -21264390594.278076,
          -20665061091.080475,
          -20065731587.882812,
          -19466402084.68518,
          -18867072581.48755,
          -18267743078.289886,
          -17668413575.092285,
          -17069084071.894653,
          -16469754568.696991,
          -15870425065.49936,
          -15271095562.301727,
          -14671766059.104095,
          -14072436555.906464,
          -13473107052.708832,
          -12873777549.51117,
          -12274448046.313568,
          -11675118543.115936,
          -11075789039.918274,
          -10476459536.720642,
          -9877130033.52298,
          -9277800530.325378,
          -8678471027.127747,
          -8079141523.930084,
          -7479812020.732452,
          -6880482517.534821,
          -6281153014.337189,
          -5681823511.139557,
          -5082494007.941925,
          -4483164504.744263,
          -3883835001.5466614,
          -3284505498.3490295,
          -2685175995.151367,
          -2085846491.9537354,
          -1486516988.756073,
          -887187485.5584717,
          -287857982.36083984,
          311471520.8368225,
          910801024.0344543,
          1510130527.2320862,
          2109460030.429718,
          2708789533.62735,
          3308119036.8249817,
          3907448540.022644,
          4506778043.220245,
          5106107546.417877,
          5705437049.61554,
          6304766552.813171,
          6904096056.010834,
          7503425559.208435,
          8102755062.406067,
          8702084565.60373,
          9301414068.801361,
          9900743571.998962,
          10500073075.196625,
          11099402578.394257,
          11698732081.591888,
          12298061584.78955,
          12897391087.987152,
          13496720591.184784,
          14096050094.382446,
          14695379597.580078,
          15294709100.77771,
          15894038603.975342,
          16493368107.172974,
          17092697610.370636,
          17692027113.568268,
          18291356616.76587,
          18890686119.96353,
          19490015623.161163,
          20089345126.358795,
          20688674629.556458,
          21288004132.75406,
          21887333635.95169,
          22486663139.149353,
          23085992642.346985,
          23685322145.544617,
          24284651648.74225,
          24883981151.93988,
          25483310655.137543,
          26082640158.335175,
          26681969661.532776,
          27281299164.73044,
          27880628667.92807,
          28479958171.1257,
          29079287674.323364,
          29678617177.520966,
          30277946680.718597,
          30877276183.91626,
          31476605687.11389,
          32075935190.311523,
          32675264693.509155,
          33274594196.706787,
          33873923699.90442,
          34473253203.10205,
          35072582706.29968,
          35671912209.497375,
          36271241712.69501,
          36870571215.89258,
          37469900719.09027,
          38069230222.2879,
          38668559725.485535,
          39267889228.68317,
          39867218731.8808,
          40466548235.07843,
          41065877738.27606,
          41665207241.473694,
          42264536744.671326,
          42863866247.86896,
          43463195751.06665,
          44062525254.26428,
          44661854757.461914,
          45261184260.659485,
          45860513763.85712,
          46459843267.05475,
          47059172770.25244,
          47658502273.45007,
          48257831776.647705,
          48857161279.84534,
          49456490783.04297,
          50055820286.24066,
          50655149789.43823,
          51254479292.635864,
          51853808795.833496,
          52453138299.03113,
          53052467802.22876,
          53651797305.42645,
          54251126808.624084,
          54850456311.82172,
          55449785815.01935,
          56049115318.21692,
          56648444821.41461,
          57247774324.61224
         ],
         "xaxis": "x",
         "y": [
          2.966652984630008e-13,
          2.9653068540738137e-13,
          2.9612428135869236e-13,
          2.9544723793197583e-13,
          2.945014533070514e-13,
          2.932895640426732e-13,
          2.918149335821339e-13,
          2.90081637528947e-13,
          2.8809444579200957e-13,
          2.8585880171963137e-13,
          2.833807983608271e-13,
          2.80667152010187e-13,
          2.777251732092863e-13,
          2.745627353928791e-13,
          2.7118824138189194e-13,
          2.6761058793741976e-13,
          2.6383912860041864e-13,
          2.5988363505052856e-13,
          2.5575425722440077e-13,
          2.5146148243898203e-13,
          2.47016093768442e-13,
          2.4242912792476793e-13,
          2.377118328915734e-13,
          2.328756255583149e-13,
          2.2793204959802884e-13,
          2.2289273382585417e-13,
          2.1776935126815418e-13,
          2.1257357916300498e-13,
          2.0731706010233992e-13,
          2.0201136451420538e-13,
          1.9666795467050533e-13,
          1.9129815039146254e-13,
          1.8591309660287296e-13,
          1.805237328862846e-13,
          1.7514076514556978e-13,
          1.697746394961831e-13,
          1.644355184658171e-13,
          1.5913325957732867e-13,
          1.5387739636689364e-13,
          1.4867712187242938e-13,
          1.4354127460962287e-13,
          1.3847832703545182e-13,
          1.3349637648211946e-13,
          1.2860313852784067e-13,
          1.2380594275513766e-13,
          1.1911173083223734e-13,
          1.1452705683895564e-13,
          1.1005808974517221e-13,
          1.057106179376905e-13,
          1.0149005568004711e-13,
          9.740145137968444e-14,
          9.344949752791263e-14,
          8.963854217025025e-14,
          8.597260175811555e-14,
          8.245537522739885e-14,
          7.909025914523204e-14,
          7.588036376324598e-14,
          7.282852981375888e-14,
          6.993734588466813e-14,
          6.720916620925874e-14,
          6.464612870869866e-14,
          6.225017312758361e-14,
          6.00230591065131e-14,
          5.796638404024042e-14,
          5.608160057541612e-14,
          5.437003360826252e-14,
          5.283289664961764e-14,
          5.147130743262078e-14,
          5.028630264679466e-14,
          4.927885169136756e-14,
          4.8449869350285446e-14,
          4.780022730144505e-14,
          4.7330764383143595e-14,
          4.704229555154584e-14,
          4.693561947402946e-14,
          4.701152471453261e-14,
          4.7270794478419235e-14,
          4.77142098958394e-14,
          4.834255183402549e-14,
          4.91566012403719e-14,
          5.015713802942812e-14,
          5.134493853804013e-14,
          5.272077158373151e-14,
          5.428539317197714e-14,
          5.603953990822042e-14,
          5.798392118026671e-14,
          6.011921018600206e-14,
          6.244603389016752e-14,
          6.496496200213545e-14,
          6.767649507420931e-14,
          7.058105182688218e-14,
          7.367895581366456e-14,
          7.697042154352036e-14,
          8.045554018355669e-14,
          8.413426496838514e-14,
          8.800639644547527e-14,
          9.207156768779945e-14,
          9.632922960614725e-14,
          1.0077863649358284e-13,
          1.0541883193369405e-13,
          1.1024863520243673e-13,
          1.1526662829061388e-13,
          1.204711436702473e-13,
          1.2586025292340507e-13,
          1.3143175634637892e-13,
          1.3718317363555348e-13,
          1.4311173575387116e-13,
          1.4921437806850494e-13,
          1.5548773484131785e-13,
          1.6192813514386327e-13,
          1.6853160025826208e-13,
          1.7529384261421311e-13,
          1.82210266300861e-13,
          1.8927596918024236e-13,
          1.9648574661670987e-13,
          2.0383409682418392e-13,
          2.1131522782036254e-13,
          2.189230659643143e-13,
          2.2665126604119647e-13,
          2.3449322284540467e-13,
          2.424420842012604e-13,
          2.504907653486257e-13,
          2.586319646095478e-13,
          2.6685818024148134e-13,
          2.7516172837272873e-13,
          2.8353476190670044e-13,
          2.9196929027351686e-13,
          3.004571999003228e-13,
          3.0899027526573706e-13,
          3.175602203989769e-13,
          3.2615868068061766e-13,
          3.3477726479957346e-13,
          3.4340756671989714e-13,
          3.5204118751126717e-13,
          3.606697568987243e-13,
          3.692849543902321e-13,
          3.778785298449556e-13,
          3.8644232335088453e-13,
          3.94968284287295e-13,
          4.0344848945576935e-13,
          4.118751601727672e-13,
          4.202406782271652e-13,
          4.2853760061754585e-13,
          4.367586729963109e-13,
          4.448968417607373e-13,
          4.5294526474480935e-13,
          4.608973204799205e-13,
          4.687466160071851e-13,
          4.76486993239024e-13,
          4.841125338827337e-13,
          4.916175629537663e-13,
          4.989966509213189e-13,
          5.062446145433668e-13,
          5.133565164623947e-13,
          5.203276636465712e-13,
          5.271536047739209e-13,
          5.338301266689632e-13,
          5.403532499122757e-13,
          5.467192237532935e-13,
          5.529245204653751e-13,
          5.589658292895709e-13,
          5.648400501195745e-13,
          5.705442870849851e-13,
          5.76075842193143e-13,
          5.814322091914115e-13,
          5.866110678118491e-13,
          5.916102785586888e-13,
          5.964278781959716e-13,
          6.010620760879995e-13,
          6.055112515391172e-13,
          6.097739522715935e-13,
          6.138488941712612e-13,
          6.177349624200146e-13,
          6.214312141224011e-13,
          6.249368825204744e-13,
          6.282513828768191e-13,
          6.313743200903996e-13,
          6.343054980936915e-13,
          6.370449310625374e-13,
          6.395928564524955e-13,
          6.4194974985719e-13,
          6.441163416655218e-13,
          6.460936354756454e-13,
          6.478829282045351e-13,
          6.494858318128651e-13,
          6.509042965459999e-13,
          6.521406355732079e-13,
          6.531975508889909e-13,
          6.540781603227408e-13,
          6.54786025485963e-13,
          6.553251804701757e-13,
          6.557001610934166e-13,
          6.559160344791994e-13,
          6.559784287389024e-13,
          6.558935625169921e-13,
          6.556682741483826e-13,
          6.55310050168616e-13,
          6.548270529105722e-13,
          6.542281469161538e-13,
          6.535229238878791e-13,
          6.527217259036827e-13,
          6.518356666184712e-13,
          6.508766501781844e-13,
          6.498573875763162e-13,
          6.487914101890296e-13,
          6.476930802332525e-13,
          6.465775979023863e-13,
          6.454610049465355e-13,
          6.443601844784397e-13,
          6.432928568025308e-13,
          6.422775710826717e-13,
          6.413336926841437e-13,
          6.40481386047225e-13,
          6.397415929731602e-13,
          6.391360062283902e-13,
          6.386870383994201e-13,
          6.384177859585866e-13,
          6.383519885300418e-13,
          6.38513983375405e-13,
          6.389286551495139e-13,
          6.396213810084163e-13,
          6.406179711839523e-13,
          6.419446051718011e-13,
          6.436277637124945e-13,
          6.456941567774195e-13,
          6.481706478040151e-13,
          6.510841744559917e-13,
          6.54461666215229e-13,
          6.583299591418126e-13,
          6.627157081672122e-13,
          6.67645297312655e-13,
          6.731447482500844e-13,
          6.792396276464744e-13,
          6.859549537535237e-13,
          6.933151027236129e-13,
          7.013437151492373e-13,
          7.100636033367259e-13,
          7.194966598357545e-13,
          7.29663767753824e-13,
          7.405847133893856e-13,
          7.522781017185448e-13,
          7.647612752681676e-13,
          7.780502369027313e-13,
          7.921595770433734e-13,
          8.071024058252216e-13,
          8.228902906834084e-13,
          8.395331998390789e-13,
          8.570394521344124e-13,
          8.75415673640189e-13,
          8.946667614310156e-13,
          9.147958548919788e-13,
          9.358043148865968e-13,
          9.576917110795628e-13,
          9.80455817669213e-13,
          1.0040926177442165e-12,
          1.0285963164368074e-12,
          1.0539593630014644e-12,
          1.0801724819034069e-12,
          1.107224712956004e-12,
          1.135103460500578e-12,
          1.1637945515763367e-12,
          1.1932823029826387e-12,
          1.2235495970909055e-12,
          1.2545779662193994e-12,
          1.2863476853411512e-12,
          1.3188378728539084e-12,
          1.3520265991011993e-12,
          1.3858910022957722e-12,
          1.420407411461089e-12,
          1.4555514759731457e-12,
          1.4912983012541825e-12,
          1.5276225901416136e-12,
          1.5644987894299801e-12,
          1.6019012410610632e-12,
          1.6398043374172662e-12,
          1.6781826801561853e-12,
          1.7170112420097086e-12,
          1.7562655309590802e-12,
          1.7959217561878323e-12,
          1.8359569952073108e-12,
          1.876349361544534e-12,
          1.917078172378881e-12,
          1.9581241155127195e-12,
          1.999469415061017e-12,
          2.041097995246138e-12,
          2.0829956416861735e-12,
          2.1251501595676526e-12,
          2.167551528096854e-12,
          2.2101920506268945e-12,
          2.253066499861095e-12,
          2.2961722575357717e-12,
          2.3395094479879866e-12,
          2.3830810650153724e-12,
          2.4268930914359824e-12,
          2.470954610756186e-12,
          2.5152779103536095e-12,
          2.5598785755805525e-12,
          2.6047755741905585e-12,
          2.649991330487814e-12,
          2.6955517885952945e-12,
          2.741486464233611e-12,
          2.7878284843988124e-12,
          2.8346146143238303e-12,
          2.881885271105697e-12,
          2.929684523379315e-12,
          2.9780600764189164e-12,
          3.0270632420510174e-12,
          3.076748892768237e-12,
          3.1271753994422474e-12,
          3.1784045520470875e-12,
          3.230501462821648e-12,
          3.28353445132303e-12,
          3.337574910850988e-12,
          3.3926971557588603e-12,
          3.4489782492081494e-12,
          3.5064978109734434e-12,
          3.5653378049613984e-12,
          3.6255823061730135e-12,
          3.687317246912189e-12,
          3.75063014212628e-12,
          3.815609793855512e-12,
          3.882345974868545e-12,
          3.950929091670216e-12,
          4.021449827184872e-12,
          4.093998763544266e-12,
          4.168665985542212e-12,
          4.24554066545836e-12,
          4.3247106301003064e-12,
          4.406261911065263e-12,
          4.490278279379392e-12,
          4.5768407658331325e-12,
          4.666027168493367e-12,
          4.757911549036775e-12,
          4.852563719712082e-12,
          4.950048722899676e-12,
          5.0504263053955644e-12,
          5.153750389698962e-12,
          5.260068544729168e-12,
          5.369421458535217e-12,
          5.4818424156896215e-12,
          5.597356782173598e-12,
          5.7159815006641615e-12,
          5.837724599221215e-12,
          5.962584716444411e-12,
          6.090550646223161e-12,
          6.221600905237548e-12,
          6.3557033263819215e-12,
          6.492814681275521e-12,
          6.632880334994297e-12,
          6.7758339361052895e-12,
          6.921597145007887e-12,
          7.0700794034850914e-12,
          7.221177748243018e-12,
          7.37477667106683e-12,
          7.530748028048006e-12,
          7.688951000140511e-12,
          7.849232107083771e-12,
          8.011425276488112e-12,
          8.175351969616265e-12,
          8.340821365112152e-12,
          8.50763060162883e-12,
          8.675565079991734e-12,
          8.844398825203196e-12,
          9.013894908253275e-12,
          9.183805927350136e-12,
          9.353874547824991e-12,
          9.523834099603446e-12,
          9.69340923077029e-12,
          9.86231661538993e-12,
          1.0030265713384391e-11,
          1.0196959579915839e-11,
          1.0362095721375045e-11,
          1.052536699474398e-11,
          1.0686462546781113e-11,
          1.0845068789176222e-11,
          1.1000870405539744e-11,
          1.1153551385830908e-11,
          1.1302796083593815e-11,
          1.1448290291161577e-11,
          1.1589722327807286e-11,
          1.1726784135670816e-11,
          1.1859172378170727e-11,
          1.1986589535524873e-11,
          1.2108744991950458e-11,
          1.2225356109096921e-11,
          1.2336149280281256e-11,
          1.2440860960148616e-11,
          1.2539238664467162e-11,
          1.2631041934888568e-11,
          1.2716043263661218e-11,
          1.279402897347162e-11,
          1.2864800047810524e-11,
          1.2928172907510882e-11,
          1.2983980129384603e-11,
          1.3032071103191317e-11,
          1.3072312623503446e-11,
          1.3104589413385186e-11,
          1.3128804577176212e-11,
          1.3144879980061114e-11,
          1.3152756552510619e-11,
          1.3152394518096568e-11,
          1.3143773543608117e-11,
          1.312689281082672e-11,
          1.3101771009750883e-11,
          1.3068446253494511e-11,
          1.3026975915511887e-11,
          1.2977436390225417e-11,
          1.2919922778546e-11,
          1.2854548500177853e-11,
          1.27814448349863e-11,
          1.2700760396077451e-11,
          1.2612660537588619e-11,
          1.2517326700517084e-11,
          1.2414955700219762e-11,
          1.2305758959495407e-11,
          1.2189961691413207e-11,
          1.2067802036275763e-11,
          1.1939530157297612e-11,
          1.180540729974525e-11,
          1.1665704818416275e-11,
          1.1520703178436493e-11,
          1.1370690934423525e-11,
          1.1215963693102746e-11,
          1.1056823064468016e-11,
          1.0893575606555515e-11,
          1.0726531768844636e-11,
          1.0556004839216377e-11,
          1.0382309899288975e-11,
          1.0205762792812256e-11,
          1.002667911163957e-11,
          9.84537320361002e-12,
          9.662157206465535e-12,
          9.477340111699801e-12,
          9.29122686199047e-12,
          9.104117485604745e-12,
          8.916306270893634e-12,
          8.728080983703913e-12,
          8.53972213024056e-12,
          8.351502267610524e-12,
          8.163685363970173e-12,
          7.976526209888346e-12,
          7.790269882226178e-12,
          7.605151261524084e-12,
          7.421394603580137e-12,
          7.23921316560247e-12,
          7.058808887023596e-12,
          6.880372124778524e-12,
          6.7040814425729075e-12,
          6.530103453402874e-12,
          6.358592714336977e-12,
          6.189691672333357e-12,
          6.023530659642444e-12,
          5.860227937139668e-12,
          5.699889783742359e-12,
          5.542610629892525e-12,
          5.388473232932563e-12,
          5.237548892063577e-12,
          5.08989770045739e-12,
          4.945568831992739e-12,
          4.8046008600035035e-12,
          4.667022105362008e-12,
          4.532851011173575e-12,
          4.40209654132823e-12,
          4.2747586001421505e-12,
          4.1508284703240465e-12,
          4.0302892665192445e-12,
          3.913116401716969e-12,
          3.799278063852193e-12,
          3.688735699991918e-12,
          3.5814445055672247e-12,
          3.4773539161934367e-12,
          3.376408099712645e-12,
          3.2785464461933867e-12,
          3.183704053730646e-12,
          3.0918122080048736e-12,
          3.002798853679971e-12,
          2.916589055846425e-12,
          2.8331054498461255e-12,
          2.7522686779483298e-12,
          2.6739978114819576e-12,
          2.598210757165469e-12,
          2.524824646512888e-12,
          2.4537562073306386e-12,
          2.38492211645543e-12,
          2.3182393330165713e-12,
          2.2536254116371954e-12,
          2.1909987951163656e-12,
          2.1302790862581555e-12,
          2.071387298633625e-12,
          2.014246086176594e-12,
          1.9587799516246173e-12,
          1.9049154339208595e-12,
          1.8525812747919723e-12,
          1.8017085648100596e-12,
          1.7522308693339182e-12,
          1.704084334805366e-12,
          1.6572077759510195e-12,
          1.6115427445075797e-12,
          1.5670335801502293e-12,
          1.5236274443586841e-12
         ],
         "yaxis": "y"
        },
        {
         "legendgroup": "error arithMean",
         "marker": {
          "color": "rgb(31, 119, 180)",
          "symbol": "line-ns-open"
         },
         "mode": "markers",
         "name": "error arithMean",
         "showlegend": false,
         "type": "scatter",
         "x": [
          -22043472111.00392,
          55715474141.18873,
          1507908997.18219,
          5348967062.453354,
          15943357425.182468,
          19334732517.350582,
          -15483023958.363632,
          -3220550257.2327576,
          -43285546667.38054,
          -39243824746.77913,
          -38842937789.010666,
          -37855271911.65222,
          13295992051.573898,
          9977741138.63602,
          2665221101.73011,
          12098688673.718117,
          -4449719289.446625,
          18734639665.420807,
          38862013500.171486,
          57847103827.809875,
          -289190200.08548737,
          42826801476.73159,
          -1905425730.2289562,
          -3897397575.4712067,
          -2273863836.139,
          -14308763643.649729,
          -20056802367.15638,
          -9223535962.947338,
          -8122648639.235474,
          -5893156857.268425,
          -7989615948.594284,
          -13672904466.199097,
          33128513014.30121,
          -152382532834.50836,
          -65529027084.920654,
          -62165613294.090485,
          -3127690834.723334,
          -2780358291.646817,
          -1339605240.956088,
          -11810602201.163921,
          -10909318393.624908,
          -57892717965.28461,
          -68171594862.658295,
          9130888931.4944,
          -129780347377.05396,
          -46116479366.56601,
          -241817647771.00818,
          -690490199.4232035,
          -11576758.978380203,
          -1661273984.9117203,
          -72392008302.2279,
          -111387911228.98907,
          -41816963458.27826,
          5376411384.960358,
          13856143811.210197,
          -7760955391.716492,
          5984224408.3971405,
          305052298.8564911,
          -13237289576.541424,
          -12281017084.263313,
          -10702992909.679605,
          8576653643.77765,
          -1502361612.4986706,
          -946250729.8404484,
          -1218917649.9785995,
          -12744131509.939888,
          2400965207.4550934,
          4689919218.511131
         ],
         "xaxis": "x",
         "y": [
          "error arithMean",
          "error arithMean",
          "error arithMean",
          "error arithMean",
          "error arithMean",
          "error arithMean",
          "error arithMean",
          "error arithMean",
          "error arithMean",
          "error arithMean",
          "error arithMean",
          "error arithMean",
          "error arithMean",
          "error arithMean",
          "error arithMean",
          "error arithMean",
          "error arithMean",
          "error arithMean",
          "error arithMean",
          "error arithMean",
          "error arithMean",
          "error arithMean",
          "error arithMean",
          "error arithMean",
          "error arithMean",
          "error arithMean",
          "error arithMean",
          "error arithMean",
          "error arithMean",
          "error arithMean",
          "error arithMean",
          "error arithMean",
          "error arithMean",
          "error arithMean",
          "error arithMean",
          "error arithMean",
          "error arithMean",
          "error arithMean",
          "error arithMean",
          "error arithMean",
          "error arithMean",
          "error arithMean",
          "error arithMean",
          "error arithMean",
          "error arithMean",
          "error arithMean",
          "error arithMean",
          "error arithMean",
          "error arithMean",
          "error arithMean",
          "error arithMean",
          "error arithMean",
          "error arithMean",
          "error arithMean",
          "error arithMean",
          "error arithMean",
          "error arithMean",
          "error arithMean",
          "error arithMean",
          "error arithMean",
          "error arithMean",
          "error arithMean",
          "error arithMean",
          "error arithMean",
          "error arithMean",
          "error arithMean",
          "error arithMean",
          "error arithMean"
         ],
         "yaxis": "y2"
        }
       ],
       "layout": {
        "barmode": "overlay",
        "hovermode": "closest",
        "legend": {
         "traceorder": "reversed"
        },
        "template": {
         "data": {
          "bar": [
           {
            "error_x": {
             "color": "#2a3f5f"
            },
            "error_y": {
             "color": "#2a3f5f"
            },
            "marker": {
             "line": {
              "color": "#E5ECF6",
              "width": 0.5
             },
             "pattern": {
              "fillmode": "overlay",
              "size": 10,
              "solidity": 0.2
             }
            },
            "type": "bar"
           }
          ],
          "barpolar": [
           {
            "marker": {
             "line": {
              "color": "#E5ECF6",
              "width": 0.5
             },
             "pattern": {
              "fillmode": "overlay",
              "size": 10,
              "solidity": 0.2
             }
            },
            "type": "barpolar"
           }
          ],
          "carpet": [
           {
            "aaxis": {
             "endlinecolor": "#2a3f5f",
             "gridcolor": "white",
             "linecolor": "white",
             "minorgridcolor": "white",
             "startlinecolor": "#2a3f5f"
            },
            "baxis": {
             "endlinecolor": "#2a3f5f",
             "gridcolor": "white",
             "linecolor": "white",
             "minorgridcolor": "white",
             "startlinecolor": "#2a3f5f"
            },
            "type": "carpet"
           }
          ],
          "choropleth": [
           {
            "colorbar": {
             "outlinewidth": 0,
             "ticks": ""
            },
            "type": "choropleth"
           }
          ],
          "contour": [
           {
            "colorbar": {
             "outlinewidth": 0,
             "ticks": ""
            },
            "colorscale": [
             [
              0,
              "#0d0887"
             ],
             [
              0.1111111111111111,
              "#46039f"
             ],
             [
              0.2222222222222222,
              "#7201a8"
             ],
             [
              0.3333333333333333,
              "#9c179e"
             ],
             [
              0.4444444444444444,
              "#bd3786"
             ],
             [
              0.5555555555555556,
              "#d8576b"
             ],
             [
              0.6666666666666666,
              "#ed7953"
             ],
             [
              0.7777777777777778,
              "#fb9f3a"
             ],
             [
              0.8888888888888888,
              "#fdca26"
             ],
             [
              1,
              "#f0f921"
             ]
            ],
            "type": "contour"
           }
          ],
          "contourcarpet": [
           {
            "colorbar": {
             "outlinewidth": 0,
             "ticks": ""
            },
            "type": "contourcarpet"
           }
          ],
          "heatmap": [
           {
            "colorbar": {
             "outlinewidth": 0,
             "ticks": ""
            },
            "colorscale": [
             [
              0,
              "#0d0887"
             ],
             [
              0.1111111111111111,
              "#46039f"
             ],
             [
              0.2222222222222222,
              "#7201a8"
             ],
             [
              0.3333333333333333,
              "#9c179e"
             ],
             [
              0.4444444444444444,
              "#bd3786"
             ],
             [
              0.5555555555555556,
              "#d8576b"
             ],
             [
              0.6666666666666666,
              "#ed7953"
             ],
             [
              0.7777777777777778,
              "#fb9f3a"
             ],
             [
              0.8888888888888888,
              "#fdca26"
             ],
             [
              1,
              "#f0f921"
             ]
            ],
            "type": "heatmap"
           }
          ],
          "heatmapgl": [
           {
            "colorbar": {
             "outlinewidth": 0,
             "ticks": ""
            },
            "colorscale": [
             [
              0,
              "#0d0887"
             ],
             [
              0.1111111111111111,
              "#46039f"
             ],
             [
              0.2222222222222222,
              "#7201a8"
             ],
             [
              0.3333333333333333,
              "#9c179e"
             ],
             [
              0.4444444444444444,
              "#bd3786"
             ],
             [
              0.5555555555555556,
              "#d8576b"
             ],
             [
              0.6666666666666666,
              "#ed7953"
             ],
             [
              0.7777777777777778,
              "#fb9f3a"
             ],
             [
              0.8888888888888888,
              "#fdca26"
             ],
             [
              1,
              "#f0f921"
             ]
            ],
            "type": "heatmapgl"
           }
          ],
          "histogram": [
           {
            "marker": {
             "pattern": {
              "fillmode": "overlay",
              "size": 10,
              "solidity": 0.2
             }
            },
            "type": "histogram"
           }
          ],
          "histogram2d": [
           {
            "colorbar": {
             "outlinewidth": 0,
             "ticks": ""
            },
            "colorscale": [
             [
              0,
              "#0d0887"
             ],
             [
              0.1111111111111111,
              "#46039f"
             ],
             [
              0.2222222222222222,
              "#7201a8"
             ],
             [
              0.3333333333333333,
              "#9c179e"
             ],
             [
              0.4444444444444444,
              "#bd3786"
             ],
             [
              0.5555555555555556,
              "#d8576b"
             ],
             [
              0.6666666666666666,
              "#ed7953"
             ],
             [
              0.7777777777777778,
              "#fb9f3a"
             ],
             [
              0.8888888888888888,
              "#fdca26"
             ],
             [
              1,
              "#f0f921"
             ]
            ],
            "type": "histogram2d"
           }
          ],
          "histogram2dcontour": [
           {
            "colorbar": {
             "outlinewidth": 0,
             "ticks": ""
            },
            "colorscale": [
             [
              0,
              "#0d0887"
             ],
             [
              0.1111111111111111,
              "#46039f"
             ],
             [
              0.2222222222222222,
              "#7201a8"
             ],
             [
              0.3333333333333333,
              "#9c179e"
             ],
             [
              0.4444444444444444,
              "#bd3786"
             ],
             [
              0.5555555555555556,
              "#d8576b"
             ],
             [
              0.6666666666666666,
              "#ed7953"
             ],
             [
              0.7777777777777778,
              "#fb9f3a"
             ],
             [
              0.8888888888888888,
              "#fdca26"
             ],
             [
              1,
              "#f0f921"
             ]
            ],
            "type": "histogram2dcontour"
           }
          ],
          "mesh3d": [
           {
            "colorbar": {
             "outlinewidth": 0,
             "ticks": ""
            },
            "type": "mesh3d"
           }
          ],
          "parcoords": [
           {
            "line": {
             "colorbar": {
              "outlinewidth": 0,
              "ticks": ""
             }
            },
            "type": "parcoords"
           }
          ],
          "pie": [
           {
            "automargin": true,
            "type": "pie"
           }
          ],
          "scatter": [
           {
            "fillpattern": {
             "fillmode": "overlay",
             "size": 10,
             "solidity": 0.2
            },
            "type": "scatter"
           }
          ],
          "scatter3d": [
           {
            "line": {
             "colorbar": {
              "outlinewidth": 0,
              "ticks": ""
             }
            },
            "marker": {
             "colorbar": {
              "outlinewidth": 0,
              "ticks": ""
             }
            },
            "type": "scatter3d"
           }
          ],
          "scattercarpet": [
           {
            "marker": {
             "colorbar": {
              "outlinewidth": 0,
              "ticks": ""
             }
            },
            "type": "scattercarpet"
           }
          ],
          "scattergeo": [
           {
            "marker": {
             "colorbar": {
              "outlinewidth": 0,
              "ticks": ""
             }
            },
            "type": "scattergeo"
           }
          ],
          "scattergl": [
           {
            "marker": {
             "colorbar": {
              "outlinewidth": 0,
              "ticks": ""
             }
            },
            "type": "scattergl"
           }
          ],
          "scattermapbox": [
           {
            "marker": {
             "colorbar": {
              "outlinewidth": 0,
              "ticks": ""
             }
            },
            "type": "scattermapbox"
           }
          ],
          "scatterpolar": [
           {
            "marker": {
             "colorbar": {
              "outlinewidth": 0,
              "ticks": ""
             }
            },
            "type": "scatterpolar"
           }
          ],
          "scatterpolargl": [
           {
            "marker": {
             "colorbar": {
              "outlinewidth": 0,
              "ticks": ""
             }
            },
            "type": "scatterpolargl"
           }
          ],
          "scatterternary": [
           {
            "marker": {
             "colorbar": {
              "outlinewidth": 0,
              "ticks": ""
             }
            },
            "type": "scatterternary"
           }
          ],
          "surface": [
           {
            "colorbar": {
             "outlinewidth": 0,
             "ticks": ""
            },
            "colorscale": [
             [
              0,
              "#0d0887"
             ],
             [
              0.1111111111111111,
              "#46039f"
             ],
             [
              0.2222222222222222,
              "#7201a8"
             ],
             [
              0.3333333333333333,
              "#9c179e"
             ],
             [
              0.4444444444444444,
              "#bd3786"
             ],
             [
              0.5555555555555556,
              "#d8576b"
             ],
             [
              0.6666666666666666,
              "#ed7953"
             ],
             [
              0.7777777777777778,
              "#fb9f3a"
             ],
             [
              0.8888888888888888,
              "#fdca26"
             ],
             [
              1,
              "#f0f921"
             ]
            ],
            "type": "surface"
           }
          ],
          "table": [
           {
            "cells": {
             "fill": {
              "color": "#EBF0F8"
             },
             "line": {
              "color": "white"
             }
            },
            "header": {
             "fill": {
              "color": "#C8D4E3"
             },
             "line": {
              "color": "white"
             }
            },
            "type": "table"
           }
          ]
         },
         "layout": {
          "annotationdefaults": {
           "arrowcolor": "#2a3f5f",
           "arrowhead": 0,
           "arrowwidth": 1
          },
          "autotypenumbers": "strict",
          "coloraxis": {
           "colorbar": {
            "outlinewidth": 0,
            "ticks": ""
           }
          },
          "colorscale": {
           "diverging": [
            [
             0,
             "#8e0152"
            ],
            [
             0.1,
             "#c51b7d"
            ],
            [
             0.2,
             "#de77ae"
            ],
            [
             0.3,
             "#f1b6da"
            ],
            [
             0.4,
             "#fde0ef"
            ],
            [
             0.5,
             "#f7f7f7"
            ],
            [
             0.6,
             "#e6f5d0"
            ],
            [
             0.7,
             "#b8e186"
            ],
            [
             0.8,
             "#7fbc41"
            ],
            [
             0.9,
             "#4d9221"
            ],
            [
             1,
             "#276419"
            ]
           ],
           "sequential": [
            [
             0,
             "#0d0887"
            ],
            [
             0.1111111111111111,
             "#46039f"
            ],
            [
             0.2222222222222222,
             "#7201a8"
            ],
            [
             0.3333333333333333,
             "#9c179e"
            ],
            [
             0.4444444444444444,
             "#bd3786"
            ],
            [
             0.5555555555555556,
             "#d8576b"
            ],
            [
             0.6666666666666666,
             "#ed7953"
            ],
            [
             0.7777777777777778,
             "#fb9f3a"
            ],
            [
             0.8888888888888888,
             "#fdca26"
            ],
            [
             1,
             "#f0f921"
            ]
           ],
           "sequentialminus": [
            [
             0,
             "#0d0887"
            ],
            [
             0.1111111111111111,
             "#46039f"
            ],
            [
             0.2222222222222222,
             "#7201a8"
            ],
            [
             0.3333333333333333,
             "#9c179e"
            ],
            [
             0.4444444444444444,
             "#bd3786"
            ],
            [
             0.5555555555555556,
             "#d8576b"
            ],
            [
             0.6666666666666666,
             "#ed7953"
            ],
            [
             0.7777777777777778,
             "#fb9f3a"
            ],
            [
             0.8888888888888888,
             "#fdca26"
            ],
            [
             1,
             "#f0f921"
            ]
           ]
          },
          "colorway": [
           "#636efa",
           "#EF553B",
           "#00cc96",
           "#ab63fa",
           "#FFA15A",
           "#19d3f3",
           "#FF6692",
           "#B6E880",
           "#FF97FF",
           "#FECB52"
          ],
          "font": {
           "color": "#2a3f5f"
          },
          "geo": {
           "bgcolor": "white",
           "lakecolor": "white",
           "landcolor": "#E5ECF6",
           "showlakes": true,
           "showland": true,
           "subunitcolor": "white"
          },
          "hoverlabel": {
           "align": "left"
          },
          "hovermode": "closest",
          "mapbox": {
           "style": "light"
          },
          "paper_bgcolor": "white",
          "plot_bgcolor": "#E5ECF6",
          "polar": {
           "angularaxis": {
            "gridcolor": "white",
            "linecolor": "white",
            "ticks": ""
           },
           "bgcolor": "#E5ECF6",
           "radialaxis": {
            "gridcolor": "white",
            "linecolor": "white",
            "ticks": ""
           }
          },
          "scene": {
           "xaxis": {
            "backgroundcolor": "#E5ECF6",
            "gridcolor": "white",
            "gridwidth": 2,
            "linecolor": "white",
            "showbackground": true,
            "ticks": "",
            "zerolinecolor": "white"
           },
           "yaxis": {
            "backgroundcolor": "#E5ECF6",
            "gridcolor": "white",
            "gridwidth": 2,
            "linecolor": "white",
            "showbackground": true,
            "ticks": "",
            "zerolinecolor": "white"
           },
           "zaxis": {
            "backgroundcolor": "#E5ECF6",
            "gridcolor": "white",
            "gridwidth": 2,
            "linecolor": "white",
            "showbackground": true,
            "ticks": "",
            "zerolinecolor": "white"
           }
          },
          "shapedefaults": {
           "line": {
            "color": "#2a3f5f"
           }
          },
          "ternary": {
           "aaxis": {
            "gridcolor": "white",
            "linecolor": "white",
            "ticks": ""
           },
           "baxis": {
            "gridcolor": "white",
            "linecolor": "white",
            "ticks": ""
           },
           "bgcolor": "#E5ECF6",
           "caxis": {
            "gridcolor": "white",
            "linecolor": "white",
            "ticks": ""
           }
          },
          "title": {
           "x": 0.05
          },
          "xaxis": {
           "automargin": true,
           "gridcolor": "white",
           "linecolor": "white",
           "ticks": "",
           "title": {
            "standoff": 15
           },
           "zerolinecolor": "white",
           "zerolinewidth": 2
          },
          "yaxis": {
           "automargin": true,
           "gridcolor": "white",
           "linecolor": "white",
           "ticks": "",
           "title": {
            "standoff": 15
           },
           "zerolinecolor": "white",
           "zerolinewidth": 2
          }
         }
        },
        "xaxis": {
         "anchor": "y2",
         "domain": [
          0,
          1
         ],
         "zeroline": false
        },
        "yaxis": {
         "anchor": "free",
         "domain": [
          0.35,
          1
         ],
         "position": 0
        },
        "yaxis2": {
         "anchor": "x",
         "domain": [
          0,
          0.25
         ],
         "dtick": 1,
         "showticklabels": false
        }
       }
      }
     },
     "metadata": {},
     "output_type": "display_data"
    }
   ],
   "source": [
    "import plotly.figure_factory as ff\n",
    "import numpy as np\n",
    "hist_df_DC = [df_HC['deviation_arithMean'].to_numpy()]\n",
    "label_arith =['error arithMean']\n",
    "\n",
    "fig_arith = ff.create_distplot(hist_df_DC, label_arith, bin_size=1000000000)\n",
    "fig_arith.show()"
   ]
  },
  {
   "cell_type": "code",
   "execution_count": 11,
   "metadata": {},
   "outputs": [],
   "source": [
    "df_q2_multipier = {20627/1534, 18093/1322, 23029/1863, 13626/1245, 27635/2109, 11626/1075, 16430/1408, 23626/1900, 25324/2033}\n",
    "q2_arithMean = mean(df_q2_multipier)\n",
    "q2_median_Multiple = median(df_q2_multipier)\n",
    "q2_harmoMean = harmonic_mean(df_q2_multipier)\n",
    "q2_f_EBITDA = 1289\n"
   ]
  },
  {
   "cell_type": "code",
   "execution_count": 17,
   "metadata": {},
   "outputs": [
    {
     "data": {
      "text/plain": [
       "15786.235867525973"
      ]
     },
     "execution_count": 17,
     "metadata": {},
     "output_type": "execute_result"
    }
   ],
   "source": [
    "q2_harmoMean* q2_f_EBITDA"
   ]
  },
  {
   "cell_type": "code",
   "execution_count": null,
   "metadata": {},
   "outputs": [],
   "source": [
    "df_Mat = df_ana12to15[(df_ana12to15['GICS.Sector'] == 'Materials') \n",
    "                     & (df_ana12to15['Period.Ending']<2014)]\n",
    "df_Mat\n"
   ]
  },
  {
   "cell_type": "code",
   "execution_count": 38,
   "metadata": {
    "tags": [
     "remove-output"
    ]
   },
   "outputs": [
    {
     "name": "stderr",
     "output_type": "stream",
     "text": [
      "/var/folders/m3/xzzyd2195pg_n5xvcz71sc4w0000gn/T/ipykernel_15688/3118907916.py:2: SettingWithCopyWarning: \n",
      "A value is trying to be set on a copy of a slice from a DataFrame.\n",
      "Try using .loc[row_indexer,col_indexer] = value instead\n",
      "\n",
      "See the caveats in the documentation: https://pandas.pydata.org/pandas-docs/stable/user_guide/indexing.html#returning-a-view-versus-a-copy\n",
      "  df_Mat['EBITDA'] = df_Mat['Earnings.Before.Interest.and.Tax'] + df_Mat['Depreciation']\n",
      "/var/folders/m3/xzzyd2195pg_n5xvcz71sc4w0000gn/T/ipykernel_15688/3118907916.py:3: SettingWithCopyWarning: \n",
      "A value is trying to be set on a copy of a slice from a DataFrame.\n",
      "Try using .loc[row_indexer,col_indexer] = value instead\n",
      "\n",
      "See the caveats in the documentation: https://pandas.pydata.org/pandas-docs/stable/user_guide/indexing.html#returning-a-view-versus-a-copy\n",
      "  df_Mat['EV'] = df_Mat['close']*df_Mat['Estimated.Shares.Outstanding']+df_Mat['Total.Liabilities']-df_Mat['Cash.and.Cash.Equivalents']\n"
     ]
    }
   ],
   "source": [
    "# Calculate EBITDA and EV\n",
    "df_Mat['EBITDA'] = df_Mat['Earnings.Before.Interest.and.Tax'] + df_Mat['Depreciation'] \n",
    "df_Mat['EV'] = df_Mat['close']*df_Mat['Estimated.Shares.Outstanding']+df_Mat['Total.Liabilities']-df_Mat['Cash.and.Cash.Equivalents']"
   ]
  },
  {
   "cell_type": "code",
   "execution_count": 39,
   "metadata": {
    "tags": [
     "remove-output"
    ]
   },
   "outputs": [],
   "source": [
    "# Running the first regression \n",
    "reg_Mat = sm.OLS(df_Mat['EV'], sm.add_constant(df_Mat['EBITDA'])).fit()"
   ]
  },
  {
   "cell_type": "code",
   "execution_count": 40,
   "metadata": {},
   "outputs": [
    {
     "data": {
      "text/plain": [
       "const     8.345253e+09\n",
       "EBITDA    8.069811e+00\n",
       "dtype: float64"
      ]
     },
     "execution_count": 40,
     "metadata": {},
     "output_type": "execute_result"
    }
   ],
   "source": [
    "reg_Mat.params"
   ]
  },
  {
   "cell_type": "markdown",
   "metadata": {},
   "source": [
    "an increase in  EBITDA (x) of 1 million USD leads on average to an increase in the estimated enterprise value \n",
    " EV head of 8238 * 10^6 USD."
   ]
  },
  {
   "cell_type": "code",
   "execution_count": 41,
   "metadata": {
    "tags": [
     "remove-output"
    ]
   },
   "outputs": [
    {
     "data": {
      "application/vnd.plotly.v1+json": {
       "config": {
        "plotlyServerURL": "https://plot.ly"
       },
       "data": [
        {
         "hovertemplate": "EBITDA=%{x}<br>EV=%{y}<extra></extra>",
         "legendgroup": "",
         "marker": {
          "color": "#636efa",
          "opacity": 0.65,
          "symbol": "circle"
         },
         "mode": "markers",
         "name": "",
         "orientation": "v",
         "showlegend": false,
         "type": "scatter",
         "x": [
          500032000,
          677371000,
          1058300000,
          1067300000,
          3384600000,
          4617000000,
          2003800000,
          2376800000,
          1152000000,
          7101000000,
          8427000000,
          754400000,
          627700000,
          3124000000,
          3387000000,
          5881000000,
          6347000000,
          334680000,
          391454000,
          4395000000,
          1635659000,
          1538929000,
          1874000000,
          3373000000,
          3734000000,
          824600000,
          1129299000,
          1336466000
         ],
         "xaxis": "x",
         "y": [
          6671159180.076018,
          6792754662.643185,
          13013198850.585,
          13712161290.32758,
          4651378521.07718,
          83631899424.77441,
          31328720500.921513,
          43195261020.604996,
          18430617103.68935,
          47323250968.75,
          78721247305.7743,
          10908202325.57148,
          13859650789.875084,
          41687776813.63256,
          43034499816.85881,
          43058752515.07584,
          55895287668.092964,
          6077013576.7897005,
          6307916588.8099985,
          37243363889.86365,
          19242028556.95984,
          23212929755.25994,
          23414455679.599636,
          44530268946.06475,
          51925954250.059105,
          13461652928.4375,
          19363376219.13312,
          22499377669.389
         ],
         "yaxis": "y"
        },
        {
         "hovertemplate": "<b>OLS trendline</b><br>EV = 8.06981 * EBITDA + 8.34525e+09<br>R<sup>2</sup>=0.690812<br><br>EBITDA=%{x}<br>EV=%{y} <b>(trend)</b><extra></extra>",
         "legendgroup": "",
         "line": {
          "color": "darkblue"
         },
         "marker": {
          "color": "#636efa",
          "symbol": "circle"
         },
         "mode": "lines",
         "name": "",
         "showlegend": false,
         "type": "scatter",
         "x": [
          334680000,
          391454000,
          500032000,
          627700000,
          677371000,
          754400000,
          824600000,
          1058300000,
          1067300000,
          1129299000,
          1152000000,
          1336466000,
          1538929000,
          1635659000,
          1874000000,
          2003800000,
          2376800000,
          3124000000,
          3373000000,
          3384600000,
          3387000000,
          3734000000,
          4395000000,
          4617000000,
          5881000000,
          6347000000,
          7101000000,
          8427000000
         ],
         "xaxis": "x",
         "y": [
          11046057061.761852,
          11504212538.714878,
          12380416529.566425,
          13410673221.56697,
          13811508827.57912,
          14433118336.055092,
          14999619101.935642,
          16885534044.760218,
          16958162348.078236,
          17458482590.013115,
          17641675380.4156,
          19130281224.84469,
          20764119466.475376,
          21544712330.91449,
          23468079268.816723,
          24515540798.89216,
          27525580480.850082,
          33555343618.54166,
          35564726677.00687,
          35658336490.17231,
          35677704037.723785,
          38477928621.20743,
          43812074009.34197,
          45603572157.85312,
          55803813868.294975,
          59564346017.87244,
          65648983873.62652,
          76349553895.81473
         ],
         "yaxis": "y"
        }
       ],
       "layout": {
        "legend": {
         "tracegroupgap": 0
        },
        "margin": {
         "t": 60
        },
        "template": {
         "data": {
          "bar": [
           {
            "error_x": {
             "color": "#2a3f5f"
            },
            "error_y": {
             "color": "#2a3f5f"
            },
            "marker": {
             "line": {
              "color": "#E5ECF6",
              "width": 0.5
             },
             "pattern": {
              "fillmode": "overlay",
              "size": 10,
              "solidity": 0.2
             }
            },
            "type": "bar"
           }
          ],
          "barpolar": [
           {
            "marker": {
             "line": {
              "color": "#E5ECF6",
              "width": 0.5
             },
             "pattern": {
              "fillmode": "overlay",
              "size": 10,
              "solidity": 0.2
             }
            },
            "type": "barpolar"
           }
          ],
          "carpet": [
           {
            "aaxis": {
             "endlinecolor": "#2a3f5f",
             "gridcolor": "white",
             "linecolor": "white",
             "minorgridcolor": "white",
             "startlinecolor": "#2a3f5f"
            },
            "baxis": {
             "endlinecolor": "#2a3f5f",
             "gridcolor": "white",
             "linecolor": "white",
             "minorgridcolor": "white",
             "startlinecolor": "#2a3f5f"
            },
            "type": "carpet"
           }
          ],
          "choropleth": [
           {
            "colorbar": {
             "outlinewidth": 0,
             "ticks": ""
            },
            "type": "choropleth"
           }
          ],
          "contour": [
           {
            "colorbar": {
             "outlinewidth": 0,
             "ticks": ""
            },
            "colorscale": [
             [
              0,
              "#0d0887"
             ],
             [
              0.1111111111111111,
              "#46039f"
             ],
             [
              0.2222222222222222,
              "#7201a8"
             ],
             [
              0.3333333333333333,
              "#9c179e"
             ],
             [
              0.4444444444444444,
              "#bd3786"
             ],
             [
              0.5555555555555556,
              "#d8576b"
             ],
             [
              0.6666666666666666,
              "#ed7953"
             ],
             [
              0.7777777777777778,
              "#fb9f3a"
             ],
             [
              0.8888888888888888,
              "#fdca26"
             ],
             [
              1,
              "#f0f921"
             ]
            ],
            "type": "contour"
           }
          ],
          "contourcarpet": [
           {
            "colorbar": {
             "outlinewidth": 0,
             "ticks": ""
            },
            "type": "contourcarpet"
           }
          ],
          "heatmap": [
           {
            "colorbar": {
             "outlinewidth": 0,
             "ticks": ""
            },
            "colorscale": [
             [
              0,
              "#0d0887"
             ],
             [
              0.1111111111111111,
              "#46039f"
             ],
             [
              0.2222222222222222,
              "#7201a8"
             ],
             [
              0.3333333333333333,
              "#9c179e"
             ],
             [
              0.4444444444444444,
              "#bd3786"
             ],
             [
              0.5555555555555556,
              "#d8576b"
             ],
             [
              0.6666666666666666,
              "#ed7953"
             ],
             [
              0.7777777777777778,
              "#fb9f3a"
             ],
             [
              0.8888888888888888,
              "#fdca26"
             ],
             [
              1,
              "#f0f921"
             ]
            ],
            "type": "heatmap"
           }
          ],
          "heatmapgl": [
           {
            "colorbar": {
             "outlinewidth": 0,
             "ticks": ""
            },
            "colorscale": [
             [
              0,
              "#0d0887"
             ],
             [
              0.1111111111111111,
              "#46039f"
             ],
             [
              0.2222222222222222,
              "#7201a8"
             ],
             [
              0.3333333333333333,
              "#9c179e"
             ],
             [
              0.4444444444444444,
              "#bd3786"
             ],
             [
              0.5555555555555556,
              "#d8576b"
             ],
             [
              0.6666666666666666,
              "#ed7953"
             ],
             [
              0.7777777777777778,
              "#fb9f3a"
             ],
             [
              0.8888888888888888,
              "#fdca26"
             ],
             [
              1,
              "#f0f921"
             ]
            ],
            "type": "heatmapgl"
           }
          ],
          "histogram": [
           {
            "marker": {
             "pattern": {
              "fillmode": "overlay",
              "size": 10,
              "solidity": 0.2
             }
            },
            "type": "histogram"
           }
          ],
          "histogram2d": [
           {
            "colorbar": {
             "outlinewidth": 0,
             "ticks": ""
            },
            "colorscale": [
             [
              0,
              "#0d0887"
             ],
             [
              0.1111111111111111,
              "#46039f"
             ],
             [
              0.2222222222222222,
              "#7201a8"
             ],
             [
              0.3333333333333333,
              "#9c179e"
             ],
             [
              0.4444444444444444,
              "#bd3786"
             ],
             [
              0.5555555555555556,
              "#d8576b"
             ],
             [
              0.6666666666666666,
              "#ed7953"
             ],
             [
              0.7777777777777778,
              "#fb9f3a"
             ],
             [
              0.8888888888888888,
              "#fdca26"
             ],
             [
              1,
              "#f0f921"
             ]
            ],
            "type": "histogram2d"
           }
          ],
          "histogram2dcontour": [
           {
            "colorbar": {
             "outlinewidth": 0,
             "ticks": ""
            },
            "colorscale": [
             [
              0,
              "#0d0887"
             ],
             [
              0.1111111111111111,
              "#46039f"
             ],
             [
              0.2222222222222222,
              "#7201a8"
             ],
             [
              0.3333333333333333,
              "#9c179e"
             ],
             [
              0.4444444444444444,
              "#bd3786"
             ],
             [
              0.5555555555555556,
              "#d8576b"
             ],
             [
              0.6666666666666666,
              "#ed7953"
             ],
             [
              0.7777777777777778,
              "#fb9f3a"
             ],
             [
              0.8888888888888888,
              "#fdca26"
             ],
             [
              1,
              "#f0f921"
             ]
            ],
            "type": "histogram2dcontour"
           }
          ],
          "mesh3d": [
           {
            "colorbar": {
             "outlinewidth": 0,
             "ticks": ""
            },
            "type": "mesh3d"
           }
          ],
          "parcoords": [
           {
            "line": {
             "colorbar": {
              "outlinewidth": 0,
              "ticks": ""
             }
            },
            "type": "parcoords"
           }
          ],
          "pie": [
           {
            "automargin": true,
            "type": "pie"
           }
          ],
          "scatter": [
           {
            "fillpattern": {
             "fillmode": "overlay",
             "size": 10,
             "solidity": 0.2
            },
            "type": "scatter"
           }
          ],
          "scatter3d": [
           {
            "line": {
             "colorbar": {
              "outlinewidth": 0,
              "ticks": ""
             }
            },
            "marker": {
             "colorbar": {
              "outlinewidth": 0,
              "ticks": ""
             }
            },
            "type": "scatter3d"
           }
          ],
          "scattercarpet": [
           {
            "marker": {
             "colorbar": {
              "outlinewidth": 0,
              "ticks": ""
             }
            },
            "type": "scattercarpet"
           }
          ],
          "scattergeo": [
           {
            "marker": {
             "colorbar": {
              "outlinewidth": 0,
              "ticks": ""
             }
            },
            "type": "scattergeo"
           }
          ],
          "scattergl": [
           {
            "marker": {
             "colorbar": {
              "outlinewidth": 0,
              "ticks": ""
             }
            },
            "type": "scattergl"
           }
          ],
          "scattermapbox": [
           {
            "marker": {
             "colorbar": {
              "outlinewidth": 0,
              "ticks": ""
             }
            },
            "type": "scattermapbox"
           }
          ],
          "scatterpolar": [
           {
            "marker": {
             "colorbar": {
              "outlinewidth": 0,
              "ticks": ""
             }
            },
            "type": "scatterpolar"
           }
          ],
          "scatterpolargl": [
           {
            "marker": {
             "colorbar": {
              "outlinewidth": 0,
              "ticks": ""
             }
            },
            "type": "scatterpolargl"
           }
          ],
          "scatterternary": [
           {
            "marker": {
             "colorbar": {
              "outlinewidth": 0,
              "ticks": ""
             }
            },
            "type": "scatterternary"
           }
          ],
          "surface": [
           {
            "colorbar": {
             "outlinewidth": 0,
             "ticks": ""
            },
            "colorscale": [
             [
              0,
              "#0d0887"
             ],
             [
              0.1111111111111111,
              "#46039f"
             ],
             [
              0.2222222222222222,
              "#7201a8"
             ],
             [
              0.3333333333333333,
              "#9c179e"
             ],
             [
              0.4444444444444444,
              "#bd3786"
             ],
             [
              0.5555555555555556,
              "#d8576b"
             ],
             [
              0.6666666666666666,
              "#ed7953"
             ],
             [
              0.7777777777777778,
              "#fb9f3a"
             ],
             [
              0.8888888888888888,
              "#fdca26"
             ],
             [
              1,
              "#f0f921"
             ]
            ],
            "type": "surface"
           }
          ],
          "table": [
           {
            "cells": {
             "fill": {
              "color": "#EBF0F8"
             },
             "line": {
              "color": "white"
             }
            },
            "header": {
             "fill": {
              "color": "#C8D4E3"
             },
             "line": {
              "color": "white"
             }
            },
            "type": "table"
           }
          ]
         },
         "layout": {
          "annotationdefaults": {
           "arrowcolor": "#2a3f5f",
           "arrowhead": 0,
           "arrowwidth": 1
          },
          "autotypenumbers": "strict",
          "coloraxis": {
           "colorbar": {
            "outlinewidth": 0,
            "ticks": ""
           }
          },
          "colorscale": {
           "diverging": [
            [
             0,
             "#8e0152"
            ],
            [
             0.1,
             "#c51b7d"
            ],
            [
             0.2,
             "#de77ae"
            ],
            [
             0.3,
             "#f1b6da"
            ],
            [
             0.4,
             "#fde0ef"
            ],
            [
             0.5,
             "#f7f7f7"
            ],
            [
             0.6,
             "#e6f5d0"
            ],
            [
             0.7,
             "#b8e186"
            ],
            [
             0.8,
             "#7fbc41"
            ],
            [
             0.9,
             "#4d9221"
            ],
            [
             1,
             "#276419"
            ]
           ],
           "sequential": [
            [
             0,
             "#0d0887"
            ],
            [
             0.1111111111111111,
             "#46039f"
            ],
            [
             0.2222222222222222,
             "#7201a8"
            ],
            [
             0.3333333333333333,
             "#9c179e"
            ],
            [
             0.4444444444444444,
             "#bd3786"
            ],
            [
             0.5555555555555556,
             "#d8576b"
            ],
            [
             0.6666666666666666,
             "#ed7953"
            ],
            [
             0.7777777777777778,
             "#fb9f3a"
            ],
            [
             0.8888888888888888,
             "#fdca26"
            ],
            [
             1,
             "#f0f921"
            ]
           ],
           "sequentialminus": [
            [
             0,
             "#0d0887"
            ],
            [
             0.1111111111111111,
             "#46039f"
            ],
            [
             0.2222222222222222,
             "#7201a8"
            ],
            [
             0.3333333333333333,
             "#9c179e"
            ],
            [
             0.4444444444444444,
             "#bd3786"
            ],
            [
             0.5555555555555556,
             "#d8576b"
            ],
            [
             0.6666666666666666,
             "#ed7953"
            ],
            [
             0.7777777777777778,
             "#fb9f3a"
            ],
            [
             0.8888888888888888,
             "#fdca26"
            ],
            [
             1,
             "#f0f921"
            ]
           ]
          },
          "colorway": [
           "#636efa",
           "#EF553B",
           "#00cc96",
           "#ab63fa",
           "#FFA15A",
           "#19d3f3",
           "#FF6692",
           "#B6E880",
           "#FF97FF",
           "#FECB52"
          ],
          "font": {
           "color": "#2a3f5f"
          },
          "geo": {
           "bgcolor": "white",
           "lakecolor": "white",
           "landcolor": "#E5ECF6",
           "showlakes": true,
           "showland": true,
           "subunitcolor": "white"
          },
          "hoverlabel": {
           "align": "left"
          },
          "hovermode": "closest",
          "mapbox": {
           "style": "light"
          },
          "paper_bgcolor": "white",
          "plot_bgcolor": "#E5ECF6",
          "polar": {
           "angularaxis": {
            "gridcolor": "white",
            "linecolor": "white",
            "ticks": ""
           },
           "bgcolor": "#E5ECF6",
           "radialaxis": {
            "gridcolor": "white",
            "linecolor": "white",
            "ticks": ""
           }
          },
          "scene": {
           "xaxis": {
            "backgroundcolor": "#E5ECF6",
            "gridcolor": "white",
            "gridwidth": 2,
            "linecolor": "white",
            "showbackground": true,
            "ticks": "",
            "zerolinecolor": "white"
           },
           "yaxis": {
            "backgroundcolor": "#E5ECF6",
            "gridcolor": "white",
            "gridwidth": 2,
            "linecolor": "white",
            "showbackground": true,
            "ticks": "",
            "zerolinecolor": "white"
           },
           "zaxis": {
            "backgroundcolor": "#E5ECF6",
            "gridcolor": "white",
            "gridwidth": 2,
            "linecolor": "white",
            "showbackground": true,
            "ticks": "",
            "zerolinecolor": "white"
           }
          },
          "shapedefaults": {
           "line": {
            "color": "#2a3f5f"
           }
          },
          "ternary": {
           "aaxis": {
            "gridcolor": "white",
            "linecolor": "white",
            "ticks": ""
           },
           "baxis": {
            "gridcolor": "white",
            "linecolor": "white",
            "ticks": ""
           },
           "bgcolor": "#E5ECF6",
           "caxis": {
            "gridcolor": "white",
            "linecolor": "white",
            "ticks": ""
           }
          },
          "title": {
           "x": 0.05
          },
          "xaxis": {
           "automargin": true,
           "gridcolor": "white",
           "linecolor": "white",
           "ticks": "",
           "title": {
            "standoff": 15
           },
           "zerolinecolor": "white",
           "zerolinewidth": 2
          },
          "yaxis": {
           "automargin": true,
           "gridcolor": "white",
           "linecolor": "white",
           "ticks": "",
           "title": {
            "standoff": 15
           },
           "zerolinecolor": "white",
           "zerolinewidth": 2
          }
         }
        },
        "xaxis": {
         "anchor": "y",
         "domain": [
          0,
          1
         ],
         "title": {
          "text": "EBITDA"
         }
        },
        "yaxis": {
         "anchor": "x",
         "domain": [
          0,
          1
         ],
         "title": {
          "text": "EV"
         }
        }
       }
      }
     },
     "metadata": {},
     "output_type": "display_data"
    }
   ],
   "source": [
    "import plotly.express as px\n",
    "\n",
    "fig = px.scatter(\n",
    "    df_Mat, x='EBITDA', y='EV', opacity=0.65,\n",
    "    trendline='ols', trendline_color_override='darkblue'\n",
    ")\n",
    "fig"
   ]
  },
  {
   "cell_type": "code",
   "execution_count": 42,
   "metadata": {
    "tags": [
     "remove-output"
    ]
   },
   "outputs": [
    {
     "data": {
      "application/vnd.plotly.v1+json": {
       "config": {
        "plotlyServerURL": "https://plot.ly"
       },
       "data": [
        {
         "autobinx": false,
         "histnorm": "probability density",
         "legendgroup": "EV",
         "marker": {
          "color": "rgb(31, 119, 180)"
         },
         "name": "EV",
         "opacity": 0.7,
         "type": "histogram",
         "x": [
          6671159180.076018,
          6792754662.643185,
          13013198850.585,
          13712161290.32758,
          4651378521.07718,
          83631899424.77441,
          31328720500.921513,
          43195261020.604996,
          18430617103.68935,
          47323250968.75,
          78721247305.7743,
          10908202325.57148,
          13859650789.875084,
          41687776813.63256,
          43034499816.85881,
          43058752515.07584,
          55895287668.092964,
          6077013576.7897005,
          6307916588.8099985,
          37243363889.86365,
          19242028556.95984,
          23212929755.25994,
          23414455679.599636,
          44530268946.06475,
          51925954250.059105,
          13461652928.4375,
          19363376219.13312,
          22499377669.389
         ],
         "xaxis": "x",
         "xbins": {
          "end": 83631899424.77441,
          "size": 1000000000,
          "start": 4651378521.07718
         },
         "yaxis": "y"
        },
        {
         "legendgroup": "EV",
         "marker": {
          "color": "rgb(31, 119, 180)"
         },
         "mode": "lines",
         "name": "EV",
         "showlegend": false,
         "type": "scatter",
         "x": [
          4651378521.07718,
          4809339562.884574,
          4967300604.691969,
          5125261646.499363,
          5283222688.306758,
          5441183730.114152,
          5599144771.921547,
          5757105813.728941,
          5915066855.536336,
          6073027897.34373,
          6230988939.151125,
          6388949980.958519,
          6546911022.765913,
          6704872064.573308,
          6862833106.380703,
          7020794148.188097,
          7178755189.995491,
          7336716231.802886,
          7494677273.610281,
          7652638315.417675,
          7810599357.225069,
          7968560399.032463,
          8126521440.839858,
          8284482482.647253,
          8442443524.454647,
          8600404566.262041,
          8758365608.069435,
          8916326649.876831,
          9074287691.684225,
          9232248733.49162,
          9390209775.299015,
          9548170817.106407,
          9706131858.913803,
          9864092900.721197,
          10022053942.528591,
          10180014984.335987,
          10337976026.143381,
          10495937067.950775,
          10653898109.758171,
          10811859151.565565,
          10969820193.37296,
          11127781235.180353,
          11285742276.987747,
          11443703318.795143,
          11601664360.602535,
          11759625402.409931,
          11917586444.217325,
          12075547486.02472,
          12233508527.832115,
          12391469569.63951,
          12549430611.446903,
          12707391653.2543,
          12865352695.061691,
          13023313736.869087,
          13181274778.676481,
          13339235820.483875,
          13497196862.291271,
          13655157904.098663,
          13813118945.90606,
          13971079987.713455,
          14129041029.520847,
          14287002071.328243,
          14444963113.135635,
          14602924154.943031,
          14760885196.750427,
          14918846238.55782,
          15076807280.365215,
          15234768322.172611,
          15392729363.980003,
          15550690405.7874,
          15708651447.594791,
          15866612489.402187,
          16024573531.209583,
          16182534573.016975,
          16340495614.824371,
          16498456656.631767,
          16656417698.43916,
          16814378740.246555,
          16972339782.053951,
          17130300823.861343,
          17288261865.66874,
          17446222907.47613,
          17604183949.283527,
          17762144991.09092,
          17920106032.898315,
          18078067074.705708,
          18236028116.513103,
          18393989158.3205,
          18551950200.12789,
          18709911241.935287,
          18867872283.742683,
          19025833325.550076,
          19183794367.35747,
          19341755409.164864,
          19499716450.97226,
          19657677492.779655,
          19815638534.587048,
          19973599576.394444,
          20131560618.20184,
          20289521660.00923,
          20447482701.816628,
          20605443743.624023,
          20763404785.431416,
          20921365827.23881,
          21079326869.046204,
          21237287910.8536,
          21395248952.660995,
          21553209994.468388,
          21711171036.275784,
          21869132078.083176,
          22027093119.89057,
          22185054161.697968,
          22343015203.50536,
          22500976245.31275,
          22658937287.120148,
          22816898328.927544,
          22974859370.734936,
          23132820412.54233,
          23290781454.349728,
          23448742496.15712,
          23606703537.964516,
          23764664579.771908,
          23922625621.579304,
          24080586663.3867,
          24238547705.19409,
          24396508747.001488,
          24554469788.808884,
          24712430830.616276,
          24870391872.42367,
          25028352914.231064,
          25186313956.03846,
          25344274997.845856,
          25502236039.653248,
          25660197081.460644,
          25818158123.26804,
          25976119165.07543,
          26134080206.882828,
          26292041248.690224,
          26450002290.497616,
          26607963332.30501,
          26765924374.112404,
          26923885415.9198,
          27081846457.727196,
          27239807499.534588,
          27397768541.341984,
          27555729583.14938,
          27713690624.95677,
          27871651666.764168,
          28029612708.57156,
          28187573750.378956,
          28345534792.18635,
          28503495833.993744,
          28661456875.80114,
          28819417917.608536,
          28977378959.415928,
          29135340001.223324,
          29293301043.03072,
          29451262084.83811,
          29609223126.645508,
          29767184168.4529,
          29925145210.260296,
          30083106252.067688,
          30241067293.87508,
          30399028335.682476,
          30556989377.489872,
          30714950419.297264,
          30872911461.10466,
          31030872502.912052,
          31188833544.719448,
          31346794586.526844,
          31504755628.334236,
          31662716670.141632,
          31820677711.949028,
          31978638753.75642,
          32136599795.563816,
          32294560837.371212,
          32452521879.178604,
          32610482920.986,
          32768443962.793392,
          32926405004.60079,
          33084366046.408184,
          33242327088.215576,
          33400288130.022972,
          33558249171.830368,
          33716210213.63776,
          33874171255.445156,
          34032132297.25255,
          34190093339.059944,
          34348054380.86734,
          34506015422.674736,
          34663976464.48213,
          34821937506.28953,
          34979898548.09692,
          35137859589.90431,
          35295820631.71171,
          35453781673.519104,
          35611742715.3265,
          35769703757.13389,
          35927664798.941284,
          36085625840.74868,
          36243586882.556076,
          36401547924.36347,
          36559508966.17087,
          36717470007.97826,
          36875431049.78565,
          37033392091.59305,
          37191353133.400444,
          37349314175.20784,
          37507275217.01523,
          37665236258.822624,
          37823197300.63002,
          37981158342.437416,
          38139119384.24481,
          38297080426.05221,
          38455041467.8596,
          38613002509.66699,
          38770963551.47439,
          38928924593.281784,
          39086885635.08917,
          39244846676.89657,
          39402807718.703964,
          39560768760.51136,
          39718729802.318756,
          39876690844.126144,
          40034651885.93354,
          40192612927.74094,
          40350573969.548325,
          40508535011.35573,
          40666496053.16312,
          40824457094.97051,
          40982418136.77791,
          41140379178.585304,
          41298340220.39269,
          41456301262.200096,
          41614262304.007484,
          41772223345.81488,
          41930184387.62228,
          42088145429.42967,
          42246106471.23706,
          42404067513.04446,
          42562028554.85185,
          42719989596.65925,
          42877950638.46664,
          43035911680.27404,
          43193872722.08143,
          43351833763.888824,
          43509794805.69622,
          43667755847.50362,
          43825716889.311005,
          43983677931.11841,
          44141638972.9258,
          44299600014.73319,
          44457561056.54059,
          44615522098.347984,
          44773483140.15537,
          44931444181.962776,
          45089405223.770164,
          45247366265.57755,
          45405327307.38495,
          45563288349.192345,
          45721249390.99974,
          45879210432.80713,
          46037171474.61453,
          46195132516.42192,
          46353093558.22932,
          46511054600.03671,
          46669015641.84411,
          46826976683.6515,
          46984937725.4589,
          47142898767.26629,
          47300859809.073685,
          47458820850.88108,
          47616781892.68848,
          47774742934.495865,
          47932703976.30327,
          48090665018.11066,
          48248626059.91805,
          48406587101.72544,
          48564548143.532845,
          48722509185.34023,
          48880470227.14763,
          49038431268.955025,
          49196392310.76242,
          49354353352.56981,
          49512314394.37721,
          49670275436.1846,
          49828236477.992,
          49986197519.79939,
          50144158561.60679,
          50302119603.41418,
          50460080645.22158,
          50618041687.02897,
          50776002728.836365,
          50933963770.64376,
          51091924812.45116,
          51249885854.258545,
          51407846896.06594,
          51565807937.87334,
          51723768979.68073,
          51881730021.48812,
          52039691063.295525,
          52197652105.10291,
          52355613146.91031,
          52513574188.717705,
          52671535230.5251,
          52829496272.33249,
          52987457314.13989,
          53145418355.94728,
          53303379397.75468,
          53461340439.56207,
          53619301481.36947,
          53777262523.17686,
          53935223564.98426,
          54093184606.79165,
          54251145648.599045,
          54409106690.40643,
          54567067732.21384,
          54725028774.021225,
          54882989815.82862,
          55040950857.63602,
          55198911899.44341,
          55356872941.2508,
          55514833983.0582,
          55672795024.86559,
          55830756066.67298,
          55988717108.480385,
          56146678150.28777,
          56304639192.09517,
          56462600233.902565,
          56620561275.70996,
          56778522317.51735,
          56936483359.32475,
          57094444401.13214,
          57252405442.93954,
          57410366484.746925,
          57568327526.55433,
          57726288568.36172,
          57884249610.16911,
          58042210651.97651,
          58200171693.783905,
          58358132735.59129,
          58516093777.3987,
          58674054819.206085,
          58832015861.01348,
          58989976902.82088,
          59147937944.62827,
          59305898986.43566,
          59463860028.243065,
          59621821070.05045,
          59779782111.85785,
          59937743153.665245,
          60095704195.47264,
          60253665237.28003,
          60411626279.087425,
          60569587320.89482,
          60727548362.70222,
          60885509404.509605,
          61043470446.31701,
          61201431488.1244,
          61359392529.93179,
          61517353571.73919,
          61675314613.546585,
          61833275655.35397,
          61991236697.16138,
          62149197738.968765,
          62307158780.77616,
          62465119822.58356,
          62623080864.39095,
          62781041906.19834,
          62939002948.005745,
          63096963989.81313,
          63254925031.62053,
          63412886073.42792,
          63570847115.23532,
          63728808157.04271,
          63886769198.850105,
          64044730240.6575,
          64202691282.4649,
          64360652324.272285,
          64518613366.07969,
          64676574407.88708,
          64834535449.69447,
          64992496491.50187,
          65150457533.309265,
          65308418575.11665,
          65466379616.92405,
          65624340658.731445,
          65782301700.53883,
          65940262742.34624,
          66098223784.153625,
          66256184825.96102,
          66414145867.76841,
          66572106909.57581,
          66730067951.3832,
          66888028993.1906,
          67045990034.99799,
          67203951076.80539,
          67361912118.61278,
          67519873160.42018,
          67677834202.22757,
          67835795244.034966,
          67993756285.84236,
          68151717327.64976,
          68309678369.457146,
          68467639411.26455,
          68625600453.07194,
          68783561494.87933,
          68941522536.68674,
          69099483578.49413,
          69257444620.30151,
          69415405662.10892,
          69573366703.9163,
          69731327745.72371,
          69889288787.5311,
          70047249829.3385,
          70205210871.14589,
          70363171912.95328,
          70521132954.76068,
          70679093996.56807,
          70837055038.37546,
          70995016080.18286,
          71152977121.99025,
          71310938163.79765,
          71468899205.60504,
          71626860247.41245,
          71784821289.21983,
          71942782331.02724,
          72100743372.83463,
          72258704414.64201,
          72416665456.4494,
          72574626498.2568,
          72732587540.0642,
          72890548581.8716,
          73048509623.67899,
          73206470665.48639,
          73364431707.29378,
          73522392749.10117,
          73680353790.90857,
          73838314832.71596,
          73996275874.52335,
          74154236916.33075,
          74312197958.13814,
          74470158999.94554,
          74628120041.75293,
          74786081083.56033,
          74944042125.36772,
          75102003167.17511,
          75259964208.98251,
          75417925250.7899,
          75575886292.59729,
          75733847334.4047,
          75891808376.21208,
          76049769418.01947,
          76207730459.82687,
          76365691501.63428,
          76523652543.44167,
          76681613585.24905,
          76839574627.05644,
          76997535668.86385,
          77155496710.67123,
          77313457752.47864,
          77471418794.28603,
          77629379836.09343,
          77787340877.90082,
          77945301919.7082,
          78103262961.5156,
          78261224003.32301,
          78419185045.1304,
          78577146086.93779,
          78735107128.74518,
          78893068170.55258,
          79051029212.35997,
          79208990254.16737,
          79366951295.97476,
          79524912337.78217,
          79682873379.58955,
          79840834421.39694,
          79998795463.20433,
          80156756505.01173,
          80314717546.81914,
          80472678588.62653,
          80630639630.43391,
          80788600672.24132,
          80946561714.0487,
          81104522755.8561,
          81262483797.6635,
          81420444839.4709,
          81578405881.27829,
          81736366923.08568,
          81894327964.89307,
          82052289006.70047,
          82210250048.50787,
          82368211090.31526,
          82526172132.12265,
          82684133173.93005,
          82842094215.73744,
          83000055257.54483,
          83158016299.35222,
          83315977341.15964,
          83473938382.96703
         ],
         "xaxis": "x",
         "y": [
          1.3964164565544439e-11,
          1.4085674320572309e-11,
          1.4206157005498795e-11,
          1.432557442063788e-11,
          1.4443888710043349e-11,
          1.4561062386362055e-11,
          1.46770583555176e-11,
          1.4791839941203628e-11,
          1.4905370909166567e-11,
          1.5017615491257344e-11,
          1.5128538409232318e-11,
          1.5238104898283657e-11,
          1.534628073027973e-11,
          1.5453032236696386e-11,
          1.555832633122033e-11,
          1.5662130532006034e-11,
          1.5764412983568112e-11,
          1.586514247829123e-11,
          1.596428847754023e-11,
          1.6061821132353268e-11,
          1.6157711303701468e-11,
          1.6251930582298576e-11,
          1.6344451307944956e-11,
          1.643524658839038e-11,
          1.6524290317700576e-11,
          1.6611557194113006e-11,
          1.6697022737367714e-11,
          1.6780663305499495e-11,
          1.6862456111078268e-11,
          1.6942379236884777e-11,
          1.70204116510094e-11,
          1.7096533221362136e-11,
          1.7170724729582562e-11,
          1.7242967884338693e-11,
          1.7313245334004583e-11,
          1.738154067870652e-11,
          1.7447838481728535e-11,
          1.7512124280268306e-11,
          1.7574384595534855e-11,
          1.763460694218021e-11,
          1.7692779837057576e-11,
          1.7748892807298823e-11,
          1.7802936397705056e-11,
          1.7854902177444046e-11,
          1.7904782746049095e-11,
          1.7952571738714213e-11,
          1.7998263830881113e-11,
          1.8041854742113866e-11,
          1.8083341239257656e-11,
          1.8122721138878437e-11,
          1.8159993308980876e-11,
          1.8195157670002407e-11,
          1.822821519508157e-11,
          1.8259167909599455e-11,
          1.8288018889993515e-11,
          1.8314772261843223e-11,
          1.8339433197227902e-11,
          1.8362007911357145e-11,
          1.838250365847501e-11,
          1.8400928727039347e-11,
          1.8417292434178276e-11,
          1.8431605119426156e-11,
          1.8443878137741976e-11,
          1.8454123851813263e-11,
          1.8462355623649487e-11,
          1.846858780546889e-11,
          1.847283572988349e-11,
          1.8475115699387316e-11,
          1.847544497515326e-11,
          1.847384176514459e-11,
          1.8470325211547492e-11,
          1.846491537753129e-11,
          1.8457633233343884e-11,
          1.8448500641749762e-11,
          1.8437540342818967e-11,
          1.84247759380755e-11,
          1.8410231874014075e-11,
          1.839393342499482e-11,
          1.8375906675525672e-11,
          1.8356178501942904e-11,
          1.8334776553500398e-11,
          1.8311729232879e-11,
          1.828706567612754e-11,
          1.826081573204758e-11,
          1.823300994103441e-11,
          1.820367951338731e-11,
          1.817285630710236e-11,
          1.814057280516179e-11,
          1.8106862092334007e-11,
          1.8071757831499046e-11,
          1.803529423951468e-11,
          1.7997506062638663e-11,
          1.795842855152316e-11,
          1.7918097435797816e-11,
          1.787654889825837e-11,
          1.7833819548678024e-11,
          1.7789946397259407e-11,
          1.7744966827745098e-11,
          1.769891857020549e-11,
          1.7651839673522705e-11,
          1.7603768477590088e-11,
          1.7554743585246945e-11,
          1.750480383396867e-11,
          1.745398826733284e-11,
          1.7402336106282014e-11,
          1.734988672020469e-11,
          1.7296679597855816e-11,
          1.7242754318138937e-11,
          1.718815052077218e-11,
          1.7132907876860632e-11,
          1.7077066059398134e-11,
          1.7020664713721455e-11,
          1.696374342794052e-11,
          1.6906341703368248e-11,
          1.6848498924974003e-11,
          1.6790254331884842e-11,
          1.6731646987958975e-11,
          1.667271575245593e-11,
          1.6613499250828244e-11,
          1.655403584565951e-11,
          1.6494363607773825e-11,
          1.6434520287541804e-11,
          1.6374543286408204e-11,
          1.6314469628666592e-11,
          1.6254335933506276e-11,
          1.6194178387356683e-11,
          1.613403271655466e-11,
          1.6073934160359778e-11,
          1.601391744434281e-11,
          1.595401675417246e-11,
          1.589426570982531e-11,
          1.5834697340243616e-11,
          1.5775344058465636e-11,
          1.5716237637252852e-11,
          1.5657409185238042e-11,
          1.559888912361822e-11,
          1.5540707163415844e-11,
          1.548289228333142e-11,
          1.542547270821044e-11,
          1.536847588814692e-11,
          1.5311928478245533e-11,
          1.525585631906383e-11,
          1.5200284417755515e-11,
          1.5145236929935244e-11,
          1.5090737142284806e-11,
          1.5036807455920032e-11,
          1.498346937053703e-11,
          1.4930743469355837e-11,
          1.4878649404878737e-11,
          1.4827205885479915e-11,
          1.47764306628423e-11,
          1.4726340520256695e-11,
          1.4676951261797415e-11,
          1.4628277702388067e-11,
          1.4580333658769924e-11,
          1.4533131941384684e-11,
          1.448668434718249e-11,
          1.4441001653365054e-11,
          1.439609361207289e-11,
          1.4351968946024625e-11,
          1.4308635345115356e-11,
          1.426609946398014e-11,
          1.4224366920527478e-11,
          1.4183442295446779e-11,
          1.414332913269266e-11,
          1.4104029940947873e-11,
          1.4065546196065616e-11,
          1.4027878344490774e-11,
          1.3991025807658711e-11,
          1.3954986987369e-11,
          1.391975927213037e-11,
          1.3885339044472068e-11,
          1.385172168921578e-11,
          1.3818901602700974e-11,
          1.3786872202955556e-11,
          1.375562594080254e-11,
          1.372515431189235e-11,
          1.3695447869649287e-11,
          1.3666496239119521e-11,
          1.3638288131707004e-11,
          1.361081136078251e-11,
          1.3584052858150035e-11,
          1.3557998691353673e-11,
          1.3532634081807141e-11,
          1.3507943423727029e-11,
          1.3483910303849965e-11,
          1.346051752191277e-11,
          1.3437747111873915e-11,
          1.3415580363853558e-11,
          1.3393997846768581e-11,
          1.3372979431638158e-11,
          1.3352504315534661e-11,
          1.3332551046153747e-11,
          1.3313097546976857e-11,
          1.3294121142998546e-11,
          1.3275598586990332e-11,
          1.3257506086272259e-11,
          1.3239819329962511e-11,
          1.3222513516675038e-11,
          1.3205563382634469e-11,
          1.3188943230177249e-11,
          1.3172626956607247e-11,
          1.3156588083373902e-11,
          1.3140799785540457e-11,
          1.3125234921509563e-11,
          1.310986606297321e-11,
          1.3094665525053774e-11,
          1.3079605396602677e-11,
          1.306465757062316e-11,
          1.3049793774783399e-11,
          1.3034985601986238e-11,
          1.3020204540961896e-11,
          1.3005422006849796e-11,
          1.2990609371736017e-11,
          1.29757379951129e-11,
          1.2960779254227423e-11,
          1.2945704574285388e-11,
          1.2930485458478574e-11,
          1.2915093517802436e-11,
          1.2899500500632148e-11,
          1.2883678322025449e-11,
          1.286759909272091e-11,
          1.2851235147800929e-11,
          1.2834559074989258e-11,
          1.2817543742553374e-11,
          1.2800162326782727e-11,
          1.278238833901444e-11,
          1.2764195652178802e-11,
          1.2745558526837627e-11,
          1.272645163668927e-11,
          1.2706850093514863e-11,
          1.2686729471541272e-11,
          1.266606583119701e-11,
          1.2644835742238313e-11,
          1.2623016306223439e-11,
          1.260058517831421e-11,
          1.2577520588384825e-11,
          1.255380136141889e-11,
          1.2529406937176601e-11,
          1.2504317389115184e-11,
          1.2478513442546539e-11,
          1.2451976492017216e-11,
          1.2424688617896981e-11,
          1.239663260216302e-11,
          1.236779194336837e-11,
          1.233815087078383e-11,
          1.2307694357704014e-11,
          1.2276408133909112e-11,
          1.2244278697275232e-11,
          1.2211293324527098e-11,
          1.217744008112817e-11,
          1.214270783030426e-11,
          1.2107086241197808e-11,
          1.2070565796151218e-11,
          1.2033137797118484e-11,
          1.1994794371205722e-11,
          1.1955528475342042e-11,
          1.1915333900083313e-11,
          1.1874205272552568e-11,
          1.1832138058521527e-11,
          1.1789128563638964e-11,
          1.1745173933812516e-11,
          1.1700272154751515e-11,
          1.165442205067937e-11,
          1.1607623282224867e-11,
          1.1559876343502851e-11,
          1.1511182558395318e-11,
          1.1461544076045064e-11,
          1.1410963865574643e-11,
          1.135944571004437e-11,
          1.1306994199663537e-11,
          1.1253614724270152e-11,
          1.1199313465094825e-11,
          1.114409738582527e-11,
          1.1087974222988496e-11,
          1.1030952475668366e-11,
          1.0973041394576563e-11,
          1.0914250970495914e-11,
          1.0854591922115082e-11,
          1.079407568327445e-11,
          1.073271438964305e-11,
          1.0670520864847308e-11,
          1.060750860607211e-11,
          1.0543691769155493e-11,
          1.047908515319827e-11,
          1.0413704184710281e-11,
          1.0347564901315067e-11,
          1.0280683935035023e-11,
          1.0213078495179121e-11,
          1.0144766350855581e-11,
          1.0075765813131655e-11,
          1.0006095716863084e-11,
          9.935775402215478e-12,
          9.864824695900018e-12,
          9.793263892145803e-12,
          9.721113733431026e-12,
          9.648395390995134e-12,
          9.575130445153878e-12,
          9.501340865439174e-12,
          9.427048990585183e-12,
          9.352277508382199e-12,
          9.277049435419381e-12,
          9.2013880967372e-12,
          9.12531710541024e-12,
          9.048860342080568e-12,
          8.972041934461684e-12,
          8.894886236832518e-12,
          8.817417809540907e-12,
          8.7396613985351e-12,
          8.66164191494205e-12,
          8.583384414710215e-12,
          8.504914078334656e-12,
          8.426256190681486e-12,
          8.34743612092843e-12,
          8.268479302637592e-12,
          8.189411213976406e-12,
          8.110257358101788e-12,
          8.03104324372254e-12,
          7.951794365854047e-12,
          7.8725361867793e-12,
          7.793294117229375e-12,
          7.714093497796263e-12,
          7.63495958059025e-12,
          7.555917511153777e-12,
          7.476992310642876e-12,
          7.398208858287086e-12,
          7.319591874138118e-12,
          7.2411659021169345e-12,
          7.162955293368689e-12,
          7.084984189934156e-12,
          7.007276508746068e-12,
          6.929855925958098e-12,
          6.852745861613955e-12,
          6.775969464663327e-12,
          6.69954959833127e-12,
          6.6235088258468625e-12,
          6.547869396536846e-12,
          6.4726532322891524e-12,
          6.397881914391218e-12,
          6.323576670747276e-12,
          6.2497583634784594e-12,
          6.176447476909292e-12,
          6.1036641059437174e-12,
          6.031427944833245e-12,
          5.959758276339839e-12,
          5.888673961295454e-12,
          5.818193428559976e-12,
          5.748334665378981e-12,
          5.679115208142484e-12,
          5.610552133545273e-12,
          5.54266205014963e-12,
          5.475461090350463e-12,
          5.408964902742922e-12,
          5.343188644892235e-12,
          5.278146976505281e-12,
          5.213854053003098e-12,
          5.150323519493479e-12,
          5.087568505142426e-12,
          5.0256016179431906e-12,
          4.964434939881257e-12,
          4.90408002249371e-12,
          4.844547882820972e-12,
          4.785848999748979e-12,
          4.72799331073952e-12,
          4.670990208946539e-12,
          4.61484854071576e-12,
          4.559576603465251e-12,
          4.505182143944041e-12,
          4.4516723568661095e-12,
          4.399053883916686e-12,
          4.347332813127969e-12,
          4.29651467862097e-12,
          4.246604460710429e-12,
          4.197606586369325e-12,
          4.149524930049714e-12,
          4.102362814856307e-12,
          4.056123014069301e-12,
          4.010807753012758e-12,
          3.966418711264862e-12,
          3.9229570252062115e-12,
          3.8804232909023575e-12,
          3.838817567316531e-12,
          3.798139379848671e-12,
          3.758387724196578e-12,
          3.71956107053505e-12,
          3.681657368008804e-12,
          3.644674049534857e-12,
          3.6086080369099355e-12,
          3.5734557462185123e-12,
          3.5392130935369232e-12,
          3.505875500928857e-12,
          3.4734379027276355e-12,
          3.4418947521003767e-12,
          3.4112400278892348e-12,
          3.381467241724667e-12,
          3.352569445405724e-12,
          3.3245392385421594e-12,
          3.297368776453086e-12,
          3.271049778316816e-12,
          3.2455735355664184e-12,
          3.2209309205253623e-12,
          3.1971123952776086e-12,
          3.174108020766271e-12,
          3.1519074661149645e-12,
          3.13050001816575e-12,
          3.1098745912275434e-12,
          3.0900197370286262e-12,
          3.070923654866901e-12,
          3.052574201951286e-12,
          3.0349589039275828e-12,
          3.018064965581989e-12,
          3.001879281715337e-12,
          2.98638844818091e-12,
          2.97157877307869e-12,
          2.9574362880986326e-12,
          2.9439467600055047e-12,
          2.931095702257655e-12,
          2.9188683867519597e-12,
          2.9072498556870764e-12,
          2.8962249335369494e-12,
          2.8857782391264718e-12,
          2.8758941978009817e-12,
          2.866557053681244e-12,
          2.8577508819953583e-12,
          2.8494596014789953e-12,
          2.8416669868352075e-12,
          2.8343566812449395e-12,
          2.827512208919336e-12,
          2.8211169876847184e-12,
          2.8151543415911528e-12,
          2.8096075135353393e-12,
          2.804459677888525e-12,
          2.7996939531200352e-12,
          2.795293414407011e-12,
          2.7912411062207956e-12,
          2.7875200548804624e-12,
          2.7841132810638404e-12,
          2.7810038122664347e-12,
          2.778174695198566e-12,
          2.775609008111079e-12,
          2.7732898730399286e-12,
          2.7712004679599854e-12,
          2.7693240388383932e-12,
          2.7676439115778777e-12,
          2.7661435038403873e-12,
          2.76480633674155e-12,
          2.7636160464064435e-12,
          2.7625563953772872e-12,
          2.76161128386371e-12,
          2.760764760826368e-12,
          2.760001034884781e-12,
          2.759304485040369e-12,
          2.7586596712058167e-12,
          2.758051344532011e-12,
          2.757464457523968e-12,
          2.756884173937315e-12,
          2.7562958784470994e-12,
          2.7556851860808307e-12,
          2.7550379514079256e-12,
          2.7543402774778744e-12,
          2.7535785244997282e-12,
          2.7527393182556833e-12,
          2.7518095582418385e-12,
          2.750776425529397e-12,
          2.7496273903399105e-12,
          2.7483502193283863e-12,
          2.7469329825683876e-12,
          2.7453640602335746e-12,
          2.7436321489703553e-12,
          2.7417262679567547e-12,
          2.7396357646428023e-12,
          2.7373503201681452e-12,
          2.734859954452919e-12,
          2.7321550309582158e-12,
          2.7292262611128847e-12,
          2.7260647084037213e-12,
          2.7226617921264755e-12,
          2.7190092907954796e-12,
          2.7150993452100467e-12,
          2.7109244611761965e-12,
          2.7064775118826027e-12,
          2.7017517399300717e-12,
          2.6967407590142275e-12,
          2.6914385552614645e-12,
          2.6858394882185848e-12,
          2.679938291497008e-12,
          2.6737300730727098e-12,
          2.6672103152435175e-12,
          2.66037487424573e-12,
          2.6532199795324286e-12,
          2.6457422327162223e-12,
          2.6379386061795097e-12,
          2.6298064413557765e-12,
          2.6213434466857383e-12,
          2.6125476952525638e-12,
          2.6034176221007288e-12,
          2.5939520212434027e-12,
          2.584150042363627e-12,
          2.574011187214869e-12,
          2.5635353057268718e-12
         ],
         "yaxis": "y"
        },
        {
         "legendgroup": "EV",
         "marker": {
          "color": "rgb(31, 119, 180)",
          "symbol": "line-ns-open"
         },
         "mode": "markers",
         "name": "EV",
         "showlegend": false,
         "type": "scatter",
         "x": [
          6671159180.076018,
          6792754662.643185,
          13013198850.585,
          13712161290.32758,
          4651378521.07718,
          83631899424.77441,
          31328720500.921513,
          43195261020.604996,
          18430617103.68935,
          47323250968.75,
          78721247305.7743,
          10908202325.57148,
          13859650789.875084,
          41687776813.63256,
          43034499816.85881,
          43058752515.07584,
          55895287668.092964,
          6077013576.7897005,
          6307916588.8099985,
          37243363889.86365,
          19242028556.95984,
          23212929755.25994,
          23414455679.599636,
          44530268946.06475,
          51925954250.059105,
          13461652928.4375,
          19363376219.13312,
          22499377669.389
         ],
         "xaxis": "x",
         "y": [
          "EV",
          "EV",
          "EV",
          "EV",
          "EV",
          "EV",
          "EV",
          "EV",
          "EV",
          "EV",
          "EV",
          "EV",
          "EV",
          "EV",
          "EV",
          "EV",
          "EV",
          "EV",
          "EV",
          "EV",
          "EV",
          "EV",
          "EV",
          "EV",
          "EV",
          "EV",
          "EV",
          "EV"
         ],
         "yaxis": "y2"
        }
       ],
       "layout": {
        "barmode": "overlay",
        "hovermode": "closest",
        "legend": {
         "traceorder": "reversed"
        },
        "template": {
         "data": {
          "bar": [
           {
            "error_x": {
             "color": "#2a3f5f"
            },
            "error_y": {
             "color": "#2a3f5f"
            },
            "marker": {
             "line": {
              "color": "#E5ECF6",
              "width": 0.5
             },
             "pattern": {
              "fillmode": "overlay",
              "size": 10,
              "solidity": 0.2
             }
            },
            "type": "bar"
           }
          ],
          "barpolar": [
           {
            "marker": {
             "line": {
              "color": "#E5ECF6",
              "width": 0.5
             },
             "pattern": {
              "fillmode": "overlay",
              "size": 10,
              "solidity": 0.2
             }
            },
            "type": "barpolar"
           }
          ],
          "carpet": [
           {
            "aaxis": {
             "endlinecolor": "#2a3f5f",
             "gridcolor": "white",
             "linecolor": "white",
             "minorgridcolor": "white",
             "startlinecolor": "#2a3f5f"
            },
            "baxis": {
             "endlinecolor": "#2a3f5f",
             "gridcolor": "white",
             "linecolor": "white",
             "minorgridcolor": "white",
             "startlinecolor": "#2a3f5f"
            },
            "type": "carpet"
           }
          ],
          "choropleth": [
           {
            "colorbar": {
             "outlinewidth": 0,
             "ticks": ""
            },
            "type": "choropleth"
           }
          ],
          "contour": [
           {
            "colorbar": {
             "outlinewidth": 0,
             "ticks": ""
            },
            "colorscale": [
             [
              0,
              "#0d0887"
             ],
             [
              0.1111111111111111,
              "#46039f"
             ],
             [
              0.2222222222222222,
              "#7201a8"
             ],
             [
              0.3333333333333333,
              "#9c179e"
             ],
             [
              0.4444444444444444,
              "#bd3786"
             ],
             [
              0.5555555555555556,
              "#d8576b"
             ],
             [
              0.6666666666666666,
              "#ed7953"
             ],
             [
              0.7777777777777778,
              "#fb9f3a"
             ],
             [
              0.8888888888888888,
              "#fdca26"
             ],
             [
              1,
              "#f0f921"
             ]
            ],
            "type": "contour"
           }
          ],
          "contourcarpet": [
           {
            "colorbar": {
             "outlinewidth": 0,
             "ticks": ""
            },
            "type": "contourcarpet"
           }
          ],
          "heatmap": [
           {
            "colorbar": {
             "outlinewidth": 0,
             "ticks": ""
            },
            "colorscale": [
             [
              0,
              "#0d0887"
             ],
             [
              0.1111111111111111,
              "#46039f"
             ],
             [
              0.2222222222222222,
              "#7201a8"
             ],
             [
              0.3333333333333333,
              "#9c179e"
             ],
             [
              0.4444444444444444,
              "#bd3786"
             ],
             [
              0.5555555555555556,
              "#d8576b"
             ],
             [
              0.6666666666666666,
              "#ed7953"
             ],
             [
              0.7777777777777778,
              "#fb9f3a"
             ],
             [
              0.8888888888888888,
              "#fdca26"
             ],
             [
              1,
              "#f0f921"
             ]
            ],
            "type": "heatmap"
           }
          ],
          "heatmapgl": [
           {
            "colorbar": {
             "outlinewidth": 0,
             "ticks": ""
            },
            "colorscale": [
             [
              0,
              "#0d0887"
             ],
             [
              0.1111111111111111,
              "#46039f"
             ],
             [
              0.2222222222222222,
              "#7201a8"
             ],
             [
              0.3333333333333333,
              "#9c179e"
             ],
             [
              0.4444444444444444,
              "#bd3786"
             ],
             [
              0.5555555555555556,
              "#d8576b"
             ],
             [
              0.6666666666666666,
              "#ed7953"
             ],
             [
              0.7777777777777778,
              "#fb9f3a"
             ],
             [
              0.8888888888888888,
              "#fdca26"
             ],
             [
              1,
              "#f0f921"
             ]
            ],
            "type": "heatmapgl"
           }
          ],
          "histogram": [
           {
            "marker": {
             "pattern": {
              "fillmode": "overlay",
              "size": 10,
              "solidity": 0.2
             }
            },
            "type": "histogram"
           }
          ],
          "histogram2d": [
           {
            "colorbar": {
             "outlinewidth": 0,
             "ticks": ""
            },
            "colorscale": [
             [
              0,
              "#0d0887"
             ],
             [
              0.1111111111111111,
              "#46039f"
             ],
             [
              0.2222222222222222,
              "#7201a8"
             ],
             [
              0.3333333333333333,
              "#9c179e"
             ],
             [
              0.4444444444444444,
              "#bd3786"
             ],
             [
              0.5555555555555556,
              "#d8576b"
             ],
             [
              0.6666666666666666,
              "#ed7953"
             ],
             [
              0.7777777777777778,
              "#fb9f3a"
             ],
             [
              0.8888888888888888,
              "#fdca26"
             ],
             [
              1,
              "#f0f921"
             ]
            ],
            "type": "histogram2d"
           }
          ],
          "histogram2dcontour": [
           {
            "colorbar": {
             "outlinewidth": 0,
             "ticks": ""
            },
            "colorscale": [
             [
              0,
              "#0d0887"
             ],
             [
              0.1111111111111111,
              "#46039f"
             ],
             [
              0.2222222222222222,
              "#7201a8"
             ],
             [
              0.3333333333333333,
              "#9c179e"
             ],
             [
              0.4444444444444444,
              "#bd3786"
             ],
             [
              0.5555555555555556,
              "#d8576b"
             ],
             [
              0.6666666666666666,
              "#ed7953"
             ],
             [
              0.7777777777777778,
              "#fb9f3a"
             ],
             [
              0.8888888888888888,
              "#fdca26"
             ],
             [
              1,
              "#f0f921"
             ]
            ],
            "type": "histogram2dcontour"
           }
          ],
          "mesh3d": [
           {
            "colorbar": {
             "outlinewidth": 0,
             "ticks": ""
            },
            "type": "mesh3d"
           }
          ],
          "parcoords": [
           {
            "line": {
             "colorbar": {
              "outlinewidth": 0,
              "ticks": ""
             }
            },
            "type": "parcoords"
           }
          ],
          "pie": [
           {
            "automargin": true,
            "type": "pie"
           }
          ],
          "scatter": [
           {
            "fillpattern": {
             "fillmode": "overlay",
             "size": 10,
             "solidity": 0.2
            },
            "type": "scatter"
           }
          ],
          "scatter3d": [
           {
            "line": {
             "colorbar": {
              "outlinewidth": 0,
              "ticks": ""
             }
            },
            "marker": {
             "colorbar": {
              "outlinewidth": 0,
              "ticks": ""
             }
            },
            "type": "scatter3d"
           }
          ],
          "scattercarpet": [
           {
            "marker": {
             "colorbar": {
              "outlinewidth": 0,
              "ticks": ""
             }
            },
            "type": "scattercarpet"
           }
          ],
          "scattergeo": [
           {
            "marker": {
             "colorbar": {
              "outlinewidth": 0,
              "ticks": ""
             }
            },
            "type": "scattergeo"
           }
          ],
          "scattergl": [
           {
            "marker": {
             "colorbar": {
              "outlinewidth": 0,
              "ticks": ""
             }
            },
            "type": "scattergl"
           }
          ],
          "scattermapbox": [
           {
            "marker": {
             "colorbar": {
              "outlinewidth": 0,
              "ticks": ""
             }
            },
            "type": "scattermapbox"
           }
          ],
          "scatterpolar": [
           {
            "marker": {
             "colorbar": {
              "outlinewidth": 0,
              "ticks": ""
             }
            },
            "type": "scatterpolar"
           }
          ],
          "scatterpolargl": [
           {
            "marker": {
             "colorbar": {
              "outlinewidth": 0,
              "ticks": ""
             }
            },
            "type": "scatterpolargl"
           }
          ],
          "scatterternary": [
           {
            "marker": {
             "colorbar": {
              "outlinewidth": 0,
              "ticks": ""
             }
            },
            "type": "scatterternary"
           }
          ],
          "surface": [
           {
            "colorbar": {
             "outlinewidth": 0,
             "ticks": ""
            },
            "colorscale": [
             [
              0,
              "#0d0887"
             ],
             [
              0.1111111111111111,
              "#46039f"
             ],
             [
              0.2222222222222222,
              "#7201a8"
             ],
             [
              0.3333333333333333,
              "#9c179e"
             ],
             [
              0.4444444444444444,
              "#bd3786"
             ],
             [
              0.5555555555555556,
              "#d8576b"
             ],
             [
              0.6666666666666666,
              "#ed7953"
             ],
             [
              0.7777777777777778,
              "#fb9f3a"
             ],
             [
              0.8888888888888888,
              "#fdca26"
             ],
             [
              1,
              "#f0f921"
             ]
            ],
            "type": "surface"
           }
          ],
          "table": [
           {
            "cells": {
             "fill": {
              "color": "#EBF0F8"
             },
             "line": {
              "color": "white"
             }
            },
            "header": {
             "fill": {
              "color": "#C8D4E3"
             },
             "line": {
              "color": "white"
             }
            },
            "type": "table"
           }
          ]
         },
         "layout": {
          "annotationdefaults": {
           "arrowcolor": "#2a3f5f",
           "arrowhead": 0,
           "arrowwidth": 1
          },
          "autotypenumbers": "strict",
          "coloraxis": {
           "colorbar": {
            "outlinewidth": 0,
            "ticks": ""
           }
          },
          "colorscale": {
           "diverging": [
            [
             0,
             "#8e0152"
            ],
            [
             0.1,
             "#c51b7d"
            ],
            [
             0.2,
             "#de77ae"
            ],
            [
             0.3,
             "#f1b6da"
            ],
            [
             0.4,
             "#fde0ef"
            ],
            [
             0.5,
             "#f7f7f7"
            ],
            [
             0.6,
             "#e6f5d0"
            ],
            [
             0.7,
             "#b8e186"
            ],
            [
             0.8,
             "#7fbc41"
            ],
            [
             0.9,
             "#4d9221"
            ],
            [
             1,
             "#276419"
            ]
           ],
           "sequential": [
            [
             0,
             "#0d0887"
            ],
            [
             0.1111111111111111,
             "#46039f"
            ],
            [
             0.2222222222222222,
             "#7201a8"
            ],
            [
             0.3333333333333333,
             "#9c179e"
            ],
            [
             0.4444444444444444,
             "#bd3786"
            ],
            [
             0.5555555555555556,
             "#d8576b"
            ],
            [
             0.6666666666666666,
             "#ed7953"
            ],
            [
             0.7777777777777778,
             "#fb9f3a"
            ],
            [
             0.8888888888888888,
             "#fdca26"
            ],
            [
             1,
             "#f0f921"
            ]
           ],
           "sequentialminus": [
            [
             0,
             "#0d0887"
            ],
            [
             0.1111111111111111,
             "#46039f"
            ],
            [
             0.2222222222222222,
             "#7201a8"
            ],
            [
             0.3333333333333333,
             "#9c179e"
            ],
            [
             0.4444444444444444,
             "#bd3786"
            ],
            [
             0.5555555555555556,
             "#d8576b"
            ],
            [
             0.6666666666666666,
             "#ed7953"
            ],
            [
             0.7777777777777778,
             "#fb9f3a"
            ],
            [
             0.8888888888888888,
             "#fdca26"
            ],
            [
             1,
             "#f0f921"
            ]
           ]
          },
          "colorway": [
           "#636efa",
           "#EF553B",
           "#00cc96",
           "#ab63fa",
           "#FFA15A",
           "#19d3f3",
           "#FF6692",
           "#B6E880",
           "#FF97FF",
           "#FECB52"
          ],
          "font": {
           "color": "#2a3f5f"
          },
          "geo": {
           "bgcolor": "white",
           "lakecolor": "white",
           "landcolor": "#E5ECF6",
           "showlakes": true,
           "showland": true,
           "subunitcolor": "white"
          },
          "hoverlabel": {
           "align": "left"
          },
          "hovermode": "closest",
          "mapbox": {
           "style": "light"
          },
          "paper_bgcolor": "white",
          "plot_bgcolor": "#E5ECF6",
          "polar": {
           "angularaxis": {
            "gridcolor": "white",
            "linecolor": "white",
            "ticks": ""
           },
           "bgcolor": "#E5ECF6",
           "radialaxis": {
            "gridcolor": "white",
            "linecolor": "white",
            "ticks": ""
           }
          },
          "scene": {
           "xaxis": {
            "backgroundcolor": "#E5ECF6",
            "gridcolor": "white",
            "gridwidth": 2,
            "linecolor": "white",
            "showbackground": true,
            "ticks": "",
            "zerolinecolor": "white"
           },
           "yaxis": {
            "backgroundcolor": "#E5ECF6",
            "gridcolor": "white",
            "gridwidth": 2,
            "linecolor": "white",
            "showbackground": true,
            "ticks": "",
            "zerolinecolor": "white"
           },
           "zaxis": {
            "backgroundcolor": "#E5ECF6",
            "gridcolor": "white",
            "gridwidth": 2,
            "linecolor": "white",
            "showbackground": true,
            "ticks": "",
            "zerolinecolor": "white"
           }
          },
          "shapedefaults": {
           "line": {
            "color": "#2a3f5f"
           }
          },
          "ternary": {
           "aaxis": {
            "gridcolor": "white",
            "linecolor": "white",
            "ticks": ""
           },
           "baxis": {
            "gridcolor": "white",
            "linecolor": "white",
            "ticks": ""
           },
           "bgcolor": "#E5ECF6",
           "caxis": {
            "gridcolor": "white",
            "linecolor": "white",
            "ticks": ""
           }
          },
          "title": {
           "x": 0.05
          },
          "xaxis": {
           "automargin": true,
           "gridcolor": "white",
           "linecolor": "white",
           "ticks": "",
           "title": {
            "standoff": 15
           },
           "zerolinecolor": "white",
           "zerolinewidth": 2
          },
          "yaxis": {
           "automargin": true,
           "gridcolor": "white",
           "linecolor": "white",
           "ticks": "",
           "title": {
            "standoff": 15
           },
           "zerolinecolor": "white",
           "zerolinewidth": 2
          }
         }
        },
        "xaxis": {
         "anchor": "y2",
         "domain": [
          0,
          1
         ],
         "zeroline": false
        },
        "yaxis": {
         "anchor": "free",
         "domain": [
          0.35,
          1
         ],
         "position": 0
        },
        "yaxis2": {
         "anchor": "x",
         "domain": [
          0,
          0.25
         ],
         "dtick": 1,
         "showticklabels": false
        }
       }
      }
     },
     "metadata": {},
     "output_type": "display_data"
    }
   ],
   "source": [
    "import plotly.figure_factory as ff\n",
    "import numpy as np\n",
    "\n",
    "hist_data = [df_Mat['EV'].to_numpy()]\n",
    "group_labels = ['EV'] # name of the dataset\n",
    "\n",
    "fig = ff.create_distplot(hist_data, group_labels, bin_size=1000000000)\n",
    "fig.show()"
   ]
  },
  {
   "cell_type": "code",
   "execution_count": 43,
   "metadata": {
    "tags": [
     "remove-output"
    ]
   },
   "outputs": [
    {
     "data": {
      "application/vnd.plotly.v1+json": {
       "config": {
        "plotlyServerURL": "https://plot.ly"
       },
       "data": [
        {
         "autobinx": false,
         "histnorm": "probability density",
         "legendgroup": "EBITDA",
         "marker": {
          "color": "rgb(31, 119, 180)"
         },
         "name": "EBITDA",
         "opacity": 0.7,
         "type": "histogram",
         "x": [
          500032000,
          677371000,
          1058300000,
          1067300000,
          3384600000,
          4617000000,
          2003800000,
          2376800000,
          1152000000,
          7101000000,
          8427000000,
          754400000,
          627700000,
          3124000000,
          3387000000,
          5881000000,
          6347000000,
          334680000,
          391454000,
          4395000000,
          1635659000,
          1538929000,
          1874000000,
          3373000000,
          3734000000,
          824600000,
          1129299000,
          1336466000
         ],
         "xaxis": "x",
         "xbins": {
          "end": 8427000000,
          "size": 1000000000,
          "start": 334680000
         },
         "yaxis": "y"
        },
        {
         "legendgroup": "EBITDA",
         "marker": {
          "color": "rgb(31, 119, 180)"
         },
         "mode": "lines",
         "name": "EBITDA",
         "showlegend": false,
         "type": "scatter",
         "x": [
          334680000,
          350864640,
          367049280,
          383233920,
          399418560,
          415603200,
          431787840,
          447972480,
          464157120,
          480341760,
          496526400,
          512711040,
          528895680,
          545080320,
          561264960,
          577449600,
          593634240,
          609818880,
          626003520,
          642188160,
          658372800,
          674557440,
          690742080,
          706926720,
          723111360,
          739296000,
          755480640,
          771665280,
          787849920,
          804034560,
          820219200,
          836403840,
          852588480,
          868773120,
          884957760,
          901142400,
          917327040,
          933511680,
          949696320,
          965880960,
          982065600,
          998250240,
          1014434880,
          1030619520,
          1046804160,
          1062988800,
          1079173440,
          1095358080,
          1111542720,
          1127727360,
          1143912000,
          1160096640,
          1176281280,
          1192465920,
          1208650560,
          1224835200,
          1241019840,
          1257204480,
          1273389120,
          1289573760,
          1305758400,
          1321943040,
          1338127680,
          1354312320,
          1370496960,
          1386681600,
          1402866240,
          1419050880,
          1435235520,
          1451420160,
          1467604800,
          1483789440,
          1499974080,
          1516158720,
          1532343360,
          1548528000,
          1564712640,
          1580897280,
          1597081920,
          1613266560,
          1629451200,
          1645635840,
          1661820480,
          1678005120,
          1694189760,
          1710374400,
          1726559040,
          1742743680,
          1758928320,
          1775112960,
          1791297600,
          1807482240,
          1823666880,
          1839851520,
          1856036160,
          1872220800,
          1888405440,
          1904590080,
          1920774720,
          1936959360,
          1953144000,
          1969328640,
          1985513280,
          2001697920,
          2017882560,
          2034067200,
          2050251840,
          2066436480,
          2082621120,
          2098805760,
          2114990400,
          2131175040,
          2147359680,
          2163544320,
          2179728960,
          2195913600,
          2212098240,
          2228282880,
          2244467520,
          2260652160,
          2276836800,
          2293021440,
          2309206080,
          2325390720,
          2341575360,
          2357760000,
          2373944640,
          2390129280,
          2406313920,
          2422498560,
          2438683200,
          2454867840,
          2471052480,
          2487237120,
          2503421760,
          2519606400,
          2535791040,
          2551975680,
          2568160320,
          2584344960,
          2600529600,
          2616714240,
          2632898880,
          2649083520,
          2665268160,
          2681452800,
          2697637440,
          2713822080,
          2730006720,
          2746191360,
          2762376000,
          2778560640,
          2794745280,
          2810929920,
          2827114560,
          2843299200,
          2859483840,
          2875668480,
          2891853120,
          2908037760,
          2924222400,
          2940407040,
          2956591680,
          2972776320,
          2988960960,
          3005145600,
          3021330240,
          3037514880,
          3053699520,
          3069884160,
          3086068800,
          3102253440,
          3118438080,
          3134622720,
          3150807360,
          3166992000,
          3183176640,
          3199361280,
          3215545920,
          3231730560,
          3247915200,
          3264099840,
          3280284480,
          3296469120,
          3312653760,
          3328838400,
          3345023040,
          3361207680,
          3377392320,
          3393576960,
          3409761600,
          3425946240,
          3442130880,
          3458315520,
          3474500160,
          3490684800,
          3506869440,
          3523054080,
          3539238720,
          3555423360,
          3571608000,
          3587792640,
          3603977280,
          3620161920,
          3636346560,
          3652531200,
          3668715840,
          3684900480,
          3701085120,
          3717269760,
          3733454400,
          3749639040,
          3765823680,
          3782008320,
          3798192960,
          3814377600,
          3830562240,
          3846746880,
          3862931520,
          3879116160,
          3895300800,
          3911485440,
          3927670080,
          3943854720,
          3960039360,
          3976224000,
          3992408640,
          4008593280,
          4024777920,
          4040962560,
          4057147200,
          4073331840,
          4089516480,
          4105701120,
          4121885760,
          4138070400,
          4154255040,
          4170439680,
          4186624320,
          4202808960,
          4218993600,
          4235178240,
          4251362880,
          4267547520,
          4283732160,
          4299916800,
          4316101440,
          4332286080,
          4348470720,
          4364655360,
          4380840000,
          4397024640,
          4413209280,
          4429393920,
          4445578560,
          4461763200,
          4477947840,
          4494132480,
          4510317120,
          4526501760,
          4542686400,
          4558871040,
          4575055680,
          4591240320,
          4607424960,
          4623609600,
          4639794240,
          4655978880,
          4672163520,
          4688348160,
          4704532800,
          4720717440,
          4736902080,
          4753086720,
          4769271360,
          4785456000,
          4801640640,
          4817825280,
          4834009920,
          4850194560,
          4866379200,
          4882563840,
          4898748480,
          4914933120,
          4931117760,
          4947302400,
          4963487040,
          4979671680,
          4995856320,
          5012040960,
          5028225600,
          5044410240,
          5060594880,
          5076779520,
          5092964160,
          5109148800,
          5125333440,
          5141518080,
          5157702720,
          5173887360,
          5190072000,
          5206256640,
          5222441280,
          5238625920,
          5254810560,
          5270995200,
          5287179840,
          5303364480,
          5319549120,
          5335733760,
          5351918400,
          5368103040,
          5384287680,
          5400472320,
          5416656960,
          5432841600,
          5449026240,
          5465210880,
          5481395520,
          5497580160,
          5513764800,
          5529949440,
          5546134080,
          5562318720,
          5578503360,
          5594688000,
          5610872640,
          5627057280,
          5643241920,
          5659426560,
          5675611200,
          5691795840,
          5707980480,
          5724165120,
          5740349760,
          5756534400,
          5772719040,
          5788903680,
          5805088320,
          5821272960,
          5837457600,
          5853642240,
          5869826880,
          5886011520,
          5902196160,
          5918380800,
          5934565440,
          5950750080,
          5966934720,
          5983119360,
          5999304000,
          6015488640,
          6031673280,
          6047857920,
          6064042560,
          6080227200,
          6096411840,
          6112596480,
          6128781120,
          6144965760,
          6161150400,
          6177335040,
          6193519680,
          6209704320,
          6225888960,
          6242073600,
          6258258240,
          6274442880,
          6290627520,
          6306812160,
          6322996800,
          6339181440,
          6355366080,
          6371550720,
          6387735360,
          6403920000,
          6420104640,
          6436289280,
          6452473920,
          6468658560,
          6484843200,
          6501027840,
          6517212480,
          6533397120,
          6549581760,
          6565766400,
          6581951040,
          6598135680,
          6614320320,
          6630504960,
          6646689600,
          6662874240,
          6679058880,
          6695243520,
          6711428160,
          6727612800,
          6743797440,
          6759982080,
          6776166720,
          6792351360,
          6808536000,
          6824720640,
          6840905280,
          6857089920,
          6873274560,
          6889459200,
          6905643840,
          6921828480,
          6938013120,
          6954197760,
          6970382400,
          6986567040,
          7002751680,
          7018936320,
          7035120960,
          7051305600,
          7067490240,
          7083674880,
          7099859520,
          7116044160,
          7132228800,
          7148413440,
          7164598080,
          7180782720,
          7196967360,
          7213152000,
          7229336640,
          7245521280,
          7261705920,
          7277890560,
          7294075200,
          7310259840,
          7326444480,
          7342629120,
          7358813760,
          7374998400,
          7391183040,
          7407367680,
          7423552320,
          7439736960,
          7455921600,
          7472106240,
          7488290880,
          7504475520,
          7520660160,
          7536844800,
          7553029440,
          7569214080,
          7585398720,
          7601583360,
          7617768000,
          7633952640,
          7650137280,
          7666321920,
          7682506560,
          7698691200,
          7714875840,
          7731060480,
          7747245120,
          7763429760,
          7779614400,
          7795799040,
          7811983680,
          7828168320,
          7844352960,
          7860537600,
          7876722240,
          7892906880,
          7909091520,
          7925276160,
          7941460800,
          7957645440,
          7973830080,
          7990014720,
          8006199360,
          8022384000,
          8038568640,
          8054753280,
          8070937920,
          8087122560,
          8103307200,
          8119491840,
          8135676480,
          8151861120,
          8168045760,
          8184230400,
          8200415040,
          8216599680,
          8232784320,
          8248968960,
          8265153600,
          8281338240,
          8297522880,
          8313707520,
          8329892160,
          8346076800,
          8362261440,
          8378446080,
          8394630720,
          8410815360
         ],
         "xaxis": "x",
         "y": [
          1.6049422189761748e-10,
          1.617747925558195e-10,
          1.630398907808572e-10,
          1.642890694556113e-10,
          1.6552188844275987e-10,
          1.6673791493047286e-10,
          1.6793672377291577e-10,
          1.6911789782516622e-10,
          1.702810282721491e-10,
          1.714257149512062e-10,
          1.7255156666791802e-10,
          1.7365820150480453e-10,
          1.7474524712253775e-10,
          1.7581234105330692e-10,
          1.768591309859865e-10,
          1.7788527504276318e-10,
          1.7889044204689015e-10,
          1.7987431178124586e-10,
          1.8083657523738358e-10,
          1.8177693485477026e-10,
          1.8269510474992392e-10,
          1.8359081093517007e-10,
          1.8446379152675024e-10,
          1.853137969420276e-10,
          1.861405900855485e-10,
          1.8694394652373056e-10,
          1.8772365464796253e-10,
          1.8847951582591538e-10,
          1.8921134454087718e-10,
          1.8991896851893923e-10,
          1.9060222884387683e-10,
          1.9126098005958085e-10,
          1.9189509025991413e-10,
          1.925044411658803e-10,
          1.9308892819000856e-10,
          1.9364846048787543e-10,
          1.9418296099669683e-10,
          1.946923664609449e-10,
          1.9517662744495528e-10,
          1.956357083325098e-10,
          1.960695873133944e-10,
          1.9647825635694992e-10,
          1.968617211726461e-10,
          1.972200011577314e-10,
          1.975531293320195e-10,
          1.978611522598977e-10,
          1.9814412995965129e-10,
          1.9840213580021882e-10,
          1.986352563855056e-10,
          1.9884359142640072e-10,
          1.990272536006563e-10,
          1.9918636840080314e-10,
          1.993210739702936e-10,
          1.994315209280738e-10,
          1.9951787218180472e-10,
          1.9958030272996316e-10,
          1.9961899945306965e-10,
          1.9963416089430144e-10,
          1.9962599702976167e-10,
          1.9959472902869264e-10,
          1.9954058900392486e-10,
          1.9946381975287443e-10,
          1.9936467448940588e-10,
          1.9924341656689222e-10,
          1.991003191928116e-10,
          1.9893566513523228e-10,
          1.9874974642154528e-10,
          1.985428640298134e-10,
          1.9831532757311397e-10,
          1.980674549772597e-10,
          1.977995721522907e-10,
          1.9751201265813444e-10,
          1.9720511736484112e-10,
          1.9687923410780291e-10,
          1.9653471733837304e-10,
          1.961719277703049e-10,
          1.9579123202243416e-10,
          1.9539300225803116e-10,
          1.9497761582125279e-10,
          1.9454545487112535e-10,
          1.9409690601349113e-10,
          1.9363235993135267e-10,
          1.9315221101404844e-10,
          1.9265685698569334e-10,
          1.9214669853331697e-10,
          1.9162213893513072e-10,
          1.910835836893518e-10,
          1.905314401440118e-10,
          1.8996611712817096e-10,
          1.8938802458495915e-10,
          1.8879757320685613e-10,
          1.881951740736226e-10,
          1.875812382932847e-10,
          1.86956176646571e-10,
          1.8632039923519341e-10,
          1.856743151343558e-10,
          1.850183320498681e-10,
          1.8435285598023424e-10,
          1.8367829088407398e-10,
          1.829950383532312e-10,
          1.823034972919088e-10,
          1.8160406360216375e-10,
          1.8089712987608377e-10,
          1.8018308509495585e-10,
          1.7946231433572872e-10,
          1.7873519848505615e-10,
          1.780021139611998e-10,
          1.7726343244405478e-10,
          1.7651952061355363e-10,
          1.7577073989668534e-10,
          1.7501744622335985e-10,
          1.7425998979132987e-10,
          1.7349871484037253e-10,
          1.7273395943591764e-10,
          1.719660552622955e-10,
          1.7119532742576523e-10,
          1.704220942674689e-10,
          1.6964666718644302e-10,
          1.6886935047280502e-10,
          1.6809044115121795e-10,
          1.6731022883472278e-10,
          1.665289955890116e-10,
          1.6574701580720377e-10,
          1.649645560951691e-10,
          1.6418187516743097e-10,
          1.6339922375366568e-10,
          1.6261684451580232e-10,
          1.6183497197571106e-10,
          1.610538324534558e-10,
          1.6027364401607224e-10,
          1.5949461643681882e-10,
          1.5871695116483484e-10,
          1.5794084130512714e-10,
          1.5716647160879172e-10,
          1.5639401847336692e-10,
          1.556236499531994e-10,
          1.5485552577969333e-10,
          1.5408979739130039e-10,
          1.5332660797309774e-10,
          1.5256609250578715e-10,
          1.5180837782394083e-10,
          1.5105358268330508e-10,
          1.5030181783696543e-10,
          1.4955318612016541e-10,
          1.488077825435616e-10,
          1.4806569439468824e-10,
          1.473270013473968e-10,
          1.4659177557902607e-10,
          1.4586008189505118e-10,
          1.4513197786095173e-10,
          1.4440751394103365e-10,
          1.4368673364392954e-10,
          1.429696736745002e-10,
          1.422563640918497e-10,
          1.4154682847316581e-10,
          1.408410840830875e-10,
          1.4013914204830223e-10,
          1.3944100753706692e-10,
          1.3874667994334698e-10,
          1.3805615307526217e-10,
          1.3736941534752656e-10,
          1.3668644997756834e-10,
          1.360072351850126e-10,
          1.3533174439420976e-10,
          1.346599464394919e-10,
          1.3399180577283846e-10,
          1.3332728267363393e-10,
          1.3266633346019962e-10,
          1.32008910702785e-10,
          1.31354963437703e-10,
          1.3070443738229868e-10,
          1.300572751504403e-10,
          1.2941341646822727e-10,
          1.2877279838961216e-10,
          1.281353555116357e-10,
          1.2750102018898163e-10,
          1.2686972274755924e-10,
          1.262413916968287e-10,
          1.256159539405889e-10,
          1.249933349859517e-10,
          1.24373459150236e-10,
          1.237562497655168e-10,
          1.2314162938057528e-10,
          1.225295199599997e-10,
          1.2191984308019565e-10,
          1.2131252012207193e-10,
          1.2070747246017425e-10,
          1.2010462164804925e-10,
          1.1950388959962748e-10,
          1.1890519876642405e-10,
          1.183084723103623e-10,
          1.1771363427203695e-10,
          1.1712060973423998e-10,
          1.1652932498058284e-10,
          1.1593970764905733e-10,
          1.1535168688038695e-10,
          1.1476519346102959e-10,
          1.1418015996070247e-10,
          1.1359652086430971e-10,
          1.1301421269816182e-10,
          1.1243317415038702e-10,
          1.1185334618544355e-10,
          1.1127467215265195e-10,
          1.1069709788867534e-10,
          1.1012057181388679e-10,
          1.0954504502257098e-10,
          1.0897047136691784e-10,
          1.083968075347754e-10,
          1.078240131211378e-10,
          1.0725205069335469e-10,
          1.06680885850057e-10,
          1.0611048727380255e-10,
          1.0554082677745617e-10,
          1.0497187934432482e-10,
          1.044036231620794e-10,
          1.0383603965050227e-10,
          1.0326911348310849e-10,
          1.0270283260269625e-10,
          1.0213718823089093e-10,
          1.0157217487175398e-10,
          1.010077903095365e-10,
          1.004440356006642e-10,
          9.988091506004693e-11,
          9.931843624181474e-11,
          9.875660991458705e-11,
          9.819545003138923e-11,
          9.763497369433672e-11,
          9.707520111421266e-11,
          9.651615556507078e-11,
          9.595786333400087e-11,
          9.540035366619854e-11,
          9.484365870548704e-11,
          9.428781343044217e-11,
          9.373285558627686e-11,
          9.3178825612645e-11,
          9.262576656752811e-11,
          9.207372404737262e-11,
          9.152274610364739e-11,
          9.097288315599514e-11,
          9.042418790215318e-11,
          8.987671522482194e-11,
          8.933052209566125e-11,
          8.878566747659566e-11,
          8.824221221861336e-11,
          8.77002189582416e-11,
          8.715975201188549e-11,
          8.662087726821492e-11,
          8.608366207878683e-11,
          8.554817514708896e-11,
          8.501448641619112e-11,
          8.448266695519045e-11,
          8.395278884463509e-11,
          8.34249250611112e-11,
          8.289914936117572e-11,
          8.237553616481722e-11,
          8.18541604386241e-11,
          8.133509757883878e-11,
          8.081842329447389e-11,
          8.030421349066325e-11,
          7.979254415242064e-11,
          7.928349122897275e-11,
          7.877713051883319e-11,
          7.827353755577927e-11,
          7.777278749589133e-11,
          7.727495500580917e-11,
          7.678011415235873e-11,
          7.628833829369642e-11,
          7.579969997211553e-11,
          7.53142708086547e-11,
          7.48321213996447e-11,
          7.43533212153246e-11,
          7.387793850065423e-11,
          7.340604017844578e-11,
          7.293769175493165e-11,
          7.247295722788152e-11,
          7.201189899737676e-11,
          7.155457777934456e-11,
          7.110105252194985e-11,
          7.065138032493754e-11,
          7.020561636201257e-11,
          6.976381380633967e-11,
          6.932602375923958e-11,
          6.889229518215349e-11,
          6.846267483194116e-11,
          6.803720719957376e-11,
          6.761593445227619e-11,
          6.719889637916881e-11,
          6.678613034045251e-11,
          6.637767122017598e-11,
          6.597355138261854e-11,
          6.557380063231619e-11,
          6.517844617775321e-11,
          6.478751259873659e-11,
          6.440102181746507e-11,
          6.401899307329854e-11,
          6.364144290122966e-11,
          6.326838511405298e-11,
          6.289983078822306e-11,
          6.253578825338628e-11,
          6.217626308556823e-11,
          6.182125810399116e-11,
          6.14707733714938e-11,
          6.112480619851835e-11,
          6.078335115062733e-11,
          6.044640005950657e-11,
          6.011394203740703e-11,
          5.978596349497372e-11,
          5.946244816240577e-11,
          5.914337711388703e-11,
          5.88287287952237e-11,
          5.851847905462054e-11,
          5.821260117652397e-11,
          5.7911065918457064e-11,
          5.76138415507675e-11,
          5.7320893899205885e-11,
          5.703218639025021e-11,
          5.674768009908729e-11,
          5.6467333800160414e-11,
          5.619110402018936e-11,
          5.5918945093566216e-11,
          5.5650809220028335e-11,
          5.538664652450717e-11,
          5.512640511905002e-11,
          5.487003116670954e-11,
          5.461746894729413e-11,
          5.4368660924870963e-11,
          5.4123547816911607e-11,
          5.38820686649693e-11,
          5.3644160906775724e-11,
          5.340976044964399e-11,
          5.3178801745064425e-11,
          5.295121786437802e-11,
          5.272694057541365e-11,
          5.250590041997313e-11,
          5.2288026792049585e-11,
          5.20732480166637e-11,
          5.1861491429203195e-11,
          5.1652683455151255e-11,
          5.144674969008986e-11,
          5.12436149798652e-11,
          5.104320350080278e-11,
          5.0845438839861467e-11,
          5.065024407461611e-11,
          5.045754185296071e-11,
          5.026725447242461e-11,
          5.007930395899675e-11,
          4.9893612145354206e-11,
          4.9710100748393335e-11,
          4.952869144596403e-11,
          4.934930595270981e-11,
          4.917186609491825e-11,
          4.899629388428987e-11,
          4.8822511590534755e-11,
          4.865044181270976e-11,
          4.848000754921201e-11,
          4.8311132266346793e-11,
          4.8143739965390836e-11,
          4.7977755248076127e-11,
          4.781310338042111e-11,
          4.764971035484066e-11,
          4.7487502950468575e-11,
          4.732640879163054e-11,
          4.716635640440851e-11,
          4.700727527124089e-11,
          4.6849095883507204e-11,
          4.669174979204877e-11,
          4.65351696555809e-11,
          4.6379289286956175e-11,
          4.6224043697241645e-11,
          4.6069369137576796e-11,
          4.591520313878292e-11,
          4.5761484548698384e-11,
          4.560815356721808e-11,
          4.545515177901909e-11,
          4.530242218395847e-11,
          4.514990922513312e-11,
          4.4997558814594806e-11,
          4.484531835671826e-11,
          4.469313676922279e-11,
          4.4540964501852484e-11,
          4.4388753552723435e-11,
          4.4236457482349815e-11,
          4.408403142536453e-11,
          4.393143209995352e-11,
          4.377861781502625e-11,
          4.362554847514832e-11,
          4.347218558326537e-11,
          4.3318492241250774e-11,
          4.316443314831267e-11,
          4.3009974597298945e-11,
          4.28550844689418e-11,
          4.2699732224086264e-11,
          4.2543888893949945e-11,
          4.238752706846379e-11,
          4.22306208827463e-11,
          4.2073146001765866e-11,
          4.1915079603248777e-11,
          4.175640035889142e-11,
          4.159708841393908e-11,
          4.143712536519371e-11,
          4.127649423751643e-11,
          4.111517945889134e-11,
          4.095316683411902e-11,
          4.079044351720951e-11,
          4.0626997982545874e-11,
          4.046281999489053e-11,
          4.029790057830751e-11,
          4.013223198407473e-11,
          3.9965807657661244e-11,
          3.979862220484443e-11,
          3.963067135704346e-11,
          3.946195193594477e-11,
          3.929246181749597e-11,
          3.912219989534458e-11,
          3.895116604379757e-11,
          3.877936108037791e-11,
          3.8606786728053494e-11,
          3.843344557721362e-11,
          3.825934104746719e-11,
          3.8084477349336615e-11,
          3.790885944591978e-11,
          3.7732493014591866e-11,
          3.755538440881769e-11,
          3.737754062014342e-11,
          3.7198969240436076e-11,
          3.701967842443668e-11,
          3.683967685269207e-11,
          3.665897369492829e-11,
          3.647757857392694e-11,
          3.629550152996366e-11,
          3.611275298586612e-11,
          3.592934371274665e-11,
          3.5745284796462845e-11,
          3.5560587604856643e-11,
          3.537526375582046e-11,
          3.518932508623677e-11,
          3.5002783621834136e-11,
          3.4815651548001604e-11,
          3.4627941181599504e-11,
          3.443966494380281e-11,
          3.425083533401039e-11,
          3.406146490485074e-11,
          3.387156623831223e-11,
          3.3681151923022895e-11,
          3.3490234532702264e-11,
          3.3298826605804945e-11,
          3.310694062637273e-11,
          3.291458900610932e-11,
          3.2721784067689075e-11,
          3.252853802930814e-11,
          3.233486299048398e-11,
          3.214077091910606e-11,
          3.1946273639738155e-11,
          3.175138282317009e-11,
          3.1556109977213445e-11,
          3.136046643873409e-11,
          3.116446336691113e-11,
          3.096811173770942e-11,
          3.077142233955092e-11,
          3.057440577016684e-11,
          3.0377072434611084e-11,
          3.017943254441249e-11,
          2.998149611784185e-11,
          2.978327298126693e-11,
          2.958477277156701e-11,
          2.938600493957673e-11,
          2.918697875452644e-11,
          2.8987703309445314e-11,
          2.878818752749106e-11,
          2.8588440169169068e-11,
          2.838846984040178e-11,
          2.8188285001408172e-11,
          2.7987893976351557e-11,
          2.7787304963712963e-11,
          2.7586526047346034e-11,
          2.738556520816862e-11,
          2.718443033644528e-11,
          2.6983129244614035e-11,
          2.67816696806102e-11,
          2.658005934163942e-11,
          2.6378305888351928e-11,
          2.6176416959368953e-11,
          2.59744001861132e-11,
          2.577226320789369e-11,
          2.5570013687196753e-11,
          2.536765932513376e-11,
          2.51652078769975e-11,
          2.4962667167878372e-11,
          2.4760045108292793e-11,
          2.4557349709776372e-11,
          2.4354589100395e-11,
          2.4151771540127605e-11,
          2.394890543607564e-11,
          2.3745999357454446e-11,
          2.354306205032335e-11,
          2.3340102452012e-11,
          2.3137129705201584e-11,
          2.2934153171621128e-11,
          2.2731182445319904e-11,
          2.2528227365478712e-11
         ],
         "yaxis": "y"
        },
        {
         "legendgroup": "EBITDA",
         "marker": {
          "color": "rgb(31, 119, 180)",
          "symbol": "line-ns-open"
         },
         "mode": "markers",
         "name": "EBITDA",
         "showlegend": false,
         "type": "scatter",
         "x": [
          500032000,
          677371000,
          1058300000,
          1067300000,
          3384600000,
          4617000000,
          2003800000,
          2376800000,
          1152000000,
          7101000000,
          8427000000,
          754400000,
          627700000,
          3124000000,
          3387000000,
          5881000000,
          6347000000,
          334680000,
          391454000,
          4395000000,
          1635659000,
          1538929000,
          1874000000,
          3373000000,
          3734000000,
          824600000,
          1129299000,
          1336466000
         ],
         "xaxis": "x",
         "y": [
          "EBITDA",
          "EBITDA",
          "EBITDA",
          "EBITDA",
          "EBITDA",
          "EBITDA",
          "EBITDA",
          "EBITDA",
          "EBITDA",
          "EBITDA",
          "EBITDA",
          "EBITDA",
          "EBITDA",
          "EBITDA",
          "EBITDA",
          "EBITDA",
          "EBITDA",
          "EBITDA",
          "EBITDA",
          "EBITDA",
          "EBITDA",
          "EBITDA",
          "EBITDA",
          "EBITDA",
          "EBITDA",
          "EBITDA",
          "EBITDA",
          "EBITDA"
         ],
         "yaxis": "y2"
        }
       ],
       "layout": {
        "barmode": "overlay",
        "hovermode": "closest",
        "legend": {
         "traceorder": "reversed"
        },
        "template": {
         "data": {
          "bar": [
           {
            "error_x": {
             "color": "#2a3f5f"
            },
            "error_y": {
             "color": "#2a3f5f"
            },
            "marker": {
             "line": {
              "color": "#E5ECF6",
              "width": 0.5
             },
             "pattern": {
              "fillmode": "overlay",
              "size": 10,
              "solidity": 0.2
             }
            },
            "type": "bar"
           }
          ],
          "barpolar": [
           {
            "marker": {
             "line": {
              "color": "#E5ECF6",
              "width": 0.5
             },
             "pattern": {
              "fillmode": "overlay",
              "size": 10,
              "solidity": 0.2
             }
            },
            "type": "barpolar"
           }
          ],
          "carpet": [
           {
            "aaxis": {
             "endlinecolor": "#2a3f5f",
             "gridcolor": "white",
             "linecolor": "white",
             "minorgridcolor": "white",
             "startlinecolor": "#2a3f5f"
            },
            "baxis": {
             "endlinecolor": "#2a3f5f",
             "gridcolor": "white",
             "linecolor": "white",
             "minorgridcolor": "white",
             "startlinecolor": "#2a3f5f"
            },
            "type": "carpet"
           }
          ],
          "choropleth": [
           {
            "colorbar": {
             "outlinewidth": 0,
             "ticks": ""
            },
            "type": "choropleth"
           }
          ],
          "contour": [
           {
            "colorbar": {
             "outlinewidth": 0,
             "ticks": ""
            },
            "colorscale": [
             [
              0,
              "#0d0887"
             ],
             [
              0.1111111111111111,
              "#46039f"
             ],
             [
              0.2222222222222222,
              "#7201a8"
             ],
             [
              0.3333333333333333,
              "#9c179e"
             ],
             [
              0.4444444444444444,
              "#bd3786"
             ],
             [
              0.5555555555555556,
              "#d8576b"
             ],
             [
              0.6666666666666666,
              "#ed7953"
             ],
             [
              0.7777777777777778,
              "#fb9f3a"
             ],
             [
              0.8888888888888888,
              "#fdca26"
             ],
             [
              1,
              "#f0f921"
             ]
            ],
            "type": "contour"
           }
          ],
          "contourcarpet": [
           {
            "colorbar": {
             "outlinewidth": 0,
             "ticks": ""
            },
            "type": "contourcarpet"
           }
          ],
          "heatmap": [
           {
            "colorbar": {
             "outlinewidth": 0,
             "ticks": ""
            },
            "colorscale": [
             [
              0,
              "#0d0887"
             ],
             [
              0.1111111111111111,
              "#46039f"
             ],
             [
              0.2222222222222222,
              "#7201a8"
             ],
             [
              0.3333333333333333,
              "#9c179e"
             ],
             [
              0.4444444444444444,
              "#bd3786"
             ],
             [
              0.5555555555555556,
              "#d8576b"
             ],
             [
              0.6666666666666666,
              "#ed7953"
             ],
             [
              0.7777777777777778,
              "#fb9f3a"
             ],
             [
              0.8888888888888888,
              "#fdca26"
             ],
             [
              1,
              "#f0f921"
             ]
            ],
            "type": "heatmap"
           }
          ],
          "heatmapgl": [
           {
            "colorbar": {
             "outlinewidth": 0,
             "ticks": ""
            },
            "colorscale": [
             [
              0,
              "#0d0887"
             ],
             [
              0.1111111111111111,
              "#46039f"
             ],
             [
              0.2222222222222222,
              "#7201a8"
             ],
             [
              0.3333333333333333,
              "#9c179e"
             ],
             [
              0.4444444444444444,
              "#bd3786"
             ],
             [
              0.5555555555555556,
              "#d8576b"
             ],
             [
              0.6666666666666666,
              "#ed7953"
             ],
             [
              0.7777777777777778,
              "#fb9f3a"
             ],
             [
              0.8888888888888888,
              "#fdca26"
             ],
             [
              1,
              "#f0f921"
             ]
            ],
            "type": "heatmapgl"
           }
          ],
          "histogram": [
           {
            "marker": {
             "pattern": {
              "fillmode": "overlay",
              "size": 10,
              "solidity": 0.2
             }
            },
            "type": "histogram"
           }
          ],
          "histogram2d": [
           {
            "colorbar": {
             "outlinewidth": 0,
             "ticks": ""
            },
            "colorscale": [
             [
              0,
              "#0d0887"
             ],
             [
              0.1111111111111111,
              "#46039f"
             ],
             [
              0.2222222222222222,
              "#7201a8"
             ],
             [
              0.3333333333333333,
              "#9c179e"
             ],
             [
              0.4444444444444444,
              "#bd3786"
             ],
             [
              0.5555555555555556,
              "#d8576b"
             ],
             [
              0.6666666666666666,
              "#ed7953"
             ],
             [
              0.7777777777777778,
              "#fb9f3a"
             ],
             [
              0.8888888888888888,
              "#fdca26"
             ],
             [
              1,
              "#f0f921"
             ]
            ],
            "type": "histogram2d"
           }
          ],
          "histogram2dcontour": [
           {
            "colorbar": {
             "outlinewidth": 0,
             "ticks": ""
            },
            "colorscale": [
             [
              0,
              "#0d0887"
             ],
             [
              0.1111111111111111,
              "#46039f"
             ],
             [
              0.2222222222222222,
              "#7201a8"
             ],
             [
              0.3333333333333333,
              "#9c179e"
             ],
             [
              0.4444444444444444,
              "#bd3786"
             ],
             [
              0.5555555555555556,
              "#d8576b"
             ],
             [
              0.6666666666666666,
              "#ed7953"
             ],
             [
              0.7777777777777778,
              "#fb9f3a"
             ],
             [
              0.8888888888888888,
              "#fdca26"
             ],
             [
              1,
              "#f0f921"
             ]
            ],
            "type": "histogram2dcontour"
           }
          ],
          "mesh3d": [
           {
            "colorbar": {
             "outlinewidth": 0,
             "ticks": ""
            },
            "type": "mesh3d"
           }
          ],
          "parcoords": [
           {
            "line": {
             "colorbar": {
              "outlinewidth": 0,
              "ticks": ""
             }
            },
            "type": "parcoords"
           }
          ],
          "pie": [
           {
            "automargin": true,
            "type": "pie"
           }
          ],
          "scatter": [
           {
            "fillpattern": {
             "fillmode": "overlay",
             "size": 10,
             "solidity": 0.2
            },
            "type": "scatter"
           }
          ],
          "scatter3d": [
           {
            "line": {
             "colorbar": {
              "outlinewidth": 0,
              "ticks": ""
             }
            },
            "marker": {
             "colorbar": {
              "outlinewidth": 0,
              "ticks": ""
             }
            },
            "type": "scatter3d"
           }
          ],
          "scattercarpet": [
           {
            "marker": {
             "colorbar": {
              "outlinewidth": 0,
              "ticks": ""
             }
            },
            "type": "scattercarpet"
           }
          ],
          "scattergeo": [
           {
            "marker": {
             "colorbar": {
              "outlinewidth": 0,
              "ticks": ""
             }
            },
            "type": "scattergeo"
           }
          ],
          "scattergl": [
           {
            "marker": {
             "colorbar": {
              "outlinewidth": 0,
              "ticks": ""
             }
            },
            "type": "scattergl"
           }
          ],
          "scattermapbox": [
           {
            "marker": {
             "colorbar": {
              "outlinewidth": 0,
              "ticks": ""
             }
            },
            "type": "scattermapbox"
           }
          ],
          "scatterpolar": [
           {
            "marker": {
             "colorbar": {
              "outlinewidth": 0,
              "ticks": ""
             }
            },
            "type": "scatterpolar"
           }
          ],
          "scatterpolargl": [
           {
            "marker": {
             "colorbar": {
              "outlinewidth": 0,
              "ticks": ""
             }
            },
            "type": "scatterpolargl"
           }
          ],
          "scatterternary": [
           {
            "marker": {
             "colorbar": {
              "outlinewidth": 0,
              "ticks": ""
             }
            },
            "type": "scatterternary"
           }
          ],
          "surface": [
           {
            "colorbar": {
             "outlinewidth": 0,
             "ticks": ""
            },
            "colorscale": [
             [
              0,
              "#0d0887"
             ],
             [
              0.1111111111111111,
              "#46039f"
             ],
             [
              0.2222222222222222,
              "#7201a8"
             ],
             [
              0.3333333333333333,
              "#9c179e"
             ],
             [
              0.4444444444444444,
              "#bd3786"
             ],
             [
              0.5555555555555556,
              "#d8576b"
             ],
             [
              0.6666666666666666,
              "#ed7953"
             ],
             [
              0.7777777777777778,
              "#fb9f3a"
             ],
             [
              0.8888888888888888,
              "#fdca26"
             ],
             [
              1,
              "#f0f921"
             ]
            ],
            "type": "surface"
           }
          ],
          "table": [
           {
            "cells": {
             "fill": {
              "color": "#EBF0F8"
             },
             "line": {
              "color": "white"
             }
            },
            "header": {
             "fill": {
              "color": "#C8D4E3"
             },
             "line": {
              "color": "white"
             }
            },
            "type": "table"
           }
          ]
         },
         "layout": {
          "annotationdefaults": {
           "arrowcolor": "#2a3f5f",
           "arrowhead": 0,
           "arrowwidth": 1
          },
          "autotypenumbers": "strict",
          "coloraxis": {
           "colorbar": {
            "outlinewidth": 0,
            "ticks": ""
           }
          },
          "colorscale": {
           "diverging": [
            [
             0,
             "#8e0152"
            ],
            [
             0.1,
             "#c51b7d"
            ],
            [
             0.2,
             "#de77ae"
            ],
            [
             0.3,
             "#f1b6da"
            ],
            [
             0.4,
             "#fde0ef"
            ],
            [
             0.5,
             "#f7f7f7"
            ],
            [
             0.6,
             "#e6f5d0"
            ],
            [
             0.7,
             "#b8e186"
            ],
            [
             0.8,
             "#7fbc41"
            ],
            [
             0.9,
             "#4d9221"
            ],
            [
             1,
             "#276419"
            ]
           ],
           "sequential": [
            [
             0,
             "#0d0887"
            ],
            [
             0.1111111111111111,
             "#46039f"
            ],
            [
             0.2222222222222222,
             "#7201a8"
            ],
            [
             0.3333333333333333,
             "#9c179e"
            ],
            [
             0.4444444444444444,
             "#bd3786"
            ],
            [
             0.5555555555555556,
             "#d8576b"
            ],
            [
             0.6666666666666666,
             "#ed7953"
            ],
            [
             0.7777777777777778,
             "#fb9f3a"
            ],
            [
             0.8888888888888888,
             "#fdca26"
            ],
            [
             1,
             "#f0f921"
            ]
           ],
           "sequentialminus": [
            [
             0,
             "#0d0887"
            ],
            [
             0.1111111111111111,
             "#46039f"
            ],
            [
             0.2222222222222222,
             "#7201a8"
            ],
            [
             0.3333333333333333,
             "#9c179e"
            ],
            [
             0.4444444444444444,
             "#bd3786"
            ],
            [
             0.5555555555555556,
             "#d8576b"
            ],
            [
             0.6666666666666666,
             "#ed7953"
            ],
            [
             0.7777777777777778,
             "#fb9f3a"
            ],
            [
             0.8888888888888888,
             "#fdca26"
            ],
            [
             1,
             "#f0f921"
            ]
           ]
          },
          "colorway": [
           "#636efa",
           "#EF553B",
           "#00cc96",
           "#ab63fa",
           "#FFA15A",
           "#19d3f3",
           "#FF6692",
           "#B6E880",
           "#FF97FF",
           "#FECB52"
          ],
          "font": {
           "color": "#2a3f5f"
          },
          "geo": {
           "bgcolor": "white",
           "lakecolor": "white",
           "landcolor": "#E5ECF6",
           "showlakes": true,
           "showland": true,
           "subunitcolor": "white"
          },
          "hoverlabel": {
           "align": "left"
          },
          "hovermode": "closest",
          "mapbox": {
           "style": "light"
          },
          "paper_bgcolor": "white",
          "plot_bgcolor": "#E5ECF6",
          "polar": {
           "angularaxis": {
            "gridcolor": "white",
            "linecolor": "white",
            "ticks": ""
           },
           "bgcolor": "#E5ECF6",
           "radialaxis": {
            "gridcolor": "white",
            "linecolor": "white",
            "ticks": ""
           }
          },
          "scene": {
           "xaxis": {
            "backgroundcolor": "#E5ECF6",
            "gridcolor": "white",
            "gridwidth": 2,
            "linecolor": "white",
            "showbackground": true,
            "ticks": "",
            "zerolinecolor": "white"
           },
           "yaxis": {
            "backgroundcolor": "#E5ECF6",
            "gridcolor": "white",
            "gridwidth": 2,
            "linecolor": "white",
            "showbackground": true,
            "ticks": "",
            "zerolinecolor": "white"
           },
           "zaxis": {
            "backgroundcolor": "#E5ECF6",
            "gridcolor": "white",
            "gridwidth": 2,
            "linecolor": "white",
            "showbackground": true,
            "ticks": "",
            "zerolinecolor": "white"
           }
          },
          "shapedefaults": {
           "line": {
            "color": "#2a3f5f"
           }
          },
          "ternary": {
           "aaxis": {
            "gridcolor": "white",
            "linecolor": "white",
            "ticks": ""
           },
           "baxis": {
            "gridcolor": "white",
            "linecolor": "white",
            "ticks": ""
           },
           "bgcolor": "#E5ECF6",
           "caxis": {
            "gridcolor": "white",
            "linecolor": "white",
            "ticks": ""
           }
          },
          "title": {
           "x": 0.05
          },
          "xaxis": {
           "automargin": true,
           "gridcolor": "white",
           "linecolor": "white",
           "ticks": "",
           "title": {
            "standoff": 15
           },
           "zerolinecolor": "white",
           "zerolinewidth": 2
          },
          "yaxis": {
           "automargin": true,
           "gridcolor": "white",
           "linecolor": "white",
           "ticks": "",
           "title": {
            "standoff": 15
           },
           "zerolinecolor": "white",
           "zerolinewidth": 2
          }
         }
        },
        "xaxis": {
         "anchor": "y2",
         "domain": [
          0,
          1
         ],
         "zeroline": false
        },
        "yaxis": {
         "anchor": "free",
         "domain": [
          0.35,
          1
         ],
         "position": 0
        },
        "yaxis2": {
         "anchor": "x",
         "domain": [
          0,
          0.25
         ],
         "dtick": 1,
         "showticklabels": false
        }
       }
      }
     },
     "metadata": {},
     "output_type": "display_data"
    }
   ],
   "source": [
    "hist_data = [df_Mat['EBITDA'].to_numpy()]\n",
    "group_labels = ['EBITDA'] # name of the dataset\n",
    "\n",
    "fig = ff.create_distplot(hist_data, group_labels, bin_size=1000000000)\n",
    "fig.show()"
   ]
  },
  {
   "cell_type": "code",
   "execution_count": 44,
   "metadata": {},
   "outputs": [],
   "source": [
    "# Logarithmic transformation of EBITDA and EV\n",
    "df_Mat['lgEBITDA'] = np.log(df_Mat['EBITDA'])\n",
    "df_Mat['lgEV'] = np.log(df_Mat['EV'])"
   ]
  },
  {
   "cell_type": "code",
   "execution_count": 45,
   "metadata": {
    "tags": [
     "remove-output"
    ]
   },
   "outputs": [
    {
     "data": {
      "application/vnd.plotly.v1+json": {
       "config": {
        "plotlyServerURL": "https://plot.ly"
       },
       "data": [
        {
         "autobinx": false,
         "histnorm": "probability density",
         "legendgroup": "lgEV",
         "marker": {
          "color": "rgb(31, 119, 180)"
         },
         "name": "lgEV",
         "opacity": 0.7,
         "type": "histogram",
         "x": [
          22.621059471890536,
          22.639122390301868,
          23.289229975542206,
          23.34154896144616,
          22.260429468756865,
          25.149690856323637,
          24.167801101654966,
          24.488996627582036,
          23.637279091718653,
          24.580267575487735,
          25.089178934404494,
          23.11278085012329,
          23.352247634855047,
          24.453473800807284,
          24.485267952274572,
          24.485831357610106,
          24.746745914235525,
          22.52777922422412,
          22.56507128287956,
          24.34073961529359,
          23.680362710979583,
          23.867975277412278,
          23.87661943265784,
          24.519434995921895,
          24.673084584008365,
          23.323110956627595,
          23.686649295074563,
          23.836753486636
         ],
         "xaxis": "x",
         "xbins": {
          "end": 25.149690856323637,
          "size": 1000000000,
          "start": 22.260429468756865
         },
         "yaxis": "y"
        },
        {
         "legendgroup": "lgEV",
         "marker": {
          "color": "rgb(31, 119, 180)"
         },
         "mode": "lines",
         "name": "lgEV",
         "showlegend": false,
         "type": "scatter",
         "x": [
          22.260429468756865,
          22.266207991532,
          22.27198651430713,
          22.277765037082265,
          22.2835435598574,
          22.289322082632534,
          22.295100605407665,
          22.3008791281828,
          22.306657650957934,
          22.312436173733065,
          22.3182146965082,
          22.323993219283334,
          22.32977174205847,
          22.3355502648336,
          22.341328787608735,
          22.34710731038387,
          22.352885833159,
          22.358664355934135,
          22.36444287870927,
          22.3702214014844,
          22.375999924259535,
          22.38177844703467,
          22.387556969809804,
          22.393335492584935,
          22.39911401536007,
          22.404892538135204,
          22.410671060910335,
          22.41644958368547,
          22.422228106460604,
          22.42800662923574,
          22.43378515201087,
          22.439563674786005,
          22.44534219756114,
          22.45112072033627,
          22.456899243111405,
          22.46267776588654,
          22.468456288661674,
          22.474234811436805,
          22.48001333421194,
          22.485791856987074,
          22.491570379762205,
          22.49734890253734,
          22.503127425312474,
          22.50890594808761,
          22.51468447086274,
          22.520462993637874,
          22.52624151641301,
          22.53202003918814,
          22.537798561963275,
          22.54357708473841,
          22.54935560751354,
          22.555134130288675,
          22.56091265306381,
          22.566691175838944,
          22.572469698614075,
          22.57824822138921,
          22.584026744164344,
          22.589805266939475,
          22.59558378971461,
          22.601362312489744,
          22.60714083526488,
          22.61291935804001,
          22.618697880815144,
          22.62447640359028,
          22.63025492636541,
          22.636033449140545,
          22.64181197191568,
          22.647590494690814,
          22.653369017465945,
          22.65914754024108,
          22.664926063016214,
          22.670704585791345,
          22.67648310856648,
          22.682261631341614,
          22.68804015411675,
          22.69381867689188,
          22.699597199667014,
          22.70537572244215,
          22.71115424521728,
          22.716932767992414,
          22.72271129076755,
          22.72848981354268,
          22.734268336317815,
          22.74004685909295,
          22.745825381868084,
          22.751603904643215,
          22.75738242741835,
          22.763160950193484,
          22.768939472968615,
          22.77471799574375,
          22.780496518518884,
          22.78627504129402,
          22.79205356406915,
          22.797832086844284,
          22.80361060961942,
          22.80938913239455,
          22.815167655169684,
          22.82094617794482,
          22.826724700719954,
          22.832503223495085,
          22.83828174627022,
          22.844060269045354,
          22.849838791820485,
          22.85561731459562,
          22.861395837370754,
          22.86717436014589,
          22.87295288292102,
          22.878731405696154,
          22.88450992847129,
          22.89028845124642,
          22.896066974021554,
          22.90184549679669,
          22.907624019571823,
          22.913402542346955,
          22.91918106512209,
          22.924959587897224,
          22.930738110672355,
          22.93651663344749,
          22.942295156222624,
          22.948073678997755,
          22.95385220177289,
          22.959630724548024,
          22.96540924732316,
          22.97118777009829,
          22.976966292873424,
          22.98274481564856,
          22.98852333842369,
          22.994301861198824,
          23.00008038397396,
          23.005858906749094,
          23.011637429524225,
          23.01741595229936,
          23.023194475074494,
          23.028972997849625,
          23.03475152062476,
          23.040530043399894,
          23.04630856617503,
          23.05208708895016,
          23.057865611725294,
          23.06364413450043,
          23.06942265727556,
          23.075201180050694,
          23.08097970282583,
          23.086758225600963,
          23.092536748376094,
          23.09831527115123,
          23.104093793926364,
          23.109872316701495,
          23.11565083947663,
          23.121429362251764,
          23.1272078850269,
          23.13298640780203,
          23.138764930577164,
          23.1445434533523,
          23.15032197612743,
          23.156100498902564,
          23.1618790216777,
          23.16765754445283,
          23.173436067227964,
          23.1792145900031,
          23.184993112778233,
          23.190771635553364,
          23.1965501583285,
          23.202328681103634,
          23.208107203878765,
          23.2138857266539,
          23.219664249429034,
          23.22544277220417,
          23.2312212949793,
          23.236999817754434,
          23.24277834052957,
          23.2485568633047,
          23.254335386079834,
          23.26011390885497,
          23.265892431630103,
          23.271670954405234,
          23.27744947718037,
          23.283227999955503,
          23.289006522730634,
          23.29478504550577,
          23.300563568280904,
          23.306342091056038,
          23.31212061383117,
          23.317899136606304,
          23.32367765938144,
          23.32945618215657,
          23.335234704931704,
          23.34101322770684,
          23.34679175048197,
          23.352570273257104,
          23.35834879603224,
          23.364127318807373,
          23.369905841582504,
          23.37568436435764,
          23.381462887132773,
          23.387241409907904,
          23.39301993268304,
          23.398798455458174,
          23.404576978233308,
          23.41035550100844,
          23.416134023783574,
          23.42191254655871,
          23.42769106933384,
          23.433469592108974,
          23.43924811488411,
          23.445026637659243,
          23.450805160434374,
          23.45658368320951,
          23.462362205984643,
          23.468140728759774,
          23.47391925153491,
          23.479697774310043,
          23.485476297085178,
          23.49125481986031,
          23.497033342635444,
          23.502811865410578,
          23.50859038818571,
          23.514368910960844,
          23.52014743373598,
          23.52592595651111,
          23.531704479286244,
          23.53748300206138,
          23.543261524836513,
          23.549040047611644,
          23.55481857038678,
          23.560597093161913,
          23.566375615937044,
          23.57215413871218,
          23.577932661487313,
          23.583711184262448,
          23.58948970703758,
          23.595268229812714,
          23.60104675258785,
          23.60682527536298,
          23.612603798138114,
          23.61838232091325,
          23.624160843688383,
          23.629939366463514,
          23.63571788923865,
          23.641496412013783,
          23.647274934788914,
          23.65305345756405,
          23.658831980339183,
          23.664610503114318,
          23.67038902588945,
          23.676167548664584,
          23.681946071439718,
          23.68772459421485,
          23.693503116989984,
          23.69928163976512,
          23.70506016254025,
          23.710838685315384,
          23.71661720809052,
          23.722395730865653,
          23.728174253640784,
          23.73395277641592,
          23.739731299191053,
          23.745509821966184,
          23.75128834474132,
          23.757066867516453,
          23.762845390291588,
          23.76862391306672,
          23.774402435841854,
          23.780180958616988,
          23.78595948139212,
          23.791738004167254,
          23.79751652694239,
          23.803295049717523,
          23.809073572492654,
          23.81485209526779,
          23.820630618042923,
          23.826409140818054,
          23.83218766359319,
          23.837966186368323,
          23.843744709143458,
          23.84952323191859,
          23.855301754693723,
          23.861080277468858,
          23.86685880024399,
          23.872637323019124,
          23.878415845794258,
          23.88419436856939,
          23.889972891344524,
          23.89575141411966,
          23.901529936894793,
          23.907308459669924,
          23.91308698244506,
          23.918865505220193,
          23.924644027995328,
          23.93042255077046,
          23.936201073545593,
          23.941979596320728,
          23.94775811909586,
          23.953536641870993,
          23.959315164646128,
          23.96509368742126,
          23.970872210196394,
          23.976650732971528,
          23.982429255746663,
          23.988207778521794,
          23.99398630129693,
          23.999764824072063,
          24.005543346847194,
          24.01132186962233,
          24.017100392397463,
          24.022878915172598,
          24.02865743794773,
          24.034435960722863,
          24.040214483497998,
          24.04599300627313,
          24.051771529048263,
          24.057550051823398,
          24.06332857459853,
          24.069107097373664,
          24.074885620148798,
          24.080664142923933,
          24.086442665699064,
          24.0922211884742,
          24.097999711249333,
          24.103778234024468,
          24.1095567567996,
          24.115335279574733,
          24.121113802349868,
          24.126892325125,
          24.132670847900133,
          24.138449370675268,
          24.1442278934504,
          24.150006416225533,
          24.155784939000668,
          24.161563461775803,
          24.167341984550934,
          24.173120507326068,
          24.178899030101203,
          24.184677552876334,
          24.19045607565147,
          24.196234598426603,
          24.202013121201738,
          24.20779164397687,
          24.213570166752003,
          24.219348689527138,
          24.22512721230227,
          24.230905735077403,
          24.236684257852538,
          24.24246278062767,
          24.248241303402803,
          24.254019826177938,
          24.259798348953073,
          24.265576871728204,
          24.27135539450334,
          24.277133917278473,
          24.282912440053607,
          24.28869096282874,
          24.294469485603873,
          24.300248008379008,
          24.30602653115414,
          24.311805053929273,
          24.317583576704408,
          24.32336209947954,
          24.329140622254673,
          24.334919145029808,
          24.340697667804942,
          24.346476190580074,
          24.352254713355208,
          24.358033236130343,
          24.363811758905474,
          24.36959028168061,
          24.375368804455743,
          24.381147327230877,
          24.38692585000601,
          24.392704372781143,
          24.398482895556278,
          24.40426141833141,
          24.410039941106543,
          24.415818463881678,
          24.421596986656812,
          24.427375509431943,
          24.433154032207078,
          24.438932554982213,
          24.444711077757344,
          24.450489600532478,
          24.456268123307613,
          24.462046646082747,
          24.46782516885788,
          24.473603691633013,
          24.479382214408147,
          24.48516073718328,
          24.490939259958413,
          24.496717782733548,
          24.50249630550868,
          24.508274828283813,
          24.514053351058948,
          24.519831873834082,
          24.525610396609213,
          24.531388919384348,
          24.537167442159483,
          24.542945964934617,
          24.548724487709748,
          24.554503010484883,
          24.560281533260017,
          24.56606005603515,
          24.571838578810283,
          24.577617101585417,
          24.58339562436055,
          24.589174147135683,
          24.594952669910818,
          24.60073119268595,
          24.606509715461083,
          24.612288238236218,
          24.618066761011352,
          24.623845283786483,
          24.629623806561618,
          24.635402329336753,
          24.641180852111887,
          24.646959374887018,
          24.652737897662153,
          24.658516420437287,
          24.66429494321242,
          24.670073465987553,
          24.675851988762687,
          24.68163051153782,
          24.687409034312953,
          24.693187557088088,
          24.698966079863222,
          24.704744602638353,
          24.710523125413488,
          24.716301648188622,
          24.722080170963757,
          24.727858693738888,
          24.733637216514023,
          24.739415739289157,
          24.745194262064288,
          24.750972784839423,
          24.756751307614557,
          24.76252983038969,
          24.768308353164823,
          24.774086875939958,
          24.77986539871509,
          24.785643921490223,
          24.791422444265358,
          24.797200967040492,
          24.802979489815627,
          24.808758012590758,
          24.814536535365892,
          24.820315058141027,
          24.826093580916158,
          24.831872103691293,
          24.837650626466427,
          24.843429149241558,
          24.849207672016693,
          24.854986194791827,
          24.86076471756696,
          24.866543240342093,
          24.872321763117228,
          24.878100285892362,
          24.883878808667493,
          24.889657331442628,
          24.895435854217762,
          24.901214376992897,
          24.906992899768028,
          24.912771422543162,
          24.918549945318297,
          24.924328468093428,
          24.930106990868563,
          24.935885513643697,
          24.94166403641883,
          24.947442559193963,
          24.953221081969097,
          24.95899960474423,
          24.964778127519363,
          24.970556650294498,
          24.976335173069632,
          24.982113695844767,
          24.987892218619898,
          24.993670741395032,
          24.999449264170167,
          25.005227786945298,
          25.011006309720432,
          25.016784832495567,
          25.022563355270698,
          25.028341878045833,
          25.034120400820967,
          25.0398989235961,
          25.045677446371233,
          25.051455969146367,
          25.057234491921502,
          25.063013014696633,
          25.068791537471768,
          25.074570060246902,
          25.080348583022037,
          25.086127105797168,
          25.091905628572302,
          25.097684151347437,
          25.103462674122568,
          25.109241196897703,
          25.115019719672837,
          25.120798242447968,
          25.126576765223103,
          25.132355287998237,
          25.13813381077337,
          25.143912333548503
         ],
         "xaxis": "x",
         "y": [
          0.1438871715180168,
          0.14527040154846246,
          0.14664865680823988,
          0.14802165836447453,
          0.14938913208098994,
          0.1507508088859726,
          0.152106425036577,
          0.1534557223801331,
          0.1547984486115705,
          0.15613435752674182,
          0.15746320927126703,
          0.15878477058454982,
          0.16009881503863568,
          0.16140512327154455,
          0.16270348321474812,
          0.16399369031445174,
          0.16527554774634337,
          0.16654886662349416,
          0.16781346619706855,
          0.16906917404954339,
          0.17031582628013045,
          0.17155326768207993,
          0.17278135191159283,
          0.17399994164805013,
          0.17520890874528078,
          0.17640813437359706,
          0.17759750915235975,
          0.17877693327280533,
          0.17994631661091645,
          0.1811055788301054,
          0.1822546494734991,
          0.1833934680456381,
          0.18452198408338516,
          0.18564015721588656,
          0.18674795721342885,
          0.1878453640250273,
          0.18893236780464356,
          0.19000896892589403,
          0.19107517798516205,
          0.19213101579302422,
          0.19317651335392047,
          0.19421171183402414,
          0.19523666251725721,
          0.19625142674944573,
          0.19725607587060615,
          0.19825069113537228,
          0.19923536362158778,
          0.20021019412712301,
          0.20117529305496681,
          0.20213078028667011,
          0.20307678504425247,
          0.2040134457406676,
          0.2049409098189663,
          0.20585933358030156,
          0.20676888200093496,
          0.2076697285384328,
          0.2085620549272318,
          0.209446050963799,
          0.2103219142816124,
          0.21118985011619007,
          0.21205007106044707,
          0.21290279681063565,
          0.2137482539031637,
          0.21458667544259233,
          0.21541830082112412,
          0.21624337542991956,
          0.21706215036256982,
          0.21787488211109032,
          0.2186818322548005,
          0.21948326714246247,
          0.22027945756806538,
          0.22107067844066577,
          0.22185720844868098,
          0.22263932971905273,
          0.2234173274717208,
          0.2241914896698229,
          0.22496210666607966,
          0.22572947084579645,
          0.2264938762669488,
          0.22725561829780916,
          0.2280149932525704,
          0.22877229802544258,
          0.2295278297236973,
          0.23028188530011723,
          0.23103476118534708,
          0.23178675292060677,
          0.23253815479125037,
          0.23328925946164691,
          0.23404035761185668,
          0.23479173757657665,
          0.23554368498682815,
          0.23629648241484866,
          0.23705040902265873,
          0.23780574021475837,
          0.23856274729540017,
          0.23932169713090182,
          0.24008285181742411,
          0.24084646835464896,
          0.24161279832579335,
          0.24238208758435897,
          0.24315457594804024,
          0.24393049690017127,
          0.24471007729911054,
          0.24549353709593585,
          0.2462810890608045,
          0.2470729385183383,
          0.24786928309237238,
          0.24867031246038632,
          0.2494762081179305,
          0.25028714315335315,
          0.2511032820331,
          0.2519247803978616,
          0.25275178486981903,
          0.25358443287122334,
          0.25442285245453844,
          0.2552671621443361,
          0.256117470791153,
          0.2569738774374669,
          0.2578364711959478,
          0.2587053311401359,
          0.2595805262076537,
          0.2604621151160592,
          0.2613501462914372,
          0.2622446578097827,
          0.26314567735124605,
          0.264053222167257,
          0.2649672990605584,
          0.26588790437814963,
          0.2668150240171121,
          0.26774863344329436,
          0.2686886977228039,
          0.26963517156623534,
          0.270587999385549,
          0.27154711536351106,
          0.27251244353556525,
          0.2734838978840129,
          0.27446138244435164,
          0.27544479142360634,
          0.2764340093304854,
          0.2774289111171533,
          0.2784293623324278,
          0.27943521928617987,
          0.28044632922468893,
          0.28146253051672776,
          0.2824836528501018,
          0.28350951743837766,
          0.2845399372375195,
          0.28557471717213295,
          0.286613654371024,
          0.28765653841174005,
          0.2887031515737836,
          0.28975326910015986,
          0.29080665946691336,
          0.29186308466029937,
          0.29292230046124523,
          0.29398405673672157,
          0.2950480977376512,
          0.2961141624029927,
          0.2971819846695972,
          0.2982512937874522,
          0.299321814639932,
          0.30039326806863687,
          0.3014653712024393,
          0.30253783779031473,
          0.303610378537562,
          0.30468270144500825,
          0.30575451215076704,
          0.3068255142741676,
          0.30789540976141905,
          0.30896389923261053,
          0.3100306823296333,
          0.31109545806461325,
          0.3121579251684448,
          0.3132177824390216,
          0.3142747290887531,
          0.31532846509097356,
          0.3163786915248373,
          0.31742511091829995,
          0.31846742758880936,
          0.3195053479813042,
          0.32053858100313576,
          0.32156683835555094,
          0.3225898348613407,
          0.3236072887883091,
          0.3246189221681795,
          0.3256244611105969,
          0.32662363611187784,
          0.3276161823581516,
          0.32860184002257115,
          0.3295803545562649,
          0.3305514769726942,
          0.3315149641251257,
          0.33247057897689436,
          0.33341809086417146,
          0.3343572757509455,
          0.3352879164759363,
          0.33620980299117253,
          0.33712273259196923,
          0.33802651013805135,
          0.33892094826558483,
          0.33980586758987574,
          0.3406810968985082,
          0.3415464733347218,
          0.34240184257080747,
          0.3432470589713295,
          0.34408198574599813,
          0.3449064950920027,
          0.3457204683256566,
          0.34652379600318134,
          0.3473163780305005,
          0.348098123761907,
          0.34886895208747093,
          0.34962879150908704,
          0.3503775802050583,
          0.3511152660831195,
          0.35184180682182253,
          0.35255716990022273,
          0.3532613326157968,
          0.35395428209055285,
          0.3546360152652967,
          0.355306538882027,
          0.35596586945445047,
          0.35661403322661084,
          0.3572510661196475,
          0.35787701366669955,
          0.3584919309359878,
          0.35909588244212665,
          0.359688942045712,
          0.3602711928412558,
          0.36084272703355125,
          0.3614036458025495,
          0.36195405915686096,
          0.36249408577598347,
          0.36302385284139144,
          0.36354349585662266,
          0.36405315845650327,
          0.3645529922056813,
          0.3650431563866344,
          0.3655238177773399,
          0.3659951504187935,
          0.3664573353725975,
          0.3669105604688223,
          0.36735502004437975,
          0.36779091467214475,
          0.36821845088107935,
          0.3686378408676235,
          0.36904930219862186,
          0.36945305750607627,
          0.36984933417402216,
          0.3702383640178261,
          0.3706203829562338,
          0.3709956306764874,
          0.3713643502928515,
          0.3717267879989008,
          0.37208319271391926,
          0.37243381572378453,
          0.372778910316709,
          0.3731187314142247,
          0.3734535351978098,
          0.37378357873155277,
          0.3741091195812679,
          0.37443041543048483,
          0.3747477236937315,
          0.3750613011275458,
          0.3753714034396606,
          0.37567828489680183,
          0.3759821979315537,
          0.37628339274875305,
          0.37658211693186866,
          0.3768786150498394,
          0.3771731282648355,
          0.3774658939414245,
          0.3777571452576182,
          0.3780471108182751,
          0.37833601427135033,
          0.37862407392747033,
          0.37891150238331767,
          0.3791985061493134,
          0.37948528528207903,
          0.3797720330221622,
          0.38005893543750957,
          0.38034617107316104,
          0.3806339106076509,
          0.3809223165165789,
          0.38121154274382674,
          0.38150173438088136,
          0.38179302735472354,
          0.38208554812473067,
          0.3823794133890454,
          0.382674729800838,
          0.38297159369489897,
          0.38327009082497715,
          0.38357029611227267,
          0.3838722734054876,
          0.38417607525281855,
          0.38448174268626784,
          0.3847893050186414,
          0.38509877965357614,
          0.38541017190894067,
          0.38572347485392755,
          0.3860386691601455,
          0.3863557229670013,
          0.3866745917616501,
          0.38699521827376676,
          0.38731753238538513,
          0.3876414510560218,
          0.38796687826329357,
          0.38829370495921167,
          0.38862180904231514,
          0.38895105534579627,
          0.38928129564173763,
          0.38961236866156557,
          0.3899441001328076,
          0.39027630283221243,
          0.39060877665527133,
          0.39094130870216576,
          0.39127367338012853,
          0.3916056325222011,
          0.39193693552232894,
          0.39226731948673066,
          0.392596509401443,
          0.3929242183159247,
          0.3932501475425778,
          0.39357398687202594,
          0.39389541480396206,
          0.39421409879335534,
          0.39452969551179035,
          0.3948418511236799,
          0.3951502015770807,
          0.3954543729088096,
          0.39575398156354596,
          0.3960486347265769,
          0.3963379306698228,
          0.3966214591107676,
          0.3968988015838854,
          0.39716953182414566,
          0.39743321616215843,
          0.39768941393049806,
          0.3979376778807329,
          0.39817755461066423,
          0.39840858500126825,
          0.39863030466281507,
          0.39884224438962335,
          0.3990439306228967,
          0.39923488592107725,
          0.3994146294371315,
          0.3995826774021792,
          0.3997385436148634,
          0.39988173993584775,
          0.40001177678681993,
          0.4001281636533715,
          0.40023040959111855,
          0.40031802373442166,
          0.40039051580705304,
          0.4004473966341653,
          0.40048817865490344,
          0.4005123764350045,
          0.4005195071787277,
          0.4005090912394571,
          0.4004806526283215,
          0.4004337195201774,
          0.40036782475630284,
          0.4002825063431577,
          0.4001773079465692,
          0.4000517793807064,
          0.39990547709121793,
          0.39973796463191286,
          0.39954881313437735,
          0.3993376017699256,
          0.3991039182032981,
          0.39884735903753366,
          0.3985675302494506,
          0.398264047615189,
          0.39793653712528454,
          0.39758463538875194,
          0.3972079900256812,
          0.3968062600478599,
          0.3963791162269629,
          0.39592624144985655,
          0.3954473310605936,
          0.39494209318869794,
          0.394410249063344,
          0.39385153331307765,
          0.3932656942507296,
          0.39265249414320635,
          0.39201170946586145,
          0.39134313114117336,
          0.3906465647614829,
          0.38992183079556597,
          0.3891687647788358,
          0.38838721748700733,
          0.3875770550930684,
          0.3867381593074268,
          0.38587042750114076,
          0.3849737728121572,
          0.3840481242344933,
          0.38309342669035595,
          0.38210964108517786,
          0.38109674434561397,
          0.38005472944053326,
          0.37898360538507847,
          0.3778833972279064,
          0.3767541460217149,
          0.37559590877720017,
          0.37440875840063487,
          0.37319278361522507,
          0.371948088866485,
          0.3706747942118587,
          0.36937303519483117,
          0.36804296270382464,
          0.3666847428161659,
          0.36529855662744093,
          0.3638846000665799,
          0.36244308369701106,
          0.3609742325042657,
          0.35947828567042467,
          0.35795549633578744,
          0.3564061313482022,
          0.3548304710004857,
          0.3532288087563615,
          0.3516014509653885,
          0.3499487165673537,
          0.34827093678658066,
          0.34656845481667753,
          0.344841625496187,
          0.34309081497567784,
          0.34131640037676403,
          0.3395187694435755,
          0.3376983201872088,
          0.3358554605236917,
          0.3339906079059643,
          0.3321041889504405,
          0.3301966390586662,
          0.3282684020346094,
          0.3263199296981218,
          0.3243516814950967,
          0.322364124104863,
          0.3203577310453199,
          0.3183329822763683,
          0.31629036380212866,
          0.31423036727245973,
          0.3121534895843014,
          0.31006023248331926,
          0.30795110216635235,
          0.30582660888514523,
          0.30368726655181805,
          0.3015335923465699,
          0.2993661063280371,
          0.29718533104674505,
          0.2949917911621103,
          0.29278601306337815,
          0.29056852449489673,
          0.288339854186146,
          0.28610053148686476,
          0.28385108600764036,
          0.28159204726632314,
          0.27932394434057606,
          0.2770473055268822,
          0.274762658006314,
          0.2724705275173214,
          0.2701714380358465,
          0.26786591146297917,
          0.2655544673203886,
          0.2632376224537838,
          0.2609158907445486,
          0.25858978282977363,
          0.25625980583084934,
          0.25392646309073896,
          0.2515902539200949,
          0.24925167335233525,
          0.24691121190774584,
          0.24456935536673863,
          0.24222658455229107,
          0.23988337512164357,
          0.23754019736729515,
          0.23519751602728423,
          0.23285579010479293,
          0.23051547269706466,
          0.22817701083357822,
          0.22584084532347368,
          0.2235074106121775,
          0.2211771346471283,
          0.21885043875256666,
          0.21652773751327253,
          0.2142094386671562,
          0.21189594300659534,
          0.20958764428836768,
          0.20728492915209304,
          0.20498817704697928,
          0.20269776016676705,
          0.20041404339268326,
          0.19813738424423985,
          0.19586813283769658,
          0.193606631852001,
          0.1913532165020103,
          0.1891082145188036,
          0.1868719461368544,
          0.18464472408789126,
          0.1824268536012001,
          0.18021863241014818
         ],
         "yaxis": "y"
        },
        {
         "legendgroup": "lgEV",
         "marker": {
          "color": "rgb(31, 119, 180)",
          "symbol": "line-ns-open"
         },
         "mode": "markers",
         "name": "lgEV",
         "showlegend": false,
         "type": "scatter",
         "x": [
          22.621059471890536,
          22.639122390301868,
          23.289229975542206,
          23.34154896144616,
          22.260429468756865,
          25.149690856323637,
          24.167801101654966,
          24.488996627582036,
          23.637279091718653,
          24.580267575487735,
          25.089178934404494,
          23.11278085012329,
          23.352247634855047,
          24.453473800807284,
          24.485267952274572,
          24.485831357610106,
          24.746745914235525,
          22.52777922422412,
          22.56507128287956,
          24.34073961529359,
          23.680362710979583,
          23.867975277412278,
          23.87661943265784,
          24.519434995921895,
          24.673084584008365,
          23.323110956627595,
          23.686649295074563,
          23.836753486636
         ],
         "xaxis": "x",
         "y": [
          "lgEV",
          "lgEV",
          "lgEV",
          "lgEV",
          "lgEV",
          "lgEV",
          "lgEV",
          "lgEV",
          "lgEV",
          "lgEV",
          "lgEV",
          "lgEV",
          "lgEV",
          "lgEV",
          "lgEV",
          "lgEV",
          "lgEV",
          "lgEV",
          "lgEV",
          "lgEV",
          "lgEV",
          "lgEV",
          "lgEV",
          "lgEV",
          "lgEV",
          "lgEV",
          "lgEV",
          "lgEV"
         ],
         "yaxis": "y2"
        }
       ],
       "layout": {
        "barmode": "overlay",
        "hovermode": "closest",
        "legend": {
         "traceorder": "reversed"
        },
        "template": {
         "data": {
          "bar": [
           {
            "error_x": {
             "color": "#2a3f5f"
            },
            "error_y": {
             "color": "#2a3f5f"
            },
            "marker": {
             "line": {
              "color": "#E5ECF6",
              "width": 0.5
             },
             "pattern": {
              "fillmode": "overlay",
              "size": 10,
              "solidity": 0.2
             }
            },
            "type": "bar"
           }
          ],
          "barpolar": [
           {
            "marker": {
             "line": {
              "color": "#E5ECF6",
              "width": 0.5
             },
             "pattern": {
              "fillmode": "overlay",
              "size": 10,
              "solidity": 0.2
             }
            },
            "type": "barpolar"
           }
          ],
          "carpet": [
           {
            "aaxis": {
             "endlinecolor": "#2a3f5f",
             "gridcolor": "white",
             "linecolor": "white",
             "minorgridcolor": "white",
             "startlinecolor": "#2a3f5f"
            },
            "baxis": {
             "endlinecolor": "#2a3f5f",
             "gridcolor": "white",
             "linecolor": "white",
             "minorgridcolor": "white",
             "startlinecolor": "#2a3f5f"
            },
            "type": "carpet"
           }
          ],
          "choropleth": [
           {
            "colorbar": {
             "outlinewidth": 0,
             "ticks": ""
            },
            "type": "choropleth"
           }
          ],
          "contour": [
           {
            "colorbar": {
             "outlinewidth": 0,
             "ticks": ""
            },
            "colorscale": [
             [
              0,
              "#0d0887"
             ],
             [
              0.1111111111111111,
              "#46039f"
             ],
             [
              0.2222222222222222,
              "#7201a8"
             ],
             [
              0.3333333333333333,
              "#9c179e"
             ],
             [
              0.4444444444444444,
              "#bd3786"
             ],
             [
              0.5555555555555556,
              "#d8576b"
             ],
             [
              0.6666666666666666,
              "#ed7953"
             ],
             [
              0.7777777777777778,
              "#fb9f3a"
             ],
             [
              0.8888888888888888,
              "#fdca26"
             ],
             [
              1,
              "#f0f921"
             ]
            ],
            "type": "contour"
           }
          ],
          "contourcarpet": [
           {
            "colorbar": {
             "outlinewidth": 0,
             "ticks": ""
            },
            "type": "contourcarpet"
           }
          ],
          "heatmap": [
           {
            "colorbar": {
             "outlinewidth": 0,
             "ticks": ""
            },
            "colorscale": [
             [
              0,
              "#0d0887"
             ],
             [
              0.1111111111111111,
              "#46039f"
             ],
             [
              0.2222222222222222,
              "#7201a8"
             ],
             [
              0.3333333333333333,
              "#9c179e"
             ],
             [
              0.4444444444444444,
              "#bd3786"
             ],
             [
              0.5555555555555556,
              "#d8576b"
             ],
             [
              0.6666666666666666,
              "#ed7953"
             ],
             [
              0.7777777777777778,
              "#fb9f3a"
             ],
             [
              0.8888888888888888,
              "#fdca26"
             ],
             [
              1,
              "#f0f921"
             ]
            ],
            "type": "heatmap"
           }
          ],
          "heatmapgl": [
           {
            "colorbar": {
             "outlinewidth": 0,
             "ticks": ""
            },
            "colorscale": [
             [
              0,
              "#0d0887"
             ],
             [
              0.1111111111111111,
              "#46039f"
             ],
             [
              0.2222222222222222,
              "#7201a8"
             ],
             [
              0.3333333333333333,
              "#9c179e"
             ],
             [
              0.4444444444444444,
              "#bd3786"
             ],
             [
              0.5555555555555556,
              "#d8576b"
             ],
             [
              0.6666666666666666,
              "#ed7953"
             ],
             [
              0.7777777777777778,
              "#fb9f3a"
             ],
             [
              0.8888888888888888,
              "#fdca26"
             ],
             [
              1,
              "#f0f921"
             ]
            ],
            "type": "heatmapgl"
           }
          ],
          "histogram": [
           {
            "marker": {
             "pattern": {
              "fillmode": "overlay",
              "size": 10,
              "solidity": 0.2
             }
            },
            "type": "histogram"
           }
          ],
          "histogram2d": [
           {
            "colorbar": {
             "outlinewidth": 0,
             "ticks": ""
            },
            "colorscale": [
             [
              0,
              "#0d0887"
             ],
             [
              0.1111111111111111,
              "#46039f"
             ],
             [
              0.2222222222222222,
              "#7201a8"
             ],
             [
              0.3333333333333333,
              "#9c179e"
             ],
             [
              0.4444444444444444,
              "#bd3786"
             ],
             [
              0.5555555555555556,
              "#d8576b"
             ],
             [
              0.6666666666666666,
              "#ed7953"
             ],
             [
              0.7777777777777778,
              "#fb9f3a"
             ],
             [
              0.8888888888888888,
              "#fdca26"
             ],
             [
              1,
              "#f0f921"
             ]
            ],
            "type": "histogram2d"
           }
          ],
          "histogram2dcontour": [
           {
            "colorbar": {
             "outlinewidth": 0,
             "ticks": ""
            },
            "colorscale": [
             [
              0,
              "#0d0887"
             ],
             [
              0.1111111111111111,
              "#46039f"
             ],
             [
              0.2222222222222222,
              "#7201a8"
             ],
             [
              0.3333333333333333,
              "#9c179e"
             ],
             [
              0.4444444444444444,
              "#bd3786"
             ],
             [
              0.5555555555555556,
              "#d8576b"
             ],
             [
              0.6666666666666666,
              "#ed7953"
             ],
             [
              0.7777777777777778,
              "#fb9f3a"
             ],
             [
              0.8888888888888888,
              "#fdca26"
             ],
             [
              1,
              "#f0f921"
             ]
            ],
            "type": "histogram2dcontour"
           }
          ],
          "mesh3d": [
           {
            "colorbar": {
             "outlinewidth": 0,
             "ticks": ""
            },
            "type": "mesh3d"
           }
          ],
          "parcoords": [
           {
            "line": {
             "colorbar": {
              "outlinewidth": 0,
              "ticks": ""
             }
            },
            "type": "parcoords"
           }
          ],
          "pie": [
           {
            "automargin": true,
            "type": "pie"
           }
          ],
          "scatter": [
           {
            "fillpattern": {
             "fillmode": "overlay",
             "size": 10,
             "solidity": 0.2
            },
            "type": "scatter"
           }
          ],
          "scatter3d": [
           {
            "line": {
             "colorbar": {
              "outlinewidth": 0,
              "ticks": ""
             }
            },
            "marker": {
             "colorbar": {
              "outlinewidth": 0,
              "ticks": ""
             }
            },
            "type": "scatter3d"
           }
          ],
          "scattercarpet": [
           {
            "marker": {
             "colorbar": {
              "outlinewidth": 0,
              "ticks": ""
             }
            },
            "type": "scattercarpet"
           }
          ],
          "scattergeo": [
           {
            "marker": {
             "colorbar": {
              "outlinewidth": 0,
              "ticks": ""
             }
            },
            "type": "scattergeo"
           }
          ],
          "scattergl": [
           {
            "marker": {
             "colorbar": {
              "outlinewidth": 0,
              "ticks": ""
             }
            },
            "type": "scattergl"
           }
          ],
          "scattermapbox": [
           {
            "marker": {
             "colorbar": {
              "outlinewidth": 0,
              "ticks": ""
             }
            },
            "type": "scattermapbox"
           }
          ],
          "scatterpolar": [
           {
            "marker": {
             "colorbar": {
              "outlinewidth": 0,
              "ticks": ""
             }
            },
            "type": "scatterpolar"
           }
          ],
          "scatterpolargl": [
           {
            "marker": {
             "colorbar": {
              "outlinewidth": 0,
              "ticks": ""
             }
            },
            "type": "scatterpolargl"
           }
          ],
          "scatterternary": [
           {
            "marker": {
             "colorbar": {
              "outlinewidth": 0,
              "ticks": ""
             }
            },
            "type": "scatterternary"
           }
          ],
          "surface": [
           {
            "colorbar": {
             "outlinewidth": 0,
             "ticks": ""
            },
            "colorscale": [
             [
              0,
              "#0d0887"
             ],
             [
              0.1111111111111111,
              "#46039f"
             ],
             [
              0.2222222222222222,
              "#7201a8"
             ],
             [
              0.3333333333333333,
              "#9c179e"
             ],
             [
              0.4444444444444444,
              "#bd3786"
             ],
             [
              0.5555555555555556,
              "#d8576b"
             ],
             [
              0.6666666666666666,
              "#ed7953"
             ],
             [
              0.7777777777777778,
              "#fb9f3a"
             ],
             [
              0.8888888888888888,
              "#fdca26"
             ],
             [
              1,
              "#f0f921"
             ]
            ],
            "type": "surface"
           }
          ],
          "table": [
           {
            "cells": {
             "fill": {
              "color": "#EBF0F8"
             },
             "line": {
              "color": "white"
             }
            },
            "header": {
             "fill": {
              "color": "#C8D4E3"
             },
             "line": {
              "color": "white"
             }
            },
            "type": "table"
           }
          ]
         },
         "layout": {
          "annotationdefaults": {
           "arrowcolor": "#2a3f5f",
           "arrowhead": 0,
           "arrowwidth": 1
          },
          "autotypenumbers": "strict",
          "coloraxis": {
           "colorbar": {
            "outlinewidth": 0,
            "ticks": ""
           }
          },
          "colorscale": {
           "diverging": [
            [
             0,
             "#8e0152"
            ],
            [
             0.1,
             "#c51b7d"
            ],
            [
             0.2,
             "#de77ae"
            ],
            [
             0.3,
             "#f1b6da"
            ],
            [
             0.4,
             "#fde0ef"
            ],
            [
             0.5,
             "#f7f7f7"
            ],
            [
             0.6,
             "#e6f5d0"
            ],
            [
             0.7,
             "#b8e186"
            ],
            [
             0.8,
             "#7fbc41"
            ],
            [
             0.9,
             "#4d9221"
            ],
            [
             1,
             "#276419"
            ]
           ],
           "sequential": [
            [
             0,
             "#0d0887"
            ],
            [
             0.1111111111111111,
             "#46039f"
            ],
            [
             0.2222222222222222,
             "#7201a8"
            ],
            [
             0.3333333333333333,
             "#9c179e"
            ],
            [
             0.4444444444444444,
             "#bd3786"
            ],
            [
             0.5555555555555556,
             "#d8576b"
            ],
            [
             0.6666666666666666,
             "#ed7953"
            ],
            [
             0.7777777777777778,
             "#fb9f3a"
            ],
            [
             0.8888888888888888,
             "#fdca26"
            ],
            [
             1,
             "#f0f921"
            ]
           ],
           "sequentialminus": [
            [
             0,
             "#0d0887"
            ],
            [
             0.1111111111111111,
             "#46039f"
            ],
            [
             0.2222222222222222,
             "#7201a8"
            ],
            [
             0.3333333333333333,
             "#9c179e"
            ],
            [
             0.4444444444444444,
             "#bd3786"
            ],
            [
             0.5555555555555556,
             "#d8576b"
            ],
            [
             0.6666666666666666,
             "#ed7953"
            ],
            [
             0.7777777777777778,
             "#fb9f3a"
            ],
            [
             0.8888888888888888,
             "#fdca26"
            ],
            [
             1,
             "#f0f921"
            ]
           ]
          },
          "colorway": [
           "#636efa",
           "#EF553B",
           "#00cc96",
           "#ab63fa",
           "#FFA15A",
           "#19d3f3",
           "#FF6692",
           "#B6E880",
           "#FF97FF",
           "#FECB52"
          ],
          "font": {
           "color": "#2a3f5f"
          },
          "geo": {
           "bgcolor": "white",
           "lakecolor": "white",
           "landcolor": "#E5ECF6",
           "showlakes": true,
           "showland": true,
           "subunitcolor": "white"
          },
          "hoverlabel": {
           "align": "left"
          },
          "hovermode": "closest",
          "mapbox": {
           "style": "light"
          },
          "paper_bgcolor": "white",
          "plot_bgcolor": "#E5ECF6",
          "polar": {
           "angularaxis": {
            "gridcolor": "white",
            "linecolor": "white",
            "ticks": ""
           },
           "bgcolor": "#E5ECF6",
           "radialaxis": {
            "gridcolor": "white",
            "linecolor": "white",
            "ticks": ""
           }
          },
          "scene": {
           "xaxis": {
            "backgroundcolor": "#E5ECF6",
            "gridcolor": "white",
            "gridwidth": 2,
            "linecolor": "white",
            "showbackground": true,
            "ticks": "",
            "zerolinecolor": "white"
           },
           "yaxis": {
            "backgroundcolor": "#E5ECF6",
            "gridcolor": "white",
            "gridwidth": 2,
            "linecolor": "white",
            "showbackground": true,
            "ticks": "",
            "zerolinecolor": "white"
           },
           "zaxis": {
            "backgroundcolor": "#E5ECF6",
            "gridcolor": "white",
            "gridwidth": 2,
            "linecolor": "white",
            "showbackground": true,
            "ticks": "",
            "zerolinecolor": "white"
           }
          },
          "shapedefaults": {
           "line": {
            "color": "#2a3f5f"
           }
          },
          "ternary": {
           "aaxis": {
            "gridcolor": "white",
            "linecolor": "white",
            "ticks": ""
           },
           "baxis": {
            "gridcolor": "white",
            "linecolor": "white",
            "ticks": ""
           },
           "bgcolor": "#E5ECF6",
           "caxis": {
            "gridcolor": "white",
            "linecolor": "white",
            "ticks": ""
           }
          },
          "title": {
           "x": 0.05
          },
          "xaxis": {
           "automargin": true,
           "gridcolor": "white",
           "linecolor": "white",
           "ticks": "",
           "title": {
            "standoff": 15
           },
           "zerolinecolor": "white",
           "zerolinewidth": 2
          },
          "yaxis": {
           "automargin": true,
           "gridcolor": "white",
           "linecolor": "white",
           "ticks": "",
           "title": {
            "standoff": 15
           },
           "zerolinecolor": "white",
           "zerolinewidth": 2
          }
         }
        },
        "xaxis": {
         "anchor": "y2",
         "domain": [
          0,
          1
         ],
         "zeroline": false
        },
        "yaxis": {
         "anchor": "free",
         "domain": [
          0.35,
          1
         ],
         "position": 0
        },
        "yaxis2": {
         "anchor": "x",
         "domain": [
          0,
          0.25
         ],
         "dtick": 1,
         "showticklabels": false
        }
       }
      }
     },
     "metadata": {},
     "output_type": "display_data"
    }
   ],
   "source": [
    "hist_data = [df_Mat['lgEV'].to_numpy()]\n",
    "group_labels = ['lgEV'] # name of the dataset\n",
    "\n",
    "fig = ff.create_distplot(hist_data, group_labels, bin_size=1000000000)\n",
    "fig.show()"
   ]
  },
  {
   "cell_type": "code",
   "execution_count": 46,
   "metadata": {
    "tags": [
     "remove-output"
    ]
   },
   "outputs": [
    {
     "data": {
      "application/vnd.plotly.v1+json": {
       "config": {
        "plotlyServerURL": "https://plot.ly"
       },
       "data": [
        {
         "autobinx": false,
         "histnorm": "probability density",
         "legendgroup": "lgEBITDA",
         "marker": {
          "color": "rgb(31, 119, 180)"
         },
         "name": "lgEBITDA",
         "opacity": 0.7,
         "type": "histogram",
         "x": [
          20.030182654338553,
          20.333729686684567,
          20.77992968406395,
          20.788397931884194,
          21.94250156793826,
          22.253010980471263,
          21.418311214789437,
          21.58902088211267,
          20.86476539922011,
          22.683501456146367,
          22.854706673736626,
          20.441433289283523,
          20.25757290328776,
          21.86238006892385,
          21.943210410782047,
          22.49499265242423,
          22.571248097270743,
          19.62868540939167,
          19.78537856968469,
          22.20373336808355,
          21.215311618193507,
          21.154352556885804,
          21.351341020762643,
          21.939068393025924,
          22.04074588206594,
          20.530408978237073,
          20.84486292318921,
          21.01329465363866
         ],
         "xaxis": "x",
         "xbins": {
          "end": 22.854706673736626,
          "size": 1000000000,
          "start": 19.62868540939167
         },
         "yaxis": "y"
        },
        {
         "legendgroup": "lgEBITDA",
         "marker": {
          "color": "rgb(31, 119, 180)"
         },
         "mode": "lines",
         "name": "lgEBITDA",
         "showlegend": false,
         "type": "scatter",
         "x": [
          19.62868540939167,
          19.63513745192036,
          19.64158949444905,
          19.64804153697774,
          19.654493579506433,
          19.660945622035122,
          19.66739766456381,
          19.6738497070925,
          19.68030174962119,
          19.68675379214988,
          19.693205834678572,
          19.69965787720726,
          19.70610991973595,
          19.71256196226464,
          19.71901400479333,
          19.72546604732202,
          19.73191808985071,
          19.7383701323794,
          19.74482217490809,
          19.75127421743678,
          19.75772625996547,
          19.76417830249416,
          19.770630345022848,
          19.77708238755154,
          19.78353443008023,
          19.78998647260892,
          19.79643851513761,
          19.8028905576663,
          19.809342600194988,
          19.815794642723677,
          19.82224668525237,
          19.82869872778106,
          19.83515077030975,
          19.84160281283844,
          19.848054855367128,
          19.854506897895817,
          19.86095894042451,
          19.8674109829532,
          19.87386302548189,
          19.880315068010578,
          19.886767110539267,
          19.893219153067957,
          19.899671195596646,
          19.90612323812534,
          19.91257528065403,
          19.919027323182718,
          19.925479365711407,
          19.931931408240096,
          19.938383450768786,
          19.94483549329748,
          19.951287535826168,
          19.957739578354857,
          19.964191620883547,
          19.970643663412236,
          19.977095705940926,
          19.983547748469615,
          19.989999790998308,
          19.996451833526997,
          20.002903876055687,
          20.009355918584376,
          20.015807961113065,
          20.022260003641755,
          20.028712046170448,
          20.035164088699137,
          20.041616131227826,
          20.048068173756516,
          20.054520216285205,
          20.060972258813894,
          20.067424301342584,
          20.073876343871277,
          20.080328386399966,
          20.086780428928655,
          20.093232471457345,
          20.099684513986034,
          20.106136556514723,
          20.112588599043416,
          20.119040641572106,
          20.125492684100795,
          20.131944726629484,
          20.138396769158174,
          20.144848811686863,
          20.151300854215556,
          20.157752896744245,
          20.164204939272935,
          20.170656981801624,
          20.177109024330314,
          20.183561066859003,
          20.190013109387692,
          20.196465151916385,
          20.202917194445075,
          20.209369236973764,
          20.215821279502453,
          20.222273322031143,
          20.228725364559832,
          20.23517740708852,
          20.241629449617214,
          20.248081492145904,
          20.254533534674593,
          20.260985577203282,
          20.26743761973197,
          20.27388966226066,
          20.280341704789354,
          20.286793747318043,
          20.293245789846733,
          20.299697832375422,
          20.30614987490411,
          20.3126019174328,
          20.31905395996149,
          20.325506002490183,
          20.331958045018872,
          20.33841008754756,
          20.34486213007625,
          20.35131417260494,
          20.35776621513363,
          20.364218257662323,
          20.370670300191012,
          20.3771223427197,
          20.38357438524839,
          20.39002642777708,
          20.39647847030577,
          20.40293051283446,
          20.409382555363152,
          20.41583459789184,
          20.42228664042053,
          20.42873868294922,
          20.43519072547791,
          20.4416427680066,
          20.44809481053529,
          20.45454685306398,
          20.46099889559267,
          20.46745093812136,
          20.47390298065005,
          20.48035502317874,
          20.48680706570743,
          20.49325910823612,
          20.49971115076481,
          20.5061631932935,
          20.51261523582219,
          20.519067278350878,
          20.525519320879567,
          20.53197136340826,
          20.53842340593695,
          20.54487544846564,
          20.55132749099433,
          20.557779533523018,
          20.564231576051707,
          20.570683618580397,
          20.57713566110909,
          20.58358770363778,
          20.590039746166468,
          20.596491788695158,
          20.602943831223847,
          20.609395873752536,
          20.61584791628123,
          20.62229995880992,
          20.628752001338608,
          20.635204043867297,
          20.641656086395987,
          20.648108128924676,
          20.65456017145337,
          20.66101221398206,
          20.667464256510748,
          20.673916299039437,
          20.680368341568126,
          20.686820384096816,
          20.693272426625505,
          20.699724469154198,
          20.706176511682887,
          20.712628554211577,
          20.719080596740266,
          20.725532639268955,
          20.731984681797645,
          20.738436724326334,
          20.744888766855027,
          20.751340809383716,
          20.757792851912406,
          20.764244894441095,
          20.770696936969784,
          20.777148979498474,
          20.783601022027167,
          20.790053064555856,
          20.796505107084545,
          20.802957149613235,
          20.809409192141924,
          20.815861234670614,
          20.822313277199306,
          20.828765319727996,
          20.835217362256685,
          20.841669404785375,
          20.848121447314064,
          20.854573489842753,
          20.861025532371443,
          20.867477574900136,
          20.873929617428825,
          20.880381659957514,
          20.886833702486204,
          20.893285745014893,
          20.899737787543582,
          20.90618983007227,
          20.912641872600965,
          20.919093915129654,
          20.925545957658343,
          20.931998000187033,
          20.938450042715722,
          20.94490208524441,
          20.951354127773104,
          20.957806170301794,
          20.964258212830483,
          20.970710255359172,
          20.977162297887862,
          20.98361434041655,
          20.990066382945244,
          20.996518425473933,
          21.002970468002623,
          21.009422510531312,
          21.01587455306,
          21.02232659558869,
          21.02877863811738,
          21.035230680646073,
          21.041682723174763,
          21.048134765703452,
          21.05458680823214,
          21.06103885076083,
          21.06749089328952,
          21.07394293581821,
          21.080394978346902,
          21.08684702087559,
          21.09329906340428,
          21.09975110593297,
          21.10620314846166,
          21.11265519099035,
          21.119107233519042,
          21.12555927604773,
          21.13201131857642,
          21.13846336110511,
          21.1449154036338,
          21.15136744616249,
          21.15781948869118,
          21.16427153121987,
          21.17072357374856,
          21.17717561627725,
          21.18362765880594,
          21.19007970133463,
          21.196531743863318,
          21.20298378639201,
          21.2094358289207,
          21.21588787144939,
          21.22233991397808,
          21.228791956506768,
          21.235243999035458,
          21.241696041564147,
          21.24814808409284,
          21.25460012662153,
          21.26105216915022,
          21.267504211678908,
          21.273956254207597,
          21.280408296736287,
          21.28686033926498,
          21.29331238179367,
          21.29976442432236,
          21.306216466851048,
          21.312668509379737,
          21.319120551908426,
          21.32557259443712,
          21.33202463696581,
          21.338476679494498,
          21.344928722023187,
          21.351380764551877,
          21.357832807080566,
          21.364284849609255,
          21.37073689213795,
          21.377188934666638,
          21.383640977195327,
          21.390093019724016,
          21.396545062252706,
          21.402997104781395,
          21.409449147310085,
          21.415901189838777,
          21.422353232367467,
          21.428805274896156,
          21.435257317424846,
          21.441709359953535,
          21.448161402482224,
          21.454613445010917,
          21.461065487539607,
          21.467517530068296,
          21.473969572596985,
          21.480421615125675,
          21.486873657654364,
          21.493325700183057,
          21.499777742711746,
          21.506229785240436,
          21.512681827769125,
          21.519133870297814,
          21.525585912826504,
          21.532037955355193,
          21.538489997883886,
          21.544942040412575,
          21.551394082941265,
          21.557846125469954,
          21.564298167998643,
          21.570750210527333,
          21.577202253056022,
          21.583654295584715,
          21.590106338113404,
          21.596558380642094,
          21.603010423170783,
          21.609462465699472,
          21.615914508228162,
          21.622366550756855,
          21.628818593285544,
          21.635270635814233,
          21.641722678342923,
          21.648174720871612,
          21.6546267634003,
          21.661078805928994,
          21.667530848457684,
          21.673982890986373,
          21.680434933515063,
          21.686886976043752,
          21.69333901857244,
          21.69979106110113,
          21.706243103629824,
          21.712695146158513,
          21.719147188687202,
          21.72559923121589,
          21.73205127374458,
          21.73850331627327,
          21.74495535880196,
          21.751407401330653,
          21.757859443859342,
          21.76431148638803,
          21.77076352891672,
          21.77721557144541,
          21.783667613974103,
          21.790119656502792,
          21.79657169903148,
          21.80302374156017,
          21.80947578408886,
          21.81592782661755,
          21.82237986914624,
          21.828831911674932,
          21.83528395420362,
          21.84173599673231,
          21.848188039261,
          21.85464008178969,
          21.86109212431838,
          21.86754416684707,
          21.87399620937576,
          21.88044825190445,
          21.88690029443314,
          21.89335233696183,
          21.89980437949052,
          21.906256422019208,
          21.912708464547897,
          21.91916050707659,
          21.92561254960528,
          21.93206459213397,
          21.93851663466266,
          21.944968677191348,
          21.95142071972004,
          21.957872762248726,
          21.96432480477742,
          21.97077684730611,
          21.977228889834798,
          21.983680932363487,
          21.990132974892177,
          21.99658501742087,
          22.00303705994956,
          22.00948910247825,
          22.015941145006938,
          22.022393187535627,
          22.028845230064316,
          22.035297272593006,
          22.0417493151217,
          22.048201357650388,
          22.054653400179077,
          22.061105442707767,
          22.067557485236456,
          22.074009527765146,
          22.080461570293835,
          22.086913612822528,
          22.093365655351217,
          22.099817697879907,
          22.106269740408596,
          22.112721782937285,
          22.119173825465975,
          22.125625867994668,
          22.132077910523357,
          22.138529953052046,
          22.144981995580736,
          22.151434038109425,
          22.157886080638114,
          22.164338123166807,
          22.170790165695497,
          22.177242208224186,
          22.183694250752875,
          22.190146293281565,
          22.196598335810254,
          22.203050378338943,
          22.209502420867636,
          22.215954463396326,
          22.222406505925015,
          22.228858548453704,
          22.235310590982394,
          22.241762633511083,
          22.248214676039773,
          22.254666718568465,
          22.261118761097155,
          22.267570803625844,
          22.274022846154534,
          22.280474888683223,
          22.286926931211916,
          22.293378973740605,
          22.299831016269295,
          22.306283058797984,
          22.312735101326673,
          22.319187143855363,
          22.325639186384052,
          22.332091228912745,
          22.338543271441434,
          22.344995313970124,
          22.351447356498813,
          22.357899399027502,
          22.36435144155619,
          22.37080348408488,
          22.377255526613574,
          22.383707569142263,
          22.390159611670953,
          22.396611654199642,
          22.40306369672833,
          22.40951573925702,
          22.41596778178571,
          22.422419824314403,
          22.428871866843092,
          22.435323909371782,
          22.44177595190047,
          22.44822799442916,
          22.454680036957853,
          22.461132079486543,
          22.467584122015232,
          22.47403616454392,
          22.48048820707261,
          22.4869402496013,
          22.49339229212999,
          22.499844334658682,
          22.506296377187372,
          22.51274841971606,
          22.51920046224475,
          22.52565250477344,
          22.53210454730213,
          22.53855658983082,
          22.54500863235951,
          22.5514606748882,
          22.55791271741689,
          22.56436475994558,
          22.57081680247427,
          22.57726884500296,
          22.583720887531648,
          22.59017293006034,
          22.59662497258903,
          22.60307701511772,
          22.60952905764641,
          22.615981100175098,
          22.622433142703787,
          22.62888518523248,
          22.63533722776117,
          22.64178927028986,
          22.64824131281855,
          22.654693355347238,
          22.661145397875927,
          22.66759744040462,
          22.67404948293331,
          22.680501525462,
          22.686953567990688,
          22.693405610519378,
          22.699857653048067,
          22.706309695576756,
          22.71276173810545,
          22.71921378063414,
          22.725665823162828,
          22.732117865691517,
          22.738569908220207,
          22.745021950748896,
          22.751473993277585,
          22.75792603580628,
          22.764378078334968,
          22.770830120863657,
          22.777282163392346,
          22.783734205921036,
          22.79018624844973,
          22.796638290978418,
          22.803090333507107,
          22.809542376035797,
          22.815994418564486,
          22.822446461093175,
          22.828898503621865,
          22.835350546150558,
          22.841802588679247,
          22.848254631207936
         ],
         "xaxis": "x",
         "y": [
          0.11945987100862276,
          0.12076348933894872,
          0.12207077674495999,
          0.12338164287005968,
          0.12469599827557866,
          0.12601375445880275,
          0.12733482386847608,
          0.1286591199177397,
          0.1299865569945056,
          0.13131705046925168,
          0.13265051670023353,
          0.13398687303610698,
          0.13532603781597533,
          0.13666793036685226,
          0.13801247099856745,
          0.1393595809961126,
          0.14070918260946585,
          0.14206119904090247,
          0.14341555442982348,
          0.14477217383514032,
          0.14613098321523735,
          0.14749190940556076,
          0.14885488009387204,
          0.15021982379321736,
          0.15158666981264737,
          0.15295534822576598,
          0.15432578983713918,
          0.1556979261466392,
          0.15707168931178211,
          0.15844701210812567,
          0.15982382788779706,
          0.16120207053621813,
          0.162581674427118,
          0.16396257437588527,
          0.16534470559136508,
          0.16672800362616821,
          0.16811240432558328,
          0.1694978437751735,
          0.17088425824715725,
          0.17227158414564958,
          0.17365975795086663,
          0.1750487161623873,
          0.17643839524155663,
          0.17782873155314466,
          0.17921966130634162,
          0.18061112049520384,
          0.18200304483863608,
          0.1833953697200209,
          0.18478803012659048,
          0.1861809605886468,
          0.18757409511872342,
          0.18896736715080867,
          0.19036070947970543,
          0.1917540542006543,
          0.1931473326493086,
          0.19454047534216395,
          0.19593341191754618,
          0.19732607107725117,
          0.19871838052894744,
          0.2001102669294245,
          0.20150165582879814,
          0.20289247161575522,
          0.20428263746394792,
          0.2056720752796143,
          0.20706070565053447,
          0.208448447796396,
          0.20983521952066783,
          0.211220937164066,
          0.21260551555969878,
          0.2139888679899657,
          0.2153709061453019,
          0.216751540084844,
          0.2181306781990865,
          0.2195082271746118,
          0.22088409196096143,
          0.2222581757397188,
          0.22363037989586756,
          0.22500060399149796,
          0.2263687457419143,
          0.22773470099420176,
          0.22909836370831949,
          0.23045962594076297,
          0.23181837783084813,
          0.23317450758967412,
          0.23452790149179414,
          0.23587844386965023,
          0.23722601711080335,
          0.23857050165800056,
          0.23991177601210353,
          0.24124971673791745,
          0.24258419847294763,
          0.2439150939390979,
          0.2452422739573418,
          0.24656560746538078,
          0.24788496153830358,
          0.24920020141225993,
          0.2505111905111566,
          0.2518177904763814,
          0.2531198611995577,
          0.25441726085832855,
          0.25570984595516755,
          0.25699747135920936,
          0.258279990351087,
          0.25955725467077173,
          0.26082911456838676,
          0.26209541885798965,
          0.26335601497428635,
          0.26461074903226733,
          0.2658594658897268,
          0.2671020092126356,
          0.2683382215433418,
          0.26956794437154863,
          0.2707910182080419,
          0.27200728266111673,
          0.27321657651566406,
          0.27441873781485593,
          0.27561360394439904,
          0.2768010117192804,
          0.27798079747296206,
          0.27915279714895935,
          0.2803168463947417,
          0.28147278065789116,
          0.2826204352844463,
          0.2837596456193698,
          0.28489024710905814,
          0.28601207540581647,
          0.28712496647423025,
          0.2882287566993425,
          0.2893232829965555,
          0.2904083829231777,
          0.2914838947915156,
          0.29254965778342873,
          0.2936055120662525,
          0.294651298909994,
          0.2956868608056944,
          0.29671204158487635,
          0.2977266865399554,
          0.29873064254552145,
          0.2997237581803829,
          0.3007058838502621,
          0.3016768719110357,
          0.3026365767924028,
          0.30358485512187716,
          0.3045215658489722,
          0.3054465703694763,
          0.30635973264969196,
          0.3072609193505198,
          0.30814999995126635,
          0.30902684687305,
          0.3098913356016861,
          0.3107433448099186,
          0.31158275647887784,
          0.31240945601862896,
          0.3132233323876937,
          0.31402427821140194,
          0.3148121898989581,
          0.3155869677590772,
          0.3163485161140694,
          0.31709674341223626,
          0.3178315623384497,
          0.31855288992277764,
          0.3192606476470319,
          0.3199547615490947,
          0.3206351623249038,
          0.32130178542795795,
          0.32195457116621296,
          0.3225934647962406,
          0.3232184166145162,
          0.32382938204571404,
          0.32442632172787317,
          0.3250092015943176,
          0.32557799295219675,
          0.32613267255753,
          0.32667322268663107,
          0.32719963120379014,
          0.32771189162510084,
          0.3282100031783116,
          0.32869397085859065,
          0.3291638054800934,
          0.32961952372322506,
          0.3300611481774878,
          0.33048870737981917,
          0.33090223584831363,
          0.3313017741112359,
          0.3316873687312324,
          0.332059072324651,
          0.33241694357588536,
          0.3327610472466617,
          0.33309145418019076,
          0.3334082413001108,
          0.33371149160415725,
          0.33400129415248914,
          0.33427774405061844,
          0.33454094242688426,
          0.3347909964044244,
          0.3350280190675995,
          0.3352521294228303,
          0.33546345235381564,
          0.33566211857110195,
          0.33584826455598266,
          0.33602203249871054,
          0.33618357023101414,
          0.3363330311529097,
          0.3364705741538146,
          0.3365963635279675,
          0.3367105688841698,
          0.33681336504986825,
          0.3369049319696076,
          0.33698545459788476,
          0.3370551227864445,
          0.3371141311660656,
          0.33716267902288843,
          0.33720097016934536,
          0.337229212809762,
          0.3372476194006994,
          0.337256406506124,
          0.33725579464748456,
          0.3372460081487996,
          0.3372272749768485,
          0.337199826576578,
          0.33716389770183924,
          0.33711972624157355,
          0.3370675530415782,
          0.337007621721985,
          0.33694017849059216,
          0.336865471952199,
          0.3367837529140957,
          0.3366952741878677,
          0.3366002903876838,
          0.3364990577252357,
          0.3363918338015114,
          0.3362788773955829,
          0.33616044825059965,
          0.3360368068571816,
          0.33590821423441003,
          0.33577493170862516,
          0.3356372206902361,
          0.33549534244875934,
          0.3353495578863051,
          0.33520012730973286,
          0.33504731020170303,
          0.3348913649908578,
          0.33473254882136144,
          0.3345711173220388,
          0.33440732437535353,
          0.3342414218864655,
          0.33407365955261503,
          0.3339042846330784,
          0.3337335417199468,
          0.33356167250997376,
          0.3333889155777483,
          0.33321550615044043,
          0.3330416758843734,
          0.332867652643677,
          0.3326936602812708,
          0.33251991842243156,
          0.3323466422511955,
          0.3321740422998419,
          0.3320023242417115,
          0.3318316886875999,
          0.3316623309859735,
          0.33149444102724734,
          0.331328203052363,
          0.3311637954659019,
          0.3310013906539633,
          0.3308411548070345,
          0.3306832477480768,
          0.33052782276604153,
          0.33037502645503314,
          0.33022499855932086,
          0.33007787182440446,
          0.3299337718543264,
          0.3297928169754207,
          0.32965511810667736,
          0.3295207786369008,
          0.3293898943088259,
          0.32926255311035324,
          0.3291388351730542,
          0.3290188126780894,
          0.3289025497696752,
          0.32879010247622403,
          0.3286815186392751,
          0.3285768378503243,
          0.32847609139565126,
          0.32837930220922984,
          0.3282864848338042,
          0.32819764539019664,
          0.3281127815549072,
          0.32803188254605087,
          0.3279549291176731,
          0.3278818935624681,
          0.32781273972291775,
          0.3277474230108553,
          0.32768589043545043,
          0.32762808063959825,
          0.327573923944685,
          0.32752334240369313,
          0.3274762498625976,
          0.3274325520299914,
          0.327392146554871,
          0.32735492311250186,
          0.3273207634982684,
          0.3272895417294084,
          0.32726112415451786,
          0.32723536957070243,
          0.3272121293482418,
          0.3271912475626235,
          0.32717256113379184,
          0.32715589997244976,
          0.32714108713323947,
          0.3271279389746212,
          0.32711626532525867,
          0.3271058696567126,
          0.3270965492622329,
          0.3270880954414364,
          0.32708029369064284,
          0.3270729238986434,
          0.32706576054765873,
          0.3270585729192449,
          0.3270511253048961,
          0.32704317722108667,
          0.3270344836284912,
          0.3270247951551143,
          0.32701385832305835,
          0.3270014157786548,
          0.3269872065256766,
          0.32697096616134913,
          0.32695242711487554,
          0.3269313188881847,
          0.3269073682986132,
          0.3268802997232293,
          0.32684983534450457,
          0.32681569539704153,
          0.32677759841506043,
          0.3267352614803559,
          0.3266884004704275,
          0.3266367303064951,
          0.326579965201109,
          0.3265178189050681,
          0.32645000495336157,
          0.32637623690985323,
          0.32629622861043145,
          0.32620969440435,
          0.32611634939349254,
          0.3260159096692975,
          0.32590809254708103,
          0.3257926167975105,
          0.32566920287497847,
          0.3255375731426382,
          0.32539745209386756,
          0.32524856656993556,
          0.32509064597365406,
          0.3249234224788017,
          0.32474663123512215,
          0.32456001056869876,
          0.32436330217752446,
          0.3241562513220887,
          0.323938607010816,
          0.3237101221801989,
          0.323470553869479,
          0.32321966338973673,
          0.32295721648726483,
          0.3226829835011046,
          0.3223967395146442,
          0.322098264501175,
          0.3217873434633255,
          0.3214637665662935,
          0.3211273292648145,
          0.32077783242380975,
          0.320415082432668,
          0.3200388913131325,
          0.3196490768207647,
          0.3192454625399759,
          0.3188278779726203,
          0.3183961586201607,
          0.3179501460594225,
          0.3174896880119625,
          0.31701463840709176,
          0.31652485743859743,
          0.3160202116152211,
          0.3155005738049534,
          0.3149658232732279,
          0.3144158457150872,
          0.31385053328141477,
          0.3132697845993341,
          0.3126735047868764,
          0.31206160546203315,
          0.3114340047463123,
          0.31079062726292744,
          0.31013140412974916,
          0.3094562729471607,
          0.3087651777809651,
          0.308058069140487,
          0.30733490395202917,
          0.30659564552784385,
          0.305840263530774,
          0.3050687339347425,
          0.30428103898125025,
          0.3034771671320592,
          0.3026571130182349,
          0.30182087738572605,
          0.3009684670376602,
          0.3000998947735288,
          0.2992151793254515,
          0.29831434529169387,
          0.2973974230676189,
          0.29646444877425526,
          0.29551546418465857,
          0.29455051664824367,
          0.29356965901326554,
          0.29257294954762064,
          0.29156045185814083,
          0.29053223480854984,
          0.2894883724362471,
          0.28842894386807977,
          0.287354033235264,
          0.28626372958761015,
          0.2851581268071977,
          0.2840373235216544,
          0.2829014230171693,
          0.2817505331513873,
          0.28058476626630396,
          0.279404239101296,
          0.27820907270640133,
          0.2769993923559625,
          0.27577532746274375,
          0.27453701149261683,
          0.27328458187992427,
          0.27201817994358773,
          0.27073795080406404,
          0.26944404330121347,
          0.26813660991315136,
          0.2668158066761469,
          0.2654817931056238,
          0.26413473211831423,
          0.26277478995560244,
          0.26140213610810004,
          0.2600169432414852,
          0.2586193871236168,
          0.25720964655295336,
          0.25578790328827483,
          0.2543543419797235,
          0.2529091501011526,
          0.2514525178837801,
          0.24998463825112796,
          0.24850570675523892,
          0.24701592151413584,
          0.2455154831504929,
          0.2440045947314958,
          0.24248346170984003,
          0.24095229186582837,
          0.23941129525051794,
          0.23786068412986425,
          0.23630067292981205,
          0.2347314781822551,
          0.233153318471832,
          0.23156641438346257,
          0.22997098845057437,
          0.22836726510394115,
          0.22675547062106238,
          0.22513583307601168,
          0.2235085822896664,
          0.22187394978025785,
          0.22023216871414655,
          0.21858347385675903,
          0.2169281015235901,
          0.2152662895312067,
          0.21359827714815707,
          0.21192430504572318,
          0.21024461524842517,
          0.20855945108420634,
          0.20686905713422118,
          0.20517367918215088,
          0.20347356416297574,
          0.20176896011113174,
          0.20006011610798383,
          0.19834728222855003,
          0.19663070948741262,
          0.1949106497837559,
          0.1931873558454783,
          0.19146108117231278,
          0.18973207997791844,
          0.18800060713089553,
          0.18626691809466925,
          0.18453126886621715,
          0.18279391591359737,
          0.18105511611225522,
          0.17931512668006813,
          0.17757420511112493,
          0.1758326091082106,
          0.17409059651398287,
          0.17234842524085067,
          0.1706063531995201,
          0.16886463822624145,
          0.16712353800874338,
          0.1653833100108738,
          0.16364421139596022,
          0.1619064989489116,
          0.16017042899708936,
          0.15843625732996885
         ],
         "yaxis": "y"
        },
        {
         "legendgroup": "lgEBITDA",
         "marker": {
          "color": "rgb(31, 119, 180)",
          "symbol": "line-ns-open"
         },
         "mode": "markers",
         "name": "lgEBITDA",
         "showlegend": false,
         "type": "scatter",
         "x": [
          20.030182654338553,
          20.333729686684567,
          20.77992968406395,
          20.788397931884194,
          21.94250156793826,
          22.253010980471263,
          21.418311214789437,
          21.58902088211267,
          20.86476539922011,
          22.683501456146367,
          22.854706673736626,
          20.441433289283523,
          20.25757290328776,
          21.86238006892385,
          21.943210410782047,
          22.49499265242423,
          22.571248097270743,
          19.62868540939167,
          19.78537856968469,
          22.20373336808355,
          21.215311618193507,
          21.154352556885804,
          21.351341020762643,
          21.939068393025924,
          22.04074588206594,
          20.530408978237073,
          20.84486292318921,
          21.01329465363866
         ],
         "xaxis": "x",
         "y": [
          "lgEBITDA",
          "lgEBITDA",
          "lgEBITDA",
          "lgEBITDA",
          "lgEBITDA",
          "lgEBITDA",
          "lgEBITDA",
          "lgEBITDA",
          "lgEBITDA",
          "lgEBITDA",
          "lgEBITDA",
          "lgEBITDA",
          "lgEBITDA",
          "lgEBITDA",
          "lgEBITDA",
          "lgEBITDA",
          "lgEBITDA",
          "lgEBITDA",
          "lgEBITDA",
          "lgEBITDA",
          "lgEBITDA",
          "lgEBITDA",
          "lgEBITDA",
          "lgEBITDA",
          "lgEBITDA",
          "lgEBITDA",
          "lgEBITDA",
          "lgEBITDA"
         ],
         "yaxis": "y2"
        }
       ],
       "layout": {
        "barmode": "overlay",
        "hovermode": "closest",
        "legend": {
         "traceorder": "reversed"
        },
        "template": {
         "data": {
          "bar": [
           {
            "error_x": {
             "color": "#2a3f5f"
            },
            "error_y": {
             "color": "#2a3f5f"
            },
            "marker": {
             "line": {
              "color": "#E5ECF6",
              "width": 0.5
             },
             "pattern": {
              "fillmode": "overlay",
              "size": 10,
              "solidity": 0.2
             }
            },
            "type": "bar"
           }
          ],
          "barpolar": [
           {
            "marker": {
             "line": {
              "color": "#E5ECF6",
              "width": 0.5
             },
             "pattern": {
              "fillmode": "overlay",
              "size": 10,
              "solidity": 0.2
             }
            },
            "type": "barpolar"
           }
          ],
          "carpet": [
           {
            "aaxis": {
             "endlinecolor": "#2a3f5f",
             "gridcolor": "white",
             "linecolor": "white",
             "minorgridcolor": "white",
             "startlinecolor": "#2a3f5f"
            },
            "baxis": {
             "endlinecolor": "#2a3f5f",
             "gridcolor": "white",
             "linecolor": "white",
             "minorgridcolor": "white",
             "startlinecolor": "#2a3f5f"
            },
            "type": "carpet"
           }
          ],
          "choropleth": [
           {
            "colorbar": {
             "outlinewidth": 0,
             "ticks": ""
            },
            "type": "choropleth"
           }
          ],
          "contour": [
           {
            "colorbar": {
             "outlinewidth": 0,
             "ticks": ""
            },
            "colorscale": [
             [
              0,
              "#0d0887"
             ],
             [
              0.1111111111111111,
              "#46039f"
             ],
             [
              0.2222222222222222,
              "#7201a8"
             ],
             [
              0.3333333333333333,
              "#9c179e"
             ],
             [
              0.4444444444444444,
              "#bd3786"
             ],
             [
              0.5555555555555556,
              "#d8576b"
             ],
             [
              0.6666666666666666,
              "#ed7953"
             ],
             [
              0.7777777777777778,
              "#fb9f3a"
             ],
             [
              0.8888888888888888,
              "#fdca26"
             ],
             [
              1,
              "#f0f921"
             ]
            ],
            "type": "contour"
           }
          ],
          "contourcarpet": [
           {
            "colorbar": {
             "outlinewidth": 0,
             "ticks": ""
            },
            "type": "contourcarpet"
           }
          ],
          "heatmap": [
           {
            "colorbar": {
             "outlinewidth": 0,
             "ticks": ""
            },
            "colorscale": [
             [
              0,
              "#0d0887"
             ],
             [
              0.1111111111111111,
              "#46039f"
             ],
             [
              0.2222222222222222,
              "#7201a8"
             ],
             [
              0.3333333333333333,
              "#9c179e"
             ],
             [
              0.4444444444444444,
              "#bd3786"
             ],
             [
              0.5555555555555556,
              "#d8576b"
             ],
             [
              0.6666666666666666,
              "#ed7953"
             ],
             [
              0.7777777777777778,
              "#fb9f3a"
             ],
             [
              0.8888888888888888,
              "#fdca26"
             ],
             [
              1,
              "#f0f921"
             ]
            ],
            "type": "heatmap"
           }
          ],
          "heatmapgl": [
           {
            "colorbar": {
             "outlinewidth": 0,
             "ticks": ""
            },
            "colorscale": [
             [
              0,
              "#0d0887"
             ],
             [
              0.1111111111111111,
              "#46039f"
             ],
             [
              0.2222222222222222,
              "#7201a8"
             ],
             [
              0.3333333333333333,
              "#9c179e"
             ],
             [
              0.4444444444444444,
              "#bd3786"
             ],
             [
              0.5555555555555556,
              "#d8576b"
             ],
             [
              0.6666666666666666,
              "#ed7953"
             ],
             [
              0.7777777777777778,
              "#fb9f3a"
             ],
             [
              0.8888888888888888,
              "#fdca26"
             ],
             [
              1,
              "#f0f921"
             ]
            ],
            "type": "heatmapgl"
           }
          ],
          "histogram": [
           {
            "marker": {
             "pattern": {
              "fillmode": "overlay",
              "size": 10,
              "solidity": 0.2
             }
            },
            "type": "histogram"
           }
          ],
          "histogram2d": [
           {
            "colorbar": {
             "outlinewidth": 0,
             "ticks": ""
            },
            "colorscale": [
             [
              0,
              "#0d0887"
             ],
             [
              0.1111111111111111,
              "#46039f"
             ],
             [
              0.2222222222222222,
              "#7201a8"
             ],
             [
              0.3333333333333333,
              "#9c179e"
             ],
             [
              0.4444444444444444,
              "#bd3786"
             ],
             [
              0.5555555555555556,
              "#d8576b"
             ],
             [
              0.6666666666666666,
              "#ed7953"
             ],
             [
              0.7777777777777778,
              "#fb9f3a"
             ],
             [
              0.8888888888888888,
              "#fdca26"
             ],
             [
              1,
              "#f0f921"
             ]
            ],
            "type": "histogram2d"
           }
          ],
          "histogram2dcontour": [
           {
            "colorbar": {
             "outlinewidth": 0,
             "ticks": ""
            },
            "colorscale": [
             [
              0,
              "#0d0887"
             ],
             [
              0.1111111111111111,
              "#46039f"
             ],
             [
              0.2222222222222222,
              "#7201a8"
             ],
             [
              0.3333333333333333,
              "#9c179e"
             ],
             [
              0.4444444444444444,
              "#bd3786"
             ],
             [
              0.5555555555555556,
              "#d8576b"
             ],
             [
              0.6666666666666666,
              "#ed7953"
             ],
             [
              0.7777777777777778,
              "#fb9f3a"
             ],
             [
              0.8888888888888888,
              "#fdca26"
             ],
             [
              1,
              "#f0f921"
             ]
            ],
            "type": "histogram2dcontour"
           }
          ],
          "mesh3d": [
           {
            "colorbar": {
             "outlinewidth": 0,
             "ticks": ""
            },
            "type": "mesh3d"
           }
          ],
          "parcoords": [
           {
            "line": {
             "colorbar": {
              "outlinewidth": 0,
              "ticks": ""
             }
            },
            "type": "parcoords"
           }
          ],
          "pie": [
           {
            "automargin": true,
            "type": "pie"
           }
          ],
          "scatter": [
           {
            "fillpattern": {
             "fillmode": "overlay",
             "size": 10,
             "solidity": 0.2
            },
            "type": "scatter"
           }
          ],
          "scatter3d": [
           {
            "line": {
             "colorbar": {
              "outlinewidth": 0,
              "ticks": ""
             }
            },
            "marker": {
             "colorbar": {
              "outlinewidth": 0,
              "ticks": ""
             }
            },
            "type": "scatter3d"
           }
          ],
          "scattercarpet": [
           {
            "marker": {
             "colorbar": {
              "outlinewidth": 0,
              "ticks": ""
             }
            },
            "type": "scattercarpet"
           }
          ],
          "scattergeo": [
           {
            "marker": {
             "colorbar": {
              "outlinewidth": 0,
              "ticks": ""
             }
            },
            "type": "scattergeo"
           }
          ],
          "scattergl": [
           {
            "marker": {
             "colorbar": {
              "outlinewidth": 0,
              "ticks": ""
             }
            },
            "type": "scattergl"
           }
          ],
          "scattermapbox": [
           {
            "marker": {
             "colorbar": {
              "outlinewidth": 0,
              "ticks": ""
             }
            },
            "type": "scattermapbox"
           }
          ],
          "scatterpolar": [
           {
            "marker": {
             "colorbar": {
              "outlinewidth": 0,
              "ticks": ""
             }
            },
            "type": "scatterpolar"
           }
          ],
          "scatterpolargl": [
           {
            "marker": {
             "colorbar": {
              "outlinewidth": 0,
              "ticks": ""
             }
            },
            "type": "scatterpolargl"
           }
          ],
          "scatterternary": [
           {
            "marker": {
             "colorbar": {
              "outlinewidth": 0,
              "ticks": ""
             }
            },
            "type": "scatterternary"
           }
          ],
          "surface": [
           {
            "colorbar": {
             "outlinewidth": 0,
             "ticks": ""
            },
            "colorscale": [
             [
              0,
              "#0d0887"
             ],
             [
              0.1111111111111111,
              "#46039f"
             ],
             [
              0.2222222222222222,
              "#7201a8"
             ],
             [
              0.3333333333333333,
              "#9c179e"
             ],
             [
              0.4444444444444444,
              "#bd3786"
             ],
             [
              0.5555555555555556,
              "#d8576b"
             ],
             [
              0.6666666666666666,
              "#ed7953"
             ],
             [
              0.7777777777777778,
              "#fb9f3a"
             ],
             [
              0.8888888888888888,
              "#fdca26"
             ],
             [
              1,
              "#f0f921"
             ]
            ],
            "type": "surface"
           }
          ],
          "table": [
           {
            "cells": {
             "fill": {
              "color": "#EBF0F8"
             },
             "line": {
              "color": "white"
             }
            },
            "header": {
             "fill": {
              "color": "#C8D4E3"
             },
             "line": {
              "color": "white"
             }
            },
            "type": "table"
           }
          ]
         },
         "layout": {
          "annotationdefaults": {
           "arrowcolor": "#2a3f5f",
           "arrowhead": 0,
           "arrowwidth": 1
          },
          "autotypenumbers": "strict",
          "coloraxis": {
           "colorbar": {
            "outlinewidth": 0,
            "ticks": ""
           }
          },
          "colorscale": {
           "diverging": [
            [
             0,
             "#8e0152"
            ],
            [
             0.1,
             "#c51b7d"
            ],
            [
             0.2,
             "#de77ae"
            ],
            [
             0.3,
             "#f1b6da"
            ],
            [
             0.4,
             "#fde0ef"
            ],
            [
             0.5,
             "#f7f7f7"
            ],
            [
             0.6,
             "#e6f5d0"
            ],
            [
             0.7,
             "#b8e186"
            ],
            [
             0.8,
             "#7fbc41"
            ],
            [
             0.9,
             "#4d9221"
            ],
            [
             1,
             "#276419"
            ]
           ],
           "sequential": [
            [
             0,
             "#0d0887"
            ],
            [
             0.1111111111111111,
             "#46039f"
            ],
            [
             0.2222222222222222,
             "#7201a8"
            ],
            [
             0.3333333333333333,
             "#9c179e"
            ],
            [
             0.4444444444444444,
             "#bd3786"
            ],
            [
             0.5555555555555556,
             "#d8576b"
            ],
            [
             0.6666666666666666,
             "#ed7953"
            ],
            [
             0.7777777777777778,
             "#fb9f3a"
            ],
            [
             0.8888888888888888,
             "#fdca26"
            ],
            [
             1,
             "#f0f921"
            ]
           ],
           "sequentialminus": [
            [
             0,
             "#0d0887"
            ],
            [
             0.1111111111111111,
             "#46039f"
            ],
            [
             0.2222222222222222,
             "#7201a8"
            ],
            [
             0.3333333333333333,
             "#9c179e"
            ],
            [
             0.4444444444444444,
             "#bd3786"
            ],
            [
             0.5555555555555556,
             "#d8576b"
            ],
            [
             0.6666666666666666,
             "#ed7953"
            ],
            [
             0.7777777777777778,
             "#fb9f3a"
            ],
            [
             0.8888888888888888,
             "#fdca26"
            ],
            [
             1,
             "#f0f921"
            ]
           ]
          },
          "colorway": [
           "#636efa",
           "#EF553B",
           "#00cc96",
           "#ab63fa",
           "#FFA15A",
           "#19d3f3",
           "#FF6692",
           "#B6E880",
           "#FF97FF",
           "#FECB52"
          ],
          "font": {
           "color": "#2a3f5f"
          },
          "geo": {
           "bgcolor": "white",
           "lakecolor": "white",
           "landcolor": "#E5ECF6",
           "showlakes": true,
           "showland": true,
           "subunitcolor": "white"
          },
          "hoverlabel": {
           "align": "left"
          },
          "hovermode": "closest",
          "mapbox": {
           "style": "light"
          },
          "paper_bgcolor": "white",
          "plot_bgcolor": "#E5ECF6",
          "polar": {
           "angularaxis": {
            "gridcolor": "white",
            "linecolor": "white",
            "ticks": ""
           },
           "bgcolor": "#E5ECF6",
           "radialaxis": {
            "gridcolor": "white",
            "linecolor": "white",
            "ticks": ""
           }
          },
          "scene": {
           "xaxis": {
            "backgroundcolor": "#E5ECF6",
            "gridcolor": "white",
            "gridwidth": 2,
            "linecolor": "white",
            "showbackground": true,
            "ticks": "",
            "zerolinecolor": "white"
           },
           "yaxis": {
            "backgroundcolor": "#E5ECF6",
            "gridcolor": "white",
            "gridwidth": 2,
            "linecolor": "white",
            "showbackground": true,
            "ticks": "",
            "zerolinecolor": "white"
           },
           "zaxis": {
            "backgroundcolor": "#E5ECF6",
            "gridcolor": "white",
            "gridwidth": 2,
            "linecolor": "white",
            "showbackground": true,
            "ticks": "",
            "zerolinecolor": "white"
           }
          },
          "shapedefaults": {
           "line": {
            "color": "#2a3f5f"
           }
          },
          "ternary": {
           "aaxis": {
            "gridcolor": "white",
            "linecolor": "white",
            "ticks": ""
           },
           "baxis": {
            "gridcolor": "white",
            "linecolor": "white",
            "ticks": ""
           },
           "bgcolor": "#E5ECF6",
           "caxis": {
            "gridcolor": "white",
            "linecolor": "white",
            "ticks": ""
           }
          },
          "title": {
           "x": 0.05
          },
          "xaxis": {
           "automargin": true,
           "gridcolor": "white",
           "linecolor": "white",
           "ticks": "",
           "title": {
            "standoff": 15
           },
           "zerolinecolor": "white",
           "zerolinewidth": 2
          },
          "yaxis": {
           "automargin": true,
           "gridcolor": "white",
           "linecolor": "white",
           "ticks": "",
           "title": {
            "standoff": 15
           },
           "zerolinecolor": "white",
           "zerolinewidth": 2
          }
         }
        },
        "xaxis": {
         "anchor": "y2",
         "domain": [
          0,
          1
         ],
         "zeroline": false
        },
        "yaxis": {
         "anchor": "free",
         "domain": [
          0.35,
          1
         ],
         "position": 0
        },
        "yaxis2": {
         "anchor": "x",
         "domain": [
          0,
          0.25
         ],
         "dtick": 1,
         "showticklabels": false
        }
       }
      }
     },
     "metadata": {},
     "output_type": "display_data"
    }
   ],
   "source": [
    "hist_data = [df_Mat['lgEBITDA'].to_numpy()]\n",
    "group_labels = ['lgEBITDA'] # name of the dataset\n",
    "\n",
    "fig = ff.create_distplot(hist_data, group_labels, bin_size=1000000000)\n",
    "fig.show()"
   ]
  },
  {
   "cell_type": "code",
   "execution_count": 47,
   "metadata": {
    "tags": [
     "remove-output"
    ]
   },
   "outputs": [],
   "source": [
    "# Running the log-log regression\n",
    "df_Mat_OLS = df_Mat[['lgEV', 'lgEBITDA']]\n",
    "reg2_Mat = sm.OLS(df_Mat['lgEV'], sm.add_constant(df_Mat['lgEBITDA'])).fit()"
   ]
  },
  {
   "cell_type": "code",
   "execution_count": 48,
   "metadata": {},
   "outputs": [
    {
     "data": {
      "text/plain": [
       "const       7.911511\n",
       "lgEBITDA    0.746086\n",
       "dtype: float64"
      ]
     },
     "execution_count": 48,
     "metadata": {},
     "output_type": "execute_result"
    }
   ],
   "source": [
    "reg2_Mat.params"
   ]
  },
  {
   "cell_type": "code",
   "execution_count": 49,
   "metadata": {
    "tags": [
     "remove-output"
    ]
   },
   "outputs": [
    {
     "data": {
      "application/vnd.plotly.v1+json": {
       "config": {
        "plotlyServerURL": "https://plot.ly"
       },
       "data": [
        {
         "hovertemplate": "lgEBITDA=%{x}<br>lgEV=%{y}<extra></extra>",
         "legendgroup": "",
         "marker": {
          "color": "#636efa",
          "opacity": 0.65,
          "symbol": "circle"
         },
         "mode": "markers",
         "name": "",
         "orientation": "v",
         "showlegend": false,
         "type": "scatter",
         "x": [
          20.030182654338553,
          20.333729686684567,
          20.77992968406395,
          20.788397931884194,
          21.94250156793826,
          22.253010980471263,
          21.418311214789437,
          21.58902088211267,
          20.86476539922011,
          22.683501456146367,
          22.854706673736626,
          20.441433289283523,
          20.25757290328776,
          21.86238006892385,
          21.943210410782047,
          22.49499265242423,
          22.571248097270743,
          19.62868540939167,
          19.78537856968469,
          22.20373336808355,
          21.215311618193507,
          21.154352556885804,
          21.351341020762643,
          21.939068393025924,
          22.04074588206594,
          20.530408978237073,
          20.84486292318921,
          21.01329465363866
         ],
         "xaxis": "x",
         "y": [
          22.621059471890536,
          22.639122390301868,
          23.289229975542206,
          23.34154896144616,
          22.260429468756865,
          25.149690856323637,
          24.167801101654966,
          24.488996627582036,
          23.637279091718653,
          24.580267575487735,
          25.089178934404494,
          23.11278085012329,
          23.352247634855047,
          24.453473800807284,
          24.485267952274572,
          24.485831357610106,
          24.746745914235525,
          22.52777922422412,
          22.56507128287956,
          24.34073961529359,
          23.680362710979583,
          23.867975277412278,
          23.87661943265784,
          24.519434995921895,
          24.673084584008365,
          23.323110956627595,
          23.686649295074563,
          23.836753486636
         ],
         "yaxis": "y"
        },
        {
         "hovertemplate": "<b>OLS trendline</b><br>lgEV = 0.746086 * lgEBITDA + 7.91151<br>R<sup>2</sup>=0.683813<br><br>lgEBITDA=%{x}<br>lgEV=%{y} <b>(trend)</b><extra></extra>",
         "legendgroup": "",
         "line": {
          "color": "darkblue"
         },
         "marker": {
          "color": "#636efa",
          "symbol": "circle"
         },
         "mode": "lines",
         "name": "",
         "showlegend": false,
         "type": "scatter",
         "x": [
          19.62868540939167,
          19.78537856968469,
          20.030182654338553,
          20.25757290328776,
          20.333729686684567,
          20.441433289283523,
          20.530408978237073,
          20.77992968406395,
          20.788397931884194,
          20.84486292318921,
          20.86476539922011,
          21.01329465363866,
          21.154352556885804,
          21.215311618193507,
          21.351341020762643,
          21.418311214789437,
          21.58902088211267,
          21.86238006892385,
          21.939068393025924,
          21.94250156793826,
          21.943210410782047,
          22.04074588206594,
          22.20373336808355,
          22.253010980471263,
          22.49499265242423,
          22.571248097270743,
          22.683501456146367,
          22.854706673736626
         ],
         "xaxis": "x",
         "y": [
          22.55620183404298,
          22.673108430855034,
          22.8557533680626,
          23.025406083619465,
          23.08222560499758,
          23.162581771282667,
          23.228965300564454,
          23.415129243507543,
          23.421447285927357,
          23.463575033942313,
          23.478423995674625,
          23.5892396153777,
          23.694480963444395,
          23.739961674848864,
          23.84145132820065,
          23.89141686247716,
          24.018780981066367,
          24.22273048452679,
          24.279946581063662,
          24.28250802531886,
          24.283036883147673,
          24.355806747479573,
          24.47740945354306,
          24.51417479768762,
          24.69471397186734,
          24.751607103186693,
          24.835357779619095,
          24.963091621399528
         ],
         "yaxis": "y"
        }
       ],
       "layout": {
        "legend": {
         "tracegroupgap": 0
        },
        "margin": {
         "t": 60
        },
        "template": {
         "data": {
          "bar": [
           {
            "error_x": {
             "color": "#2a3f5f"
            },
            "error_y": {
             "color": "#2a3f5f"
            },
            "marker": {
             "line": {
              "color": "#E5ECF6",
              "width": 0.5
             },
             "pattern": {
              "fillmode": "overlay",
              "size": 10,
              "solidity": 0.2
             }
            },
            "type": "bar"
           }
          ],
          "barpolar": [
           {
            "marker": {
             "line": {
              "color": "#E5ECF6",
              "width": 0.5
             },
             "pattern": {
              "fillmode": "overlay",
              "size": 10,
              "solidity": 0.2
             }
            },
            "type": "barpolar"
           }
          ],
          "carpet": [
           {
            "aaxis": {
             "endlinecolor": "#2a3f5f",
             "gridcolor": "white",
             "linecolor": "white",
             "minorgridcolor": "white",
             "startlinecolor": "#2a3f5f"
            },
            "baxis": {
             "endlinecolor": "#2a3f5f",
             "gridcolor": "white",
             "linecolor": "white",
             "minorgridcolor": "white",
             "startlinecolor": "#2a3f5f"
            },
            "type": "carpet"
           }
          ],
          "choropleth": [
           {
            "colorbar": {
             "outlinewidth": 0,
             "ticks": ""
            },
            "type": "choropleth"
           }
          ],
          "contour": [
           {
            "colorbar": {
             "outlinewidth": 0,
             "ticks": ""
            },
            "colorscale": [
             [
              0,
              "#0d0887"
             ],
             [
              0.1111111111111111,
              "#46039f"
             ],
             [
              0.2222222222222222,
              "#7201a8"
             ],
             [
              0.3333333333333333,
              "#9c179e"
             ],
             [
              0.4444444444444444,
              "#bd3786"
             ],
             [
              0.5555555555555556,
              "#d8576b"
             ],
             [
              0.6666666666666666,
              "#ed7953"
             ],
             [
              0.7777777777777778,
              "#fb9f3a"
             ],
             [
              0.8888888888888888,
              "#fdca26"
             ],
             [
              1,
              "#f0f921"
             ]
            ],
            "type": "contour"
           }
          ],
          "contourcarpet": [
           {
            "colorbar": {
             "outlinewidth": 0,
             "ticks": ""
            },
            "type": "contourcarpet"
           }
          ],
          "heatmap": [
           {
            "colorbar": {
             "outlinewidth": 0,
             "ticks": ""
            },
            "colorscale": [
             [
              0,
              "#0d0887"
             ],
             [
              0.1111111111111111,
              "#46039f"
             ],
             [
              0.2222222222222222,
              "#7201a8"
             ],
             [
              0.3333333333333333,
              "#9c179e"
             ],
             [
              0.4444444444444444,
              "#bd3786"
             ],
             [
              0.5555555555555556,
              "#d8576b"
             ],
             [
              0.6666666666666666,
              "#ed7953"
             ],
             [
              0.7777777777777778,
              "#fb9f3a"
             ],
             [
              0.8888888888888888,
              "#fdca26"
             ],
             [
              1,
              "#f0f921"
             ]
            ],
            "type": "heatmap"
           }
          ],
          "heatmapgl": [
           {
            "colorbar": {
             "outlinewidth": 0,
             "ticks": ""
            },
            "colorscale": [
             [
              0,
              "#0d0887"
             ],
             [
              0.1111111111111111,
              "#46039f"
             ],
             [
              0.2222222222222222,
              "#7201a8"
             ],
             [
              0.3333333333333333,
              "#9c179e"
             ],
             [
              0.4444444444444444,
              "#bd3786"
             ],
             [
              0.5555555555555556,
              "#d8576b"
             ],
             [
              0.6666666666666666,
              "#ed7953"
             ],
             [
              0.7777777777777778,
              "#fb9f3a"
             ],
             [
              0.8888888888888888,
              "#fdca26"
             ],
             [
              1,
              "#f0f921"
             ]
            ],
            "type": "heatmapgl"
           }
          ],
          "histogram": [
           {
            "marker": {
             "pattern": {
              "fillmode": "overlay",
              "size": 10,
              "solidity": 0.2
             }
            },
            "type": "histogram"
           }
          ],
          "histogram2d": [
           {
            "colorbar": {
             "outlinewidth": 0,
             "ticks": ""
            },
            "colorscale": [
             [
              0,
              "#0d0887"
             ],
             [
              0.1111111111111111,
              "#46039f"
             ],
             [
              0.2222222222222222,
              "#7201a8"
             ],
             [
              0.3333333333333333,
              "#9c179e"
             ],
             [
              0.4444444444444444,
              "#bd3786"
             ],
             [
              0.5555555555555556,
              "#d8576b"
             ],
             [
              0.6666666666666666,
              "#ed7953"
             ],
             [
              0.7777777777777778,
              "#fb9f3a"
             ],
             [
              0.8888888888888888,
              "#fdca26"
             ],
             [
              1,
              "#f0f921"
             ]
            ],
            "type": "histogram2d"
           }
          ],
          "histogram2dcontour": [
           {
            "colorbar": {
             "outlinewidth": 0,
             "ticks": ""
            },
            "colorscale": [
             [
              0,
              "#0d0887"
             ],
             [
              0.1111111111111111,
              "#46039f"
             ],
             [
              0.2222222222222222,
              "#7201a8"
             ],
             [
              0.3333333333333333,
              "#9c179e"
             ],
             [
              0.4444444444444444,
              "#bd3786"
             ],
             [
              0.5555555555555556,
              "#d8576b"
             ],
             [
              0.6666666666666666,
              "#ed7953"
             ],
             [
              0.7777777777777778,
              "#fb9f3a"
             ],
             [
              0.8888888888888888,
              "#fdca26"
             ],
             [
              1,
              "#f0f921"
             ]
            ],
            "type": "histogram2dcontour"
           }
          ],
          "mesh3d": [
           {
            "colorbar": {
             "outlinewidth": 0,
             "ticks": ""
            },
            "type": "mesh3d"
           }
          ],
          "parcoords": [
           {
            "line": {
             "colorbar": {
              "outlinewidth": 0,
              "ticks": ""
             }
            },
            "type": "parcoords"
           }
          ],
          "pie": [
           {
            "automargin": true,
            "type": "pie"
           }
          ],
          "scatter": [
           {
            "fillpattern": {
             "fillmode": "overlay",
             "size": 10,
             "solidity": 0.2
            },
            "type": "scatter"
           }
          ],
          "scatter3d": [
           {
            "line": {
             "colorbar": {
              "outlinewidth": 0,
              "ticks": ""
             }
            },
            "marker": {
             "colorbar": {
              "outlinewidth": 0,
              "ticks": ""
             }
            },
            "type": "scatter3d"
           }
          ],
          "scattercarpet": [
           {
            "marker": {
             "colorbar": {
              "outlinewidth": 0,
              "ticks": ""
             }
            },
            "type": "scattercarpet"
           }
          ],
          "scattergeo": [
           {
            "marker": {
             "colorbar": {
              "outlinewidth": 0,
              "ticks": ""
             }
            },
            "type": "scattergeo"
           }
          ],
          "scattergl": [
           {
            "marker": {
             "colorbar": {
              "outlinewidth": 0,
              "ticks": ""
             }
            },
            "type": "scattergl"
           }
          ],
          "scattermapbox": [
           {
            "marker": {
             "colorbar": {
              "outlinewidth": 0,
              "ticks": ""
             }
            },
            "type": "scattermapbox"
           }
          ],
          "scatterpolar": [
           {
            "marker": {
             "colorbar": {
              "outlinewidth": 0,
              "ticks": ""
             }
            },
            "type": "scatterpolar"
           }
          ],
          "scatterpolargl": [
           {
            "marker": {
             "colorbar": {
              "outlinewidth": 0,
              "ticks": ""
             }
            },
            "type": "scatterpolargl"
           }
          ],
          "scatterternary": [
           {
            "marker": {
             "colorbar": {
              "outlinewidth": 0,
              "ticks": ""
             }
            },
            "type": "scatterternary"
           }
          ],
          "surface": [
           {
            "colorbar": {
             "outlinewidth": 0,
             "ticks": ""
            },
            "colorscale": [
             [
              0,
              "#0d0887"
             ],
             [
              0.1111111111111111,
              "#46039f"
             ],
             [
              0.2222222222222222,
              "#7201a8"
             ],
             [
              0.3333333333333333,
              "#9c179e"
             ],
             [
              0.4444444444444444,
              "#bd3786"
             ],
             [
              0.5555555555555556,
              "#d8576b"
             ],
             [
              0.6666666666666666,
              "#ed7953"
             ],
             [
              0.7777777777777778,
              "#fb9f3a"
             ],
             [
              0.8888888888888888,
              "#fdca26"
             ],
             [
              1,
              "#f0f921"
             ]
            ],
            "type": "surface"
           }
          ],
          "table": [
           {
            "cells": {
             "fill": {
              "color": "#EBF0F8"
             },
             "line": {
              "color": "white"
             }
            },
            "header": {
             "fill": {
              "color": "#C8D4E3"
             },
             "line": {
              "color": "white"
             }
            },
            "type": "table"
           }
          ]
         },
         "layout": {
          "annotationdefaults": {
           "arrowcolor": "#2a3f5f",
           "arrowhead": 0,
           "arrowwidth": 1
          },
          "autotypenumbers": "strict",
          "coloraxis": {
           "colorbar": {
            "outlinewidth": 0,
            "ticks": ""
           }
          },
          "colorscale": {
           "diverging": [
            [
             0,
             "#8e0152"
            ],
            [
             0.1,
             "#c51b7d"
            ],
            [
             0.2,
             "#de77ae"
            ],
            [
             0.3,
             "#f1b6da"
            ],
            [
             0.4,
             "#fde0ef"
            ],
            [
             0.5,
             "#f7f7f7"
            ],
            [
             0.6,
             "#e6f5d0"
            ],
            [
             0.7,
             "#b8e186"
            ],
            [
             0.8,
             "#7fbc41"
            ],
            [
             0.9,
             "#4d9221"
            ],
            [
             1,
             "#276419"
            ]
           ],
           "sequential": [
            [
             0,
             "#0d0887"
            ],
            [
             0.1111111111111111,
             "#46039f"
            ],
            [
             0.2222222222222222,
             "#7201a8"
            ],
            [
             0.3333333333333333,
             "#9c179e"
            ],
            [
             0.4444444444444444,
             "#bd3786"
            ],
            [
             0.5555555555555556,
             "#d8576b"
            ],
            [
             0.6666666666666666,
             "#ed7953"
            ],
            [
             0.7777777777777778,
             "#fb9f3a"
            ],
            [
             0.8888888888888888,
             "#fdca26"
            ],
            [
             1,
             "#f0f921"
            ]
           ],
           "sequentialminus": [
            [
             0,
             "#0d0887"
            ],
            [
             0.1111111111111111,
             "#46039f"
            ],
            [
             0.2222222222222222,
             "#7201a8"
            ],
            [
             0.3333333333333333,
             "#9c179e"
            ],
            [
             0.4444444444444444,
             "#bd3786"
            ],
            [
             0.5555555555555556,
             "#d8576b"
            ],
            [
             0.6666666666666666,
             "#ed7953"
            ],
            [
             0.7777777777777778,
             "#fb9f3a"
            ],
            [
             0.8888888888888888,
             "#fdca26"
            ],
            [
             1,
             "#f0f921"
            ]
           ]
          },
          "colorway": [
           "#636efa",
           "#EF553B",
           "#00cc96",
           "#ab63fa",
           "#FFA15A",
           "#19d3f3",
           "#FF6692",
           "#B6E880",
           "#FF97FF",
           "#FECB52"
          ],
          "font": {
           "color": "#2a3f5f"
          },
          "geo": {
           "bgcolor": "white",
           "lakecolor": "white",
           "landcolor": "#E5ECF6",
           "showlakes": true,
           "showland": true,
           "subunitcolor": "white"
          },
          "hoverlabel": {
           "align": "left"
          },
          "hovermode": "closest",
          "mapbox": {
           "style": "light"
          },
          "paper_bgcolor": "white",
          "plot_bgcolor": "#E5ECF6",
          "polar": {
           "angularaxis": {
            "gridcolor": "white",
            "linecolor": "white",
            "ticks": ""
           },
           "bgcolor": "#E5ECF6",
           "radialaxis": {
            "gridcolor": "white",
            "linecolor": "white",
            "ticks": ""
           }
          },
          "scene": {
           "xaxis": {
            "backgroundcolor": "#E5ECF6",
            "gridcolor": "white",
            "gridwidth": 2,
            "linecolor": "white",
            "showbackground": true,
            "ticks": "",
            "zerolinecolor": "white"
           },
           "yaxis": {
            "backgroundcolor": "#E5ECF6",
            "gridcolor": "white",
            "gridwidth": 2,
            "linecolor": "white",
            "showbackground": true,
            "ticks": "",
            "zerolinecolor": "white"
           },
           "zaxis": {
            "backgroundcolor": "#E5ECF6",
            "gridcolor": "white",
            "gridwidth": 2,
            "linecolor": "white",
            "showbackground": true,
            "ticks": "",
            "zerolinecolor": "white"
           }
          },
          "shapedefaults": {
           "line": {
            "color": "#2a3f5f"
           }
          },
          "ternary": {
           "aaxis": {
            "gridcolor": "white",
            "linecolor": "white",
            "ticks": ""
           },
           "baxis": {
            "gridcolor": "white",
            "linecolor": "white",
            "ticks": ""
           },
           "bgcolor": "#E5ECF6",
           "caxis": {
            "gridcolor": "white",
            "linecolor": "white",
            "ticks": ""
           }
          },
          "title": {
           "x": 0.05
          },
          "xaxis": {
           "automargin": true,
           "gridcolor": "white",
           "linecolor": "white",
           "ticks": "",
           "title": {
            "standoff": 15
           },
           "zerolinecolor": "white",
           "zerolinewidth": 2
          },
          "yaxis": {
           "automargin": true,
           "gridcolor": "white",
           "linecolor": "white",
           "ticks": "",
           "title": {
            "standoff": 15
           },
           "zerolinecolor": "white",
           "zerolinewidth": 2
          }
         }
        },
        "xaxis": {
         "anchor": "y",
         "domain": [
          0,
          1
         ],
         "title": {
          "text": "lgEBITDA"
         }
        },
        "yaxis": {
         "anchor": "x",
         "domain": [
          0,
          1
         ],
         "title": {
          "text": "lgEV"
         }
        }
       }
      }
     },
     "metadata": {},
     "output_type": "display_data"
    }
   ],
   "source": [
    "fig = px.scatter(\n",
    "    df_Mat, x='lgEBITDA', y='lgEV', opacity=0.65,\n",
    "    trendline='ols', trendline_color_override='darkblue'\n",
    ")\n",
    "fig"
   ]
  },
  {
   "cell_type": "code",
   "execution_count": null,
   "metadata": {},
   "outputs": [
    {
     "data": {
      "text/html": [
       "<div>\n",
       "<style scoped>\n",
       "    .dataframe tbody tr th:only-of-type {\n",
       "        vertical-align: middle;\n",
       "    }\n",
       "\n",
       "    .dataframe tbody tr th {\n",
       "        vertical-align: top;\n",
       "    }\n",
       "\n",
       "    .dataframe thead th {\n",
       "        text-align: right;\n",
       "    }\n",
       "</style>\n",
       "<table border=\"1\" class=\"dataframe\">\n",
       "  <thead>\n",
       "    <tr style=\"text-align: right;\">\n",
       "      <th>Period.Ending</th>\n",
       "      <th>2012</th>\n",
       "      <th>2013</th>\n",
       "      <th>2014</th>\n",
       "      <th>2015</th>\n",
       "    </tr>\n",
       "    <tr>\n",
       "      <th>GICS.Sector</th>\n",
       "      <th></th>\n",
       "      <th></th>\n",
       "      <th></th>\n",
       "      <th></th>\n",
       "    </tr>\n",
       "  </thead>\n",
       "  <tbody>\n",
       "    <tr>\n",
       "      <th>Consumer Discretionary</th>\n",
       "      <td>13</td>\n",
       "      <td>21</td>\n",
       "      <td>20</td>\n",
       "      <td>20</td>\n",
       "    </tr>\n",
       "    <tr>\n",
       "      <th>Consumer Staples</th>\n",
       "      <td>6</td>\n",
       "      <td>11</td>\n",
       "      <td>11</td>\n",
       "      <td>11</td>\n",
       "    </tr>\n",
       "    <tr>\n",
       "      <th>Energy</th>\n",
       "      <td>17</td>\n",
       "      <td>25</td>\n",
       "      <td>20</td>\n",
       "      <td>9</td>\n",
       "    </tr>\n",
       "    <tr>\n",
       "      <th>Health Care</th>\n",
       "      <td>17</td>\n",
       "      <td>25</td>\n",
       "      <td>26</td>\n",
       "      <td>25</td>\n",
       "    </tr>\n",
       "    <tr>\n",
       "      <th>Industrials</th>\n",
       "      <td>18</td>\n",
       "      <td>42</td>\n",
       "      <td>47</td>\n",
       "      <td>45</td>\n",
       "    </tr>\n",
       "    <tr>\n",
       "      <th>Information Technology</th>\n",
       "      <td>9</td>\n",
       "      <td>17</td>\n",
       "      <td>17</td>\n",
       "      <td>17</td>\n",
       "    </tr>\n",
       "    <tr>\n",
       "      <th>Materials</th>\n",
       "      <td>14</td>\n",
       "      <td>14</td>\n",
       "      <td>18</td>\n",
       "      <td>16</td>\n",
       "    </tr>\n",
       "    <tr>\n",
       "      <th>Real Estate</th>\n",
       "      <td>13</td>\n",
       "      <td>13</td>\n",
       "      <td>15</td>\n",
       "      <td>16</td>\n",
       "    </tr>\n",
       "    <tr>\n",
       "      <th>Telecommunications Services</th>\n",
       "      <td>4</td>\n",
       "      <td>3</td>\n",
       "      <td>5</td>\n",
       "      <td>4</td>\n",
       "    </tr>\n",
       "    <tr>\n",
       "      <th>Utilities</th>\n",
       "      <td>20</td>\n",
       "      <td>23</td>\n",
       "      <td>20</td>\n",
       "      <td>18</td>\n",
       "    </tr>\n",
       "  </tbody>\n",
       "</table>\n",
       "</div>"
      ],
      "text/plain": [
       "Period.Ending                2012  2013  2014  2015\n",
       "GICS.Sector                                        \n",
       "Consumer Discretionary         13    21    20    20\n",
       "Consumer Staples                6    11    11    11\n",
       "Energy                         17    25    20     9\n",
       "Health Care                    17    25    26    25\n",
       "Industrials                    18    42    47    45\n",
       "Information Technology          9    17    17    17\n",
       "Materials                      14    14    18    16\n",
       "Real Estate                    13    13    15    16\n",
       "Telecommunications Services     4     3     5     4\n",
       "Utilities                      20    23    20    18"
      ]
     },
     "metadata": {},
     "output_type": "display_data"
    }
   ],
   "source": [
    "tab = df_ana12to15.groupby(['GICS.Sector', 'Period.Ending']).size()\n",
    "tab.unstack()"
   ]
  },
  {
   "cell_type": "code",
   "execution_count": null,
   "metadata": {},
   "outputs": [
    {
     "data": {
      "text/plain": [
       "GICS.Sector\n",
       "Consumer Discretionary          8\n",
       "Consumer Staples                6\n",
       "Energy                          5\n",
       "Health Care                    14\n",
       "Industrials                    15\n",
       "Information Technology          9\n",
       "Materials                       9\n",
       "Real Estate                     9\n",
       "Telecommunications Services     3\n",
       "Utilities                      15\n",
       "dtype: int64"
      ]
     },
     "metadata": {},
     "output_type": "display_data"
    }
   ],
   "source": [
    "# For the purpose of simplicity focus on balanced data.\n",
    "df2 = df_ana12to15\n",
    "df2['Ticker.Symbol'] = df2['Ticker.Symbol'].astype('category')\n",
    "tab2 = df2.groupby(['Ticker.Symbol']).size()\n",
    "indices = (tab2==4)\n",
    "df_panel = df_ana12to15[df_ana12to15['Ticker.Symbol'].isin(tab2.loc[indices].index.values)]\n",
    "gics = df_panel[df_panel['Period.Ending']==2012]\n",
    "gics.groupby(['GICS.Sector']).size()"
   ]
  },
  {
   "cell_type": "code",
   "execution_count": null,
   "metadata": {},
   "outputs": [],
   "source": [
    "# Split Data into test and Train dataset\n",
    "df_test = df_panel[df_panel['Period.Ending']==2015]\n",
    "df_train = df_panel[df_panel['Period.Ending'].isin([2012,2013,2014])]"
   ]
  },
  {
   "cell_type": "code",
   "execution_count": null,
   "metadata": {},
   "outputs": [],
   "source": [
    "# Industrial and Information Technology are supposed to behave different\n",
    "sec1 = \"Industrials\"\n",
    "sec2 = \"Information Technology\""
   ]
  },
  {
   "cell_type": "code",
   "execution_count": null,
   "metadata": {},
   "outputs": [],
   "source": [
    "# Build subset for (Mod1)\n",
    "dat_s1s2 = df_train[df_train['GICS.Sector'].isin([sec1,sec2])]\n",
    "dat_s1s2_OLS = dat_s1s2[['lgEV', 'lgEBITDA']]\n",
    "\n",
    "# Build subset for (Mod2)\n",
    "dat_s1s2_12 = df_train[(df_train['Period.Ending'] == 2012) & (df_train['GICS.Sector'].isin([sec1,sec2]))]\n",
    "dat_s1s2_12_OLS = dat_s1s2_12[['lgEV', 'lgEBITDA']]\n",
    "dat_s1s2_13 = df_train[(df_train['Period.Ending'] == 2013) & (df_train['GICS.Sector'].isin([sec1,sec2]))]\n",
    "dat_s1s2_13_OLS = dat_s1s2_13[['lgEV', 'lgEBITDA']]\n",
    "dat_s1s2_14 = df_train[(df_train['Period.Ending'] == 2014) & (df_train['GICS.Sector'].isin([sec1,sec2]))]\n",
    "dat_s1s2_14_OLS = dat_s1s2_14[['lgEV', 'lgEBITDA']]\n",
    "\n",
    "# Build subset for (Mod3)\n",
    "dat_s1 = df_train[(df_train['GICS.Sector']==sec1)]\n",
    "dat_s1_OLS = dat_s1[['lgEV', 'lgEBITDA']]\n",
    "\n",
    "dat_s2 = df_train[(df_train['GICS.Sector']==sec2)]\n",
    "dat_s2_OLS = dat_s2[['lgEV', 'lgEBITDA']]\n",
    "\n",
    "# Build subset for (Mod4)\n",
    "dat_s1_12 = df_train[(df_train['Period.Ending']==2012) & (df_train['GICS.Sector']==sec1)]\n",
    "dat_s1_12_OLS = dat_s1_12[['lgEV', 'lgEBITDA']]\n",
    "\n",
    "dat_s1_13 = df_train[(df_train['Period.Ending']==2013) & (df_train['GICS.Sector']==sec1)]\n",
    "dat_s1_13_OLS = dat_s1_13[['lgEV', 'lgEBITDA']]\n",
    "\n",
    "dat_s1_14 = df_train[(df_train['Period.Ending']==2014) & (df_train['GICS.Sector']==sec1)]\n",
    "dat_s1_14_OLS = dat_s1_14[['lgEV', 'lgEBITDA']]\n",
    "\n",
    "dat_s2_12 = df_train[(df_train['Period.Ending']==2012) & (df_train['GICS.Sector']==sec2)]\n",
    "dat_s2_12_OLS = dat_s2_12[['lgEV', 'lgEBITDA']]\n",
    "\n",
    "dat_s2_13 = df_train[(df_train['Period.Ending']==2013) & (df_train['GICS.Sector']==sec2)]\n",
    "dat_s2_13_OLS = dat_s2_13[['lgEV', 'lgEBITDA']]\n",
    "\n",
    "dat_s2_14 = df_train[(df_train['Period.Ending']==2014) & (df_train['GICS.Sector']==sec2)]\n",
    "dat_s2_14_OLS = dat_s2_14[['lgEV', 'lgEBITDA']]"
   ]
  },
  {
   "cell_type": "code",
   "execution_count": null,
   "metadata": {
    "tags": [
     "remove-output"
    ]
   },
   "outputs": [],
   "source": [
    "# Estimating (Mod1)\n",
    "reg_s1s2 = sm.OLS(dat_s1s2_OLS['lgEV'], sm.add_constant(dat_s1s2_OLS['lgEBITDA'])).fit()\n",
    "\n",
    "# Estimating regression equations attributed to (Mod 2)\n",
    "reg_s1s2_12 = sm.OLS(dat_s1s2_12_OLS['lgEV'], sm.add_constant(dat_s1s2_12_OLS['lgEBITDA'])).fit()\n",
    "reg_s1s2_13 = sm.OLS(dat_s1s2_13_OLS['lgEV'], sm.add_constant(dat_s1s2_13_OLS['lgEBITDA'])).fit()\n",
    "reg_s1s2_14 = sm.OLS(dat_s1s2_14_OLS['lgEV'], sm.add_constant(dat_s1s2_14_OLS['lgEBITDA'])).fit()\n",
    "\n",
    "# Estimating regression equations attributed to (Mod 3)\n",
    "reg_s1 = sm.OLS(dat_s1_OLS['lgEV'], sm.add_constant(dat_s1_OLS['lgEBITDA'])).fit()\n",
    "reg_s2 = sm.OLS(dat_s2_OLS['lgEV'], sm.add_constant(dat_s2_OLS['lgEBITDA'])).fit()\n",
    "\n",
    "# Estimating regression equations attributed to (Mod 4)\n",
    "reg_s1_12 = sm.OLS(dat_s1_12_OLS['lgEV'], sm.add_constant(dat_s1_12_OLS['lgEBITDA'])).fit()\n",
    "reg_s1_13 = sm.OLS(dat_s1_13_OLS['lgEV'], sm.add_constant(dat_s1_13_OLS['lgEBITDA'])).fit()\n",
    "reg_s1_14 = sm.OLS(dat_s1_14_OLS['lgEV'], sm.add_constant(dat_s1_14_OLS['lgEBITDA'])).fit()\n",
    "reg_s2_12 = sm.OLS(dat_s2_12_OLS['lgEV'], sm.add_constant(dat_s2_12_OLS['lgEBITDA'])).fit()\n",
    "reg_s2_13 = sm.OLS(dat_s2_13_OLS['lgEV'], sm.add_constant(dat_s2_13_OLS['lgEBITDA'])).fit()\n",
    "reg_s2_14 = sm.OLS(dat_s2_14_OLS['lgEV'], sm.add_constant(dat_s2_14_OLS['lgEBITDA'])).fit()"
   ]
  },
  {
   "cell_type": "code",
   "execution_count": null,
   "metadata": {
    "tags": [
     "remove-output"
    ]
   },
   "outputs": [
    {
     "data": {
      "application/vnd.plotly.v1+json": {
       "config": {
        "plotlyServerURL": "https://plot.ly"
       },
       "data": [
        {
         "hovertemplate": "lgEBITDA=%{x}<br>lgEV=%{y}<extra></extra>",
         "legendgroup": "",
         "marker": {
          "color": "#636efa",
          "opacity": 0.65,
          "symbol": "circle"
         },
         "mode": "markers",
         "name": "",
         "orientation": "v",
         "showlegend": false,
         "type": "scatter",
         "x": [
          20.945310384577244,
          21.064156867729334,
          21.09364041095728,
          20.529681087873747,
          20.837486981036434,
          20.983319742280717,
          20.55297324123538,
          20.63664420217923,
          20.746341533275853,
          20.682652154061113,
          20.768908194825112,
          20.92293603207498,
          20.719811878894895,
          20.421528111660308,
          20.506883129534646,
          22.111583150517525,
          22.20670959456511,
          22.20698178364747,
          20.06856984276072,
          20.070876648858633,
          19.965900084059815,
          20.292636755174698,
          20.488682095489647,
          20.55721125261633,
          21.44451444761723,
          21.871303008942043,
          21.812164433426883,
          21.26663609218813,
          21.22803314612844,
          21.35038004690192,
          21.06330313973212,
          21.10443825248553,
          21.201981406794168,
          20.980165969428587,
          21.11627839960526,
          21.163328809803588,
          24.04379531554111,
          23.95501839962829,
          23.940620505442674,
          19.924535893811402,
          19.81915068100239,
          19.936247440776395,
          21.303971938160608,
          21.338937844226944,
          21.489338147520915,
          20.240501130398062,
          20.417778181776832,
          20.225390988689192,
          20.630440866449625,
          20.7579348607067,
          20.906736732996887,
          20.11657888151981,
          20.247480727103394,
          20.305210807328837,
          20.0765842159932,
          20.152904269372304,
          20.28188387193641,
          21.95319874294188,
          22.14540985096,
          22.37153977316571,
          21.894198787194146,
          22.91167388487806,
          22.65666953390954,
          20.335940209166033,
          20.438468931727314,
          20.50849339988195,
          21.189826044414385,
          21.049182559628107,
          21.07159606034958,
          21.672991344906805,
          21.679161823412926,
          21.691009850409483
         ],
         "xaxis": "x",
         "y": [
          23.575589560359447,
          23.894536613039296,
          24.21608444444413,
          22.41577418686844,
          22.563170738564395,
          23.20134270653781,
          23.172169779086207,
          23.450535243737914,
          23.475277702877033,
          22.71342984945252,
          22.975416818980673,
          23.718652203537943,
          23.14727175130375,
          23.108239984146138,
          23.26369842272428,
          24.452138171677326,
          24.633895866675626,
          24.75293424202962,
          22.58769151246977,
          22.738600090767726,
          22.70996024633617,
          22.91238515044751,
          23.06359278463345,
          23.219641588251484,
          24.378621809344317,
          24.707770047704773,
          24.618042015924242,
          23.555927557594366,
          23.86652283668059,
          23.979261927309363,
          23.034538961558646,
          23.768724010860744,
          23.875126335165945,
          23.49063527139685,
          23.698037550024075,
          23.69256918559057,
          26.456065509582253,
          26.420387025542936,
          26.276473392923645,
          22.412975598904207,
          22.511581908953552,
          22.79042814817555,
          23.961604995679227,
          24.15096277634843,
          24.237936450206792,
          22.682555727775025,
          22.825045272343502,
          22.824304048797877,
          23.355056930137366,
          23.57165725800976,
          23.64889896720968,
          23.019327679091358,
          23.213378376570283,
          23.3333184055223,
          22.22042559440948,
          22.85466798811917,
          22.829579885521643,
          24.48811982907126,
          24.738544691165252,
          24.87549671177043,
          25.30533593008149,
          25.542504921694523,
          25.61241922508268,
          23.073482248261275,
          23.27674235695175,
          23.26697192361676,
          23.428768442740246,
          23.531134160042004,
          23.517392964686593,
          23.992965735024587,
          24.129075861486857,
          24.210370870186793
         ],
         "yaxis": "y"
        },
        {
         "hovertemplate": "<b>OLS trendline</b><br>lgEV = 0.977216 * lgEBITDA + 3.07154<br>R<sup>2</sup>=0.914375<br><br>lgEBITDA=%{x}<br>lgEV=%{y} <b>(trend)</b><extra></extra>",
         "legendgroup": "",
         "line": {
          "color": "darkblue"
         },
         "marker": {
          "color": "#636efa",
          "symbol": "circle"
         },
         "mode": "lines",
         "name": "",
         "showlegend": false,
         "type": "scatter",
         "x": [
          19.81915068100239,
          19.924535893811402,
          19.936247440776395,
          19.965900084059815,
          20.06856984276072,
          20.070876648858633,
          20.0765842159932,
          20.11657888151981,
          20.152904269372304,
          20.225390988689192,
          20.240501130398062,
          20.247480727103394,
          20.28188387193641,
          20.292636755174698,
          20.305210807328837,
          20.335940209166033,
          20.417778181776832,
          20.421528111660308,
          20.438468931727314,
          20.488682095489647,
          20.506883129534646,
          20.50849339988195,
          20.529681087873747,
          20.55297324123538,
          20.55721125261633,
          20.630440866449625,
          20.63664420217923,
          20.682652154061113,
          20.719811878894895,
          20.746341533275853,
          20.7579348607067,
          20.768908194825112,
          20.837486981036434,
          20.906736732996887,
          20.92293603207498,
          20.945310384577244,
          20.980165969428587,
          20.983319742280717,
          21.049182559628107,
          21.06330313973212,
          21.064156867729334,
          21.07159606034958,
          21.09364041095728,
          21.10443825248553,
          21.11627839960526,
          21.163328809803588,
          21.189826044414385,
          21.201981406794168,
          21.22803314612844,
          21.26663609218813,
          21.303971938160608,
          21.338937844226944,
          21.35038004690192,
          21.44451444761723,
          21.489338147520915,
          21.672991344906805,
          21.679161823412926,
          21.691009850409483,
          21.812164433426883,
          21.871303008942043,
          21.894198787194146,
          21.95319874294188,
          22.111583150517525,
          22.14540985096,
          22.20670959456511,
          22.20698178364747,
          22.37153977316571,
          22.65666953390954,
          22.91167388487806,
          23.940620505442674,
          23.95501839962829,
          24.04379531554111
         ],
         "xaxis": "x",
         "y": [
          22.439127986974853,
          22.542112110799966,
          22.553556822735143,
          22.582533862361906,
          22.682864400786787,
          22.685118648783217,
          22.69069617512547,
          22.729779605116743,
          22.765277357988165,
          22.836112545191664,
          22.850878418536546,
          22.857698992620822,
          22.891318298717188,
          22.90182618904992,
          22.91411375491907,
          22.944143020311444,
          23.024116402537476,
          23.027780894292647,
          23.044335735953794,
          23.093404846664065,
          23.111191189680067,
          23.112764771745503,
          23.133469721003134,
          23.156231187645474,
          23.16037264048496,
          23.231933796150518,
          23.237995795532385,
          23.282955505602246,
          23.319268585982172,
          23.345193790657305,
          23.35652297656356,
          23.36724629503968,
          23.434262587199783,
          23.501934557874435,
          23.517764773306666,
          23.539629350197316,
          23.57369078795171,
          23.576772705473747,
          23.641134909205945,
          23.65493376704523,
          23.65576804376617,
          23.66303774236564,
          23.684579836100763,
          23.695131660397063,
          23.706702042470454,
          23.752680459562693,
          23.77857398311734,
          23.790452398609343,
          23.81591057701927,
          23.85363399637821,
          23.890119185165688,
          23.924288430584575,
          23.935469934950344,
          24.027459584361953,
          24.071262024364106,
          24.250730880727694,
          24.256760771502655,
          24.268338853918337,
          24.386733059773913,
          24.444524226308175,
          24.4668983488225,
          24.52455405389198,
          24.679329842704952,
          24.712385838077626,
          24.772288932806077,
          24.772554920352288,
          24.933363632668225,
          25.211997017789187,
          25.46119136826868,
          26.466694544256935,
          26.48076439787406,
          26.56751862702523
         ],
         "yaxis": "y"
        }
       ],
       "layout": {
        "legend": {
         "tracegroupgap": 0
        },
        "template": {
         "data": {
          "bar": [
           {
            "error_x": {
             "color": "#2a3f5f"
            },
            "error_y": {
             "color": "#2a3f5f"
            },
            "marker": {
             "line": {
              "color": "#E5ECF6",
              "width": 0.5
             },
             "pattern": {
              "fillmode": "overlay",
              "size": 10,
              "solidity": 0.2
             }
            },
            "type": "bar"
           }
          ],
          "barpolar": [
           {
            "marker": {
             "line": {
              "color": "#E5ECF6",
              "width": 0.5
             },
             "pattern": {
              "fillmode": "overlay",
              "size": 10,
              "solidity": 0.2
             }
            },
            "type": "barpolar"
           }
          ],
          "carpet": [
           {
            "aaxis": {
             "endlinecolor": "#2a3f5f",
             "gridcolor": "white",
             "linecolor": "white",
             "minorgridcolor": "white",
             "startlinecolor": "#2a3f5f"
            },
            "baxis": {
             "endlinecolor": "#2a3f5f",
             "gridcolor": "white",
             "linecolor": "white",
             "minorgridcolor": "white",
             "startlinecolor": "#2a3f5f"
            },
            "type": "carpet"
           }
          ],
          "choropleth": [
           {
            "colorbar": {
             "outlinewidth": 0,
             "ticks": ""
            },
            "type": "choropleth"
           }
          ],
          "contour": [
           {
            "colorbar": {
             "outlinewidth": 0,
             "ticks": ""
            },
            "colorscale": [
             [
              0,
              "#0d0887"
             ],
             [
              0.1111111111111111,
              "#46039f"
             ],
             [
              0.2222222222222222,
              "#7201a8"
             ],
             [
              0.3333333333333333,
              "#9c179e"
             ],
             [
              0.4444444444444444,
              "#bd3786"
             ],
             [
              0.5555555555555556,
              "#d8576b"
             ],
             [
              0.6666666666666666,
              "#ed7953"
             ],
             [
              0.7777777777777778,
              "#fb9f3a"
             ],
             [
              0.8888888888888888,
              "#fdca26"
             ],
             [
              1,
              "#f0f921"
             ]
            ],
            "type": "contour"
           }
          ],
          "contourcarpet": [
           {
            "colorbar": {
             "outlinewidth": 0,
             "ticks": ""
            },
            "type": "contourcarpet"
           }
          ],
          "heatmap": [
           {
            "colorbar": {
             "outlinewidth": 0,
             "ticks": ""
            },
            "colorscale": [
             [
              0,
              "#0d0887"
             ],
             [
              0.1111111111111111,
              "#46039f"
             ],
             [
              0.2222222222222222,
              "#7201a8"
             ],
             [
              0.3333333333333333,
              "#9c179e"
             ],
             [
              0.4444444444444444,
              "#bd3786"
             ],
             [
              0.5555555555555556,
              "#d8576b"
             ],
             [
              0.6666666666666666,
              "#ed7953"
             ],
             [
              0.7777777777777778,
              "#fb9f3a"
             ],
             [
              0.8888888888888888,
              "#fdca26"
             ],
             [
              1,
              "#f0f921"
             ]
            ],
            "type": "heatmap"
           }
          ],
          "heatmapgl": [
           {
            "colorbar": {
             "outlinewidth": 0,
             "ticks": ""
            },
            "colorscale": [
             [
              0,
              "#0d0887"
             ],
             [
              0.1111111111111111,
              "#46039f"
             ],
             [
              0.2222222222222222,
              "#7201a8"
             ],
             [
              0.3333333333333333,
              "#9c179e"
             ],
             [
              0.4444444444444444,
              "#bd3786"
             ],
             [
              0.5555555555555556,
              "#d8576b"
             ],
             [
              0.6666666666666666,
              "#ed7953"
             ],
             [
              0.7777777777777778,
              "#fb9f3a"
             ],
             [
              0.8888888888888888,
              "#fdca26"
             ],
             [
              1,
              "#f0f921"
             ]
            ],
            "type": "heatmapgl"
           }
          ],
          "histogram": [
           {
            "marker": {
             "pattern": {
              "fillmode": "overlay",
              "size": 10,
              "solidity": 0.2
             }
            },
            "type": "histogram"
           }
          ],
          "histogram2d": [
           {
            "colorbar": {
             "outlinewidth": 0,
             "ticks": ""
            },
            "colorscale": [
             [
              0,
              "#0d0887"
             ],
             [
              0.1111111111111111,
              "#46039f"
             ],
             [
              0.2222222222222222,
              "#7201a8"
             ],
             [
              0.3333333333333333,
              "#9c179e"
             ],
             [
              0.4444444444444444,
              "#bd3786"
             ],
             [
              0.5555555555555556,
              "#d8576b"
             ],
             [
              0.6666666666666666,
              "#ed7953"
             ],
             [
              0.7777777777777778,
              "#fb9f3a"
             ],
             [
              0.8888888888888888,
              "#fdca26"
             ],
             [
              1,
              "#f0f921"
             ]
            ],
            "type": "histogram2d"
           }
          ],
          "histogram2dcontour": [
           {
            "colorbar": {
             "outlinewidth": 0,
             "ticks": ""
            },
            "colorscale": [
             [
              0,
              "#0d0887"
             ],
             [
              0.1111111111111111,
              "#46039f"
             ],
             [
              0.2222222222222222,
              "#7201a8"
             ],
             [
              0.3333333333333333,
              "#9c179e"
             ],
             [
              0.4444444444444444,
              "#bd3786"
             ],
             [
              0.5555555555555556,
              "#d8576b"
             ],
             [
              0.6666666666666666,
              "#ed7953"
             ],
             [
              0.7777777777777778,
              "#fb9f3a"
             ],
             [
              0.8888888888888888,
              "#fdca26"
             ],
             [
              1,
              "#f0f921"
             ]
            ],
            "type": "histogram2dcontour"
           }
          ],
          "mesh3d": [
           {
            "colorbar": {
             "outlinewidth": 0,
             "ticks": ""
            },
            "type": "mesh3d"
           }
          ],
          "parcoords": [
           {
            "line": {
             "colorbar": {
              "outlinewidth": 0,
              "ticks": ""
             }
            },
            "type": "parcoords"
           }
          ],
          "pie": [
           {
            "automargin": true,
            "type": "pie"
           }
          ],
          "scatter": [
           {
            "fillpattern": {
             "fillmode": "overlay",
             "size": 10,
             "solidity": 0.2
            },
            "type": "scatter"
           }
          ],
          "scatter3d": [
           {
            "line": {
             "colorbar": {
              "outlinewidth": 0,
              "ticks": ""
             }
            },
            "marker": {
             "colorbar": {
              "outlinewidth": 0,
              "ticks": ""
             }
            },
            "type": "scatter3d"
           }
          ],
          "scattercarpet": [
           {
            "marker": {
             "colorbar": {
              "outlinewidth": 0,
              "ticks": ""
             }
            },
            "type": "scattercarpet"
           }
          ],
          "scattergeo": [
           {
            "marker": {
             "colorbar": {
              "outlinewidth": 0,
              "ticks": ""
             }
            },
            "type": "scattergeo"
           }
          ],
          "scattergl": [
           {
            "marker": {
             "colorbar": {
              "outlinewidth": 0,
              "ticks": ""
             }
            },
            "type": "scattergl"
           }
          ],
          "scattermapbox": [
           {
            "marker": {
             "colorbar": {
              "outlinewidth": 0,
              "ticks": ""
             }
            },
            "type": "scattermapbox"
           }
          ],
          "scatterpolar": [
           {
            "marker": {
             "colorbar": {
              "outlinewidth": 0,
              "ticks": ""
             }
            },
            "type": "scatterpolar"
           }
          ],
          "scatterpolargl": [
           {
            "marker": {
             "colorbar": {
              "outlinewidth": 0,
              "ticks": ""
             }
            },
            "type": "scatterpolargl"
           }
          ],
          "scatterternary": [
           {
            "marker": {
             "colorbar": {
              "outlinewidth": 0,
              "ticks": ""
             }
            },
            "type": "scatterternary"
           }
          ],
          "surface": [
           {
            "colorbar": {
             "outlinewidth": 0,
             "ticks": ""
            },
            "colorscale": [
             [
              0,
              "#0d0887"
             ],
             [
              0.1111111111111111,
              "#46039f"
             ],
             [
              0.2222222222222222,
              "#7201a8"
             ],
             [
              0.3333333333333333,
              "#9c179e"
             ],
             [
              0.4444444444444444,
              "#bd3786"
             ],
             [
              0.5555555555555556,
              "#d8576b"
             ],
             [
              0.6666666666666666,
              "#ed7953"
             ],
             [
              0.7777777777777778,
              "#fb9f3a"
             ],
             [
              0.8888888888888888,
              "#fdca26"
             ],
             [
              1,
              "#f0f921"
             ]
            ],
            "type": "surface"
           }
          ],
          "table": [
           {
            "cells": {
             "fill": {
              "color": "#EBF0F8"
             },
             "line": {
              "color": "white"
             }
            },
            "header": {
             "fill": {
              "color": "#C8D4E3"
             },
             "line": {
              "color": "white"
             }
            },
            "type": "table"
           }
          ]
         },
         "layout": {
          "annotationdefaults": {
           "arrowcolor": "#2a3f5f",
           "arrowhead": 0,
           "arrowwidth": 1
          },
          "autotypenumbers": "strict",
          "coloraxis": {
           "colorbar": {
            "outlinewidth": 0,
            "ticks": ""
           }
          },
          "colorscale": {
           "diverging": [
            [
             0,
             "#8e0152"
            ],
            [
             0.1,
             "#c51b7d"
            ],
            [
             0.2,
             "#de77ae"
            ],
            [
             0.3,
             "#f1b6da"
            ],
            [
             0.4,
             "#fde0ef"
            ],
            [
             0.5,
             "#f7f7f7"
            ],
            [
             0.6,
             "#e6f5d0"
            ],
            [
             0.7,
             "#b8e186"
            ],
            [
             0.8,
             "#7fbc41"
            ],
            [
             0.9,
             "#4d9221"
            ],
            [
             1,
             "#276419"
            ]
           ],
           "sequential": [
            [
             0,
             "#0d0887"
            ],
            [
             0.1111111111111111,
             "#46039f"
            ],
            [
             0.2222222222222222,
             "#7201a8"
            ],
            [
             0.3333333333333333,
             "#9c179e"
            ],
            [
             0.4444444444444444,
             "#bd3786"
            ],
            [
             0.5555555555555556,
             "#d8576b"
            ],
            [
             0.6666666666666666,
             "#ed7953"
            ],
            [
             0.7777777777777778,
             "#fb9f3a"
            ],
            [
             0.8888888888888888,
             "#fdca26"
            ],
            [
             1,
             "#f0f921"
            ]
           ],
           "sequentialminus": [
            [
             0,
             "#0d0887"
            ],
            [
             0.1111111111111111,
             "#46039f"
            ],
            [
             0.2222222222222222,
             "#7201a8"
            ],
            [
             0.3333333333333333,
             "#9c179e"
            ],
            [
             0.4444444444444444,
             "#bd3786"
            ],
            [
             0.5555555555555556,
             "#d8576b"
            ],
            [
             0.6666666666666666,
             "#ed7953"
            ],
            [
             0.7777777777777778,
             "#fb9f3a"
            ],
            [
             0.8888888888888888,
             "#fdca26"
            ],
            [
             1,
             "#f0f921"
            ]
           ]
          },
          "colorway": [
           "#636efa",
           "#EF553B",
           "#00cc96",
           "#ab63fa",
           "#FFA15A",
           "#19d3f3",
           "#FF6692",
           "#B6E880",
           "#FF97FF",
           "#FECB52"
          ],
          "font": {
           "color": "#2a3f5f"
          },
          "geo": {
           "bgcolor": "white",
           "lakecolor": "white",
           "landcolor": "#E5ECF6",
           "showlakes": true,
           "showland": true,
           "subunitcolor": "white"
          },
          "hoverlabel": {
           "align": "left"
          },
          "hovermode": "closest",
          "mapbox": {
           "style": "light"
          },
          "paper_bgcolor": "white",
          "plot_bgcolor": "#E5ECF6",
          "polar": {
           "angularaxis": {
            "gridcolor": "white",
            "linecolor": "white",
            "ticks": ""
           },
           "bgcolor": "#E5ECF6",
           "radialaxis": {
            "gridcolor": "white",
            "linecolor": "white",
            "ticks": ""
           }
          },
          "scene": {
           "xaxis": {
            "backgroundcolor": "#E5ECF6",
            "gridcolor": "white",
            "gridwidth": 2,
            "linecolor": "white",
            "showbackground": true,
            "ticks": "",
            "zerolinecolor": "white"
           },
           "yaxis": {
            "backgroundcolor": "#E5ECF6",
            "gridcolor": "white",
            "gridwidth": 2,
            "linecolor": "white",
            "showbackground": true,
            "ticks": "",
            "zerolinecolor": "white"
           },
           "zaxis": {
            "backgroundcolor": "#E5ECF6",
            "gridcolor": "white",
            "gridwidth": 2,
            "linecolor": "white",
            "showbackground": true,
            "ticks": "",
            "zerolinecolor": "white"
           }
          },
          "shapedefaults": {
           "line": {
            "color": "#2a3f5f"
           }
          },
          "ternary": {
           "aaxis": {
            "gridcolor": "white",
            "linecolor": "white",
            "ticks": ""
           },
           "baxis": {
            "gridcolor": "white",
            "linecolor": "white",
            "ticks": ""
           },
           "bgcolor": "#E5ECF6",
           "caxis": {
            "gridcolor": "white",
            "linecolor": "white",
            "ticks": ""
           }
          },
          "title": {
           "x": 0.05
          },
          "xaxis": {
           "automargin": true,
           "gridcolor": "white",
           "linecolor": "white",
           "ticks": "",
           "title": {
            "standoff": 15
           },
           "zerolinecolor": "white",
           "zerolinewidth": 2
          },
          "yaxis": {
           "automargin": true,
           "gridcolor": "white",
           "linecolor": "white",
           "ticks": "",
           "title": {
            "standoff": 15
           },
           "zerolinecolor": "white",
           "zerolinewidth": 2
          }
         }
        },
        "title": {
         "text": "Regression line for Mod 1"
        },
        "xaxis": {
         "anchor": "y",
         "domain": [
          0,
          1
         ],
         "title": {
          "text": "lgEBITDA"
         }
        },
        "yaxis": {
         "anchor": "x",
         "domain": [
          0,
          1
         ],
         "title": {
          "text": "lgEV"
         }
        }
       }
      }
     },
     "metadata": {},
     "output_type": "display_data"
    }
   ],
   "source": [
    "fig = px.scatter(\n",
    "    dat_s1s2, x='lgEBITDA', y='lgEV', opacity=0.65,\n",
    "    trendline='ols', trendline_color_override='darkblue',\n",
    "    title=\"Regression line for Mod 1\"\n",
    ")\n",
    "fig"
   ]
  },
  {
   "cell_type": "code",
   "execution_count": null,
   "metadata": {
    "tags": [
     "remove-output"
    ]
   },
   "outputs": [
    {
     "data": {
      "application/vnd.plotly.v1+json": {
       "config": {
        "plotlyServerURL": "https://plot.ly"
       },
       "data": [
        {
         "hovertemplate": "Period.Ending=%{marker.color}<br>lgEBITDA=%{x}<br>lgEV=%{y}<extra></extra>",
         "legendgroup": "",
         "marker": {
          "color": [
           2012,
           2012,
           2012,
           2012,
           2012,
           2012,
           2012,
           2012,
           2012,
           2012,
           2012,
           2012,
           2012,
           2012,
           2012,
           2012,
           2012,
           2012,
           2012,
           2012,
           2012,
           2012,
           2012,
           2012
          ],
          "coloraxis": "coloraxis",
          "symbol": "circle"
         },
         "mode": "markers",
         "name": "",
         "orientation": "v",
         "showlegend": false,
         "type": "scatter",
         "x": [
          20.945310384577244,
          20.529681087873747,
          20.55297324123538,
          20.682652154061113,
          20.719811878894895,
          22.111583150517525,
          20.06856984276072,
          20.292636755174698,
          21.44451444761723,
          21.26663609218813,
          21.06330313973212,
          20.980165969428587,
          24.04379531554111,
          19.924535893811402,
          21.303971938160608,
          20.240501130398062,
          20.630440866449625,
          20.11657888151981,
          20.0765842159932,
          21.95319874294188,
          21.894198787194146,
          20.335940209166033,
          21.189826044414385,
          21.672991344906805
         ],
         "xaxis": "x",
         "y": [
          23.575589560359447,
          22.41577418686844,
          23.172169779086207,
          22.71342984945252,
          23.14727175130375,
          24.452138171677326,
          22.58769151246977,
          22.91238515044751,
          24.378621809344317,
          23.555927557594366,
          23.034538961558646,
          23.49063527139685,
          26.456065509582253,
          22.412975598904207,
          23.961604995679227,
          22.682555727775025,
          23.355056930137366,
          23.019327679091358,
          22.22042559440948,
          24.48811982907126,
          25.30533593008149,
          23.073482248261275,
          23.428768442740246,
          23.992965735024587
         ],
         "yaxis": "y"
        },
        {
         "hovertemplate": "<b>OLS trendline</b><br>lgEV = 1.02467 * lgEBITDA + 1.9732<br>R<sup>2</sup>=0.887070<br><br>Period.Ending=2012<br>lgEBITDA=%{x}<br>lgEV=%{y} <b>(trend)</b><extra></extra>",
         "legendgroup": "",
         "marker": {
          "symbol": "circle"
         },
         "mode": "lines",
         "name": "",
         "showlegend": false,
         "type": "scatter",
         "x": [
          19.924535893811402,
          20.06856984276072,
          20.0765842159932,
          20.11657888151981,
          20.240501130398062,
          20.292636755174698,
          20.335940209166033,
          20.529681087873747,
          20.55297324123538,
          20.630440866449625,
          20.682652154061113,
          20.719811878894895,
          20.945310384577244,
          20.980165969428587,
          21.06330313973212,
          21.189826044414385,
          21.26663609218813,
          21.303971938160608,
          21.44451444761723,
          21.672991344906805,
          21.894198787194146,
          21.95319874294188,
          22.111583150517525,
          24.04379531554111
         ],
         "xaxis": "x",
         "y": [
          22.38931278201456,
          22.536900346327396,
          22.545112450720172,
          22.586093867348943,
          22.713073534361655,
          22.766495452811025,
          22.81086729255808,
          23.00938815937373,
          23.033254978323857,
          23.11263389004482,
          23.166133338087644,
          23.204209870174413,
          23.43527189029269,
          23.470987434499005,
          23.55617577071047,
          23.68582025708369,
          23.76452536756892,
          23.80278236606707,
          23.946792349855098,
          24.180906244660466,
          24.407571331976435,
          24.46802693863648,
          24.630319017064785,
          26.61020285175579
         ],
         "yaxis": "y"
        },
        {
         "hovertemplate": "Period.Ending=%{marker.color}<br>lgEBITDA=%{x}<br>lgEV=%{y}<extra></extra>",
         "legendgroup": "",
         "marker": {
          "color": [
           2013,
           2013,
           2013,
           2013,
           2013,
           2013,
           2013,
           2013,
           2013,
           2013,
           2013,
           2013,
           2013,
           2013,
           2013,
           2013,
           2013,
           2013,
           2013,
           2013,
           2013,
           2013,
           2013,
           2013
          ],
          "coloraxis": "coloraxis",
          "symbol": "circle"
         },
         "mode": "markers",
         "name": "",
         "orientation": "v",
         "showlegend": false,
         "type": "scatter",
         "x": [
          21.064156867729334,
          20.837486981036434,
          20.63664420217923,
          20.768908194825112,
          20.421528111660308,
          22.20670959456511,
          20.070876648858633,
          20.488682095489647,
          21.871303008942043,
          21.22803314612844,
          21.10443825248553,
          21.11627839960526,
          23.95501839962829,
          19.81915068100239,
          21.338937844226944,
          20.417778181776832,
          20.7579348607067,
          20.247480727103394,
          20.152904269372304,
          22.14540985096,
          22.91167388487806,
          20.438468931727314,
          21.049182559628107,
          21.679161823412926
         ],
         "xaxis": "x2",
         "y": [
          23.894536613039296,
          22.563170738564395,
          23.450535243737914,
          22.975416818980673,
          23.108239984146138,
          24.633895866675626,
          22.738600090767726,
          23.06359278463345,
          24.707770047704773,
          23.86652283668059,
          23.768724010860744,
          23.698037550024075,
          26.420387025542936,
          22.511581908953552,
          24.15096277634843,
          22.825045272343502,
          23.57165725800976,
          23.213378376570283,
          22.85466798811917,
          24.738544691165252,
          25.542504921694523,
          23.27674235695175,
          23.531134160042004,
          24.129075861486857
         ],
         "yaxis": "y2"
        },
        {
         "hovertemplate": "<b>OLS trendline</b><br>lgEV = 0.959763 * lgEBITDA + 3.454<br>R<sup>2</sup>=0.929916<br><br>Period.Ending=2013<br>lgEBITDA=%{x}<br>lgEV=%{y} <b>(trend)</b><extra></extra>",
         "legendgroup": "",
         "marker": {
          "symbol": "circle"
         },
         "mode": "lines",
         "name": "",
         "showlegend": false,
         "type": "scatter",
         "x": [
          19.81915068100239,
          20.070876648858633,
          20.152904269372304,
          20.247480727103394,
          20.417778181776832,
          20.421528111660308,
          20.438468931727314,
          20.488682095489647,
          20.63664420217923,
          20.7579348607067,
          20.768908194825112,
          20.837486981036434,
          21.049182559628107,
          21.064156867729334,
          21.10443825248553,
          21.11627839960526,
          21.22803314612844,
          21.338937844226944,
          21.679161823412926,
          21.871303008942043,
          22.14540985096,
          22.20670959456511,
          22.91167388487806,
          23.95501839962829
         ],
         "xaxis": "x2",
         "y": [
          22.475679668664828,
          22.717276828967016,
          22.796003868339312,
          22.88677481189298,
          23.050219933610776,
          23.05381897593007,
          23.07007814083163,
          23.118270855624157,
          23.260279346496052,
          23.376689579897775,
          23.387221375185455,
          23.45304072686668,
          23.656218218135617,
          23.67058999847102,
          23.70925056358083,
          23.720614293537054,
          23.827872315584703,
          23.934314492976874,
          24.260848731530228,
          24.44525864837854,
          24.708336133847812,
          24.76716933293478,
          25.44376766764184,
          26.445130674117493
         ],
         "yaxis": "y2"
        },
        {
         "hovertemplate": "Period.Ending=%{marker.color}<br>lgEBITDA=%{x}<br>lgEV=%{y}<extra></extra>",
         "legendgroup": "",
         "marker": {
          "color": [
           2014,
           2014,
           2014,
           2014,
           2014,
           2014,
           2014,
           2014,
           2014,
           2014,
           2014,
           2014,
           2014,
           2014,
           2014,
           2014,
           2014,
           2014,
           2014,
           2014,
           2014,
           2014,
           2014,
           2014
          ],
          "coloraxis": "coloraxis",
          "symbol": "circle"
         },
         "mode": "markers",
         "name": "",
         "orientation": "v",
         "showlegend": false,
         "type": "scatter",
         "x": [
          21.09364041095728,
          20.983319742280717,
          20.746341533275853,
          20.92293603207498,
          20.506883129534646,
          22.20698178364747,
          19.965900084059815,
          20.55721125261633,
          21.812164433426883,
          21.35038004690192,
          21.201981406794168,
          21.163328809803588,
          23.940620505442674,
          19.936247440776395,
          21.489338147520915,
          20.225390988689192,
          20.906736732996887,
          20.305210807328837,
          20.28188387193641,
          22.37153977316571,
          22.65666953390954,
          20.50849339988195,
          21.07159606034958,
          21.691009850409483
         ],
         "xaxis": "x3",
         "y": [
          24.21608444444413,
          23.20134270653781,
          23.475277702877033,
          23.718652203537943,
          23.26369842272428,
          24.75293424202962,
          22.70996024633617,
          23.219641588251484,
          24.618042015924242,
          23.979261927309363,
          23.875126335165945,
          23.69256918559057,
          26.276473392923645,
          22.79042814817555,
          24.237936450206792,
          22.824304048797877,
          23.64889896720968,
          23.3333184055223,
          22.829579885521643,
          24.87549671177043,
          25.61241922508268,
          23.26697192361676,
          23.517392964686593,
          24.210370870186793
         ],
         "yaxis": "y3"
        },
        {
         "hovertemplate": "<b>OLS trendline</b><br>lgEV = 0.932539 * lgEBITDA + 4.10474<br>R<sup>2</sup>=0.951420<br><br>Period.Ending=2014<br>lgEBITDA=%{x}<br>lgEV=%{y} <b>(trend)</b><extra></extra>",
         "legendgroup": "",
         "marker": {
          "symbol": "circle"
         },
         "mode": "lines",
         "name": "",
         "showlegend": false,
         "type": "scatter",
         "x": [
          19.936247440776395,
          19.965900084059815,
          20.225390988689192,
          20.28188387193641,
          20.305210807328837,
          20.506883129534646,
          20.50849339988195,
          20.55721125261633,
          20.746341533275853,
          20.906736732996887,
          20.92293603207498,
          20.983319742280717,
          21.07159606034958,
          21.09364041095728,
          21.163328809803588,
          21.201981406794168,
          21.35038004690192,
          21.489338147520915,
          21.691009850409483,
          21.812164433426883,
          22.20698178364747,
          22.37153977316571,
          22.65666953390954,
          23.940620505442674
         ],
         "xaxis": "x3",
         "y": [
          22.69605916129177,
          22.723711400926966,
          22.965696731185087,
          23.018378535309733,
          23.040131807058923,
          23.22819906730682,
          23.229700706843488,
          23.275131993540157,
          23.4515033137318,
          23.601078056753128,
          23.61618453126699,
          23.67249468239624,
          23.754815771886353,
          23.7753729835919,
          23.840360117665323,
          23.876405163103268,
          24.014792649121787,
          24.144376466012616,
          24.332443148723172,
          24.445424495123827,
          24.813606983142904,
          24.967063689061206,
          25.232958246785923,
          26.430292312600066
         ],
         "yaxis": "y3"
        }
       ],
       "layout": {
        "annotations": [
         {
          "font": {},
          "showarrow": false,
          "text": "Period.Ending=2012",
          "x": 0.15999999999999998,
          "xanchor": "center",
          "xref": "paper",
          "y": 1,
          "yanchor": "bottom",
          "yref": "paper"
         },
         {
          "font": {},
          "showarrow": false,
          "text": "Period.Ending=2013",
          "x": 0.49999999999999994,
          "xanchor": "center",
          "xref": "paper",
          "y": 1,
          "yanchor": "bottom",
          "yref": "paper"
         },
         {
          "font": {},
          "showarrow": false,
          "text": "Period.Ending=2014",
          "x": 0.8399999999999999,
          "xanchor": "center",
          "xref": "paper",
          "y": 1,
          "yanchor": "bottom",
          "yref": "paper"
         }
        ],
        "coloraxis": {
         "colorbar": {
          "title": {
           "text": "Period.Ending"
          }
         },
         "colorscale": [
          [
           0,
           "#0d0887"
          ],
          [
           0.1111111111111111,
           "#46039f"
          ],
          [
           0.2222222222222222,
           "#7201a8"
          ],
          [
           0.3333333333333333,
           "#9c179e"
          ],
          [
           0.4444444444444444,
           "#bd3786"
          ],
          [
           0.5555555555555556,
           "#d8576b"
          ],
          [
           0.6666666666666666,
           "#ed7953"
          ],
          [
           0.7777777777777778,
           "#fb9f3a"
          ],
          [
           0.8888888888888888,
           "#fdca26"
          ],
          [
           1,
           "#f0f921"
          ]
         ]
        },
        "legend": {
         "tracegroupgap": 0
        },
        "template": {
         "data": {
          "bar": [
           {
            "error_x": {
             "color": "#2a3f5f"
            },
            "error_y": {
             "color": "#2a3f5f"
            },
            "marker": {
             "line": {
              "color": "#E5ECF6",
              "width": 0.5
             },
             "pattern": {
              "fillmode": "overlay",
              "size": 10,
              "solidity": 0.2
             }
            },
            "type": "bar"
           }
          ],
          "barpolar": [
           {
            "marker": {
             "line": {
              "color": "#E5ECF6",
              "width": 0.5
             },
             "pattern": {
              "fillmode": "overlay",
              "size": 10,
              "solidity": 0.2
             }
            },
            "type": "barpolar"
           }
          ],
          "carpet": [
           {
            "aaxis": {
             "endlinecolor": "#2a3f5f",
             "gridcolor": "white",
             "linecolor": "white",
             "minorgridcolor": "white",
             "startlinecolor": "#2a3f5f"
            },
            "baxis": {
             "endlinecolor": "#2a3f5f",
             "gridcolor": "white",
             "linecolor": "white",
             "minorgridcolor": "white",
             "startlinecolor": "#2a3f5f"
            },
            "type": "carpet"
           }
          ],
          "choropleth": [
           {
            "colorbar": {
             "outlinewidth": 0,
             "ticks": ""
            },
            "type": "choropleth"
           }
          ],
          "contour": [
           {
            "colorbar": {
             "outlinewidth": 0,
             "ticks": ""
            },
            "colorscale": [
             [
              0,
              "#0d0887"
             ],
             [
              0.1111111111111111,
              "#46039f"
             ],
             [
              0.2222222222222222,
              "#7201a8"
             ],
             [
              0.3333333333333333,
              "#9c179e"
             ],
             [
              0.4444444444444444,
              "#bd3786"
             ],
             [
              0.5555555555555556,
              "#d8576b"
             ],
             [
              0.6666666666666666,
              "#ed7953"
             ],
             [
              0.7777777777777778,
              "#fb9f3a"
             ],
             [
              0.8888888888888888,
              "#fdca26"
             ],
             [
              1,
              "#f0f921"
             ]
            ],
            "type": "contour"
           }
          ],
          "contourcarpet": [
           {
            "colorbar": {
             "outlinewidth": 0,
             "ticks": ""
            },
            "type": "contourcarpet"
           }
          ],
          "heatmap": [
           {
            "colorbar": {
             "outlinewidth": 0,
             "ticks": ""
            },
            "colorscale": [
             [
              0,
              "#0d0887"
             ],
             [
              0.1111111111111111,
              "#46039f"
             ],
             [
              0.2222222222222222,
              "#7201a8"
             ],
             [
              0.3333333333333333,
              "#9c179e"
             ],
             [
              0.4444444444444444,
              "#bd3786"
             ],
             [
              0.5555555555555556,
              "#d8576b"
             ],
             [
              0.6666666666666666,
              "#ed7953"
             ],
             [
              0.7777777777777778,
              "#fb9f3a"
             ],
             [
              0.8888888888888888,
              "#fdca26"
             ],
             [
              1,
              "#f0f921"
             ]
            ],
            "type": "heatmap"
           }
          ],
          "heatmapgl": [
           {
            "colorbar": {
             "outlinewidth": 0,
             "ticks": ""
            },
            "colorscale": [
             [
              0,
              "#0d0887"
             ],
             [
              0.1111111111111111,
              "#46039f"
             ],
             [
              0.2222222222222222,
              "#7201a8"
             ],
             [
              0.3333333333333333,
              "#9c179e"
             ],
             [
              0.4444444444444444,
              "#bd3786"
             ],
             [
              0.5555555555555556,
              "#d8576b"
             ],
             [
              0.6666666666666666,
              "#ed7953"
             ],
             [
              0.7777777777777778,
              "#fb9f3a"
             ],
             [
              0.8888888888888888,
              "#fdca26"
             ],
             [
              1,
              "#f0f921"
             ]
            ],
            "type": "heatmapgl"
           }
          ],
          "histogram": [
           {
            "marker": {
             "pattern": {
              "fillmode": "overlay",
              "size": 10,
              "solidity": 0.2
             }
            },
            "type": "histogram"
           }
          ],
          "histogram2d": [
           {
            "colorbar": {
             "outlinewidth": 0,
             "ticks": ""
            },
            "colorscale": [
             [
              0,
              "#0d0887"
             ],
             [
              0.1111111111111111,
              "#46039f"
             ],
             [
              0.2222222222222222,
              "#7201a8"
             ],
             [
              0.3333333333333333,
              "#9c179e"
             ],
             [
              0.4444444444444444,
              "#bd3786"
             ],
             [
              0.5555555555555556,
              "#d8576b"
             ],
             [
              0.6666666666666666,
              "#ed7953"
             ],
             [
              0.7777777777777778,
              "#fb9f3a"
             ],
             [
              0.8888888888888888,
              "#fdca26"
             ],
             [
              1,
              "#f0f921"
             ]
            ],
            "type": "histogram2d"
           }
          ],
          "histogram2dcontour": [
           {
            "colorbar": {
             "outlinewidth": 0,
             "ticks": ""
            },
            "colorscale": [
             [
              0,
              "#0d0887"
             ],
             [
              0.1111111111111111,
              "#46039f"
             ],
             [
              0.2222222222222222,
              "#7201a8"
             ],
             [
              0.3333333333333333,
              "#9c179e"
             ],
             [
              0.4444444444444444,
              "#bd3786"
             ],
             [
              0.5555555555555556,
              "#d8576b"
             ],
             [
              0.6666666666666666,
              "#ed7953"
             ],
             [
              0.7777777777777778,
              "#fb9f3a"
             ],
             [
              0.8888888888888888,
              "#fdca26"
             ],
             [
              1,
              "#f0f921"
             ]
            ],
            "type": "histogram2dcontour"
           }
          ],
          "mesh3d": [
           {
            "colorbar": {
             "outlinewidth": 0,
             "ticks": ""
            },
            "type": "mesh3d"
           }
          ],
          "parcoords": [
           {
            "line": {
             "colorbar": {
              "outlinewidth": 0,
              "ticks": ""
             }
            },
            "type": "parcoords"
           }
          ],
          "pie": [
           {
            "automargin": true,
            "type": "pie"
           }
          ],
          "scatter": [
           {
            "fillpattern": {
             "fillmode": "overlay",
             "size": 10,
             "solidity": 0.2
            },
            "type": "scatter"
           }
          ],
          "scatter3d": [
           {
            "line": {
             "colorbar": {
              "outlinewidth": 0,
              "ticks": ""
             }
            },
            "marker": {
             "colorbar": {
              "outlinewidth": 0,
              "ticks": ""
             }
            },
            "type": "scatter3d"
           }
          ],
          "scattercarpet": [
           {
            "marker": {
             "colorbar": {
              "outlinewidth": 0,
              "ticks": ""
             }
            },
            "type": "scattercarpet"
           }
          ],
          "scattergeo": [
           {
            "marker": {
             "colorbar": {
              "outlinewidth": 0,
              "ticks": ""
             }
            },
            "type": "scattergeo"
           }
          ],
          "scattergl": [
           {
            "marker": {
             "colorbar": {
              "outlinewidth": 0,
              "ticks": ""
             }
            },
            "type": "scattergl"
           }
          ],
          "scattermapbox": [
           {
            "marker": {
             "colorbar": {
              "outlinewidth": 0,
              "ticks": ""
             }
            },
            "type": "scattermapbox"
           }
          ],
          "scatterpolar": [
           {
            "marker": {
             "colorbar": {
              "outlinewidth": 0,
              "ticks": ""
             }
            },
            "type": "scatterpolar"
           }
          ],
          "scatterpolargl": [
           {
            "marker": {
             "colorbar": {
              "outlinewidth": 0,
              "ticks": ""
             }
            },
            "type": "scatterpolargl"
           }
          ],
          "scatterternary": [
           {
            "marker": {
             "colorbar": {
              "outlinewidth": 0,
              "ticks": ""
             }
            },
            "type": "scatterternary"
           }
          ],
          "surface": [
           {
            "colorbar": {
             "outlinewidth": 0,
             "ticks": ""
            },
            "colorscale": [
             [
              0,
              "#0d0887"
             ],
             [
              0.1111111111111111,
              "#46039f"
             ],
             [
              0.2222222222222222,
              "#7201a8"
             ],
             [
              0.3333333333333333,
              "#9c179e"
             ],
             [
              0.4444444444444444,
              "#bd3786"
             ],
             [
              0.5555555555555556,
              "#d8576b"
             ],
             [
              0.6666666666666666,
              "#ed7953"
             ],
             [
              0.7777777777777778,
              "#fb9f3a"
             ],
             [
              0.8888888888888888,
              "#fdca26"
             ],
             [
              1,
              "#f0f921"
             ]
            ],
            "type": "surface"
           }
          ],
          "table": [
           {
            "cells": {
             "fill": {
              "color": "#EBF0F8"
             },
             "line": {
              "color": "white"
             }
            },
            "header": {
             "fill": {
              "color": "#C8D4E3"
             },
             "line": {
              "color": "white"
             }
            },
            "type": "table"
           }
          ]
         },
         "layout": {
          "annotationdefaults": {
           "arrowcolor": "#2a3f5f",
           "arrowhead": 0,
           "arrowwidth": 1
          },
          "autotypenumbers": "strict",
          "coloraxis": {
           "colorbar": {
            "outlinewidth": 0,
            "ticks": ""
           }
          },
          "colorscale": {
           "diverging": [
            [
             0,
             "#8e0152"
            ],
            [
             0.1,
             "#c51b7d"
            ],
            [
             0.2,
             "#de77ae"
            ],
            [
             0.3,
             "#f1b6da"
            ],
            [
             0.4,
             "#fde0ef"
            ],
            [
             0.5,
             "#f7f7f7"
            ],
            [
             0.6,
             "#e6f5d0"
            ],
            [
             0.7,
             "#b8e186"
            ],
            [
             0.8,
             "#7fbc41"
            ],
            [
             0.9,
             "#4d9221"
            ],
            [
             1,
             "#276419"
            ]
           ],
           "sequential": [
            [
             0,
             "#0d0887"
            ],
            [
             0.1111111111111111,
             "#46039f"
            ],
            [
             0.2222222222222222,
             "#7201a8"
            ],
            [
             0.3333333333333333,
             "#9c179e"
            ],
            [
             0.4444444444444444,
             "#bd3786"
            ],
            [
             0.5555555555555556,
             "#d8576b"
            ],
            [
             0.6666666666666666,
             "#ed7953"
            ],
            [
             0.7777777777777778,
             "#fb9f3a"
            ],
            [
             0.8888888888888888,
             "#fdca26"
            ],
            [
             1,
             "#f0f921"
            ]
           ],
           "sequentialminus": [
            [
             0,
             "#0d0887"
            ],
            [
             0.1111111111111111,
             "#46039f"
            ],
            [
             0.2222222222222222,
             "#7201a8"
            ],
            [
             0.3333333333333333,
             "#9c179e"
            ],
            [
             0.4444444444444444,
             "#bd3786"
            ],
            [
             0.5555555555555556,
             "#d8576b"
            ],
            [
             0.6666666666666666,
             "#ed7953"
            ],
            [
             0.7777777777777778,
             "#fb9f3a"
            ],
            [
             0.8888888888888888,
             "#fdca26"
            ],
            [
             1,
             "#f0f921"
            ]
           ]
          },
          "colorway": [
           "#636efa",
           "#EF553B",
           "#00cc96",
           "#ab63fa",
           "#FFA15A",
           "#19d3f3",
           "#FF6692",
           "#B6E880",
           "#FF97FF",
           "#FECB52"
          ],
          "font": {
           "color": "#2a3f5f"
          },
          "geo": {
           "bgcolor": "white",
           "lakecolor": "white",
           "landcolor": "#E5ECF6",
           "showlakes": true,
           "showland": true,
           "subunitcolor": "white"
          },
          "hoverlabel": {
           "align": "left"
          },
          "hovermode": "closest",
          "mapbox": {
           "style": "light"
          },
          "paper_bgcolor": "white",
          "plot_bgcolor": "#E5ECF6",
          "polar": {
           "angularaxis": {
            "gridcolor": "white",
            "linecolor": "white",
            "ticks": ""
           },
           "bgcolor": "#E5ECF6",
           "radialaxis": {
            "gridcolor": "white",
            "linecolor": "white",
            "ticks": ""
           }
          },
          "scene": {
           "xaxis": {
            "backgroundcolor": "#E5ECF6",
            "gridcolor": "white",
            "gridwidth": 2,
            "linecolor": "white",
            "showbackground": true,
            "ticks": "",
            "zerolinecolor": "white"
           },
           "yaxis": {
            "backgroundcolor": "#E5ECF6",
            "gridcolor": "white",
            "gridwidth": 2,
            "linecolor": "white",
            "showbackground": true,
            "ticks": "",
            "zerolinecolor": "white"
           },
           "zaxis": {
            "backgroundcolor": "#E5ECF6",
            "gridcolor": "white",
            "gridwidth": 2,
            "linecolor": "white",
            "showbackground": true,
            "ticks": "",
            "zerolinecolor": "white"
           }
          },
          "shapedefaults": {
           "line": {
            "color": "#2a3f5f"
           }
          },
          "ternary": {
           "aaxis": {
            "gridcolor": "white",
            "linecolor": "white",
            "ticks": ""
           },
           "baxis": {
            "gridcolor": "white",
            "linecolor": "white",
            "ticks": ""
           },
           "bgcolor": "#E5ECF6",
           "caxis": {
            "gridcolor": "white",
            "linecolor": "white",
            "ticks": ""
           }
          },
          "title": {
           "x": 0.05
          },
          "xaxis": {
           "automargin": true,
           "gridcolor": "white",
           "linecolor": "white",
           "ticks": "",
           "title": {
            "standoff": 15
           },
           "zerolinecolor": "white",
           "zerolinewidth": 2
          },
          "yaxis": {
           "automargin": true,
           "gridcolor": "white",
           "linecolor": "white",
           "ticks": "",
           "title": {
            "standoff": 15
           },
           "zerolinecolor": "white",
           "zerolinewidth": 2
          }
         }
        },
        "title": {
         "text": "Regression line for 2"
        },
        "xaxis": {
         "anchor": "y",
         "domain": [
          0,
          0.31999999999999995
         ],
         "title": {
          "text": "lgEBITDA"
         }
        },
        "xaxis2": {
         "anchor": "y2",
         "domain": [
          0.33999999999999997,
          0.6599999999999999
         ],
         "matches": "x",
         "title": {
          "text": "lgEBITDA"
         }
        },
        "xaxis3": {
         "anchor": "y3",
         "domain": [
          0.6799999999999999,
          0.9999999999999999
         ],
         "matches": "x",
         "title": {
          "text": "lgEBITDA"
         }
        },
        "yaxis": {
         "anchor": "x",
         "domain": [
          0,
          1
         ],
         "title": {
          "text": "lgEV"
         }
        },
        "yaxis2": {
         "anchor": "x2",
         "domain": [
          0,
          1
         ],
         "matches": "y",
         "showticklabels": false
        },
        "yaxis3": {
         "anchor": "x3",
         "domain": [
          0,
          1
         ],
         "matches": "y",
         "showticklabels": false
        }
       }
      }
     },
     "metadata": {},
     "output_type": "display_data"
    }
   ],
   "source": [
    "import plotly.express as px\n",
    "\n",
    "fig = px.scatter(dat_s1s2, x=\"lgEBITDA\", y=\"lgEV\", facet_col=\"Period.Ending\", \n",
    "                 color=\"Period.Ending\", trendline=\"ols\",\n",
    "                 title=\"Regression line for 2\")\n",
    "\n",
    "fig\n",
    "\n"
   ]
  },
  {
   "cell_type": "code",
   "execution_count": null,
   "metadata": {
    "tags": [
     "remove-output"
    ]
   },
   "outputs": [
    {
     "data": {
      "application/vnd.plotly.v1+json": {
       "config": {
        "plotlyServerURL": "https://plot.ly"
       },
       "data": [
        {
         "hovertemplate": "GICS.Sector=Information Technology<br>lgEBITDA=%{x}<br>lgEV=%{y}<extra></extra>",
         "legendgroup": "Information Technology",
         "marker": {
          "color": "#636efa",
          "symbol": "circle"
         },
         "mode": "markers",
         "name": "Information Technology",
         "orientation": "v",
         "showlegend": true,
         "type": "scatter",
         "x": [
          20.945310384577244,
          21.064156867729334,
          21.09364041095728,
          20.682652154061113,
          20.768908194825112,
          20.92293603207498,
          21.26663609218813,
          21.22803314612844,
          21.35038004690192,
          21.06330313973212,
          21.10443825248553,
          21.201981406794168,
          24.04379531554111,
          23.95501839962829,
          23.940620505442674,
          20.0765842159932,
          20.152904269372304,
          20.28188387193641,
          21.95319874294188,
          22.14540985096,
          22.37153977316571,
          21.189826044414385,
          21.049182559628107,
          21.07159606034958,
          21.672991344906805,
          21.679161823412926,
          21.691009850409483
         ],
         "xaxis": "x",
         "y": [
          23.575589560359447,
          23.894536613039296,
          24.21608444444413,
          22.71342984945252,
          22.975416818980673,
          23.718652203537943,
          23.555927557594366,
          23.86652283668059,
          23.979261927309363,
          23.034538961558646,
          23.768724010860744,
          23.875126335165945,
          26.456065509582253,
          26.420387025542936,
          26.276473392923645,
          22.22042559440948,
          22.85466798811917,
          22.829579885521643,
          24.48811982907126,
          24.738544691165252,
          24.87549671177043,
          23.428768442740246,
          23.531134160042004,
          23.517392964686593,
          23.992965735024587,
          24.129075861486857,
          24.210370870186793
         ],
         "yaxis": "y"
        },
        {
         "hovertemplate": "<b>OLS trendline</b><br>lgEV = 0.988847 * lgEBITDA + 2.72757<br>R<sup>2</sup>=0.944487<br><br>GICS.Sector=Information Technology<br>lgEBITDA=%{x}<br>lgEV=%{y} <b>(trend)</b><extra></extra>",
         "legendgroup": "Information Technology",
         "marker": {
          "color": "#636efa",
          "symbol": "circle"
         },
         "mode": "lines",
         "name": "Information Technology",
         "showlegend": false,
         "type": "scatter",
         "x": [
          20.0765842159932,
          20.152904269372304,
          20.28188387193641,
          20.682652154061113,
          20.768908194825112,
          20.92293603207498,
          20.945310384577244,
          21.049182559628107,
          21.06330313973212,
          21.064156867729334,
          21.07159606034958,
          21.09364041095728,
          21.10443825248553,
          21.189826044414385,
          21.201981406794168,
          21.22803314612844,
          21.26663609218813,
          21.35038004690192,
          21.672991344906805,
          21.679161823412926,
          21.691009850409483,
          21.95319874294188,
          22.14540985096,
          22.37153977316571,
          23.940620505442674,
          23.95501839962829,
          24.04379531554111
         ],
         "xaxis": "x",
         "y": [
          22.580245795488292,
          22.65571467054186,
          22.783255796096622,
          23.17955441054944,
          23.2648484594241,
          23.41715846301439,
          23.439283280000698,
          23.541996994855133,
          23.555960091687105,
          23.55680429827107,
          23.564160523450425,
          23.58595901897015,
          23.59663643489249,
          23.6810719182925,
          23.693091714978358,
          23.718852905827898,
          23.75702532295669,
          23.839835302443905,
          24.158848597928156,
          24.164950258642225,
          24.176666147578953,
          24.43593091345475,
          24.625998339415176,
          24.84960629157483,
          26.401187461794507,
          26.415424779894003,
          26.50321158923212
         ],
         "yaxis": "y"
        },
        {
         "hovertemplate": "GICS.Sector=Industrials<br>lgEBITDA=%{x}<br>lgEV=%{y}<extra></extra>",
         "legendgroup": "Industrials",
         "marker": {
          "color": "#EF553B",
          "symbol": "circle"
         },
         "mode": "markers",
         "name": "Industrials",
         "orientation": "v",
         "showlegend": true,
         "type": "scatter",
         "x": [
          20.529681087873747,
          20.837486981036434,
          20.983319742280717,
          20.55297324123538,
          20.63664420217923,
          20.746341533275853,
          20.719811878894895,
          20.421528111660308,
          20.506883129534646,
          22.111583150517525,
          22.20670959456511,
          22.20698178364747,
          20.06856984276072,
          20.070876648858633,
          19.965900084059815,
          20.292636755174698,
          20.488682095489647,
          20.55721125261633,
          21.44451444761723,
          21.871303008942043,
          21.812164433426883,
          20.980165969428587,
          21.11627839960526,
          21.163328809803588,
          19.924535893811402,
          19.81915068100239,
          19.936247440776395,
          21.303971938160608,
          21.338937844226944,
          21.489338147520915,
          20.240501130398062,
          20.417778181776832,
          20.225390988689192,
          20.630440866449625,
          20.7579348607067,
          20.906736732996887,
          20.11657888151981,
          20.247480727103394,
          20.305210807328837,
          21.894198787194146,
          22.91167388487806,
          22.65666953390954,
          20.335940209166033,
          20.438468931727314,
          20.50849339988195
         ],
         "xaxis": "x2",
         "y": [
          22.41577418686844,
          22.563170738564395,
          23.20134270653781,
          23.172169779086207,
          23.450535243737914,
          23.475277702877033,
          23.14727175130375,
          23.108239984146138,
          23.26369842272428,
          24.452138171677326,
          24.633895866675626,
          24.75293424202962,
          22.58769151246977,
          22.738600090767726,
          22.70996024633617,
          22.91238515044751,
          23.06359278463345,
          23.219641588251484,
          24.378621809344317,
          24.707770047704773,
          24.618042015924242,
          23.49063527139685,
          23.698037550024075,
          23.69256918559057,
          22.412975598904207,
          22.511581908953552,
          22.79042814817555,
          23.961604995679227,
          24.15096277634843,
          24.237936450206792,
          22.682555727775025,
          22.825045272343502,
          22.824304048797877,
          23.355056930137366,
          23.57165725800976,
          23.64889896720968,
          23.019327679091358,
          23.213378376570283,
          23.3333184055223,
          25.30533593008149,
          25.542504921694523,
          25.61241922508268,
          23.073482248261275,
          23.27674235695175,
          23.26697192361676
         ],
         "yaxis": "y2"
        },
        {
         "hovertemplate": "<b>OLS trendline</b><br>lgEV = 1.02536 * lgEBITDA + 2.12377<br>R<sup>2</sup>=0.890067<br><br>GICS.Sector=Industrials<br>lgEBITDA=%{x}<br>lgEV=%{y} <b>(trend)</b><extra></extra>",
         "legendgroup": "Industrials",
         "marker": {
          "color": "#EF553B",
          "symbol": "circle"
         },
         "mode": "lines",
         "name": "Industrials",
         "showlegend": false,
         "type": "scatter",
         "x": [
          19.81915068100239,
          19.924535893811402,
          19.936247440776395,
          19.965900084059815,
          20.06856984276072,
          20.070876648858633,
          20.11657888151981,
          20.225390988689192,
          20.240501130398062,
          20.247480727103394,
          20.292636755174698,
          20.305210807328837,
          20.335940209166033,
          20.417778181776832,
          20.421528111660308,
          20.438468931727314,
          20.488682095489647,
          20.506883129534646,
          20.50849339988195,
          20.529681087873747,
          20.55297324123538,
          20.55721125261633,
          20.630440866449625,
          20.63664420217923,
          20.719811878894895,
          20.746341533275853,
          20.7579348607067,
          20.837486981036434,
          20.906736732996887,
          20.980165969428587,
          20.983319742280717,
          21.11627839960526,
          21.163328809803588,
          21.303971938160608,
          21.338937844226944,
          21.44451444761723,
          21.489338147520915,
          21.812164433426883,
          21.871303008942043,
          21.894198787194146,
          22.111583150517525,
          22.20670959456511,
          22.20698178364747,
          22.65666953390954,
          22.91167388487806
         ],
         "xaxis": "x2",
         "y": [
          22.445496586340415,
          22.553554178570124,
          22.565562709298394,
          22.595967290273713,
          22.701240569363932,
          22.703605871914803,
          22.750467030983096,
          22.862038417449554,
          22.87753172517072,
          22.884688311892987,
          22.930989415605566,
          22.943882323103033,
          22.975390967292082,
          23.05930420367099,
          23.063149225030607,
          23.080519633819883,
          23.1320061130874,
          23.15066869261417,
          23.152319796520782,
          23.174044766165785,
          23.19792756663671,
          23.202273046362574,
          23.277359631470848,
          23.283720272635453,
          23.368996932023332,
          23.39619933071553,
          23.408086644074935,
          23.489656063070917,
          23.560661864168576,
          23.63595313394525,
          23.639186880803628,
          23.775517130500262,
          23.823760654462824,
          23.967970239553818,
          24.003822818098268,
          24.1120766542301,
          24.158037002530552,
          24.489049582318938,
          24.54968780572552,
          24.573164179727165,
          24.79606101945442,
          24.893599699001282,
          24.893878790309138,
          25.354969812980194,
          25.616440615565146
         ],
         "yaxis": "y2"
        }
       ],
       "layout": {
        "annotations": [
         {
          "font": {},
          "showarrow": false,
          "text": "GICS.Sector=Information Technology",
          "x": 0.245,
          "xanchor": "center",
          "xref": "paper",
          "y": 1,
          "yanchor": "bottom",
          "yref": "paper"
         },
         {
          "font": {},
          "showarrow": false,
          "text": "GICS.Sector=Industrials",
          "x": 0.755,
          "xanchor": "center",
          "xref": "paper",
          "y": 1,
          "yanchor": "bottom",
          "yref": "paper"
         }
        ],
        "legend": {
         "title": {
          "text": "GICS.Sector"
         },
         "tracegroupgap": 0
        },
        "template": {
         "data": {
          "bar": [
           {
            "error_x": {
             "color": "#2a3f5f"
            },
            "error_y": {
             "color": "#2a3f5f"
            },
            "marker": {
             "line": {
              "color": "#E5ECF6",
              "width": 0.5
             },
             "pattern": {
              "fillmode": "overlay",
              "size": 10,
              "solidity": 0.2
             }
            },
            "type": "bar"
           }
          ],
          "barpolar": [
           {
            "marker": {
             "line": {
              "color": "#E5ECF6",
              "width": 0.5
             },
             "pattern": {
              "fillmode": "overlay",
              "size": 10,
              "solidity": 0.2
             }
            },
            "type": "barpolar"
           }
          ],
          "carpet": [
           {
            "aaxis": {
             "endlinecolor": "#2a3f5f",
             "gridcolor": "white",
             "linecolor": "white",
             "minorgridcolor": "white",
             "startlinecolor": "#2a3f5f"
            },
            "baxis": {
             "endlinecolor": "#2a3f5f",
             "gridcolor": "white",
             "linecolor": "white",
             "minorgridcolor": "white",
             "startlinecolor": "#2a3f5f"
            },
            "type": "carpet"
           }
          ],
          "choropleth": [
           {
            "colorbar": {
             "outlinewidth": 0,
             "ticks": ""
            },
            "type": "choropleth"
           }
          ],
          "contour": [
           {
            "colorbar": {
             "outlinewidth": 0,
             "ticks": ""
            },
            "colorscale": [
             [
              0,
              "#0d0887"
             ],
             [
              0.1111111111111111,
              "#46039f"
             ],
             [
              0.2222222222222222,
              "#7201a8"
             ],
             [
              0.3333333333333333,
              "#9c179e"
             ],
             [
              0.4444444444444444,
              "#bd3786"
             ],
             [
              0.5555555555555556,
              "#d8576b"
             ],
             [
              0.6666666666666666,
              "#ed7953"
             ],
             [
              0.7777777777777778,
              "#fb9f3a"
             ],
             [
              0.8888888888888888,
              "#fdca26"
             ],
             [
              1,
              "#f0f921"
             ]
            ],
            "type": "contour"
           }
          ],
          "contourcarpet": [
           {
            "colorbar": {
             "outlinewidth": 0,
             "ticks": ""
            },
            "type": "contourcarpet"
           }
          ],
          "heatmap": [
           {
            "colorbar": {
             "outlinewidth": 0,
             "ticks": ""
            },
            "colorscale": [
             [
              0,
              "#0d0887"
             ],
             [
              0.1111111111111111,
              "#46039f"
             ],
             [
              0.2222222222222222,
              "#7201a8"
             ],
             [
              0.3333333333333333,
              "#9c179e"
             ],
             [
              0.4444444444444444,
              "#bd3786"
             ],
             [
              0.5555555555555556,
              "#d8576b"
             ],
             [
              0.6666666666666666,
              "#ed7953"
             ],
             [
              0.7777777777777778,
              "#fb9f3a"
             ],
             [
              0.8888888888888888,
              "#fdca26"
             ],
             [
              1,
              "#f0f921"
             ]
            ],
            "type": "heatmap"
           }
          ],
          "heatmapgl": [
           {
            "colorbar": {
             "outlinewidth": 0,
             "ticks": ""
            },
            "colorscale": [
             [
              0,
              "#0d0887"
             ],
             [
              0.1111111111111111,
              "#46039f"
             ],
             [
              0.2222222222222222,
              "#7201a8"
             ],
             [
              0.3333333333333333,
              "#9c179e"
             ],
             [
              0.4444444444444444,
              "#bd3786"
             ],
             [
              0.5555555555555556,
              "#d8576b"
             ],
             [
              0.6666666666666666,
              "#ed7953"
             ],
             [
              0.7777777777777778,
              "#fb9f3a"
             ],
             [
              0.8888888888888888,
              "#fdca26"
             ],
             [
              1,
              "#f0f921"
             ]
            ],
            "type": "heatmapgl"
           }
          ],
          "histogram": [
           {
            "marker": {
             "pattern": {
              "fillmode": "overlay",
              "size": 10,
              "solidity": 0.2
             }
            },
            "type": "histogram"
           }
          ],
          "histogram2d": [
           {
            "colorbar": {
             "outlinewidth": 0,
             "ticks": ""
            },
            "colorscale": [
             [
              0,
              "#0d0887"
             ],
             [
              0.1111111111111111,
              "#46039f"
             ],
             [
              0.2222222222222222,
              "#7201a8"
             ],
             [
              0.3333333333333333,
              "#9c179e"
             ],
             [
              0.4444444444444444,
              "#bd3786"
             ],
             [
              0.5555555555555556,
              "#d8576b"
             ],
             [
              0.6666666666666666,
              "#ed7953"
             ],
             [
              0.7777777777777778,
              "#fb9f3a"
             ],
             [
              0.8888888888888888,
              "#fdca26"
             ],
             [
              1,
              "#f0f921"
             ]
            ],
            "type": "histogram2d"
           }
          ],
          "histogram2dcontour": [
           {
            "colorbar": {
             "outlinewidth": 0,
             "ticks": ""
            },
            "colorscale": [
             [
              0,
              "#0d0887"
             ],
             [
              0.1111111111111111,
              "#46039f"
             ],
             [
              0.2222222222222222,
              "#7201a8"
             ],
             [
              0.3333333333333333,
              "#9c179e"
             ],
             [
              0.4444444444444444,
              "#bd3786"
             ],
             [
              0.5555555555555556,
              "#d8576b"
             ],
             [
              0.6666666666666666,
              "#ed7953"
             ],
             [
              0.7777777777777778,
              "#fb9f3a"
             ],
             [
              0.8888888888888888,
              "#fdca26"
             ],
             [
              1,
              "#f0f921"
             ]
            ],
            "type": "histogram2dcontour"
           }
          ],
          "mesh3d": [
           {
            "colorbar": {
             "outlinewidth": 0,
             "ticks": ""
            },
            "type": "mesh3d"
           }
          ],
          "parcoords": [
           {
            "line": {
             "colorbar": {
              "outlinewidth": 0,
              "ticks": ""
             }
            },
            "type": "parcoords"
           }
          ],
          "pie": [
           {
            "automargin": true,
            "type": "pie"
           }
          ],
          "scatter": [
           {
            "fillpattern": {
             "fillmode": "overlay",
             "size": 10,
             "solidity": 0.2
            },
            "type": "scatter"
           }
          ],
          "scatter3d": [
           {
            "line": {
             "colorbar": {
              "outlinewidth": 0,
              "ticks": ""
             }
            },
            "marker": {
             "colorbar": {
              "outlinewidth": 0,
              "ticks": ""
             }
            },
            "type": "scatter3d"
           }
          ],
          "scattercarpet": [
           {
            "marker": {
             "colorbar": {
              "outlinewidth": 0,
              "ticks": ""
             }
            },
            "type": "scattercarpet"
           }
          ],
          "scattergeo": [
           {
            "marker": {
             "colorbar": {
              "outlinewidth": 0,
              "ticks": ""
             }
            },
            "type": "scattergeo"
           }
          ],
          "scattergl": [
           {
            "marker": {
             "colorbar": {
              "outlinewidth": 0,
              "ticks": ""
             }
            },
            "type": "scattergl"
           }
          ],
          "scattermapbox": [
           {
            "marker": {
             "colorbar": {
              "outlinewidth": 0,
              "ticks": ""
             }
            },
            "type": "scattermapbox"
           }
          ],
          "scatterpolar": [
           {
            "marker": {
             "colorbar": {
              "outlinewidth": 0,
              "ticks": ""
             }
            },
            "type": "scatterpolar"
           }
          ],
          "scatterpolargl": [
           {
            "marker": {
             "colorbar": {
              "outlinewidth": 0,
              "ticks": ""
             }
            },
            "type": "scatterpolargl"
           }
          ],
          "scatterternary": [
           {
            "marker": {
             "colorbar": {
              "outlinewidth": 0,
              "ticks": ""
             }
            },
            "type": "scatterternary"
           }
          ],
          "surface": [
           {
            "colorbar": {
             "outlinewidth": 0,
             "ticks": ""
            },
            "colorscale": [
             [
              0,
              "#0d0887"
             ],
             [
              0.1111111111111111,
              "#46039f"
             ],
             [
              0.2222222222222222,
              "#7201a8"
             ],
             [
              0.3333333333333333,
              "#9c179e"
             ],
             [
              0.4444444444444444,
              "#bd3786"
             ],
             [
              0.5555555555555556,
              "#d8576b"
             ],
             [
              0.6666666666666666,
              "#ed7953"
             ],
             [
              0.7777777777777778,
              "#fb9f3a"
             ],
             [
              0.8888888888888888,
              "#fdca26"
             ],
             [
              1,
              "#f0f921"
             ]
            ],
            "type": "surface"
           }
          ],
          "table": [
           {
            "cells": {
             "fill": {
              "color": "#EBF0F8"
             },
             "line": {
              "color": "white"
             }
            },
            "header": {
             "fill": {
              "color": "#C8D4E3"
             },
             "line": {
              "color": "white"
             }
            },
            "type": "table"
           }
          ]
         },
         "layout": {
          "annotationdefaults": {
           "arrowcolor": "#2a3f5f",
           "arrowhead": 0,
           "arrowwidth": 1
          },
          "autotypenumbers": "strict",
          "coloraxis": {
           "colorbar": {
            "outlinewidth": 0,
            "ticks": ""
           }
          },
          "colorscale": {
           "diverging": [
            [
             0,
             "#8e0152"
            ],
            [
             0.1,
             "#c51b7d"
            ],
            [
             0.2,
             "#de77ae"
            ],
            [
             0.3,
             "#f1b6da"
            ],
            [
             0.4,
             "#fde0ef"
            ],
            [
             0.5,
             "#f7f7f7"
            ],
            [
             0.6,
             "#e6f5d0"
            ],
            [
             0.7,
             "#b8e186"
            ],
            [
             0.8,
             "#7fbc41"
            ],
            [
             0.9,
             "#4d9221"
            ],
            [
             1,
             "#276419"
            ]
           ],
           "sequential": [
            [
             0,
             "#0d0887"
            ],
            [
             0.1111111111111111,
             "#46039f"
            ],
            [
             0.2222222222222222,
             "#7201a8"
            ],
            [
             0.3333333333333333,
             "#9c179e"
            ],
            [
             0.4444444444444444,
             "#bd3786"
            ],
            [
             0.5555555555555556,
             "#d8576b"
            ],
            [
             0.6666666666666666,
             "#ed7953"
            ],
            [
             0.7777777777777778,
             "#fb9f3a"
            ],
            [
             0.8888888888888888,
             "#fdca26"
            ],
            [
             1,
             "#f0f921"
            ]
           ],
           "sequentialminus": [
            [
             0,
             "#0d0887"
            ],
            [
             0.1111111111111111,
             "#46039f"
            ],
            [
             0.2222222222222222,
             "#7201a8"
            ],
            [
             0.3333333333333333,
             "#9c179e"
            ],
            [
             0.4444444444444444,
             "#bd3786"
            ],
            [
             0.5555555555555556,
             "#d8576b"
            ],
            [
             0.6666666666666666,
             "#ed7953"
            ],
            [
             0.7777777777777778,
             "#fb9f3a"
            ],
            [
             0.8888888888888888,
             "#fdca26"
            ],
            [
             1,
             "#f0f921"
            ]
           ]
          },
          "colorway": [
           "#636efa",
           "#EF553B",
           "#00cc96",
           "#ab63fa",
           "#FFA15A",
           "#19d3f3",
           "#FF6692",
           "#B6E880",
           "#FF97FF",
           "#FECB52"
          ],
          "font": {
           "color": "#2a3f5f"
          },
          "geo": {
           "bgcolor": "white",
           "lakecolor": "white",
           "landcolor": "#E5ECF6",
           "showlakes": true,
           "showland": true,
           "subunitcolor": "white"
          },
          "hoverlabel": {
           "align": "left"
          },
          "hovermode": "closest",
          "mapbox": {
           "style": "light"
          },
          "paper_bgcolor": "white",
          "plot_bgcolor": "#E5ECF6",
          "polar": {
           "angularaxis": {
            "gridcolor": "white",
            "linecolor": "white",
            "ticks": ""
           },
           "bgcolor": "#E5ECF6",
           "radialaxis": {
            "gridcolor": "white",
            "linecolor": "white",
            "ticks": ""
           }
          },
          "scene": {
           "xaxis": {
            "backgroundcolor": "#E5ECF6",
            "gridcolor": "white",
            "gridwidth": 2,
            "linecolor": "white",
            "showbackground": true,
            "ticks": "",
            "zerolinecolor": "white"
           },
           "yaxis": {
            "backgroundcolor": "#E5ECF6",
            "gridcolor": "white",
            "gridwidth": 2,
            "linecolor": "white",
            "showbackground": true,
            "ticks": "",
            "zerolinecolor": "white"
           },
           "zaxis": {
            "backgroundcolor": "#E5ECF6",
            "gridcolor": "white",
            "gridwidth": 2,
            "linecolor": "white",
            "showbackground": true,
            "ticks": "",
            "zerolinecolor": "white"
           }
          },
          "shapedefaults": {
           "line": {
            "color": "#2a3f5f"
           }
          },
          "ternary": {
           "aaxis": {
            "gridcolor": "white",
            "linecolor": "white",
            "ticks": ""
           },
           "baxis": {
            "gridcolor": "white",
            "linecolor": "white",
            "ticks": ""
           },
           "bgcolor": "#E5ECF6",
           "caxis": {
            "gridcolor": "white",
            "linecolor": "white",
            "ticks": ""
           }
          },
          "title": {
           "x": 0.05
          },
          "xaxis": {
           "automargin": true,
           "gridcolor": "white",
           "linecolor": "white",
           "ticks": "",
           "title": {
            "standoff": 15
           },
           "zerolinecolor": "white",
           "zerolinewidth": 2
          },
          "yaxis": {
           "automargin": true,
           "gridcolor": "white",
           "linecolor": "white",
           "ticks": "",
           "title": {
            "standoff": 15
           },
           "zerolinecolor": "white",
           "zerolinewidth": 2
          }
         }
        },
        "title": {
         "text": "Regression line for 3"
        },
        "xaxis": {
         "anchor": "y",
         "domain": [
          0,
          0.49
         ],
         "title": {
          "text": "lgEBITDA"
         }
        },
        "xaxis2": {
         "anchor": "y2",
         "domain": [
          0.51,
          1
         ],
         "matches": "x",
         "title": {
          "text": "lgEBITDA"
         }
        },
        "yaxis": {
         "anchor": "x",
         "domain": [
          0,
          1
         ],
         "title": {
          "text": "lgEV"
         }
        },
        "yaxis2": {
         "anchor": "x2",
         "domain": [
          0,
          1
         ],
         "matches": "y",
         "showticklabels": false
        }
       }
      }
     },
     "metadata": {},
     "output_type": "display_data"
    }
   ],
   "source": [
    "\n",
    "fig = px.scatter(dat_s1s2, x=\"lgEBITDA\", y=\"lgEV\", facet_col=\"GICS.Sector\", \n",
    "                 color=\"GICS.Sector\", trendline=\"ols\",\n",
    "                 title=\"Regression line for 3\")\n",
    "fig\n"
   ]
  },
  {
   "cell_type": "code",
   "execution_count": null,
   "metadata": {
    "tags": [
     "remove-output"
    ]
   },
   "outputs": [
    {
     "data": {
      "application/vnd.plotly.v1+json": {
       "config": {
        "plotlyServerURL": "https://plot.ly"
       },
       "data": [
        {
         "hovertemplate": "GICS.Sector=Information Technology<br>Period.Ending=2012<br>lgEBITDA=%{x}<br>lgEV=%{y}<extra></extra>",
         "legendgroup": "Information Technology",
         "marker": {
          "color": "#636efa",
          "symbol": "circle"
         },
         "mode": "markers",
         "name": "Information Technology",
         "orientation": "v",
         "showlegend": true,
         "type": "scatter",
         "x": [
          20.945310384577244,
          20.682652154061113,
          21.26663609218813,
          21.06330313973212,
          24.04379531554111,
          20.0765842159932,
          21.95319874294188,
          21.189826044414385,
          21.672991344906805
         ],
         "xaxis": "x",
         "y": [
          23.575589560359447,
          22.71342984945252,
          23.555927557594366,
          23.034538961558646,
          26.456065509582253,
          22.22042559440948,
          24.48811982907126,
          23.428768442740246,
          23.992965735024587
         ],
         "yaxis": "y"
        },
        {
         "hovertemplate": "<b>OLS trendline</b><br>lgEV = 1.08103 * lgEBITDA + 0.549039<br>R<sup>2</sup>=0.973489<br><br>GICS.Sector=Information Technology<br>Period.Ending=2012<br>lgEBITDA=%{x}<br>lgEV=%{y} <b>(trend)</b><extra></extra>",
         "legendgroup": "Information Technology",
         "marker": {
          "color": "#636efa",
          "symbol": "circle"
         },
         "mode": "lines",
         "name": "Information Technology",
         "showlegend": false,
         "type": "scatter",
         "x": [
          20.0765842159932,
          20.682652154061113,
          20.945310384577244,
          21.06330313973212,
          21.189826044414385,
          21.26663609218813,
          21.672991344906805,
          21.95319874294188,
          24.04379531554111
         ],
         "xaxis": "x",
         "y": [
          22.252424424584277,
          22.907601917483053,
          23.191543287995717,
          23.31909697075451,
          23.45587199922452,
          23.538905948669633,
          23.978188080226044,
          24.281100623531938,
          26.541097787323263
         ],
         "yaxis": "y"
        },
        {
         "hovertemplate": "GICS.Sector=Information Technology<br>Period.Ending=2013<br>lgEBITDA=%{x}<br>lgEV=%{y}<extra></extra>",
         "legendgroup": "Information Technology",
         "marker": {
          "color": "#636efa",
          "symbol": "circle"
         },
         "mode": "markers",
         "name": "Information Technology",
         "orientation": "v",
         "showlegend": false,
         "type": "scatter",
         "x": [
          21.064156867729334,
          20.768908194825112,
          21.22803314612844,
          21.10443825248553,
          23.95501839962829,
          20.152904269372304,
          22.14540985096,
          21.049182559628107,
          21.679161823412926
         ],
         "xaxis": "x2",
         "y": [
          23.894536613039296,
          22.975416818980673,
          23.86652283668059,
          23.768724010860744,
          26.420387025542936,
          22.85466798811917,
          24.738544691165252,
          23.531134160042004,
          24.129075861486857
         ],
         "yaxis": "y2"
        },
        {
         "hovertemplate": "<b>OLS trendline</b><br>lgEV = 0.967273 * lgEBITDA + 3.26144<br>R<sup>2</sup>=0.972101<br><br>GICS.Sector=Information Technology<br>Period.Ending=2013<br>lgEBITDA=%{x}<br>lgEV=%{y} <b>(trend)</b><extra></extra>",
         "legendgroup": "Information Technology",
         "marker": {
          "color": "#636efa",
          "symbol": "circle"
         },
         "mode": "lines",
         "name": "Information Technology",
         "showlegend": false,
         "type": "scatter",
         "x": [
          20.152904269372304,
          20.768908194825112,
          21.049182559628107,
          21.064156867729334,
          21.10443825248553,
          21.22803314612844,
          21.679161823412926,
          22.14540985096,
          23.95501839962829
         ],
         "xaxis": "x2",
         "y": [
          22.754796443917403,
          23.35064035868399,
          23.621742161501526,
          23.636226404200787,
          23.675189496794243,
          23.794739490277188,
          24.23110404256323,
          24.68209313290326,
          26.43247847507621
         ],
         "yaxis": "y2"
        },
        {
         "hovertemplate": "GICS.Sector=Information Technology<br>Period.Ending=2014<br>lgEBITDA=%{x}<br>lgEV=%{y}<extra></extra>",
         "legendgroup": "Information Technology",
         "marker": {
          "color": "#636efa",
          "symbol": "circle"
         },
         "mode": "markers",
         "name": "Information Technology",
         "orientation": "v",
         "showlegend": false,
         "type": "scatter",
         "x": [
          21.09364041095728,
          20.92293603207498,
          21.35038004690192,
          21.201981406794168,
          23.940620505442674,
          20.28188387193641,
          22.37153977316571,
          21.07159606034958,
          21.691009850409483
         ],
         "xaxis": "x3",
         "y": [
          24.21608444444413,
          23.718652203537943,
          23.979261927309363,
          23.875126335165945,
          26.276473392923645,
          22.829579885521643,
          24.87549671177043,
          23.517392964686593,
          24.210370870186793
         ],
         "yaxis": "y3"
        },
        {
         "hovertemplate": "<b>OLS trendline</b><br>lgEV = 0.891938 * lgEBITDA + 4.94764<br>R<sup>2</sup>=0.957142<br><br>GICS.Sector=Information Technology<br>Period.Ending=2014<br>lgEBITDA=%{x}<br>lgEV=%{y} <b>(trend)</b><extra></extra>",
         "legendgroup": "Information Technology",
         "marker": {
          "color": "#636efa",
          "symbol": "circle"
         },
         "mode": "lines",
         "name": "Information Technology",
         "showlegend": false,
         "type": "scatter",
         "x": [
          20.28188387193641,
          20.92293603207498,
          21.07159606034958,
          21.09364041095728,
          21.201981406794168,
          21.35038004690192,
          21.691009850409483,
          22.37153977316571,
          23.940620505442674
         ],
         "xaxis": "x3",
         "y": [
          23.03783094563201,
          23.609610041639897,
          23.74220564284805,
          23.761867847651832,
          23.85850135193145,
          23.990863810972645,
          24.29468464371237,
          24.90167547571544,
          26.301198975442492
         ],
         "yaxis": "y3"
        },
        {
         "hovertemplate": "GICS.Sector=Industrials<br>Period.Ending=2012<br>lgEBITDA=%{x}<br>lgEV=%{y}<extra></extra>",
         "legendgroup": "Industrials",
         "marker": {
          "color": "#EF553B",
          "symbol": "circle"
         },
         "mode": "markers",
         "name": "Industrials",
         "orientation": "v",
         "showlegend": true,
         "type": "scatter",
         "x": [
          20.529681087873747,
          20.55297324123538,
          20.719811878894895,
          22.111583150517525,
          20.06856984276072,
          20.292636755174698,
          21.44451444761723,
          20.980165969428587,
          19.924535893811402,
          21.303971938160608,
          20.240501130398062,
          20.630440866449625,
          20.11657888151981,
          21.894198787194146,
          20.335940209166033
         ],
         "xaxis": "x",
         "y": [
          22.41577418686844,
          23.172169779086207,
          23.14727175130375,
          24.452138171677326,
          22.58769151246977,
          22.91238515044751,
          24.378621809344317,
          23.49063527139685,
          22.412975598904207,
          23.961604995679227,
          22.682555727775025,
          23.355056930137366,
          23.019327679091358,
          25.30533593008149,
          23.073482248261275
         ],
         "yaxis": "y"
        },
        {
         "hovertemplate": "<b>OLS trendline</b><br>lgEV = 1.1483 * lgEBITDA + -0.461564<br>R<sup>2</sup>=0.854190<br><br>GICS.Sector=Industrials<br>Period.Ending=2012<br>lgEBITDA=%{x}<br>lgEV=%{y} <b>(trend)</b><extra></extra>",
         "legendgroup": "Industrials",
         "marker": {
          "color": "#EF553B",
          "symbol": "circle"
         },
         "mode": "lines",
         "name": "Industrials",
         "showlegend": false,
         "type": "scatter",
         "x": [
          19.924535893811402,
          20.06856984276072,
          20.11657888151981,
          20.240501130398062,
          20.292636755174698,
          20.335940209166033,
          20.529681087873747,
          20.55297324123538,
          20.630440866449625,
          20.719811878894895,
          20.980165969428587,
          21.303971938160608,
          21.44451444761723,
          21.894198787194146,
          22.111583150517525
         ],
         "xaxis": "x",
         "y": [
          22.41787120303212,
          22.583266042193863,
          22.638395039918304,
          22.780695522348264,
          22.840563097579174,
          22.89028865089692,
          23.112762183745712,
          23.13950866946717,
          23.228465096101424,
          23.331090236472384,
          23.630056023656863,
          24.001883891383308,
          24.163269494683995,
          24.679644068598154,
          24.929267522446523
         ],
         "yaxis": "y"
        },
        {
         "hovertemplate": "GICS.Sector=Industrials<br>Period.Ending=2013<br>lgEBITDA=%{x}<br>lgEV=%{y}<extra></extra>",
         "legendgroup": "Industrials",
         "marker": {
          "color": "#EF553B",
          "symbol": "circle"
         },
         "mode": "markers",
         "name": "Industrials",
         "orientation": "v",
         "showlegend": false,
         "type": "scatter",
         "x": [
          20.837486981036434,
          20.63664420217923,
          20.421528111660308,
          22.20670959456511,
          20.070876648858633,
          20.488682095489647,
          21.871303008942043,
          21.11627839960526,
          19.81915068100239,
          21.338937844226944,
          20.417778181776832,
          20.7579348607067,
          20.247480727103394,
          22.91167388487806,
          20.438468931727314
         ],
         "xaxis": "x2",
         "y": [
          22.563170738564395,
          23.450535243737914,
          23.108239984146138,
          24.633895866675626,
          22.738600090767726,
          23.06359278463345,
          24.707770047704773,
          23.698037550024075,
          22.511581908953552,
          24.15096277634843,
          22.825045272343502,
          23.57165725800976,
          23.213378376570283,
          25.542504921694523,
          23.27674235695175
         ],
         "yaxis": "y2"
        },
        {
         "hovertemplate": "<b>OLS trendline</b><br>lgEV = 0.968233 * lgEBITDA + 3.29575<br>R<sup>2</sup>=0.887097<br><br>GICS.Sector=Industrials<br>Period.Ending=2013<br>lgEBITDA=%{x}<br>lgEV=%{y} <b>(trend)</b><extra></extra>",
         "legendgroup": "Industrials",
         "marker": {
          "color": "#EF553B",
          "symbol": "circle"
         },
         "mode": "lines",
         "name": "Industrials",
         "showlegend": false,
         "type": "scatter",
         "x": [
          19.81915068100239,
          20.070876648858633,
          20.247480727103394,
          20.417778181776832,
          20.421528111660308,
          20.438468931727314,
          20.488682095489647,
          20.63664420217923,
          20.7579348607067,
          20.837486981036434,
          21.11627839960526,
          21.338937844226944,
          21.871303008942043,
          22.20670959456511,
          22.91167388487806
         ],
         "xaxis": "x2",
         "y": [
          22.48530920303643,
          22.729038659011593,
          22.9000326024659,
          23.064920263182792,
          23.068551070040854,
          23.084953735581752,
          23.1335717911237,
          23.27683362491665,
          23.394271275348697,
          23.471296284626682,
          23.741231410338976,
          23.956817691593706,
          24.472271353689624,
          24.79702316749964,
          25.47959304466868
         ],
         "yaxis": "y2"
        },
        {
         "hovertemplate": "GICS.Sector=Industrials<br>Period.Ending=2014<br>lgEBITDA=%{x}<br>lgEV=%{y}<extra></extra>",
         "legendgroup": "Industrials",
         "marker": {
          "color": "#EF553B",
          "symbol": "circle"
         },
         "mode": "markers",
         "name": "Industrials",
         "orientation": "v",
         "showlegend": false,
         "type": "scatter",
         "x": [
          20.983319742280717,
          20.746341533275853,
          20.506883129534646,
          22.20698178364747,
          19.965900084059815,
          20.55721125261633,
          21.812164433426883,
          21.163328809803588,
          19.936247440776395,
          21.489338147520915,
          20.225390988689192,
          20.906736732996887,
          20.305210807328837,
          22.65666953390954,
          20.50849339988195
         ],
         "xaxis": "x3",
         "y": [
          23.20134270653781,
          23.475277702877033,
          23.26369842272428,
          24.75293424202962,
          22.70996024633617,
          23.219641588251484,
          24.618042015924242,
          23.69256918559057,
          22.79042814817555,
          24.237936450206792,
          22.824304048797877,
          23.64889896720968,
          23.3333184055223,
          25.61241922508268,
          23.26697192361676
         ],
         "yaxis": "y3"
        },
        {
         "hovertemplate": "<b>OLS trendline</b><br>lgEV = 0.992219 * lgEBITDA + 2.8747<br>R<sup>2</sup>=0.945530<br><br>GICS.Sector=Industrials<br>Period.Ending=2014<br>lgEBITDA=%{x}<br>lgEV=%{y} <b>(trend)</b><extra></extra>",
         "legendgroup": "Industrials",
         "marker": {
          "color": "#EF553B",
          "symbol": "circle"
         },
         "mode": "lines",
         "name": "Industrials",
         "showlegend": false,
         "type": "scatter",
         "x": [
          19.936247440776395,
          19.965900084059815,
          20.225390988689192,
          20.305210807328837,
          20.506883129534646,
          20.50849339988195,
          20.55721125261633,
          20.746341533275853,
          20.906736732996887,
          20.983319742280717,
          21.163328809803588,
          21.489338147520915,
          21.812164433426883,
          22.20698178364747,
          22.65666953390954
         ],
         "xaxis": "x3",
         "y": [
          22.65582546681468,
          22.685247379331425,
          22.942719154171996,
          23.021917885248737,
          23.222020970976203,
          23.223618711617192,
          23.27195748490814,
          23.459616120215816,
          23.618763265689243,
          23.694750373411196,
          23.873358768833405,
          24.196831388872116,
          24.51714572480661,
          24.908890953967287,
          25.355079630018984
         ],
         "yaxis": "y3"
        }
       ],
       "layout": {
        "annotations": [
         {
          "font": {},
          "showarrow": false,
          "text": "Period.Ending=2012",
          "x": 0.15999999999999998,
          "xanchor": "center",
          "xref": "paper",
          "y": 1,
          "yanchor": "bottom",
          "yref": "paper"
         },
         {
          "font": {},
          "showarrow": false,
          "text": "Period.Ending=2013",
          "x": 0.49999999999999994,
          "xanchor": "center",
          "xref": "paper",
          "y": 1,
          "yanchor": "bottom",
          "yref": "paper"
         },
         {
          "font": {},
          "showarrow": false,
          "text": "Period.Ending=2014",
          "x": 0.8399999999999999,
          "xanchor": "center",
          "xref": "paper",
          "y": 1,
          "yanchor": "bottom",
          "yref": "paper"
         }
        ],
        "legend": {
         "title": {
          "text": "GICS.Sector"
         },
         "tracegroupgap": 0
        },
        "template": {
         "data": {
          "bar": [
           {
            "error_x": {
             "color": "#2a3f5f"
            },
            "error_y": {
             "color": "#2a3f5f"
            },
            "marker": {
             "line": {
              "color": "#E5ECF6",
              "width": 0.5
             },
             "pattern": {
              "fillmode": "overlay",
              "size": 10,
              "solidity": 0.2
             }
            },
            "type": "bar"
           }
          ],
          "barpolar": [
           {
            "marker": {
             "line": {
              "color": "#E5ECF6",
              "width": 0.5
             },
             "pattern": {
              "fillmode": "overlay",
              "size": 10,
              "solidity": 0.2
             }
            },
            "type": "barpolar"
           }
          ],
          "carpet": [
           {
            "aaxis": {
             "endlinecolor": "#2a3f5f",
             "gridcolor": "white",
             "linecolor": "white",
             "minorgridcolor": "white",
             "startlinecolor": "#2a3f5f"
            },
            "baxis": {
             "endlinecolor": "#2a3f5f",
             "gridcolor": "white",
             "linecolor": "white",
             "minorgridcolor": "white",
             "startlinecolor": "#2a3f5f"
            },
            "type": "carpet"
           }
          ],
          "choropleth": [
           {
            "colorbar": {
             "outlinewidth": 0,
             "ticks": ""
            },
            "type": "choropleth"
           }
          ],
          "contour": [
           {
            "colorbar": {
             "outlinewidth": 0,
             "ticks": ""
            },
            "colorscale": [
             [
              0,
              "#0d0887"
             ],
             [
              0.1111111111111111,
              "#46039f"
             ],
             [
              0.2222222222222222,
              "#7201a8"
             ],
             [
              0.3333333333333333,
              "#9c179e"
             ],
             [
              0.4444444444444444,
              "#bd3786"
             ],
             [
              0.5555555555555556,
              "#d8576b"
             ],
             [
              0.6666666666666666,
              "#ed7953"
             ],
             [
              0.7777777777777778,
              "#fb9f3a"
             ],
             [
              0.8888888888888888,
              "#fdca26"
             ],
             [
              1,
              "#f0f921"
             ]
            ],
            "type": "contour"
           }
          ],
          "contourcarpet": [
           {
            "colorbar": {
             "outlinewidth": 0,
             "ticks": ""
            },
            "type": "contourcarpet"
           }
          ],
          "heatmap": [
           {
            "colorbar": {
             "outlinewidth": 0,
             "ticks": ""
            },
            "colorscale": [
             [
              0,
              "#0d0887"
             ],
             [
              0.1111111111111111,
              "#46039f"
             ],
             [
              0.2222222222222222,
              "#7201a8"
             ],
             [
              0.3333333333333333,
              "#9c179e"
             ],
             [
              0.4444444444444444,
              "#bd3786"
             ],
             [
              0.5555555555555556,
              "#d8576b"
             ],
             [
              0.6666666666666666,
              "#ed7953"
             ],
             [
              0.7777777777777778,
              "#fb9f3a"
             ],
             [
              0.8888888888888888,
              "#fdca26"
             ],
             [
              1,
              "#f0f921"
             ]
            ],
            "type": "heatmap"
           }
          ],
          "heatmapgl": [
           {
            "colorbar": {
             "outlinewidth": 0,
             "ticks": ""
            },
            "colorscale": [
             [
              0,
              "#0d0887"
             ],
             [
              0.1111111111111111,
              "#46039f"
             ],
             [
              0.2222222222222222,
              "#7201a8"
             ],
             [
              0.3333333333333333,
              "#9c179e"
             ],
             [
              0.4444444444444444,
              "#bd3786"
             ],
             [
              0.5555555555555556,
              "#d8576b"
             ],
             [
              0.6666666666666666,
              "#ed7953"
             ],
             [
              0.7777777777777778,
              "#fb9f3a"
             ],
             [
              0.8888888888888888,
              "#fdca26"
             ],
             [
              1,
              "#f0f921"
             ]
            ],
            "type": "heatmapgl"
           }
          ],
          "histogram": [
           {
            "marker": {
             "pattern": {
              "fillmode": "overlay",
              "size": 10,
              "solidity": 0.2
             }
            },
            "type": "histogram"
           }
          ],
          "histogram2d": [
           {
            "colorbar": {
             "outlinewidth": 0,
             "ticks": ""
            },
            "colorscale": [
             [
              0,
              "#0d0887"
             ],
             [
              0.1111111111111111,
              "#46039f"
             ],
             [
              0.2222222222222222,
              "#7201a8"
             ],
             [
              0.3333333333333333,
              "#9c179e"
             ],
             [
              0.4444444444444444,
              "#bd3786"
             ],
             [
              0.5555555555555556,
              "#d8576b"
             ],
             [
              0.6666666666666666,
              "#ed7953"
             ],
             [
              0.7777777777777778,
              "#fb9f3a"
             ],
             [
              0.8888888888888888,
              "#fdca26"
             ],
             [
              1,
              "#f0f921"
             ]
            ],
            "type": "histogram2d"
           }
          ],
          "histogram2dcontour": [
           {
            "colorbar": {
             "outlinewidth": 0,
             "ticks": ""
            },
            "colorscale": [
             [
              0,
              "#0d0887"
             ],
             [
              0.1111111111111111,
              "#46039f"
             ],
             [
              0.2222222222222222,
              "#7201a8"
             ],
             [
              0.3333333333333333,
              "#9c179e"
             ],
             [
              0.4444444444444444,
              "#bd3786"
             ],
             [
              0.5555555555555556,
              "#d8576b"
             ],
             [
              0.6666666666666666,
              "#ed7953"
             ],
             [
              0.7777777777777778,
              "#fb9f3a"
             ],
             [
              0.8888888888888888,
              "#fdca26"
             ],
             [
              1,
              "#f0f921"
             ]
            ],
            "type": "histogram2dcontour"
           }
          ],
          "mesh3d": [
           {
            "colorbar": {
             "outlinewidth": 0,
             "ticks": ""
            },
            "type": "mesh3d"
           }
          ],
          "parcoords": [
           {
            "line": {
             "colorbar": {
              "outlinewidth": 0,
              "ticks": ""
             }
            },
            "type": "parcoords"
           }
          ],
          "pie": [
           {
            "automargin": true,
            "type": "pie"
           }
          ],
          "scatter": [
           {
            "fillpattern": {
             "fillmode": "overlay",
             "size": 10,
             "solidity": 0.2
            },
            "type": "scatter"
           }
          ],
          "scatter3d": [
           {
            "line": {
             "colorbar": {
              "outlinewidth": 0,
              "ticks": ""
             }
            },
            "marker": {
             "colorbar": {
              "outlinewidth": 0,
              "ticks": ""
             }
            },
            "type": "scatter3d"
           }
          ],
          "scattercarpet": [
           {
            "marker": {
             "colorbar": {
              "outlinewidth": 0,
              "ticks": ""
             }
            },
            "type": "scattercarpet"
           }
          ],
          "scattergeo": [
           {
            "marker": {
             "colorbar": {
              "outlinewidth": 0,
              "ticks": ""
             }
            },
            "type": "scattergeo"
           }
          ],
          "scattergl": [
           {
            "marker": {
             "colorbar": {
              "outlinewidth": 0,
              "ticks": ""
             }
            },
            "type": "scattergl"
           }
          ],
          "scattermapbox": [
           {
            "marker": {
             "colorbar": {
              "outlinewidth": 0,
              "ticks": ""
             }
            },
            "type": "scattermapbox"
           }
          ],
          "scatterpolar": [
           {
            "marker": {
             "colorbar": {
              "outlinewidth": 0,
              "ticks": ""
             }
            },
            "type": "scatterpolar"
           }
          ],
          "scatterpolargl": [
           {
            "marker": {
             "colorbar": {
              "outlinewidth": 0,
              "ticks": ""
             }
            },
            "type": "scatterpolargl"
           }
          ],
          "scatterternary": [
           {
            "marker": {
             "colorbar": {
              "outlinewidth": 0,
              "ticks": ""
             }
            },
            "type": "scatterternary"
           }
          ],
          "surface": [
           {
            "colorbar": {
             "outlinewidth": 0,
             "ticks": ""
            },
            "colorscale": [
             [
              0,
              "#0d0887"
             ],
             [
              0.1111111111111111,
              "#46039f"
             ],
             [
              0.2222222222222222,
              "#7201a8"
             ],
             [
              0.3333333333333333,
              "#9c179e"
             ],
             [
              0.4444444444444444,
              "#bd3786"
             ],
             [
              0.5555555555555556,
              "#d8576b"
             ],
             [
              0.6666666666666666,
              "#ed7953"
             ],
             [
              0.7777777777777778,
              "#fb9f3a"
             ],
             [
              0.8888888888888888,
              "#fdca26"
             ],
             [
              1,
              "#f0f921"
             ]
            ],
            "type": "surface"
           }
          ],
          "table": [
           {
            "cells": {
             "fill": {
              "color": "#EBF0F8"
             },
             "line": {
              "color": "white"
             }
            },
            "header": {
             "fill": {
              "color": "#C8D4E3"
             },
             "line": {
              "color": "white"
             }
            },
            "type": "table"
           }
          ]
         },
         "layout": {
          "annotationdefaults": {
           "arrowcolor": "#2a3f5f",
           "arrowhead": 0,
           "arrowwidth": 1
          },
          "autotypenumbers": "strict",
          "coloraxis": {
           "colorbar": {
            "outlinewidth": 0,
            "ticks": ""
           }
          },
          "colorscale": {
           "diverging": [
            [
             0,
             "#8e0152"
            ],
            [
             0.1,
             "#c51b7d"
            ],
            [
             0.2,
             "#de77ae"
            ],
            [
             0.3,
             "#f1b6da"
            ],
            [
             0.4,
             "#fde0ef"
            ],
            [
             0.5,
             "#f7f7f7"
            ],
            [
             0.6,
             "#e6f5d0"
            ],
            [
             0.7,
             "#b8e186"
            ],
            [
             0.8,
             "#7fbc41"
            ],
            [
             0.9,
             "#4d9221"
            ],
            [
             1,
             "#276419"
            ]
           ],
           "sequential": [
            [
             0,
             "#0d0887"
            ],
            [
             0.1111111111111111,
             "#46039f"
            ],
            [
             0.2222222222222222,
             "#7201a8"
            ],
            [
             0.3333333333333333,
             "#9c179e"
            ],
            [
             0.4444444444444444,
             "#bd3786"
            ],
            [
             0.5555555555555556,
             "#d8576b"
            ],
            [
             0.6666666666666666,
             "#ed7953"
            ],
            [
             0.7777777777777778,
             "#fb9f3a"
            ],
            [
             0.8888888888888888,
             "#fdca26"
            ],
            [
             1,
             "#f0f921"
            ]
           ],
           "sequentialminus": [
            [
             0,
             "#0d0887"
            ],
            [
             0.1111111111111111,
             "#46039f"
            ],
            [
             0.2222222222222222,
             "#7201a8"
            ],
            [
             0.3333333333333333,
             "#9c179e"
            ],
            [
             0.4444444444444444,
             "#bd3786"
            ],
            [
             0.5555555555555556,
             "#d8576b"
            ],
            [
             0.6666666666666666,
             "#ed7953"
            ],
            [
             0.7777777777777778,
             "#fb9f3a"
            ],
            [
             0.8888888888888888,
             "#fdca26"
            ],
            [
             1,
             "#f0f921"
            ]
           ]
          },
          "colorway": [
           "#636efa",
           "#EF553B",
           "#00cc96",
           "#ab63fa",
           "#FFA15A",
           "#19d3f3",
           "#FF6692",
           "#B6E880",
           "#FF97FF",
           "#FECB52"
          ],
          "font": {
           "color": "#2a3f5f"
          },
          "geo": {
           "bgcolor": "white",
           "lakecolor": "white",
           "landcolor": "#E5ECF6",
           "showlakes": true,
           "showland": true,
           "subunitcolor": "white"
          },
          "hoverlabel": {
           "align": "left"
          },
          "hovermode": "closest",
          "mapbox": {
           "style": "light"
          },
          "paper_bgcolor": "white",
          "plot_bgcolor": "#E5ECF6",
          "polar": {
           "angularaxis": {
            "gridcolor": "white",
            "linecolor": "white",
            "ticks": ""
           },
           "bgcolor": "#E5ECF6",
           "radialaxis": {
            "gridcolor": "white",
            "linecolor": "white",
            "ticks": ""
           }
          },
          "scene": {
           "xaxis": {
            "backgroundcolor": "#E5ECF6",
            "gridcolor": "white",
            "gridwidth": 2,
            "linecolor": "white",
            "showbackground": true,
            "ticks": "",
            "zerolinecolor": "white"
           },
           "yaxis": {
            "backgroundcolor": "#E5ECF6",
            "gridcolor": "white",
            "gridwidth": 2,
            "linecolor": "white",
            "showbackground": true,
            "ticks": "",
            "zerolinecolor": "white"
           },
           "zaxis": {
            "backgroundcolor": "#E5ECF6",
            "gridcolor": "white",
            "gridwidth": 2,
            "linecolor": "white",
            "showbackground": true,
            "ticks": "",
            "zerolinecolor": "white"
           }
          },
          "shapedefaults": {
           "line": {
            "color": "#2a3f5f"
           }
          },
          "ternary": {
           "aaxis": {
            "gridcolor": "white",
            "linecolor": "white",
            "ticks": ""
           },
           "baxis": {
            "gridcolor": "white",
            "linecolor": "white",
            "ticks": ""
           },
           "bgcolor": "#E5ECF6",
           "caxis": {
            "gridcolor": "white",
            "linecolor": "white",
            "ticks": ""
           }
          },
          "title": {
           "x": 0.05
          },
          "xaxis": {
           "automargin": true,
           "gridcolor": "white",
           "linecolor": "white",
           "ticks": "",
           "title": {
            "standoff": 15
           },
           "zerolinecolor": "white",
           "zerolinewidth": 2
          },
          "yaxis": {
           "automargin": true,
           "gridcolor": "white",
           "linecolor": "white",
           "ticks": "",
           "title": {
            "standoff": 15
           },
           "zerolinecolor": "white",
           "zerolinewidth": 2
          }
         }
        },
        "title": {
         "text": "Regression line for Mod 4"
        },
        "xaxis": {
         "anchor": "y",
         "domain": [
          0,
          0.31999999999999995
         ],
         "title": {
          "text": "lgEBITDA"
         }
        },
        "xaxis2": {
         "anchor": "y2",
         "domain": [
          0.33999999999999997,
          0.6599999999999999
         ],
         "matches": "x",
         "title": {
          "text": "lgEBITDA"
         }
        },
        "xaxis3": {
         "anchor": "y3",
         "domain": [
          0.6799999999999999,
          0.9999999999999999
         ],
         "matches": "x",
         "title": {
          "text": "lgEBITDA"
         }
        },
        "yaxis": {
         "anchor": "x",
         "domain": [
          0,
          1
         ],
         "title": {
          "text": "lgEV"
         }
        },
        "yaxis2": {
         "anchor": "x2",
         "domain": [
          0,
          1
         ],
         "matches": "y",
         "showticklabels": false
        },
        "yaxis3": {
         "anchor": "x3",
         "domain": [
          0,
          1
         ],
         "matches": "y",
         "showticklabels": false
        }
       }
      }
     },
     "metadata": {},
     "output_type": "display_data"
    }
   ],
   "source": [
    "\n",
    "fig = px.scatter(dat_s1s2, x=\"lgEBITDA\", y=\"lgEV\", facet_col=\"Period.Ending\", \n",
    "                 color=\"GICS.Sector\", trendline=\"ols\",\n",
    "                 title=\"Regression line for Mod 4\")\n",
    "fig\n"
   ]
  },
  {
   "cell_type": "code",
   "execution_count": null,
   "metadata": {},
   "outputs": [
    {
     "data": {
      "text/html": [
       "<div>\n",
       "<style scoped>\n",
       "    .dataframe tbody tr th:only-of-type {\n",
       "        vertical-align: middle;\n",
       "    }\n",
       "\n",
       "    .dataframe tbody tr th {\n",
       "        vertical-align: top;\n",
       "    }\n",
       "\n",
       "    .dataframe thead th {\n",
       "        text-align: right;\n",
       "    }\n",
       "</style>\n",
       "<table border=\"1\" class=\"dataframe\">\n",
       "  <thead>\n",
       "    <tr style=\"text-align: right;\">\n",
       "      <th></th>\n",
       "      <th>const</th>\n",
       "      <th>lgEBITDA</th>\n",
       "      <th>const</th>\n",
       "      <th>lgEBITDA</th>\n",
       "      <th>const</th>\n",
       "      <th>lgEBITDA</th>\n",
       "    </tr>\n",
       "  </thead>\n",
       "  <tbody>\n",
       "    <tr>\n",
       "      <th>23</th>\n",
       "      <td>1.0</td>\n",
       "      <td>20.945310</td>\n",
       "      <td>0.0</td>\n",
       "      <td>0.000000</td>\n",
       "      <td>0.0</td>\n",
       "      <td>0.000000</td>\n",
       "    </tr>\n",
       "    <tr>\n",
       "      <th>24</th>\n",
       "      <td>0.0</td>\n",
       "      <td>0.000000</td>\n",
       "      <td>1.0</td>\n",
       "      <td>21.064157</td>\n",
       "      <td>0.0</td>\n",
       "      <td>0.000000</td>\n",
       "    </tr>\n",
       "    <tr>\n",
       "      <th>25</th>\n",
       "      <td>0.0</td>\n",
       "      <td>0.000000</td>\n",
       "      <td>0.0</td>\n",
       "      <td>0.000000</td>\n",
       "      <td>1.0</td>\n",
       "      <td>21.093640</td>\n",
       "    </tr>\n",
       "    <tr>\n",
       "      <th>63</th>\n",
       "      <td>1.0</td>\n",
       "      <td>20.529681</td>\n",
       "      <td>0.0</td>\n",
       "      <td>0.000000</td>\n",
       "      <td>0.0</td>\n",
       "      <td>0.000000</td>\n",
       "    </tr>\n",
       "    <tr>\n",
       "      <th>64</th>\n",
       "      <td>0.0</td>\n",
       "      <td>0.000000</td>\n",
       "      <td>1.0</td>\n",
       "      <td>20.837487</td>\n",
       "      <td>0.0</td>\n",
       "      <td>0.000000</td>\n",
       "    </tr>\n",
       "    <tr>\n",
       "      <th>...</th>\n",
       "      <td>...</td>\n",
       "      <td>...</td>\n",
       "      <td>...</td>\n",
       "      <td>...</td>\n",
       "      <td>...</td>\n",
       "      <td>...</td>\n",
       "    </tr>\n",
       "    <tr>\n",
       "      <th>1300</th>\n",
       "      <td>0.0</td>\n",
       "      <td>0.000000</td>\n",
       "      <td>1.0</td>\n",
       "      <td>21.049183</td>\n",
       "      <td>0.0</td>\n",
       "      <td>0.000000</td>\n",
       "    </tr>\n",
       "    <tr>\n",
       "      <th>1301</th>\n",
       "      <td>0.0</td>\n",
       "      <td>0.000000</td>\n",
       "      <td>0.0</td>\n",
       "      <td>0.000000</td>\n",
       "      <td>1.0</td>\n",
       "      <td>21.071596</td>\n",
       "    </tr>\n",
       "    <tr>\n",
       "      <th>1335</th>\n",
       "      <td>1.0</td>\n",
       "      <td>21.672991</td>\n",
       "      <td>0.0</td>\n",
       "      <td>0.000000</td>\n",
       "      <td>0.0</td>\n",
       "      <td>0.000000</td>\n",
       "    </tr>\n",
       "    <tr>\n",
       "      <th>1336</th>\n",
       "      <td>0.0</td>\n",
       "      <td>0.000000</td>\n",
       "      <td>1.0</td>\n",
       "      <td>21.679162</td>\n",
       "      <td>0.0</td>\n",
       "      <td>0.000000</td>\n",
       "    </tr>\n",
       "    <tr>\n",
       "      <th>1337</th>\n",
       "      <td>0.0</td>\n",
       "      <td>0.000000</td>\n",
       "      <td>0.0</td>\n",
       "      <td>0.000000</td>\n",
       "      <td>1.0</td>\n",
       "      <td>21.691010</td>\n",
       "    </tr>\n",
       "  </tbody>\n",
       "</table>\n",
       "<p>72 rows × 6 columns</p>\n",
       "</div>"
      ],
      "text/plain": [
       "      const   lgEBITDA  const   lgEBITDA  const   lgEBITDA\n",
       "23      1.0  20.945310    0.0   0.000000    0.0   0.000000\n",
       "24      0.0   0.000000    1.0  21.064157    0.0   0.000000\n",
       "25      0.0   0.000000    0.0   0.000000    1.0  21.093640\n",
       "63      1.0  20.529681    0.0   0.000000    0.0   0.000000\n",
       "64      0.0   0.000000    1.0  20.837487    0.0   0.000000\n",
       "...     ...        ...    ...        ...    ...        ...\n",
       "1300    0.0   0.000000    1.0  21.049183    0.0   0.000000\n",
       "1301    0.0   0.000000    0.0   0.000000    1.0  21.071596\n",
       "1335    1.0  21.672991    0.0   0.000000    0.0   0.000000\n",
       "1336    0.0   0.000000    1.0  21.679162    0.0   0.000000\n",
       "1337    0.0   0.000000    0.0   0.000000    1.0  21.691010\n",
       "\n",
       "[72 rows x 6 columns]"
      ]
     },
     "metadata": {},
     "output_type": "display_data"
    }
   ],
   "source": [
    "X_M2 = pd.concat([sm.add_constant(dat_s1s2_12['lgEBITDA']), sm.add_constant(dat_s1s2_13['lgEBITDA']), sm.add_constant(dat_s1s2_14['lgEBITDA'])], axis = 1)\n",
    "X_M2 = X_M2.fillna(0)\n",
    "X_M2 = X_M2.sort_index()\n",
    "X_M2"
   ]
  },
  {
   "cell_type": "code",
   "execution_count": null,
   "metadata": {},
   "outputs": [
    {
     "data": {
      "text/plain": [
       "23      23.575590\n",
       "24      23.894537\n",
       "25      24.216084\n",
       "63      22.415774\n",
       "64      22.563171\n",
       "          ...    \n",
       "1300    23.531134\n",
       "1301    23.517393\n",
       "1335    23.992966\n",
       "1336    24.129076\n",
       "1337    24.210371\n",
       "Name: lgEV, Length: 72, dtype: float64"
      ]
     },
     "metadata": {},
     "output_type": "display_data"
    }
   ],
   "source": [
    "Y_M2 = pd.concat([dat_s1s2_12['lgEV'], dat_s1s2_13['lgEV'], dat_s1s2_14['lgEV']])\n",
    "Y_M2 = Y_M2.sort_index()\n",
    "Y_M2"
   ]
  },
  {
   "cell_type": "code",
   "execution_count": null,
   "metadata": {},
   "outputs": [
    {
     "data": {
      "text/html": [
       "<table class=\"simpletable\">\n",
       "<caption>OLS Regression Results</caption>\n",
       "<tr>\n",
       "  <th>Dep. Variable:</th>          <td>lgEV</td>       <th>  R-squared:         </th> <td>   0.923</td>\n",
       "</tr>\n",
       "<tr>\n",
       "  <th>Model:</th>                   <td>OLS</td>       <th>  Adj. R-squared:    </th> <td>   0.917</td>\n",
       "</tr>\n",
       "<tr>\n",
       "  <th>Method:</th>             <td>Least Squares</td>  <th>  F-statistic:       </th> <td>   157.5</td>\n",
       "</tr>\n",
       "<tr>\n",
       "  <th>Date:</th>             <td>Sun, 27 Nov 2022</td> <th>  Prob (F-statistic):</th> <td>2.78e-35</td>\n",
       "</tr>\n",
       "<tr>\n",
       "  <th>Time:</th>                 <td>10:22:52</td>     <th>  Log-Likelihood:    </th> <td> -5.5322</td>\n",
       "</tr>\n",
       "<tr>\n",
       "  <th>No. Observations:</th>      <td>    72</td>      <th>  AIC:               </th> <td>   23.06</td>\n",
       "</tr>\n",
       "<tr>\n",
       "  <th>Df Residuals:</th>          <td>    66</td>      <th>  BIC:               </th> <td>   36.72</td>\n",
       "</tr>\n",
       "<tr>\n",
       "  <th>Df Model:</th>              <td>     5</td>      <th>                     </th>     <td> </td>   \n",
       "</tr>\n",
       "<tr>\n",
       "  <th>Covariance Type:</th>      <td>nonrobust</td>    <th>                     </th>     <td> </td>   \n",
       "</tr>\n",
       "</table>\n",
       "<table class=\"simpletable\">\n",
       "<tr>\n",
       "      <td></td>        <th>coef</th>     <th>std err</th>      <th>t</th>      <th>P>|t|</th>  <th>[0.025</th>    <th>0.975]</th>  \n",
       "</tr>\n",
       "<tr>\n",
       "  <th>const</th>    <td>    1.9732</td> <td>    1.317</td> <td>    1.498</td> <td> 0.139</td> <td>   -0.656</td> <td>    4.602</td>\n",
       "</tr>\n",
       "<tr>\n",
       "  <th>lgEBITDA</th> <td>    1.0247</td> <td>    0.063</td> <td>   16.356</td> <td> 0.000</td> <td>    0.900</td> <td>    1.150</td>\n",
       "</tr>\n",
       "<tr>\n",
       "  <th>const</th>    <td>    3.4540</td> <td>    1.249</td> <td>    2.765</td> <td> 0.007</td> <td>    0.960</td> <td>    5.948</td>\n",
       "</tr>\n",
       "<tr>\n",
       "  <th>lgEBITDA</th> <td>    0.9598</td> <td>    0.059</td> <td>   16.240</td> <td> 0.000</td> <td>    0.842</td> <td>    1.078</td>\n",
       "</tr>\n",
       "<tr>\n",
       "  <th>const</th>    <td>    4.1047</td> <td>    1.285</td> <td>    3.194</td> <td> 0.002</td> <td>    1.539</td> <td>    6.670</td>\n",
       "</tr>\n",
       "<tr>\n",
       "  <th>lgEBITDA</th> <td>    0.9325</td> <td>    0.061</td> <td>   15.372</td> <td> 0.000</td> <td>    0.811</td> <td>    1.054</td>\n",
       "</tr>\n",
       "</table>\n",
       "<table class=\"simpletable\">\n",
       "<tr>\n",
       "  <th>Omnibus:</th>       <td> 8.522</td> <th>  Durbin-Watson:     </th> <td>   1.329</td>\n",
       "</tr>\n",
       "<tr>\n",
       "  <th>Prob(Omnibus):</th> <td> 0.014</td> <th>  Jarque-Bera (JB):  </th> <td>  17.087</td>\n",
       "</tr>\n",
       "<tr>\n",
       "  <th>Skew:</th>          <td>-0.193</td> <th>  Prob(JB):          </th> <td>0.000195</td>\n",
       "</tr>\n",
       "<tr>\n",
       "  <th>Kurtosis:</th>      <td> 5.355</td> <th>  Cond. No.          </th> <td>    502.</td>\n",
       "</tr>\n",
       "</table><br/><br/>Notes:<br/>[1] Standard Errors assume that the covariance matrix of the errors is correctly specified."
      ],
      "text/plain": [
       "<class 'statsmodels.iolib.summary.Summary'>\n",
       "\"\"\"\n",
       "                            OLS Regression Results                            \n",
       "==============================================================================\n",
       "Dep. Variable:                   lgEV   R-squared:                       0.923\n",
       "Model:                            OLS   Adj. R-squared:                  0.917\n",
       "Method:                 Least Squares   F-statistic:                     157.5\n",
       "Date:                Sun, 27 Nov 2022   Prob (F-statistic):           2.78e-35\n",
       "Time:                        10:22:52   Log-Likelihood:                -5.5322\n",
       "No. Observations:                  72   AIC:                             23.06\n",
       "Df Residuals:                      66   BIC:                             36.72\n",
       "Df Model:                           5                                         \n",
       "Covariance Type:            nonrobust                                         \n",
       "==============================================================================\n",
       "                 coef    std err          t      P>|t|      [0.025      0.975]\n",
       "------------------------------------------------------------------------------\n",
       "const          1.9732      1.317      1.498      0.139      -0.656       4.602\n",
       "lgEBITDA       1.0247      0.063     16.356      0.000       0.900       1.150\n",
       "const          3.4540      1.249      2.765      0.007       0.960       5.948\n",
       "lgEBITDA       0.9598      0.059     16.240      0.000       0.842       1.078\n",
       "const          4.1047      1.285      3.194      0.002       1.539       6.670\n",
       "lgEBITDA       0.9325      0.061     15.372      0.000       0.811       1.054\n",
       "==============================================================================\n",
       "Omnibus:                        8.522   Durbin-Watson:                   1.329\n",
       "Prob(Omnibus):                  0.014   Jarque-Bera (JB):               17.087\n",
       "Skew:                          -0.193   Prob(JB):                     0.000195\n",
       "Kurtosis:                       5.355   Cond. No.                         502.\n",
       "==============================================================================\n",
       "\n",
       "Notes:\n",
       "[1] Standard Errors assume that the covariance matrix of the errors is correctly specified.\n",
       "\"\"\""
      ]
     },
     "metadata": {},
     "output_type": "display_data"
    }
   ],
   "source": [
    "model = sm.OLS(Y_M2, X_M2).fit()\n",
    "model.summary()"
   ]
  },
  {
   "cell_type": "code",
   "execution_count": null,
   "metadata": {},
   "outputs": [
    {
     "data": {
      "text/html": [
       "<table class=\"simpletable\">\n",
       "<caption>System GLS Estimation Summary</caption>\n",
       "<tr>\n",
       "  <th>Estimator:</th>               <td>GLS</td>       <th>  Overall R-squared: </th>        <td>0.9198</td>  \n",
       "</tr>\n",
       "<tr>\n",
       "  <th>No. Equations.:</th>           <td>3</td>        <th>  McElroy's R-squared:</th>       <td>0.8753</td>  \n",
       "</tr>\n",
       "<tr>\n",
       "  <th>No. Observations:</th>        <td>24</td>        <th>  Judge's (OLS) R-squared:</th>   <td>0.9198</td>  \n",
       "</tr>\n",
       "<tr>\n",
       "  <th>Date:</th>             <td>Sun, Nov 27 2022</td> <th>  Berndt's R-squared:</th>        <td>0.9274</td>  \n",
       "</tr>\n",
       "<tr>\n",
       "  <th>Time:</th>                 <td>15:30:33</td>     <th>  Dhrymes's R-squared:</th>       <td>0.9198</td>  \n",
       "</tr>\n",
       "<tr>\n",
       "  <th></th>                          <td></td>         <th>  Cov. Estimator:    </th>      <td>unadjusted</td>\n",
       "</tr>\n",
       "<tr>\n",
       "  <th></th>                          <td></td>         <th>  Num. Constraints:  </th>         <td>None</td>   \n",
       "</tr>\n",
       "</table>\n",
       "<table class=\"simpletable\">\n",
       "<caption>Equation: 2012, Dependent Variable: lgEV</caption>\n",
       "<tr>\n",
       "      <td></td>      <th>Parameter</th> <th>Std. Err.</th> <th>T-stat</th> <th>P-value</th> <th>Lower CI</th> <th>Upper CI</th>\n",
       "</tr>\n",
       "<tr>\n",
       "  <th>Intercept</th>  <td>2.6092</td>    <td>1.5138</td>   <td>1.7236</td> <td>0.0848</td>   <td>-0.3578</td>  <td>5.5761</td> \n",
       "</tr>\n",
       "<tr>\n",
       "  <th>lgEBITDA</th>   <td>0.9944</td>    <td>0.0720</td>   <td>13.809</td> <td>0.0000</td>   <td>0.8533</td>   <td>1.1355</td> \n",
       "</tr>\n",
       "</table>\n",
       "<table class=\"simpletable\">\n",
       "<caption>Equation: 2013, Dependent Variable: lgEV</caption>\n",
       "<tr>\n",
       "      <td></td>      <th>Parameter</th> <th>Std. Err.</th> <th>T-stat</th> <th>P-value</th> <th>Lower CI</th> <th>Upper CI</th>\n",
       "</tr>\n",
       "<tr>\n",
       "  <th>Intercept</th>  <td>4.2808</td>    <td>1.1028</td>   <td>3.8817</td> <td>0.0001</td>   <td>2.1193</td>   <td>6.4422</td> \n",
       "</tr>\n",
       "<tr>\n",
       "  <th>lgEBITDA</th>   <td>0.9206</td>    <td>0.0522</td>   <td>17.644</td> <td>0.0000</td>   <td>0.8183</td>   <td>1.0229</td> \n",
       "</tr>\n",
       "</table>\n",
       "<table class=\"simpletable\">\n",
       "<caption>Equation: 2014, Dependent Variable: lgEV</caption>\n",
       "<tr>\n",
       "      <td></td>      <th>Parameter</th> <th>Std. Err.</th> <th>T-stat</th> <th>P-value</th> <th>Lower CI</th> <th>Upper CI</th>\n",
       "</tr>\n",
       "<tr>\n",
       "  <th>Intercept</th>  <td>4.6883</td>    <td>0.8819</td>   <td>5.3159</td> <td>0.0000</td>   <td>2.9598</td>   <td>6.4169</td> \n",
       "</tr>\n",
       "<tr>\n",
       "  <th>lgEBITDA</th>   <td>0.9050</td>    <td>0.0416</td>   <td>21.736</td> <td>0.0000</td>   <td>0.8234</td>   <td>0.9866</td> \n",
       "</tr>\n",
       "</table><br/><br/>Covariance Estimator:<br/>Homoskedastic (Unadjusted) Covariance (Debiased: False, GLS: True)<br/>id: 0x128e063b0"
      ],
      "text/plain": [
       "                           System GLS Estimation Summary                           \n",
       "===================================================================================\n",
       "Estimator:                        GLS   Overall R-squared:                   0.9198\n",
       "No. Equations.:                     3   McElroy's R-squared:                 0.8753\n",
       "No. Observations:                  24   Judge's (OLS) R-squared:             0.9198\n",
       "Date:                Sun, Nov 27 2022   Berndt's R-squared:                  0.9274\n",
       "Time:                        15:30:33   Dhrymes's R-squared:                 0.9198\n",
       "                                        Cov. Estimator:                  unadjusted\n",
       "                                        Num. Constraints:                      None\n",
       "                   Equation: 2012, Dependent Variable: lgEV                   \n",
       "==============================================================================\n",
       "            Parameter  Std. Err.     T-stat    P-value    Lower CI    Upper CI\n",
       "------------------------------------------------------------------------------\n",
       "Intercept      2.6092     1.5138     1.7236     0.0848     -0.3578      5.5761\n",
       "lgEBITDA       0.9944     0.0720     13.809     0.0000      0.8533      1.1355\n",
       "                   Equation: 2013, Dependent Variable: lgEV                   \n",
       "==============================================================================\n",
       "            Parameter  Std. Err.     T-stat    P-value    Lower CI    Upper CI\n",
       "------------------------------------------------------------------------------\n",
       "Intercept      4.2808     1.1028     3.8817     0.0001      2.1193      6.4422\n",
       "lgEBITDA       0.9206     0.0522     17.644     0.0000      0.8183      1.0229\n",
       "                   Equation: 2014, Dependent Variable: lgEV                   \n",
       "==============================================================================\n",
       "            Parameter  Std. Err.     T-stat    P-value    Lower CI    Upper CI\n",
       "------------------------------------------------------------------------------\n",
       "Intercept      4.6883     0.8819     5.3159     0.0000      2.9598      6.4169\n",
       "lgEBITDA       0.9050     0.0416     21.736     0.0000      0.8234      0.9866\n",
       "==============================================================================\n",
       "\n",
       "Covariance Estimator:\n",
       "Homoskedastic (Unadjusted) Covariance (Debiased: False, GLS: True)\n",
       "SystemResults, id: 0x128e063b0"
      ]
     },
     "metadata": {},
     "output_type": "display_data"
    }
   ],
   "source": [
    "# !pip install linearmodels\n",
    "from linearmodels.system import SUR\n",
    "from collections import OrderedDict\n",
    "\n",
    "dat_sur = dat_s1s2.set_index('Period.Ending')\n",
    "\n",
    "# Only leads to same result if an Intercept Column with 1.0 is added, to adjust interception.\n",
    "\n",
    "dat_sur['Intercept'] = 1.0\n",
    "mod_data = OrderedDict()\n",
    "for year in ['2012','2013','2014' ]:\n",
    "    year_data = dat_sur.loc[int(year)]\n",
    "    dependent = year_data.lgEV\n",
    "    exog = year_data[['Intercept','lgEBITDA']]\n",
    "    mod_data[year] = {'dependent': dependent, 'exog': exog}\n",
    "\n",
    "\n",
    "res = SUR(mod_data).fit(cov_type='unadjusted')\n",
    "res"
   ]
  },
  {
   "cell_type": "code",
   "execution_count": null,
   "metadata": {},
   "outputs": [
    {
     "name": "stdout",
     "output_type": "stream",
     "text": [
      "const       1.973197\n",
      "lgEBITDA    1.024672\n",
      "dtype: float64\n",
      "const       3.454001\n",
      "lgEBITDA    0.959763\n",
      "dtype: float64\n",
      "const       4.104735\n",
      "lgEBITDA    0.932539\n",
      "dtype: float64\n"
     ]
    }
   ],
   "source": [
    "print(reg_s1s2_12.params)\n",
    "print(reg_s1s2_13.params)\n",
    "print(reg_s1s2_14.params)"
   ]
  },
  {
   "cell_type": "code",
   "execution_count": null,
   "metadata": {},
   "outputs": [
    {
     "data": {
      "text/html": [
       "<table class=\"simpletable\">\n",
       "<caption>OLS Regression Results</caption>\n",
       "<tr>\n",
       "  <th>Dep. Variable:</th>          <td>lgEV</td>       <th>  R-squared:         </th> <td>   0.887</td>\n",
       "</tr>\n",
       "<tr>\n",
       "  <th>Model:</th>                   <td>OLS</td>       <th>  Adj. R-squared:    </th> <td>   0.882</td>\n",
       "</tr>\n",
       "<tr>\n",
       "  <th>Method:</th>             <td>Least Squares</td>  <th>  F-statistic:       </th> <td>   172.8</td>\n",
       "</tr>\n",
       "<tr>\n",
       "  <th>Date:</th>             <td>Sun, 27 Nov 2022</td> <th>  Prob (F-statistic):</th> <td>6.77e-12</td>\n",
       "</tr>\n",
       "<tr>\n",
       "  <th>Time:</th>                 <td>15:30:49</td>     <th>  Log-Likelihood:    </th> <td> -7.0885</td>\n",
       "</tr>\n",
       "<tr>\n",
       "  <th>No. Observations:</th>      <td>    24</td>      <th>  AIC:               </th> <td>   18.18</td>\n",
       "</tr>\n",
       "<tr>\n",
       "  <th>Df Residuals:</th>          <td>    22</td>      <th>  BIC:               </th> <td>   20.53</td>\n",
       "</tr>\n",
       "<tr>\n",
       "  <th>Df Model:</th>              <td>     1</td>      <th>                     </th>     <td> </td>   \n",
       "</tr>\n",
       "<tr>\n",
       "  <th>Covariance Type:</th>      <td>nonrobust</td>    <th>                     </th>     <td> </td>   \n",
       "</tr>\n",
       "</table>\n",
       "<table class=\"simpletable\">\n",
       "<tr>\n",
       "      <td></td>        <th>coef</th>     <th>std err</th>      <th>t</th>      <th>P>|t|</th>  <th>[0.025</th>    <th>0.975]</th>  \n",
       "</tr>\n",
       "<tr>\n",
       "  <th>const</th>    <td>    1.9732</td> <td>    1.638</td> <td>    1.204</td> <td> 0.241</td> <td>   -1.425</td> <td>    5.371</td>\n",
       "</tr>\n",
       "<tr>\n",
       "  <th>lgEBITDA</th> <td>    1.0247</td> <td>    0.078</td> <td>   13.146</td> <td> 0.000</td> <td>    0.863</td> <td>    1.186</td>\n",
       "</tr>\n",
       "</table>\n",
       "<table class=\"simpletable\">\n",
       "<tr>\n",
       "  <th>Omnibus:</th>       <td> 3.022</td> <th>  Durbin-Watson:     </th> <td>   1.935</td>\n",
       "</tr>\n",
       "<tr>\n",
       "  <th>Prob(Omnibus):</th> <td> 0.221</td> <th>  Jarque-Bera (JB):  </th> <td>   1.469</td>\n",
       "</tr>\n",
       "<tr>\n",
       "  <th>Skew:</th>          <td> 0.497</td> <th>  Prob(JB):          </th> <td>   0.480</td>\n",
       "</tr>\n",
       "<tr>\n",
       "  <th>Kurtosis:</th>      <td> 3.693</td> <th>  Cond. No.          </th> <td>    498.</td>\n",
       "</tr>\n",
       "</table><br/><br/>Notes:<br/>[1] Standard Errors assume that the covariance matrix of the errors is correctly specified."
      ],
      "text/plain": [
       "<class 'statsmodels.iolib.summary.Summary'>\n",
       "\"\"\"\n",
       "                            OLS Regression Results                            \n",
       "==============================================================================\n",
       "Dep. Variable:                   lgEV   R-squared:                       0.887\n",
       "Model:                            OLS   Adj. R-squared:                  0.882\n",
       "Method:                 Least Squares   F-statistic:                     172.8\n",
       "Date:                Sun, 27 Nov 2022   Prob (F-statistic):           6.77e-12\n",
       "Time:                        15:30:49   Log-Likelihood:                -7.0885\n",
       "No. Observations:                  24   AIC:                             18.18\n",
       "Df Residuals:                      22   BIC:                             20.53\n",
       "Df Model:                           1                                         \n",
       "Covariance Type:            nonrobust                                         \n",
       "==============================================================================\n",
       "                 coef    std err          t      P>|t|      [0.025      0.975]\n",
       "------------------------------------------------------------------------------\n",
       "const          1.9732      1.638      1.204      0.241      -1.425       5.371\n",
       "lgEBITDA       1.0247      0.078     13.146      0.000       0.863       1.186\n",
       "==============================================================================\n",
       "Omnibus:                        3.022   Durbin-Watson:                   1.935\n",
       "Prob(Omnibus):                  0.221   Jarque-Bera (JB):                1.469\n",
       "Skew:                           0.497   Prob(JB):                        0.480\n",
       "Kurtosis:                       3.693   Cond. No.                         498.\n",
       "==============================================================================\n",
       "\n",
       "Notes:\n",
       "[1] Standard Errors assume that the covariance matrix of the errors is correctly specified.\n",
       "\"\"\""
      ]
     },
     "metadata": {},
     "output_type": "display_data"
    }
   ],
   "source": [
    "# Calculate confidence interval manually \n",
    "import scipy.stats as stats\n",
    "\n",
    "#The 5% confidenz interval is already visible in the summary, however i will show how to calculate it manually\n",
    "reg_s1s2_12.summary()"
   ]
  },
  {
   "cell_type": "code",
   "execution_count": null,
   "metadata": {},
   "outputs": [
    {
     "data": {
      "text/plain": [
       "[0.8637971744695357, 1.18554696126293]"
      ]
     },
     "metadata": {},
     "output_type": "display_data"
    }
   ],
   "source": [
    "#Access the coef and standard error of our model\n",
    "se = reg_s1s2_12.bse[1]\n",
    "coef = reg_s1s2_12.params[1]\n",
    "\n",
    "# Degrees of freedom.\n",
    "# list is necessary to navigate via [0] through the OrderedDict\n",
    "df = len(list(list(mod_data.values())[0].values())[0]) \n",
    "\n",
    "# Critival value for significante level 5 % of two-sided test\n",
    "crit = stats.t.ppf(0.975,df, loc=0, scale=1)\n",
    "\n",
    "# Lower and upper bound\n",
    "[coef - crit * se, coef + crit * se] \n"
   ]
  },
  {
   "cell_type": "code",
   "execution_count": null,
   "metadata": {},
   "outputs": [
    {
     "data": {
      "text/html": [
       "<div>\n",
       "<style scoped>\n",
       "    .dataframe tbody tr th:only-of-type {\n",
       "        vertical-align: middle;\n",
       "    }\n",
       "\n",
       "    .dataframe tbody tr th {\n",
       "        vertical-align: top;\n",
       "    }\n",
       "\n",
       "    .dataframe thead th {\n",
       "        text-align: right;\n",
       "    }\n",
       "</style>\n",
       "<table border=\"1\" class=\"dataframe\">\n",
       "  <thead>\n",
       "    <tr style=\"text-align: right;\">\n",
       "      <th></th>\n",
       "      <th>0</th>\n",
       "      <th>1</th>\n",
       "    </tr>\n",
       "  </thead>\n",
       "  <tbody>\n",
       "    <tr>\n",
       "      <th>const</th>\n",
       "      <td>-1.424817</td>\n",
       "      <td>5.371211</td>\n",
       "    </tr>\n",
       "    <tr>\n",
       "      <th>lgEBITDA</th>\n",
       "      <td>0.863020</td>\n",
       "      <td>1.186324</td>\n",
       "    </tr>\n",
       "  </tbody>\n",
       "</table>\n",
       "</div>"
      ],
      "text/plain": [
       "                 0         1\n",
       "const    -1.424817  5.371211\n",
       "lgEBITDA  0.863020  1.186324"
      ]
     },
     "metadata": {},
     "output_type": "display_data"
    }
   ],
   "source": [
    "#Alternativley or for comparison\n",
    "reg_s1s2_12.conf_int(0.05)"
   ]
  },
  {
   "cell_type": "code",
   "execution_count": null,
   "metadata": {
    "tags": [
     "remove-input"
    ]
   },
   "outputs": [
    {
     "data": {
      "image/png": "[encoded data removed]",
      "text/plain": [
       "<Figure size 1120x640 with 1 Axes>"
      ]
     },
     "metadata": {},
     "output_type": "display_data"
    }
   ],
   "source": [
    "## CI-plot \n",
    "alpha = 0.05\n",
    "\n",
    "#subplot creates figure and axes objects\n",
    "f, ax = plt.subplots(figsize=(14,8), dpi=80, facecolor='w', edgecolor='b', num=None)\n",
    "plt.plot([1, 2, 3, 4,5,6,7], [reg_s1s2.params[1],reg_s1_12.params[1],reg_s1_13.params[1], reg_s1_14.params[1],reg_s2_12.params[1],reg_s2_13.params[1],reg_s2_14.params[1]], 'ro')\n",
    "ax.set_ylabel(\"multiple\")\n",
    "ax.set_xticks([1, 2, 3, 4,5,6,7])\n",
    "ax.set_xticklabels([\"Beta 1\",\"Beta(1,1,1)\", \"Beta(1,1,2)\", \"Beta(1,2,1)\", \"Beta(1,2,2)\", \"Beta(1,3,1)\", \"Beta(1,3,2)\"])\n",
    "plt.vlines(1, ymin= (reg_s1s2.conf_int(alpha)).iloc[1,0], ymax= reg_s1s2.conf_int(alpha).iloc[1,1])\n",
    "plt.vlines(2, ymin= (reg_s1_12.conf_int(alpha)).iloc[1,0], ymax= reg_s1_12.conf_int(alpha).iloc[1,1])\n",
    "plt.vlines(3, ymin= (reg_s1_13.conf_int(alpha)).iloc[1,0], ymax= reg_s1_13.conf_int(alpha).iloc[1,1])\n",
    "plt.vlines(4, ymin= (reg_s1_14.conf_int(alpha)).iloc[1,0], ymax= reg_s1_14.conf_int(alpha).iloc[1,1])\n",
    "plt.vlines(5, ymin= (reg_s2_12.conf_int(alpha)).iloc[1,0], ymax= reg_s2_12.conf_int(alpha).iloc[1,1])\n",
    "plt.vlines(6, ymin= (reg_s2_13.conf_int(alpha)).iloc[1,0], ymax= reg_s2_13.conf_int(alpha).iloc[1,1])\n",
    "plt.vlines(7, ymin= (reg_s2_14.conf_int(alpha)).iloc[1,0], ymax= reg_s2_14.conf_int(alpha).iloc[1,1])\n",
    "plt.show()"
   ]
  },
  {
   "cell_type": "code",
   "execution_count": null,
   "metadata": {},
   "outputs": [],
   "source": [
    "# Display squared t-statistic\n",
    "t_test = reg_s1s2_12.tvalues[1]"
   ]
  },
  {
   "cell_type": "code",
   "execution_count": null,
   "metadata": {},
   "outputs": [
    {
     "data": {
      "text/plain": [
       "172.8104288130076"
      ]
     },
     "metadata": {},
     "output_type": "display_data"
    }
   ],
   "source": [
    "# Equivalent manual calculation\n",
    "#Run Regression with intercept only\n",
    "dat_s1s2_12_OLS_i = dat_s1s2_12_OLS\n",
    "dat_s1s2_12_OLS_i = sm.add_constant(dat_s1s2_12_OLS_i['lgEBITDA'])\n",
    "reg_s1s2_12_i = sm.OLS(dat_s1s2_12_OLS['lgEV'], dat_s1s2_12_OLS_i['const']).fit()\n",
    "\n",
    "#Compute F-statistic\n",
    "SSR_H0 = sum(reg_s1s2_12_i.resid**2)\n",
    "SSR_H1 = sum(reg_s1s2_12.resid**2)\n",
    "n = len(dat_s1s2_12['lgEV'])\n",
    "F_test = (SSR_H0-SSR_H1)/(SSR_H1/(n-2))\n",
    "F_test"
   ]
  },
  {
   "cell_type": "code",
   "execution_count": null,
   "metadata": {},
   "outputs": [
    {
     "data": {
      "text/plain": [
       "172.8104288130086"
      ]
     },
     "metadata": {},
     "output_type": "display_data"
    }
   ],
   "source": [
    "##For Comparison\n",
    "t_test**2"
   ]
  },
  {
   "cell_type": "code",
   "execution_count": null,
   "metadata": {},
   "outputs": [
    {
     "data": {
      "text/plain": [
       "172.81042881300766"
      ]
     },
     "metadata": {},
     "output_type": "display_data"
    }
   ],
   "source": [
    "#Short Alternative in python for f Test\n",
    "f_value = reg_s1s2_12.fvalue\n",
    "f_value "
   ]
  },
  {
   "cell_type": "code",
   "execution_count": null,
   "metadata": {},
   "outputs": [
    {
     "data": {
      "text/plain": [
       "False"
      ]
     },
     "metadata": {},
     "output_type": "display_data"
    }
   ],
   "source": [
    "### --ChowHypA------------\n",
    "# squared sum of residuals of the three separate regressions\n",
    "SSR_A_G1 = sum(reg_s1s2_12.resid**2)\n",
    "SSR_A_G2 = sum(reg_s1s2_13.resid**2)\n",
    "SSR_A_G3 = sum(reg_s1s2_14.resid**2)\n",
    "\n",
    "# squared sum of residuals of the pooled regression (model under H_0 in hypothesis A)\n",
    "SSR_H1 = sum(reg_s1s2.resid**2)\n",
    "\n",
    "# number of total observations\n",
    "n = len(dat_s1s2['lgEV'])\n",
    "# number of regressors\n",
    "p = 2\n",
    "# number of distinct groups\n",
    "G = 3\n",
    "\n",
    "# Chow test statistic\n",
    "Chow_A = ((SSR_H1 - sum((SSR_A_G1, SSR_A_G2, SSR_A_G3)))/(G*p)) / (sum((SSR_A_G1, SSR_A_G2, SSR_A_G3))/(n-G*p))\n",
    "\n",
    "# Test decision - can H0 be rejected on a 5% significance level?\n",
    "Chow_A > stats.f.ppf(0.95, dfn = G*p, dfd = n-G*p)"
   ]
  },
  {
   "cell_type": "code",
   "execution_count": null,
   "metadata": {},
   "outputs": [
    {
     "data": {
      "text/plain": [
       "False"
      ]
     },
     "metadata": {},
     "output_type": "display_data"
    }
   ],
   "source": [
    "SSR_B_G1 = sum(reg_s1.resid**2)\n",
    "SSR_B_G2 = sum(reg_s2.resid**2)\n",
    "\n",
    "G = 2\n",
    "\n",
    "Chow_B = ((SSR_H1 - sum((SSR_B_G1, SSR_B_G2)))/(G*p)) / (sum((SSR_B_G1, SSR_B_G2))/(n-G*p))\n",
    "\n",
    "Chow_B > stats.f.ppf(0.95, dfn = G*p, dfd = n-G*p)\n"
   ]
  },
  {
   "cell_type": "code",
   "execution_count": null,
   "metadata": {},
   "outputs": [
    {
     "data": {
      "text/plain": [
       "False"
      ]
     },
     "metadata": {},
     "output_type": "display_data"
    }
   ],
   "source": [
    "### --ChowHypC -----------------\n",
    "SSR_C_G1 = sum(reg_s1_12.resid**2)\n",
    "SSR_C_G2 = sum(reg_s1_13.resid**2)\n",
    "SSR_C_G3 = sum(reg_s1_14.resid**2)\n",
    "SSR_C_G4 = sum(reg_s2_12.resid**2)\n",
    "SSR_C_G5 = sum(reg_s2_13.resid**2)\n",
    "SSR_C_G6 = sum(reg_s2_14.resid**2)\n",
    "\n",
    "G = 6\n",
    "\n",
    "Chow_C = ((SSR_H1 - sum((SSR_C_G1, SSR_C_G2, SSR_C_G3, SSR_C_G4, SSR_C_G5, SSR_C_G6)))/(G*p)) / (sum((SSR_C_G1, SSR_C_G2, SSR_C_G3, SSR_C_G4, SSR_C_G5, SSR_C_G6))/(n-G*p))\n",
    "\n",
    "Chow_C > stats.f.ppf(0.95, dfn = G*p, dfd = n-G*p)"
   ]
  },
  {
   "cell_type": "code",
   "execution_count": null,
   "metadata": {},
   "outputs": [
    {
     "data": {
      "text/plain": [
       "False"
      ]
     },
     "metadata": {},
     "output_type": "display_data"
    }
   ],
   "source": [
    "## --ChowHypD---------------------\n",
    "SSR_D_G1 = sum(reg_s1_12.resid**2)\n",
    "SSR_D_G2 = sum(reg_s1_14.resid**2)\n",
    "\n",
    "# model under H_0\n",
    "dat_s1_12_14 = pd.concat([dat_s1_12_OLS, dat_s1_14_OLS])\n",
    "reg_s1_12_14 = sm.OLS(dat_s1_12_14['lgEV'], sm.add_constant(dat_s1_12_14['lgEBITDA'])).fit()\n",
    "\n",
    "# squared sum of residuals in the model under H_0 \n",
    "SSR_H1 = sum(reg_s1_12_14.resid**2)\n",
    "\n",
    "# number of total observations\n",
    "n = len(dat_s1_12_14['lgEV'])\n",
    "# number of regressors\n",
    "p = 2\n",
    "# number of distinct groups\n",
    "G = 2\n",
    "\n",
    "Chow_D = ((SSR_H1 - sum((SSR_D_G1, SSR_D_G2)))/(G*p)) / (sum((SSR_D_G1, SSR_D_G2))/(n-G*p))\n",
    "\n",
    "Chow_D > stats.f.ppf(0.95, dfn = G*p, dfd = n-G*p)"
   ]
  },
  {
   "cell_type": "code",
   "execution_count": null,
   "metadata": {},
   "outputs": [],
   "source": [
    "## --- Predidction Mod1 --------------------------------\n",
    "# Build subset for forecast\n",
    "dat_s1s2_forecast = df_test[df_test['GICS.Sector'].isin([sec1,sec2])]\n",
    "\n",
    "# Calculate forecasts based on (Mod 1)\n",
    "Mod1_forecast = reg_s1s2.predict(sm.add_constant(dat_s1s2_forecast['lgEBITDA']))\n",
    "Mod1_errors = dat_s1s2_forecast['lgEV'] - Mod1_forecast"
   ]
  },
  {
   "cell_type": "code",
   "execution_count": null,
   "metadata": {},
   "outputs": [
    {
     "data": {
      "text/plain": [
       "0.2347831561014157"
      ]
     },
     "metadata": {},
     "output_type": "display_data"
    }
   ],
   "source": [
    "Mod1_RMSE = np.sqrt(np.mean(Mod1_errors**2))\n",
    "Mod1_RMSE"
   ]
  },
  {
   "cell_type": "code",
   "execution_count": null,
   "metadata": {},
   "outputs": [
    {
     "data": {
      "text/plain": [
       "0.19363534040481398"
      ]
     },
     "metadata": {},
     "output_type": "display_data"
    }
   ],
   "source": [
    "Mod1_MAE  = np.mean(np.abs(Mod1_errors))\n",
    "Mod1_MAE"
   ]
  },
  {
   "cell_type": "code",
   "execution_count": null,
   "metadata": {},
   "outputs": [
    {
     "data": {
      "text/plain": [
       "0.2649041470574737"
      ]
     },
     "metadata": {},
     "output_type": "display_data"
    }
   ],
   "source": [
    "#Build subset for (Mod3)\n",
    "dat_s1_forecast = df_test[(df_test['GICS.Sector']==sec1)]\n",
    "dat_s2_forecast = df_test[(df_test['GICS.Sector']==sec2)]\n",
    "\n",
    "Mod3_s1_forecast = reg_s1.predict(sm.add_constant(dat_s1_forecast['lgEBITDA']))\n",
    "Mod3_s2_forecast = reg_s2.predict(sm.add_constant(dat_s2_forecast['lgEBITDA']))\n",
    "\n",
    "Mod3_errors = (pd.concat([dat_s1_forecast, dat_s2_forecast])['lgEV']) - pd.concat([Mod3_s1_forecast, Mod3_s2_forecast])\n",
    "\n",
    "Mod3_RMSE = np.sqrt(np.mean(Mod3_errors**2))\n",
    "Mod3_RMSE"
   ]
  },
  {
   "cell_type": "code",
   "execution_count": null,
   "metadata": {},
   "outputs": [
    {
     "data": {
      "text/plain": [
       "0.2159945379923814"
      ]
     },
     "metadata": {},
     "output_type": "display_data"
    }
   ],
   "source": [
    "Mod3_MAE  = np.mean(np.abs(Mod3_errors))\n",
    "Mod3_MAE"
   ]
  }
 ],
 "metadata": {
  "kernelspec": {
   "display_name": "Python 3.10.4 64-bit",
   "language": "python",
   "name": "python3"
  },
  "language_info": {
   "codemirror_mode": {
    "name": "ipython",
    "version": 3
   },
   "file_extension": ".py",
   "mimetype": "text/x-python",
   "name": "python",
   "nbconvert_exporter": "python",
   "pygments_lexer": "ipython3",
   "version": "3.10.4"
  },
  "orig_nbformat": 4,
  "vscode": {
   "interpreter": {
    "hash": "aee8b7b246df8f9039afb4144a1f6fd8d2ca17a180786b69acc140d282b71a49"
   }
  }
 },
 "nbformat": 4,
 "nbformat_minor": 2
}
