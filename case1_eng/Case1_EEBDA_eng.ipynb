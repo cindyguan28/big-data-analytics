{
 "cells": [
  {
   "cell_type": "code",
   "execution_count": 8,
   "metadata": {},
   "outputs": [
    {
     "data": {
      "text/plain": [
       "Power_divergenceResult(statistic=122.336, pvalue=1.0042253768621262e-24)"
      ]
     },
     "execution_count": 8,
     "metadata": {},
     "output_type": "execute_result"
    }
   ],
   "source": [
    "# !pip install scipy\n",
    "\n",
    "x = (121, 143, 178, 283, 103, 172)\n",
    "\n",
    "from scipy.stats import chisquare\n",
    "chisquare(x)"
   ]
  },
  {
   "cell_type": "code",
   "execution_count": 35,
   "metadata": {},
   "outputs": [
    {
     "data": {
      "text/plain": [
       "Power_divergenceResult(statistic=806.2027999999999, pvalue=5.264857995888828e-172)"
      ]
     },
     "execution_count": 35,
     "metadata": {},
     "output_type": "execute_result"
    }
   ],
   "source": [
    "# alternatively\n",
    "chisquare([2503, 1364, 1742, 1853, 956,1582])"
   ]
  },
  {
   "cell_type": "code",
   "execution_count": 3,
   "metadata": {},
   "outputs": [],
   "source": [
    "# %pip install pandas\n",
    "import pandas as pd\n",
    "\n",
    "df_accounts_payable = pd.read_csv(\"case1_accountspayable.csv\", sep = \";\", encoding = \"UTF-8\")\n",
    "#pd.read_csv(\"case1_accountspayable.csv\", sep = \";\", encoding = \"UTF-8\")\n",
    "\n"
   ]
  },
  {
   "cell_type": "code",
   "execution_count": 4,
   "metadata": {},
   "outputs": [
    {
     "data": {
      "text/html": [
       "<div>\n",
       "<style scoped>\n",
       "    .dataframe tbody tr th:only-of-type {\n",
       "        vertical-align: middle;\n",
       "    }\n",
       "\n",
       "    .dataframe tbody tr th {\n",
       "        vertical-align: top;\n",
       "    }\n",
       "\n",
       "    .dataframe thead th {\n",
       "        text-align: right;\n",
       "    }\n",
       "</style>\n",
       "<table border=\"1\" class=\"dataframe\">\n",
       "  <thead>\n",
       "    <tr style=\"text-align: right;\">\n",
       "      <th></th>\n",
       "      <th>Creditor_ID</th>\n",
       "      <th>Firm</th>\n",
       "      <th>Street</th>\n",
       "      <th>HouseNr.</th>\n",
       "      <th>City</th>\n",
       "      <th>Postcode</th>\n",
       "      <th>Country</th>\n",
       "    </tr>\n",
       "  </thead>\n",
       "  <tbody>\n",
       "    <tr>\n",
       "      <th>0</th>\n",
       "      <td>1</td>\n",
       "      <td>Workflow GmbH</td>\n",
       "      <td>Berlinerstraße</td>\n",
       "      <td>12</td>\n",
       "      <td>Berlin</td>\n",
       "      <td>10115</td>\n",
       "      <td>Germany</td>\n",
       "    </tr>\n",
       "    <tr>\n",
       "      <th>1</th>\n",
       "      <td>2</td>\n",
       "      <td>Consulting_solutions</td>\n",
       "      <td>Elysees</td>\n",
       "      <td>11</td>\n",
       "      <td>Montord</td>\n",
       "      <td>33452</td>\n",
       "      <td>France</td>\n",
       "    </tr>\n",
       "    <tr>\n",
       "      <th>2</th>\n",
       "      <td>3</td>\n",
       "      <td>Consulting_regulations</td>\n",
       "      <td>Prugne</td>\n",
       "      <td>73</td>\n",
       "      <td>Cesset</td>\n",
       "      <td>24532</td>\n",
       "      <td>France</td>\n",
       "    </tr>\n",
       "    <tr>\n",
       "      <th>3</th>\n",
       "      <td>4</td>\n",
       "      <td>IT_Solutions</td>\n",
       "      <td>Maximilianstraße</td>\n",
       "      <td>11</td>\n",
       "      <td>Munich</td>\n",
       "      <td>80331</td>\n",
       "      <td>Germany</td>\n",
       "    </tr>\n",
       "    <tr>\n",
       "      <th>4</th>\n",
       "      <td>5</td>\n",
       "      <td>Governance GmbH</td>\n",
       "      <td>Frankstraße</td>\n",
       "      <td>75</td>\n",
       "      <td>Munich</td>\n",
       "      <td>80332</td>\n",
       "      <td>Germany</td>\n",
       "    </tr>\n",
       "    <tr>\n",
       "      <th>5</th>\n",
       "      <td>6</td>\n",
       "      <td>Business_Partnership</td>\n",
       "      <td>Rue de Grivats</td>\n",
       "      <td>60</td>\n",
       "      <td>Lyon</td>\n",
       "      <td>53522</td>\n",
       "      <td>France</td>\n",
       "    </tr>\n",
       "    <tr>\n",
       "      <th>6</th>\n",
       "      <td>7</td>\n",
       "      <td>Clera</td>\n",
       "      <td>Chemin</td>\n",
       "      <td>59</td>\n",
       "      <td>Paris</td>\n",
       "      <td>75000</td>\n",
       "      <td>France</td>\n",
       "    </tr>\n",
       "    <tr>\n",
       "      <th>7</th>\n",
       "      <td>8</td>\n",
       "      <td>Carbon</td>\n",
       "      <td>Hornerstraße</td>\n",
       "      <td>52</td>\n",
       "      <td>Hamburg</td>\n",
       "      <td>20090</td>\n",
       "      <td>Germany</td>\n",
       "    </tr>\n",
       "    <tr>\n",
       "      <th>8</th>\n",
       "      <td>9</td>\n",
       "      <td>Bon app'</td>\n",
       "      <td>Gouzol</td>\n",
       "      <td>2</td>\n",
       "      <td>Beauron</td>\n",
       "      <td>67976</td>\n",
       "      <td>France</td>\n",
       "    </tr>\n",
       "    <tr>\n",
       "      <th>9</th>\n",
       "      <td>10</td>\n",
       "      <td>Bottom-Dollar Marketse</td>\n",
       "      <td>Robin</td>\n",
       "      <td>51</td>\n",
       "      <td>Lyon</td>\n",
       "      <td>53454</td>\n",
       "      <td>France</td>\n",
       "    </tr>\n",
       "    <tr>\n",
       "      <th>10</th>\n",
       "      <td>11</td>\n",
       "      <td>Kraft GmbH</td>\n",
       "      <td>Theodorstraße</td>\n",
       "      <td>70</td>\n",
       "      <td>Deggendorf</td>\n",
       "      <td>94469</td>\n",
       "      <td>Germany</td>\n",
       "    </tr>\n",
       "    <tr>\n",
       "      <th>11</th>\n",
       "      <td>12</td>\n",
       "      <td>EDF</td>\n",
       "      <td>de L'Est</td>\n",
       "      <td>14</td>\n",
       "      <td>Marseille</td>\n",
       "      <td>78654</td>\n",
       "      <td>France</td>\n",
       "    </tr>\n",
       "    <tr>\n",
       "      <th>12</th>\n",
       "      <td>13</td>\n",
       "      <td>Centro comercial</td>\n",
       "      <td>Curie</td>\n",
       "      <td>17</td>\n",
       "      <td>Saint Bonnet</td>\n",
       "      <td>54766</td>\n",
       "      <td>France</td>\n",
       "    </tr>\n",
       "    <tr>\n",
       "      <th>13</th>\n",
       "      <td>14</td>\n",
       "      <td>IFS international</td>\n",
       "      <td>Chauvais</td>\n",
       "      <td>39</td>\n",
       "      <td>Bezenet</td>\n",
       "      <td>89459</td>\n",
       "      <td>France</td>\n",
       "    </tr>\n",
       "    <tr>\n",
       "      <th>14</th>\n",
       "      <td>15</td>\n",
       "      <td>Commercial Partners</td>\n",
       "      <td>Berlinerstraße</td>\n",
       "      <td>83</td>\n",
       "      <td>Berlin</td>\n",
       "      <td>10342</td>\n",
       "      <td>Germany</td>\n",
       "    </tr>\n",
       "    <tr>\n",
       "      <th>15</th>\n",
       "      <td>16</td>\n",
       "      <td>ABBS</td>\n",
       "      <td>de Halage</td>\n",
       "      <td>24</td>\n",
       "      <td>Lyon</td>\n",
       "      <td>53868</td>\n",
       "      <td>France</td>\n",
       "    </tr>\n",
       "    <tr>\n",
       "      <th>16</th>\n",
       "      <td>17</td>\n",
       "      <td>Enterprise</td>\n",
       "      <td>Alier</td>\n",
       "      <td>50</td>\n",
       "      <td>Paris</td>\n",
       "      <td>75086</td>\n",
       "      <td>France</td>\n",
       "    </tr>\n",
       "    <tr>\n",
       "      <th>17</th>\n",
       "      <td>18</td>\n",
       "      <td>Lovala GmbH</td>\n",
       "      <td>Zugstraße</td>\n",
       "      <td>42</td>\n",
       "      <td>Berlin</td>\n",
       "      <td>10990</td>\n",
       "      <td>Germany</td>\n",
       "    </tr>\n",
       "    <tr>\n",
       "      <th>18</th>\n",
       "      <td>19</td>\n",
       "      <td>Eastern Connection</td>\n",
       "      <td>Brules</td>\n",
       "      <td>31</td>\n",
       "      <td>Maginer</td>\n",
       "      <td>54677</td>\n",
       "      <td>France</td>\n",
       "    </tr>\n",
       "    <tr>\n",
       "      <th>19</th>\n",
       "      <td>20</td>\n",
       "      <td>Ernst Trade</td>\n",
       "      <td>Ferrieres</td>\n",
       "      <td>54</td>\n",
       "      <td>Puits Neuf</td>\n",
       "      <td>89653</td>\n",
       "      <td>France</td>\n",
       "    </tr>\n",
       "    <tr>\n",
       "      <th>20</th>\n",
       "      <td>21</td>\n",
       "      <td>Work-flow_GmbH</td>\n",
       "      <td>Berlinerstraße</td>\n",
       "      <td>12</td>\n",
       "      <td>Berlin</td>\n",
       "      <td>10115</td>\n",
       "      <td>Germany</td>\n",
       "    </tr>\n",
       "  </tbody>\n",
       "</table>\n",
       "</div>"
      ],
      "text/plain": [
       "    Creditor_ID                    Firm            Street  HouseNr.  \\\n",
       "0             1           Workflow GmbH    Berlinerstraße        12   \n",
       "1             2    Consulting_solutions           Elysees        11   \n",
       "2             3  Consulting_regulations            Prugne        73   \n",
       "3             4            IT_Solutions  Maximilianstraße        11   \n",
       "4             5         Governance GmbH       Frankstraße        75   \n",
       "5             6    Business_Partnership    Rue de Grivats        60   \n",
       "6             7                   Clera           Chemin         59   \n",
       "7             8                  Carbon      Hornerstraße        52   \n",
       "8             9                Bon app'            Gouzol         2   \n",
       "9            10  Bottom-Dollar Marketse             Robin        51   \n",
       "10           11              Kraft GmbH     Theodorstraße        70   \n",
       "11           12                     EDF          de L'Est        14   \n",
       "12           13        Centro comercial             Curie        17   \n",
       "13           14       IFS international          Chauvais        39   \n",
       "14           15     Commercial Partners    Berlinerstraße        83   \n",
       "15           16                    ABBS         de Halage        24   \n",
       "16           17             Enterprise              Alier        50   \n",
       "17           18             Lovala GmbH         Zugstraße        42   \n",
       "18           19      Eastern Connection            Brules        31   \n",
       "19           20             Ernst Trade         Ferrieres        54   \n",
       "20           21          Work-flow_GmbH    Berlinerstraße        12   \n",
       "\n",
       "            City  Postcode  Country  \n",
       "0         Berlin     10115  Germany  \n",
       "1        Montord     33452   France  \n",
       "2         Cesset     24532   France  \n",
       "3         Munich     80331  Germany  \n",
       "4         Munich     80332  Germany  \n",
       "5           Lyon     53522   France  \n",
       "6          Paris     75000   France  \n",
       "7        Hamburg     20090  Germany  \n",
       "8        Beauron     67976   France  \n",
       "9           Lyon     53454   France  \n",
       "10    Deggendorf     94469  Germany  \n",
       "11     Marseille     78654   France  \n",
       "12  Saint Bonnet     54766   France  \n",
       "13       Bezenet     89459   France  \n",
       "14        Berlin     10342  Germany  \n",
       "15          Lyon     53868   France  \n",
       "16         Paris     75086   France  \n",
       "17        Berlin     10990  Germany  \n",
       "18       Maginer     54677   France  \n",
       "19    Puits Neuf     89653   France  \n",
       "20        Berlin     10115  Germany  "
      ]
     },
     "execution_count": 4,
     "metadata": {},
     "output_type": "execute_result"
    }
   ],
   "source": [
    "df_accounts_payable"
   ]
  },
  {
   "cell_type": "code",
   "execution_count": 4,
   "metadata": {},
   "outputs": [],
   "source": [
    "df_transactions = pd.read_csv(\"case1_transactions.csv\", sep = \";\",\n",
    "                            decimal = \",\", encoding = \"UTF-8\")\n",
    "\n",
    "df_accounts_receivable = pd.read_csv(\"case1_accountsreceivable.csv\", sep = \";\",\n",
    "                                   encoding = \"UTF-8\")\n",
    "\n",
    "df_bank_accounts = pd.read_csv(\"case1_bankaccounts.csv\", sep = \";\",\n",
    "                             encoding = \"UTF-8\")\n"
   ]
  },
  {
   "cell_type": "code",
   "execution_count": 6,
   "metadata": {},
   "outputs": [
    {
     "data": {
      "text/plain": [
       "pandas.core.frame.DataFrame"
      ]
     },
     "execution_count": 6,
     "metadata": {},
     "output_type": "execute_result"
    }
   ],
   "source": [
    "\n",
    "type(df_accounts_payable)\n"
   ]
  },
  {
   "cell_type": "code",
   "execution_count": 7,
   "metadata": {},
   "outputs": [
    {
     "data": {
      "text/html": [
       "<div>\n",
       "<style scoped>\n",
       "    .dataframe tbody tr th:only-of-type {\n",
       "        vertical-align: middle;\n",
       "    }\n",
       "\n",
       "    .dataframe tbody tr th {\n",
       "        vertical-align: top;\n",
       "    }\n",
       "\n",
       "    .dataframe thead th {\n",
       "        text-align: right;\n",
       "    }\n",
       "</style>\n",
       "<table border=\"1\" class=\"dataframe\">\n",
       "  <thead>\n",
       "    <tr style=\"text-align: right;\">\n",
       "      <th></th>\n",
       "      <th>Creditor_ID</th>\n",
       "      <th>Firm</th>\n",
       "      <th>Street</th>\n",
       "      <th>HouseNr.</th>\n",
       "      <th>City</th>\n",
       "      <th>Postcode</th>\n",
       "      <th>Country</th>\n",
       "    </tr>\n",
       "  </thead>\n",
       "  <tbody>\n",
       "    <tr>\n",
       "      <th>0</th>\n",
       "      <td>1</td>\n",
       "      <td>Workflow GmbH</td>\n",
       "      <td>Berlinerstraße</td>\n",
       "      <td>12</td>\n",
       "      <td>Berlin</td>\n",
       "      <td>10115</td>\n",
       "      <td>Germany</td>\n",
       "    </tr>\n",
       "    <tr>\n",
       "      <th>1</th>\n",
       "      <td>2</td>\n",
       "      <td>Consulting_solutions</td>\n",
       "      <td>Elysees</td>\n",
       "      <td>11</td>\n",
       "      <td>Montord</td>\n",
       "      <td>33452</td>\n",
       "      <td>France</td>\n",
       "    </tr>\n",
       "    <tr>\n",
       "      <th>2</th>\n",
       "      <td>3</td>\n",
       "      <td>Consulting_regulations</td>\n",
       "      <td>Prugne</td>\n",
       "      <td>73</td>\n",
       "      <td>Cesset</td>\n",
       "      <td>24532</td>\n",
       "      <td>France</td>\n",
       "    </tr>\n",
       "    <tr>\n",
       "      <th>3</th>\n",
       "      <td>4</td>\n",
       "      <td>IT_Solutions</td>\n",
       "      <td>Maximilianstraße</td>\n",
       "      <td>11</td>\n",
       "      <td>Munich</td>\n",
       "      <td>80331</td>\n",
       "      <td>Germany</td>\n",
       "    </tr>\n",
       "    <tr>\n",
       "      <th>4</th>\n",
       "      <td>5</td>\n",
       "      <td>Governance GmbH</td>\n",
       "      <td>Frankstraße</td>\n",
       "      <td>75</td>\n",
       "      <td>Munich</td>\n",
       "      <td>80332</td>\n",
       "      <td>Germany</td>\n",
       "    </tr>\n",
       "  </tbody>\n",
       "</table>\n",
       "</div>"
      ],
      "text/plain": [
       "   Creditor_ID                    Firm            Street  HouseNr.     City  \\\n",
       "0            1           Workflow GmbH    Berlinerstraße        12   Berlin   \n",
       "1            2    Consulting_solutions           Elysees        11  Montord   \n",
       "2            3  Consulting_regulations            Prugne        73   Cesset   \n",
       "3            4            IT_Solutions  Maximilianstraße        11   Munich   \n",
       "4            5         Governance GmbH       Frankstraße        75   Munich   \n",
       "\n",
       "   Postcode  Country  \n",
       "0     10115  Germany  \n",
       "1     33452   France  \n",
       "2     24532   France  \n",
       "3     80331  Germany  \n",
       "4     80332  Germany  "
      ]
     },
     "execution_count": 7,
     "metadata": {},
     "output_type": "execute_result"
    }
   ],
   "source": [
    "\n",
    "# Print first five rows of `df.accounts_payable`\n",
    "df_accounts_payable.head(5)\n",
    "\n"
   ]
  },
  {
   "cell_type": "code",
   "execution_count": 9,
   "metadata": {},
   "outputs": [
    {
     "data": {
      "text/html": [
       "<div>\n",
       "<style scoped>\n",
       "    .dataframe tbody tr th:only-of-type {\n",
       "        vertical-align: middle;\n",
       "    }\n",
       "\n",
       "    .dataframe tbody tr th {\n",
       "        vertical-align: top;\n",
       "    }\n",
       "\n",
       "    .dataframe thead th {\n",
       "        text-align: right;\n",
       "    }\n",
       "</style>\n",
       "<table border=\"1\" class=\"dataframe\">\n",
       "  <thead>\n",
       "    <tr style=\"text-align: right;\">\n",
       "      <th></th>\n",
       "      <th>Creditor_ID</th>\n",
       "      <th>HouseNr.</th>\n",
       "      <th>Postcode</th>\n",
       "    </tr>\n",
       "  </thead>\n",
       "  <tbody>\n",
       "    <tr>\n",
       "      <th>count</th>\n",
       "      <td>21.000000</td>\n",
       "      <td>21.000000</td>\n",
       "      <td>21.000000</td>\n",
       "    </tr>\n",
       "    <tr>\n",
       "      <th>mean</th>\n",
       "      <td>11.000000</td>\n",
       "      <td>40.095238</td>\n",
       "      <td>53375.380952</td>\n",
       "    </tr>\n",
       "    <tr>\n",
       "      <th>std</th>\n",
       "      <td>6.204837</td>\n",
       "      <td>25.125495</td>\n",
       "      <td>29396.611579</td>\n",
       "    </tr>\n",
       "    <tr>\n",
       "      <th>min</th>\n",
       "      <td>1.000000</td>\n",
       "      <td>2.000000</td>\n",
       "      <td>10115.000000</td>\n",
       "    </tr>\n",
       "    <tr>\n",
       "      <th>25%</th>\n",
       "      <td>6.000000</td>\n",
       "      <td>14.000000</td>\n",
       "      <td>24532.000000</td>\n",
       "    </tr>\n",
       "    <tr>\n",
       "      <th>50%</th>\n",
       "      <td>11.000000</td>\n",
       "      <td>42.000000</td>\n",
       "      <td>54677.000000</td>\n",
       "    </tr>\n",
       "    <tr>\n",
       "      <th>75%</th>\n",
       "      <td>16.000000</td>\n",
       "      <td>59.000000</td>\n",
       "      <td>78654.000000</td>\n",
       "    </tr>\n",
       "    <tr>\n",
       "      <th>max</th>\n",
       "      <td>21.000000</td>\n",
       "      <td>83.000000</td>\n",
       "      <td>94469.000000</td>\n",
       "    </tr>\n",
       "  </tbody>\n",
       "</table>\n",
       "</div>"
      ],
      "text/plain": [
       "       Creditor_ID   HouseNr.      Postcode\n",
       "count    21.000000  21.000000     21.000000\n",
       "mean     11.000000  40.095238  53375.380952\n",
       "std       6.204837  25.125495  29396.611579\n",
       "min       1.000000   2.000000  10115.000000\n",
       "25%       6.000000  14.000000  24532.000000\n",
       "50%      11.000000  42.000000  54677.000000\n",
       "75%      16.000000  59.000000  78654.000000\n",
       "max      21.000000  83.000000  94469.000000"
      ]
     },
     "execution_count": 9,
     "metadata": {},
     "output_type": "execute_result"
    }
   ],
   "source": [
    "\n",
    "df_accounts_payable.describe()"
   ]
  },
  {
   "cell_type": "code",
   "execution_count": 10,
   "metadata": {},
   "outputs": [
    {
     "name": "stdout",
     "output_type": "stream",
     "text": [
      "<class 'pandas.core.frame.DataFrame'>\n",
      "RangeIndex: 21 entries, 0 to 20\n",
      "Data columns (total 7 columns):\n",
      " #   Column       Non-Null Count  Dtype \n",
      "---  ------       --------------  ----- \n",
      " 0   Creditor_ID  21 non-null     int64 \n",
      " 1   Firm         21 non-null     object\n",
      " 2   Street       21 non-null     object\n",
      " 3   HouseNr.     21 non-null     int64 \n",
      " 4   City         21 non-null     object\n",
      " 5   Postcode     21 non-null     int64 \n",
      " 6   Country      21 non-null     object\n",
      "dtypes: int64(3), object(4)\n",
      "memory usage: 1.3+ KB\n"
     ]
    }
   ],
   "source": [
    "\n",
    "df_accounts_payable.info()\n"
   ]
  },
  {
   "cell_type": "code",
   "execution_count": 22,
   "metadata": {},
   "outputs": [
    {
     "data": {
      "text/plain": [
       "(21, 7)"
      ]
     },
     "execution_count": 22,
     "metadata": {},
     "output_type": "execute_result"
    }
   ],
   "source": [
    "df_accounts_payable.shape # dimension"
   ]
  },
  {
   "cell_type": "code",
   "execution_count": 24,
   "id": "ba76bfdd",
   "metadata": {},
   "outputs": [
    {
     "data": {
      "text/plain": [
       "Index(['Creditor_ID', 'Firm', 'Street', 'HouseNr.', 'City', 'Postcode',\n",
       "       'Country'],\n",
       "      dtype='object')"
      ]
     },
     "execution_count": 24,
     "metadata": {},
     "output_type": "execute_result"
    }
   ],
   "source": [
    "df_accounts_payable.columns\n"
   ]
  },
  {
   "cell_type": "code",
   "execution_count": 26,
   "id": "2ec3ff83",
   "metadata": {},
   "outputs": [
    {
     "data": {
      "text/plain": [
       "array([[1, 'Workflow GmbH', 'Berlinerstraße', 12, 'Berlin', 10115,\n",
       "        'Germany'],\n",
       "       [2, 'Consulting_solutions', 'Elysees', 11, 'Montord', 33452,\n",
       "        'France'],\n",
       "       [3, 'Consulting_regulations', 'Prugne', 73, 'Cesset', 24532,\n",
       "        'France'],\n",
       "       [4, 'IT_Solutions', 'Maximilianstraße', 11, 'Munich', 80331,\n",
       "        'Germany'],\n",
       "       [5, 'Governance GmbH', 'Frankstraße', 75, 'Munich', 80332,\n",
       "        'Germany'],\n",
       "       [6, 'Business_Partnership', 'Rue de Grivats', 60, 'Lyon', 53522,\n",
       "        'France'],\n",
       "       [7, 'Clera', 'Chemin ', 59, 'Paris', 75000, 'France'],\n",
       "       [8, 'Carbon', 'Hornerstraße', 52, 'Hamburg', 20090, 'Germany'],\n",
       "       [9, \"Bon app'\", 'Gouzol', 2, 'Beauron', 67976, 'France'],\n",
       "       [10, 'Bottom-Dollar Marketse', 'Robin', 51, 'Lyon', 53454,\n",
       "        'France'],\n",
       "       [11, 'Kraft GmbH', 'Theodorstraße', 70, 'Deggendorf', 94469,\n",
       "        'Germany'],\n",
       "       [12, 'EDF', \"de L'Est\", 14, 'Marseille', 78654, 'France'],\n",
       "       [13, 'Centro comercial', 'Curie', 17, 'Saint Bonnet', 54766,\n",
       "        'France'],\n",
       "       [14, 'IFS international', 'Chauvais', 39, 'Bezenet', 89459,\n",
       "        'France'],\n",
       "       [15, 'Commercial Partners', 'Berlinerstraße', 83, 'Berlin', 10342,\n",
       "        'Germany'],\n",
       "       [16, 'ABBS', 'de Halage', 24, 'Lyon', 53868, 'France'],\n",
       "       [17, 'Enterprise ', 'Alier', 50, 'Paris', 75086, 'France'],\n",
       "       [18, 'Lovala GmbH', 'Zugstraße', 42, 'Berlin', 10990, 'Germany'],\n",
       "       [19, 'Eastern Connection', 'Brules', 31, 'Maginer', 54677,\n",
       "        'France'],\n",
       "       [20, 'Ernst Trade', 'Ferrieres', 54, 'Puits Neuf', 89653,\n",
       "        'France'],\n",
       "       [21, 'Work-flow_GmbH', 'Berlinerstraße', 12, 'Berlin', 10115,\n",
       "        'Germany']], dtype=object)"
      ]
     },
     "execution_count": 26,
     "metadata": {},
     "output_type": "execute_result"
    }
   ],
   "source": [
    "df_accounts_payable.values"
   ]
  },
  {
   "cell_type": "code",
   "execution_count": null,
   "id": "90796a05",
   "metadata": {},
   "outputs": [
    {
     "data": {
      "text/html": [
       "<div>\n",
       "<style scoped>\n",
       "    .dataframe tbody tr th:only-of-type {\n",
       "        vertical-align: middle;\n",
       "    }\n",
       "\n",
       "    .dataframe tbody tr th {\n",
       "        vertical-align: top;\n",
       "    }\n",
       "\n",
       "    .dataframe thead th {\n",
       "        text-align: right;\n",
       "    }\n",
       "</style>\n",
       "<table border=\"1\" class=\"dataframe\">\n",
       "  <thead>\n",
       "    <tr style=\"text-align: right;\">\n",
       "      <th></th>\n",
       "      <th>Creditor_ID</th>\n",
       "      <th>Firm</th>\n",
       "      <th>Street</th>\n",
       "      <th>HouseNr.</th>\n",
       "      <th>City</th>\n",
       "      <th>Postcode</th>\n",
       "      <th>Country</th>\n",
       "    </tr>\n",
       "  </thead>\n",
       "  <tbody>\n",
       "    <tr>\n",
       "      <th>0</th>\n",
       "      <td>1</td>\n",
       "      <td>Workflow GmbH</td>\n",
       "      <td>Berlinerstraße</td>\n",
       "      <td>12</td>\n",
       "      <td>Berlin</td>\n",
       "      <td>10115</td>\n",
       "      <td>Germany</td>\n",
       "    </tr>\n",
       "    <tr>\n",
       "      <th>1</th>\n",
       "      <td>2</td>\n",
       "      <td>Consulting_solutions</td>\n",
       "      <td>Elysees</td>\n",
       "      <td>11</td>\n",
       "      <td>Montord</td>\n",
       "      <td>33452</td>\n",
       "      <td>France</td>\n",
       "    </tr>\n",
       "    <tr>\n",
       "      <th>2</th>\n",
       "      <td>3</td>\n",
       "      <td>Consulting_regulations</td>\n",
       "      <td>Prugne</td>\n",
       "      <td>73</td>\n",
       "      <td>Cesset</td>\n",
       "      <td>24532</td>\n",
       "      <td>France</td>\n",
       "    </tr>\n",
       "    <tr>\n",
       "      <th>3</th>\n",
       "      <td>4</td>\n",
       "      <td>IT_Solutions</td>\n",
       "      <td>Maximilianstraße</td>\n",
       "      <td>11</td>\n",
       "      <td>Munich</td>\n",
       "      <td>80331</td>\n",
       "      <td>Germany</td>\n",
       "    </tr>\n",
       "    <tr>\n",
       "      <th>4</th>\n",
       "      <td>5</td>\n",
       "      <td>Governance GmbH</td>\n",
       "      <td>Frankstraße</td>\n",
       "      <td>75</td>\n",
       "      <td>Munich</td>\n",
       "      <td>80332</td>\n",
       "      <td>Germany</td>\n",
       "    </tr>\n",
       "  </tbody>\n",
       "</table>\n",
       "</div>"
      ],
      "text/plain": [
       "   Creditor_ID                    Firm            Street  HouseNr.     City  \\\n",
       "0            1           Workflow GmbH    Berlinerstraße        12   Berlin   \n",
       "1            2    Consulting_solutions           Elysees        11  Montord   \n",
       "2            3  Consulting_regulations            Prugne        73   Cesset   \n",
       "3            4            IT_Solutions  Maximilianstraße        11   Munich   \n",
       "4            5         Governance GmbH       Frankstraße        75   Munich   \n",
       "\n",
       "   Postcode  Country  \n",
       "0     10115  Germany  \n",
       "1     33452   France  \n",
       "2     24532   France  \n",
       "3     80331  Germany  \n",
       "4     80332  Germany  "
      ]
     },
     "metadata": {},
     "output_type": "display_data"
    }
   ],
   "source": [
    "\n",
    "# Print first five rows of `df.accounts_payable`\n",
    "df_accounts_payable.head(5)"
   ]
  },
  {
   "cell_type": "code",
   "execution_count": 25,
   "metadata": {},
   "outputs": [
    {
     "data": {
      "text/plain": [
       "dtype('<M8[ns]')"
      ]
     },
     "execution_count": 25,
     "metadata": {},
     "output_type": "execute_result"
    }
   ],
   "source": [
    "df_transactions['Date'].dtypes"
   ]
  },
  {
   "cell_type": "code",
   "execution_count": 13,
   "metadata": {},
   "outputs": [
    {
     "data": {
      "text/plain": [
       "0      01.01.2018\n",
       "1      01.01.2018\n",
       "2      03.01.2018\n",
       "3      04.01.2018\n",
       "4      04.01.2018\n",
       "          ...    \n",
       "102    04.04.2018\n",
       "103    05.04.2018\n",
       "104    06.04.2018\n",
       "105    07.04.2018\n",
       "106    08.04.2018\n",
       "Name: Date, Length: 107, dtype: object"
      ]
     },
     "execution_count": 13,
     "metadata": {},
     "output_type": "execute_result"
    }
   ],
   "source": [
    "df_transactions['Date']"
   ]
  },
  {
   "cell_type": "code",
   "execution_count": 14,
   "metadata": {
    "scrolled": true
   },
   "outputs": [],
   "source": [
    "df_transactions['Date'] = pd.to_datetime(df_transactions['Date'], format='%d.%m.%Y')\n"
   ]
  },
  {
   "cell_type": "code",
   "execution_count": 15,
   "metadata": {},
   "outputs": [
    {
     "data": {
      "text/plain": [
       "0     2018-01-01\n",
       "1     2018-01-01\n",
       "2     2018-01-03\n",
       "3     2018-01-04\n",
       "4     2018-01-04\n",
       "         ...    \n",
       "102   2018-04-04\n",
       "103   2018-04-05\n",
       "104   2018-04-06\n",
       "105   2018-04-07\n",
       "106   2018-04-08\n",
       "Name: Date, Length: 107, dtype: datetime64[ns]"
      ]
     },
     "execution_count": 15,
     "metadata": {},
     "output_type": "execute_result"
    }
   ],
   "source": [
    "df_transactions['Date']"
   ]
  },
  {
   "cell_type": "code",
   "execution_count": 17,
   "metadata": {},
   "outputs": [],
   "source": [
    "import datetime\n",
    "df_transactions['DayOfTheWeek'] = df_transactions['Date'].dt.day_name()"
   ]
  },
  {
   "cell_type": "code",
   "execution_count": 19,
   "metadata": {},
   "outputs": [
    {
     "data": {
      "text/plain": [
       "0         Monday\n",
       "1         Monday\n",
       "2      Wednesday\n",
       "3       Thursday\n",
       "4       Thursday\n",
       "         ...    \n",
       "102    Wednesday\n",
       "103     Thursday\n",
       "104       Friday\n",
       "105     Saturday\n",
       "106       Sunday\n",
       "Name: DayOfTheWeek, Length: 107, dtype: object"
      ]
     },
     "execution_count": 19,
     "metadata": {},
     "output_type": "execute_result"
    }
   ],
   "source": [
    "df_transactions['DayOfTheWeek']"
   ]
  },
  {
   "cell_type": "code",
   "execution_count": 34,
   "id": "b3c93d2c",
   "metadata": {},
   "outputs": [
    {
     "data": {
      "text/plain": [
       "107"
      ]
     },
     "execution_count": 34,
     "metadata": {},
     "output_type": "execute_result"
    }
   ],
   "source": [
    "df_transactions['Booking_ID'].count()"
   ]
  },
  {
   "cell_type": "code",
   "execution_count": null,
   "metadata": {},
   "outputs": [],
   "source": [
    "df_transactions['Reminders'] = df_transactions['Reminders'].replace('-', '0')"
   ]
  },
  {
   "cell_type": "code",
   "execution_count": null,
   "metadata": {},
   "outputs": [],
   "source": [
    "df_transactions['Reminders'] = df_transactions['Reminders'].astype(str).astype(int)"
   ]
  },
  {
   "cell_type": "code",
   "execution_count": null,
   "metadata": {},
   "outputs": [],
   "source": [
    "df_transactions.AccNr_Debit == 1000"
   ]
  },
  {
   "cell_type": "code",
   "execution_count": 15,
   "metadata": {},
   "outputs": [],
   "source": [
    "df_cash_book = df_transactions[(df_transactions.AccNr_Debit == 1000) | (df_transactions.AccNr_Credit == 1000)]"
   ]
  },
  {
   "cell_type": "code",
   "execution_count": 130,
   "metadata": {},
   "outputs": [
    {
     "data": {
      "text/html": [
       "<div>\n",
       "<style scoped>\n",
       "    .dataframe tbody tr th:only-of-type {\n",
       "        vertical-align: middle;\n",
       "    }\n",
       "\n",
       "    .dataframe tbody tr th {\n",
       "        vertical-align: top;\n",
       "    }\n",
       "\n",
       "    .dataframe thead th {\n",
       "        text-align: right;\n",
       "    }\n",
       "</style>\n",
       "<table border=\"1\" class=\"dataframe\">\n",
       "  <thead>\n",
       "    <tr style=\"text-align: right;\">\n",
       "      <th></th>\n",
       "      <th>Booking_ID</th>\n",
       "      <th>Debitor_ID</th>\n",
       "      <th>Creditor_ID</th>\n",
       "      <th>Product_ID</th>\n",
       "      <th>AccNr_Debit</th>\n",
       "      <th>AccNr_Credit</th>\n",
       "      <th>Value</th>\n",
       "      <th>Date</th>\n",
       "      <th>Time</th>\n",
       "      <th>PaymentTarget</th>\n",
       "      <th>Paid</th>\n",
       "      <th>Reminders</th>\n",
       "      <th>DayOfTheWeek</th>\n",
       "    </tr>\n",
       "  </thead>\n",
       "  <tbody>\n",
       "    <tr>\n",
       "      <th>3</th>\n",
       "      <td>4</td>\n",
       "      <td>9</td>\n",
       "      <td>-</td>\n",
       "      <td>5</td>\n",
       "      <td>1000</td>\n",
       "      <td>8000</td>\n",
       "      <td>182.40</td>\n",
       "      <td>2018-01-04</td>\n",
       "      <td>00:26</td>\n",
       "      <td>-</td>\n",
       "      <td>yes</td>\n",
       "      <td>-</td>\n",
       "      <td>Thursday</td>\n",
       "    </tr>\n",
       "    <tr>\n",
       "      <th>5</th>\n",
       "      <td>6</td>\n",
       "      <td>-</td>\n",
       "      <td>11</td>\n",
       "      <td>-</td>\n",
       "      <td>5100</td>\n",
       "      <td>1000</td>\n",
       "      <td>193.33</td>\n",
       "      <td>2018-01-05</td>\n",
       "      <td>13:14</td>\n",
       "      <td>-</td>\n",
       "      <td>yes</td>\n",
       "      <td>-</td>\n",
       "      <td>Friday</td>\n",
       "    </tr>\n",
       "    <tr>\n",
       "      <th>6</th>\n",
       "      <td>7</td>\n",
       "      <td>13</td>\n",
       "      <td>-</td>\n",
       "      <td>5</td>\n",
       "      <td>1000</td>\n",
       "      <td>8000</td>\n",
       "      <td>364.80</td>\n",
       "      <td>2018-01-06</td>\n",
       "      <td>10:57</td>\n",
       "      <td>-</td>\n",
       "      <td>yes</td>\n",
       "      <td>-</td>\n",
       "      <td>Saturday</td>\n",
       "    </tr>\n",
       "    <tr>\n",
       "      <th>9</th>\n",
       "      <td>10</td>\n",
       "      <td>-</td>\n",
       "      <td>11</td>\n",
       "      <td>-</td>\n",
       "      <td>5100</td>\n",
       "      <td>1000</td>\n",
       "      <td>245.56</td>\n",
       "      <td>2018-01-07</td>\n",
       "      <td>15:21</td>\n",
       "      <td>-</td>\n",
       "      <td>yes</td>\n",
       "      <td>-</td>\n",
       "      <td>Sunday</td>\n",
       "    </tr>\n",
       "    <tr>\n",
       "      <th>13</th>\n",
       "      <td>14</td>\n",
       "      <td>18</td>\n",
       "      <td>-</td>\n",
       "      <td>1</td>\n",
       "      <td>1000</td>\n",
       "      <td>8000</td>\n",
       "      <td>1123.12</td>\n",
       "      <td>2018-01-09</td>\n",
       "      <td>22:23</td>\n",
       "      <td>-</td>\n",
       "      <td>yes</td>\n",
       "      <td>-</td>\n",
       "      <td>Tuesday</td>\n",
       "    </tr>\n",
       "  </tbody>\n",
       "</table>\n",
       "</div>"
      ],
      "text/plain": [
       "    Booking_ID Debitor_ID Creditor_ID Product_ID  AccNr_Debit  AccNr_Credit  \\\n",
       "3            4          9           -          5         1000          8000   \n",
       "5            6          -          11          -         5100          1000   \n",
       "6            7         13           -          5         1000          8000   \n",
       "9           10          -          11          -         5100          1000   \n",
       "13          14         18           -          1         1000          8000   \n",
       "\n",
       "      Value       Date   Time PaymentTarget Paid Reminders DayOfTheWeek  \n",
       "3    182.40 2018-01-04  00:26             -  yes         -     Thursday  \n",
       "5    193.33 2018-01-05  13:14             -  yes         -       Friday  \n",
       "6    364.80 2018-01-06  10:57             -  yes         -     Saturday  \n",
       "9    245.56 2018-01-07  15:21             -  yes         -       Sunday  \n",
       "13  1123.12 2018-01-09  22:23             -  yes         -      Tuesday  "
      ]
     },
     "execution_count": 130,
     "metadata": {},
     "output_type": "execute_result"
    }
   ],
   "source": [
    "df_cash_book.head()"
   ]
  },
  {
   "cell_type": "code",
   "execution_count": null,
   "metadata": {},
   "outputs": [],
   "source": [
    "df_accounts_receivable.columns"
   ]
  },
  {
   "cell_type": "code",
   "execution_count": 38,
   "id": "abb97c79",
   "metadata": {},
   "outputs": [
    {
     "name": "stdout",
     "output_type": "stream",
     "text": [
      "<class 'pandas.core.frame.DataFrame'>\n",
      "RangeIndex: 31 entries, 0 to 30\n",
      "Data columns (total 9 columns):\n",
      " #   Column       Non-Null Count  Dtype \n",
      "---  ------       --------------  ----- \n",
      " 0   Bank_ID      31 non-null     int64 \n",
      " 1   Creditor_ID  31 non-null     int64 \n",
      " 2   Bankname     31 non-null     object\n",
      " 3   CountryKey   31 non-null     object\n",
      " 4   VerifCode    31 non-null     int64 \n",
      " 5   BankKey      31 non-null     int64 \n",
      " 6   SectorCode   31 non-null     object\n",
      " 7   BankAccNr    31 non-null     int64 \n",
      " 8   CheckDigit   31 non-null     object\n",
      "dtypes: int64(5), object(4)\n",
      "memory usage: 2.3+ KB\n"
     ]
    }
   ],
   "source": [
    "df_bank_accounts.info()"
   ]
  },
  {
   "cell_type": "code",
   "execution_count": 53,
   "metadata": {},
   "outputs": [
    {
     "data": {
      "text/plain": [
       "6"
      ]
     },
     "execution_count": 53,
     "metadata": {},
     "output_type": "execute_result"
    }
   ],
   "source": [
    "df_bank_accounts.columns\n"
   ]
  },
  {
   "cell_type": "code",
   "execution_count": 66,
   "id": "8ad94608",
   "metadata": {},
   "outputs": [
    {
     "data": {
      "text/plain": [
       "6"
      ]
     },
     "execution_count": 66,
     "metadata": {},
     "output_type": "execute_result"
    }
   ],
   "source": [
    "df_bank_accounts['Bankname'].nunique() # banks in the data set\n"
   ]
  },
  {
   "cell_type": "code",
   "execution_count": 73,
   "id": "2d47d78b",
   "metadata": {},
   "outputs": [
    {
     "data": {
      "text/plain": [
       "True     20\n",
       "False    11\n",
       "Name: SectorCode, dtype: int64"
      ]
     },
     "execution_count": 73,
     "metadata": {},
     "output_type": "execute_result"
    }
   ],
   "source": [
    "df_bank_accounts['SectorCode'].str.isnumeric().value_counts() #num of entries that are number and entries are not number"
   ]
  },
  {
   "cell_type": "code",
   "execution_count": 79,
   "id": "855ad776",
   "metadata": {},
   "outputs": [],
   "source": [
    "df_bank_accounts['SectorCode'] = df_bank_accounts['SectorCode'].replace('-', '0')"
   ]
  },
  {
   "cell_type": "code",
   "execution_count": 81,
   "id": "dfdf3526",
   "metadata": {},
   "outputs": [
    {
     "data": {
      "text/plain": [
       "11"
      ]
     },
     "execution_count": 81,
     "metadata": {},
     "output_type": "execute_result"
    }
   ],
   "source": [
    "df_bank_accounts['SectorCode'] = df_bank_accounts['SectorCode'].astype(str).astype(int)\n",
    "df_bank_accounts['SectorCode'] \n"
   ]
  },
  {
   "cell_type": "code",
   "execution_count": null,
   "id": "4320d676",
   "metadata": {},
   "outputs": [],
   "source": [
    "#count numbers of sectorCode with value 0\n",
    "df_bank_accounts['SectorCode'][(df_bank_accounts['SectorCode'].values == 0)].count()"
   ]
  },
  {
   "cell_type": "code",
   "execution_count": 85,
   "metadata": {},
   "outputs": [],
   "source": [
    "df_accounts_receivable_banks = df_bank_accounts.merge(df_accounts_receivable, how = 'inner', \n",
    "                                                      left_on = 'Creditor_ID', right_on = 'Creditor_ID')"
   ]
  },
  {
   "cell_type": "code",
   "execution_count": 86,
   "metadata": {},
   "outputs": [
    {
     "data": {
      "text/html": [
       "<div>\n",
       "<style scoped>\n",
       "    .dataframe tbody tr th:only-of-type {\n",
       "        vertical-align: middle;\n",
       "    }\n",
       "\n",
       "    .dataframe tbody tr th {\n",
       "        vertical-align: top;\n",
       "    }\n",
       "\n",
       "    .dataframe thead th {\n",
       "        text-align: right;\n",
       "    }\n",
       "</style>\n",
       "<table border=\"1\" class=\"dataframe\">\n",
       "  <thead>\n",
       "    <tr style=\"text-align: right;\">\n",
       "      <th></th>\n",
       "      <th>Bank_ID</th>\n",
       "      <th>Creditor_ID</th>\n",
       "      <th>Bankname</th>\n",
       "      <th>CountryKey</th>\n",
       "      <th>VerifCode</th>\n",
       "      <th>BankKey</th>\n",
       "      <th>SectorCode</th>\n",
       "      <th>BankAccNr</th>\n",
       "      <th>CheckDigit</th>\n",
       "      <th>Firm</th>\n",
       "      <th>Street</th>\n",
       "      <th>HouseNr.</th>\n",
       "      <th>City</th>\n",
       "      <th>Postcode</th>\n",
       "      <th>Country</th>\n",
       "    </tr>\n",
       "  </thead>\n",
       "  <tbody>\n",
       "    <tr>\n",
       "      <th>0</th>\n",
       "      <td>1</td>\n",
       "      <td>1</td>\n",
       "      <td>Sparkasse</td>\n",
       "      <td>DE</td>\n",
       "      <td>44</td>\n",
       "      <td>85708525</td>\n",
       "      <td>0</td>\n",
       "      <td>9092573071</td>\n",
       "      <td>-</td>\n",
       "      <td>Workflow GmbH</td>\n",
       "      <td>Berlinerstraße</td>\n",
       "      <td>12</td>\n",
       "      <td>Berlin</td>\n",
       "      <td>10115</td>\n",
       "      <td>Germany</td>\n",
       "    </tr>\n",
       "    <tr>\n",
       "      <th>1</th>\n",
       "      <td>2</td>\n",
       "      <td>1</td>\n",
       "      <td>Sparkasse</td>\n",
       "      <td>DE</td>\n",
       "      <td>27</td>\n",
       "      <td>34010441</td>\n",
       "      <td>0</td>\n",
       "      <td>1517137596</td>\n",
       "      <td>-</td>\n",
       "      <td>Workflow GmbH</td>\n",
       "      <td>Berlinerstraße</td>\n",
       "      <td>12</td>\n",
       "      <td>Berlin</td>\n",
       "      <td>10115</td>\n",
       "      <td>Germany</td>\n",
       "    </tr>\n",
       "    <tr>\n",
       "      <th>2</th>\n",
       "      <td>3</td>\n",
       "      <td>2</td>\n",
       "      <td>BGFI</td>\n",
       "      <td>FR</td>\n",
       "      <td>29</td>\n",
       "      <td>53954085</td>\n",
       "      <td>12914</td>\n",
       "      <td>93097</td>\n",
       "      <td>31</td>\n",
       "      <td>Consulting_solutions</td>\n",
       "      <td>Elysees</td>\n",
       "      <td>11</td>\n",
       "      <td>Montord</td>\n",
       "      <td>33452</td>\n",
       "      <td>France</td>\n",
       "    </tr>\n",
       "  </tbody>\n",
       "</table>\n",
       "</div>"
      ],
      "text/plain": [
       "   Bank_ID  Creditor_ID   Bankname CountryKey  VerifCode   BankKey  \\\n",
       "0        1            1  Sparkasse         DE         44  85708525   \n",
       "1        2            1  Sparkasse         DE         27  34010441   \n",
       "2        3            2       BGFI         FR         29  53954085   \n",
       "\n",
       "   SectorCode   BankAccNr CheckDigit                  Firm          Street  \\\n",
       "0           0  9092573071          -         Workflow GmbH  Berlinerstraße   \n",
       "1           0  1517137596          -         Workflow GmbH  Berlinerstraße   \n",
       "2       12914       93097         31  Consulting_solutions         Elysees   \n",
       "\n",
       "   HouseNr.     City  Postcode  Country  \n",
       "0        12   Berlin     10115  Germany  \n",
       "1        12   Berlin     10115  Germany  \n",
       "2        11  Montord     33452   France  "
      ]
     },
     "execution_count": 86,
     "metadata": {},
     "output_type": "execute_result"
    }
   ],
   "source": [
    "df_accounts_receivable_banks.head(3)\n"
   ]
  },
  {
   "cell_type": "code",
   "execution_count": 114,
   "metadata": {},
   "outputs": [
    {
     "data": {
      "text/plain": [
       "15     5431.0\n",
       "30      532.0\n",
       "37     1123.0\n",
       "52     2153.0\n",
       "74    63452.6\n",
       "Name: Value, dtype: float64"
      ]
     },
     "execution_count": 114,
     "metadata": {},
     "output_type": "execute_result"
    }
   ],
   "source": [
    "\n",
    "df_transactions_thursday = df_transactions[(df_transactions['DayOfTheWeek'] == 'Thursday') & (df_transactions['Creditor_ID'] != '-')]\n",
    "df_transactions_thursday['Value']\n"
   ]
  },
  {
   "cell_type": "code",
   "execution_count": 106,
   "id": "ec2c8ab1",
   "metadata": {},
   "outputs": [
    {
     "data": {
      "text/plain": [
       "Booking_ID       34\n",
       "Debitor_ID       34\n",
       "Creditor_ID      34\n",
       "Product_ID       34\n",
       "AccNr_Debit      34\n",
       "AccNr_Credit     34\n",
       "Value            34\n",
       "Date             34\n",
       "Time             34\n",
       "PaymentTarget    34\n",
       "Paid             34\n",
       "Reminders        34\n",
       "DayOfTheWeek     34\n",
       "dtype: int64"
      ]
     },
     "execution_count": 106,
     "metadata": {},
     "output_type": "execute_result"
    }
   ],
   "source": [
    "df_transactions_SatSun = df_transactions[(df_transactions['DayOfTheWeek'] == 'Saturday') | (df_transactions['DayOfTheWeek'] == 'Sunday')]\n",
    "numSatSun = df_transactions_SatSun.count()\n",
    "numSatSun"
   ]
  },
  {
   "cell_type": "code",
   "execution_count": 108,
   "id": "d2503e92",
   "metadata": {},
   "outputs": [
    {
     "data": {
      "text/plain": [
       "Booking_ID       27\n",
       "Debitor_ID       27\n",
       "Creditor_ID      27\n",
       "Product_ID       27\n",
       "AccNr_Debit      27\n",
       "AccNr_Credit     27\n",
       "Value            27\n",
       "Date             27\n",
       "Time             27\n",
       "PaymentTarget    27\n",
       "Paid             27\n",
       "Reminders        27\n",
       "DayOfTheWeek     27\n",
       "dtype: int64"
      ]
     },
     "execution_count": 108,
     "metadata": {},
     "output_type": "execute_result"
    }
   ],
   "source": [
    "df_transactions_MonTue = df_transactions[(df_transactions['DayOfTheWeek'] == 'Monday') | (df_transactions['DayOfTheWeek'] == 'Tuesday')]\n",
    "numMonTue = df_transactions_MonTue.count()\n",
    "numMonTue\n"
   ]
  },
  {
   "cell_type": "code",
   "execution_count": 109,
   "id": "1f5754e1",
   "metadata": {},
   "outputs": [
    {
     "name": "stdout",
     "output_type": "stream",
     "text": [
      "Booking_ID       True\n",
      "Debitor_ID       True\n",
      "Creditor_ID      True\n",
      "Product_ID       True\n",
      "AccNr_Debit      True\n",
      "AccNr_Credit     True\n",
      "Value            True\n",
      "Date             True\n",
      "Time             True\n",
      "PaymentTarget    True\n",
      "Paid             True\n",
      "Reminders        True\n",
      "DayOfTheWeek     True\n",
      "dtype: bool\n"
     ]
    }
   ],
   "source": [
    "print(numSatSun > numMonTue)"
   ]
  },
  {
   "cell_type": "code",
   "execution_count": 118,
   "id": "c4bdb146",
   "metadata": {},
   "outputs": [
    {
     "data": {
      "text/html": [
       "<div>\n",
       "<style scoped>\n",
       "    .dataframe tbody tr th:only-of-type {\n",
       "        vertical-align: middle;\n",
       "    }\n",
       "\n",
       "    .dataframe tbody tr th {\n",
       "        vertical-align: top;\n",
       "    }\n",
       "\n",
       "    .dataframe thead th {\n",
       "        text-align: right;\n",
       "    }\n",
       "</style>\n",
       "<table border=\"1\" class=\"dataframe\">\n",
       "  <thead>\n",
       "    <tr style=\"text-align: right;\">\n",
       "      <th></th>\n",
       "      <th>Booking_ID</th>\n",
       "      <th>AccNr_Debit</th>\n",
       "      <th>AccNr_Credit</th>\n",
       "      <th>Value</th>\n",
       "    </tr>\n",
       "  </thead>\n",
       "  <tbody>\n",
       "    <tr>\n",
       "      <th>count</th>\n",
       "      <td>15.000000</td>\n",
       "      <td>15.000000</td>\n",
       "      <td>15.000000</td>\n",
       "      <td>15.000000</td>\n",
       "    </tr>\n",
       "    <tr>\n",
       "      <th>mean</th>\n",
       "      <td>54.266667</td>\n",
       "      <td>2346.666667</td>\n",
       "      <td>4933.333333</td>\n",
       "      <td>8860.498000</td>\n",
       "    </tr>\n",
       "    <tr>\n",
       "      <th>std</th>\n",
       "      <td>33.533494</td>\n",
       "      <td>1483.657001</td>\n",
       "      <td>3398.879367</td>\n",
       "      <td>20306.282701</td>\n",
       "    </tr>\n",
       "    <tr>\n",
       "      <th>min</th>\n",
       "      <td>10.000000</td>\n",
       "      <td>1000.000000</td>\n",
       "      <td>1000.000000</td>\n",
       "      <td>3.800000</td>\n",
       "    </tr>\n",
       "    <tr>\n",
       "      <th>25%</th>\n",
       "      <td>23.500000</td>\n",
       "      <td>1200.000000</td>\n",
       "      <td>1600.000000</td>\n",
       "      <td>62.995000</td>\n",
       "    </tr>\n",
       "    <tr>\n",
       "      <th>50%</th>\n",
       "      <td>56.000000</td>\n",
       "      <td>1200.000000</td>\n",
       "      <td>8000.000000</td>\n",
       "      <td>432.000000</td>\n",
       "    </tr>\n",
       "    <tr>\n",
       "      <th>75%</th>\n",
       "      <td>81.500000</td>\n",
       "      <td>3200.000000</td>\n",
       "      <td>8000.000000</td>\n",
       "      <td>4121.500000</td>\n",
       "    </tr>\n",
       "    <tr>\n",
       "      <th>max</th>\n",
       "      <td>107.000000</td>\n",
       "      <td>5100.000000</td>\n",
       "      <td>8000.000000</td>\n",
       "      <td>76443.600000</td>\n",
       "    </tr>\n",
       "  </tbody>\n",
       "</table>\n",
       "</div>"
      ],
      "text/plain": [
       "       Booking_ID  AccNr_Debit  AccNr_Credit         Value\n",
       "count   15.000000    15.000000     15.000000     15.000000\n",
       "mean    54.266667  2346.666667   4933.333333   8860.498000\n",
       "std     33.533494  1483.657001   3398.879367  20306.282701\n",
       "min     10.000000  1000.000000   1000.000000      3.800000\n",
       "25%     23.500000  1200.000000   1600.000000     62.995000\n",
       "50%     56.000000  1200.000000   8000.000000    432.000000\n",
       "75%     81.500000  3200.000000   8000.000000   4121.500000\n",
       "max    107.000000  5100.000000   8000.000000  76443.600000"
      ]
     },
     "execution_count": 118,
     "metadata": {},
     "output_type": "execute_result"
    }
   ],
   "source": [
    "df_transactions_sundays = df_transactions[df_transactions['DayOfTheWeek'] == \"Sunday\"]\n",
    "df_transactions_sundays.describe()\n"
   ]
  },
  {
   "cell_type": "code",
   "execution_count": 189,
   "id": "c5abd489",
   "metadata": {},
   "outputs": [
    {
     "data": {
      "text/plain": [
       "29"
      ]
     },
     "execution_count": 189,
     "metadata": {},
     "output_type": "execute_result"
    }
   ],
   "source": [
    "df_transactions_nights = df_transactions[(df_transactions['Time'] >= \"22:00\") | (df_transactions['Time'] <= \"04:00\")]\n",
    "df_transactions_nights.Time.count()"
   ]
  },
  {
   "cell_type": "code",
   "execution_count": 111,
   "id": "eda1613c",
   "metadata": {},
   "outputs": [
    {
     "data": {
      "text/plain": [
       "85708525    2\n",
       "80060105    1\n",
       "85075846    1\n",
       "70190317    1\n",
       "67849978    1\n",
       "13305079    1\n",
       "60663501    1\n",
       "39224119    1\n",
       "84916907    1\n",
       "60328424    1\n",
       "53954085    1\n",
       "57035299    1\n",
       "36415266    1\n",
       "41150049    1\n",
       "29603999    1\n",
       "26510366    1\n",
       "58846743    1\n",
       "63926808    1\n",
       "79220247    1\n",
       "18824792    1\n",
       "26188756    1\n",
       "87524535    1\n",
       "49762129    1\n",
       "48333215    1\n",
       "24845261    1\n",
       "99484170    1\n",
       "34010441    1\n",
       "40728840    1\n",
       "45334492    1\n",
       "80459903    1\n",
       "Name: BankKey, dtype: int64"
      ]
     },
     "execution_count": 111,
     "metadata": {},
     "output_type": "execute_result"
    }
   ],
   "source": [
    "df_bank_accounts['BankKey'].value_counts()"
   ]
  },
  {
   "cell_type": "code",
   "execution_count": 119,
   "metadata": {},
   "outputs": [
    {
     "name": "stdout",
     "output_type": "stream",
     "text": [
      "33.4\n",
      "155.4\n",
      "177.84\n",
      "360.24\n",
      "603.44\n",
      "796.7700000000001\n",
      "1161.5700000000002\n",
      "1179.13\n",
      "4410.13\n",
      "4655.6900000000005\n"
     ]
    }
   ],
   "source": [
    "summe = 0\n",
    "for i in range(0,10):\n",
    "  summe += df_transactions.Value[i]\n",
    "  print(summe)\n"
   ]
  },
  {
   "cell_type": "code",
   "execution_count": 123,
   "id": "f3c71c13",
   "metadata": {},
   "outputs": [
    {
     "data": {
      "text/plain": [
       "0          33.40\n",
       "1         155.40\n",
       "2         177.84\n",
       "3         360.24\n",
       "4         603.44\n",
       "         ...    \n",
       "102    445945.44\n",
       "103    445963.00\n",
       "104    446012.99\n",
       "105    447135.99\n",
       "106    447185.98\n",
       "Name: Value, Length: 107, dtype: float64"
      ]
     },
     "execution_count": 123,
     "metadata": {},
     "output_type": "execute_result"
    }
   ],
   "source": [
    "df_transactions.Value\n",
    "df_transactions.Value.cumsum()"
   ]
  },
  {
   "cell_type": "code",
   "execution_count": null,
   "id": "3c2cf43a",
   "metadata": {},
   "outputs": [],
   "source": [
    "d = 0\n",
    "for i in range(0,5):\n",
    "  d = d + df_transactions.Value[i]\n",
    "  print(d)\n"
   ]
  },
  {
   "cell_type": "code",
   "execution_count": null,
   "id": "4d392a7a",
   "metadata": {},
   "outputs": [],
   "source": [
    "df_transactions.Value.cumsum()"
   ]
  },
  {
   "cell_type": "code",
   "execution_count": 124,
   "metadata": {},
   "outputs": [
    {
     "name": "stdout",
     "output_type": "stream",
     "text": [
      "Hans is 20 years old\n"
     ]
    }
   ],
   "source": [
    "\n",
    "a = 20\n",
    "print(\"Hans is\",a,\"years old\")\n"
   ]
  },
  {
   "cell_type": "code",
   "execution_count": 125,
   "metadata": {},
   "outputs": [
    {
     "data": {
      "text/plain": [
       "'Hans is 20 years old'"
      ]
     },
     "execution_count": 125,
     "metadata": {},
     "output_type": "execute_result"
    }
   ],
   "source": [
    "\n",
    "b = [\"Hans is \", \"20\" ,\" years old\"]\n",
    "\"\".join(b)\n"
   ]
  },
  {
   "cell_type": "code",
   "execution_count": 126,
   "metadata": {},
   "outputs": [
    {
     "name": "stdout",
     "output_type": "stream",
     "text": [
      "6\n"
     ]
    }
   ],
   "source": [
    "\n",
    "a = 3\n",
    "\n",
    "if a == 3:\n",
    "    z = a + 3\n",
    "\n",
    "print(z)"
   ]
  },
  {
   "cell_type": "code",
   "execution_count": 16,
   "metadata": {},
   "outputs": [],
   "source": [
    "df_cash_book = df_cash_book.reset_index(drop = True)"
   ]
  },
  {
   "cell_type": "code",
   "execution_count": 17,
   "metadata": {},
   "outputs": [
    {
     "name": "stdout",
     "output_type": "stream",
     "text": [
      "Cash register was  5 times in minus.\n"
     ]
    }
   ],
   "source": [
    "c = 0\n",
    "\n",
    "for i in range(0, len(df_cash_book)):\n",
    "\n",
    "    if df_cash_book.AccNr_Credit[i] == 1000:\n",
    "        df_cash_book.loc[i, 'Value'] = df_cash_book.Value[i]*(-1)\n",
    "  \n",
    "\n",
    "    c = c + df_cash_book.Value[i]\n",
    "    df_cash_book.loc[i, 'cumul'] = c\n",
    "print(\"Cash register was \", sum(df_cash_book.cumul < 0), \"times in minus.\")\n",
    "#print(\"Cash register was \", df_cash_book['cumul'][df_cash_book.cumul < 0].count(), \"times in minus.\")\n"
   ]
  },
  {
   "cell_type": "code",
   "execution_count": 177,
   "metadata": {},
   "outputs": [
    {
     "data": {
      "text/html": [
       "<div>\n",
       "<style scoped>\n",
       "    .dataframe tbody tr th:only-of-type {\n",
       "        vertical-align: middle;\n",
       "    }\n",
       "\n",
       "    .dataframe tbody tr th {\n",
       "        vertical-align: top;\n",
       "    }\n",
       "\n",
       "    .dataframe thead th {\n",
       "        text-align: right;\n",
       "    }\n",
       "</style>\n",
       "<table border=\"1\" class=\"dataframe\">\n",
       "  <thead>\n",
       "    <tr style=\"text-align: right;\">\n",
       "      <th></th>\n",
       "      <th>Booking_ID</th>\n",
       "      <th>Debitor_ID</th>\n",
       "      <th>Creditor_ID</th>\n",
       "      <th>Product_ID</th>\n",
       "      <th>AccNr_Debit</th>\n",
       "      <th>AccNr_Credit</th>\n",
       "      <th>Value</th>\n",
       "      <th>Date</th>\n",
       "      <th>Time</th>\n",
       "      <th>PaymentTarget</th>\n",
       "      <th>Paid</th>\n",
       "      <th>Reminders</th>\n",
       "      <th>DayOfTheWeek</th>\n",
       "      <th>cumul</th>\n",
       "    </tr>\n",
       "  </thead>\n",
       "  <tbody>\n",
       "    <tr>\n",
       "      <th>1</th>\n",
       "      <td>6</td>\n",
       "      <td>-</td>\n",
       "      <td>11</td>\n",
       "      <td>-</td>\n",
       "      <td>5100</td>\n",
       "      <td>1000</td>\n",
       "      <td>-193.33</td>\n",
       "      <td>2018-01-05</td>\n",
       "      <td>13:14</td>\n",
       "      <td>-</td>\n",
       "      <td>yes</td>\n",
       "      <td>-</td>\n",
       "      <td>Friday</td>\n",
       "      <td>-10.93</td>\n",
       "    </tr>\n",
       "    <tr>\n",
       "      <th>5</th>\n",
       "      <td>20</td>\n",
       "      <td>-</td>\n",
       "      <td>11</td>\n",
       "      <td>-</td>\n",
       "      <td>5100</td>\n",
       "      <td>1000</td>\n",
       "      <td>-1500.00</td>\n",
       "      <td>2018-01-14</td>\n",
       "      <td>16:33</td>\n",
       "      <td>-</td>\n",
       "      <td>yes</td>\n",
       "      <td>-</td>\n",
       "      <td>Sunday</td>\n",
       "      <td>-268.57</td>\n",
       "    </tr>\n",
       "    <tr>\n",
       "      <th>6</th>\n",
       "      <td>22</td>\n",
       "      <td>2</td>\n",
       "      <td>-</td>\n",
       "      <td>8</td>\n",
       "      <td>1000</td>\n",
       "      <td>8000</td>\n",
       "      <td>33.40</td>\n",
       "      <td>2018-01-16</td>\n",
       "      <td>22:46</td>\n",
       "      <td>-</td>\n",
       "      <td>yes</td>\n",
       "      <td>-</td>\n",
       "      <td>Tuesday</td>\n",
       "      <td>-235.17</td>\n",
       "    </tr>\n",
       "    <tr>\n",
       "      <th>7</th>\n",
       "      <td>25</td>\n",
       "      <td>11</td>\n",
       "      <td>-</td>\n",
       "      <td>2</td>\n",
       "      <td>1000</td>\n",
       "      <td>8000</td>\n",
       "      <td>17.56</td>\n",
       "      <td>2018-01-18</td>\n",
       "      <td>03:32</td>\n",
       "      <td>-</td>\n",
       "      <td>yes</td>\n",
       "      <td>-</td>\n",
       "      <td>Thursday</td>\n",
       "      <td>-217.61</td>\n",
       "    </tr>\n",
       "    <tr>\n",
       "      <th>8</th>\n",
       "      <td>34</td>\n",
       "      <td>10</td>\n",
       "      <td>-</td>\n",
       "      <td>9</td>\n",
       "      <td>1000</td>\n",
       "      <td>8000</td>\n",
       "      <td>3.80</td>\n",
       "      <td>2018-01-28</td>\n",
       "      <td>16:24</td>\n",
       "      <td>-</td>\n",
       "      <td>yes</td>\n",
       "      <td>-</td>\n",
       "      <td>Sunday</td>\n",
       "      <td>-213.81</td>\n",
       "    </tr>\n",
       "  </tbody>\n",
       "</table>\n",
       "</div>"
      ],
      "text/plain": [
       "   Booking_ID Debitor_ID Creditor_ID Product_ID  AccNr_Debit  AccNr_Credit  \\\n",
       "1           6          -          11          -         5100          1000   \n",
       "5          20          -          11          -         5100          1000   \n",
       "6          22          2           -          8         1000          8000   \n",
       "7          25         11           -          2         1000          8000   \n",
       "8          34         10           -          9         1000          8000   \n",
       "\n",
       "     Value       Date   Time PaymentTarget Paid Reminders DayOfTheWeek   cumul  \n",
       "1  -193.33 2018-01-05  13:14             -  yes         -       Friday  -10.93  \n",
       "5 -1500.00 2018-01-14  16:33             -  yes         -       Sunday -268.57  \n",
       "6    33.40 2018-01-16  22:46             -  yes         -      Tuesday -235.17  \n",
       "7    17.56 2018-01-18  03:32             -  yes         -     Thursday -217.61  \n",
       "8     3.80 2018-01-28  16:24             -  yes         -       Sunday -213.81  "
      ]
     },
     "execution_count": 177,
     "metadata": {},
     "output_type": "execute_result"
    }
   ],
   "source": [
    "\n",
    "df_cash_book[df_cash_book.cumul < 0]\n"
   ]
  },
  {
   "cell_type": "code",
   "execution_count": 180,
   "metadata": {},
   "outputs": [],
   "source": [
    "BankAccNr_duplicates1 = df_accounts_receivable_banks.loc[df_accounts_receivable_banks.BankAccNr.duplicated(), 'BankAccNr']\n",
    "BankAccNr_duplicates = df_accounts_receivable_banks.loc[df_accounts_receivable_banks.BankAccNr.duplicated(), 'BankAccNr']"
   ]
  },
  {
   "cell_type": "code",
   "execution_count": 181,
   "metadata": {},
   "outputs": [
    {
     "data": {
      "text/plain": [
       "30    9092573071\n",
       "Name: BankAccNr, dtype: int64"
      ]
     },
     "execution_count": 181,
     "metadata": {},
     "output_type": "execute_result"
    }
   ],
   "source": [
    "BankAccNr_duplicates"
   ]
  },
  {
   "cell_type": "code",
   "execution_count": 182,
   "metadata": {},
   "outputs": [
    {
     "data": {
      "text/plain": [
       "0      True\n",
       "1     False\n",
       "2     False\n",
       "3     False\n",
       "4     False\n",
       "5     False\n",
       "6     False\n",
       "7     False\n",
       "8     False\n",
       "9     False\n",
       "10    False\n",
       "11    False\n",
       "12    False\n",
       "13    False\n",
       "14    False\n",
       "15    False\n",
       "16    False\n",
       "17    False\n",
       "18    False\n",
       "19    False\n",
       "20    False\n",
       "21    False\n",
       "22    False\n",
       "23    False\n",
       "24    False\n",
       "25    False\n",
       "26    False\n",
       "27    False\n",
       "28    False\n",
       "29    False\n",
       "30     True\n",
       "Name: BankAccNr, dtype: bool"
      ]
     },
     "execution_count": 182,
     "metadata": {},
     "output_type": "execute_result"
    }
   ],
   "source": [
    "df_accounts_receivable_banks['BankAccNr'].isin(BankAccNr_duplicates)"
   ]
  },
  {
   "cell_type": "code",
   "execution_count": 183,
   "metadata": {},
   "outputs": [
    {
     "data": {
      "text/html": [
       "<div>\n",
       "<style scoped>\n",
       "    .dataframe tbody tr th:only-of-type {\n",
       "        vertical-align: middle;\n",
       "    }\n",
       "\n",
       "    .dataframe tbody tr th {\n",
       "        vertical-align: top;\n",
       "    }\n",
       "\n",
       "    .dataframe thead th {\n",
       "        text-align: right;\n",
       "    }\n",
       "</style>\n",
       "<table border=\"1\" class=\"dataframe\">\n",
       "  <thead>\n",
       "    <tr style=\"text-align: right;\">\n",
       "      <th></th>\n",
       "      <th>Bank_ID</th>\n",
       "      <th>Creditor_ID</th>\n",
       "      <th>Bankname</th>\n",
       "      <th>CountryKey</th>\n",
       "      <th>VerifCode</th>\n",
       "      <th>BankKey</th>\n",
       "      <th>SectorCode</th>\n",
       "      <th>BankAccNr</th>\n",
       "      <th>CheckDigit</th>\n",
       "      <th>Firm</th>\n",
       "      <th>Street</th>\n",
       "      <th>HouseNr.</th>\n",
       "      <th>City</th>\n",
       "      <th>Postcode</th>\n",
       "      <th>Country</th>\n",
       "    </tr>\n",
       "  </thead>\n",
       "  <tbody>\n",
       "    <tr>\n",
       "      <th>0</th>\n",
       "      <td>1</td>\n",
       "      <td>1</td>\n",
       "      <td>Sparkasse</td>\n",
       "      <td>DE</td>\n",
       "      <td>44</td>\n",
       "      <td>85708525</td>\n",
       "      <td>0</td>\n",
       "      <td>9092573071</td>\n",
       "      <td>-</td>\n",
       "      <td>Workflow GmbH</td>\n",
       "      <td>Berlinerstraße</td>\n",
       "      <td>12</td>\n",
       "      <td>Berlin</td>\n",
       "      <td>10115</td>\n",
       "      <td>Germany</td>\n",
       "    </tr>\n",
       "    <tr>\n",
       "      <th>30</th>\n",
       "      <td>31</td>\n",
       "      <td>21</td>\n",
       "      <td>Sparkasse</td>\n",
       "      <td>DE</td>\n",
       "      <td>44</td>\n",
       "      <td>85708525</td>\n",
       "      <td>0</td>\n",
       "      <td>9092573071</td>\n",
       "      <td>-</td>\n",
       "      <td>Work-flow_GmbH</td>\n",
       "      <td>Berlinerstraße</td>\n",
       "      <td>12</td>\n",
       "      <td>Berlin</td>\n",
       "      <td>10115</td>\n",
       "      <td>Germany</td>\n",
       "    </tr>\n",
       "  </tbody>\n",
       "</table>\n",
       "</div>"
      ],
      "text/plain": [
       "    Bank_ID  Creditor_ID   Bankname CountryKey  VerifCode   BankKey  \\\n",
       "0         1            1  Sparkasse         DE         44  85708525   \n",
       "30       31           21  Sparkasse         DE         44  85708525   \n",
       "\n",
       "    SectorCode   BankAccNr CheckDigit            Firm          Street  \\\n",
       "0            0  9092573071          -   Workflow GmbH  Berlinerstraße   \n",
       "30           0  9092573071          -  Work-flow_GmbH  Berlinerstraße   \n",
       "\n",
       "    HouseNr.    City  Postcode  Country  \n",
       "0         12  Berlin     10115  Germany  \n",
       "30        12  Berlin     10115  Germany  "
      ]
     },
     "execution_count": 183,
     "metadata": {},
     "output_type": "execute_result"
    }
   ],
   "source": [
    "df_accounts_receivable_banks[df_accounts_receivable_banks['BankAccNr'].isin(BankAccNr_duplicates)]"
   ]
  },
  {
   "cell_type": "code",
   "execution_count": 184,
   "metadata": {},
   "outputs": [
    {
     "data": {
      "text/html": [
       "<div>\n",
       "<style scoped>\n",
       "    .dataframe tbody tr th:only-of-type {\n",
       "        vertical-align: middle;\n",
       "    }\n",
       "\n",
       "    .dataframe tbody tr th {\n",
       "        vertical-align: top;\n",
       "    }\n",
       "\n",
       "    .dataframe thead th {\n",
       "        text-align: right;\n",
       "    }\n",
       "</style>\n",
       "<table border=\"1\" class=\"dataframe\">\n",
       "  <thead>\n",
       "    <tr style=\"text-align: right;\">\n",
       "      <th></th>\n",
       "      <th>Bank_ID</th>\n",
       "      <th>Creditor_ID</th>\n",
       "      <th>Bankname</th>\n",
       "      <th>CountryKey</th>\n",
       "      <th>VerifCode</th>\n",
       "      <th>BankKey</th>\n",
       "      <th>SectorCode</th>\n",
       "      <th>BankAccNr</th>\n",
       "      <th>CheckDigit</th>\n",
       "      <th>Firm</th>\n",
       "      <th>Street</th>\n",
       "      <th>HouseNr.</th>\n",
       "      <th>City</th>\n",
       "      <th>Postcode</th>\n",
       "      <th>Country</th>\n",
       "    </tr>\n",
       "  </thead>\n",
       "  <tbody>\n",
       "    <tr>\n",
       "      <th>30</th>\n",
       "      <td>31</td>\n",
       "      <td>21</td>\n",
       "      <td>Sparkasse</td>\n",
       "      <td>DE</td>\n",
       "      <td>44</td>\n",
       "      <td>85708525</td>\n",
       "      <td>0</td>\n",
       "      <td>9092573071</td>\n",
       "      <td>-</td>\n",
       "      <td>Work-flow_GmbH</td>\n",
       "      <td>Berlinerstraße</td>\n",
       "      <td>12</td>\n",
       "      <td>Berlin</td>\n",
       "      <td>10115</td>\n",
       "      <td>Germany</td>\n",
       "    </tr>\n",
       "  </tbody>\n",
       "</table>\n",
       "</div>"
      ],
      "text/plain": [
       "    Bank_ID  Creditor_ID   Bankname CountryKey  VerifCode   BankKey  \\\n",
       "30       31           21  Sparkasse         DE         44  85708525   \n",
       "\n",
       "    SectorCode   BankAccNr CheckDigit            Firm          Street  \\\n",
       "30           0  9092573071          -  Work-flow_GmbH  Berlinerstraße   \n",
       "\n",
       "    HouseNr.    City  Postcode  Country  \n",
       "30        12  Berlin     10115  Germany  "
      ]
     },
     "execution_count": 184,
     "metadata": {},
     "output_type": "execute_result"
    }
   ],
   "source": [
    "# Alternative\n",
    "df_accounts_receivable_banks[df_accounts_receivable_banks.BankAccNr.duplicated()]\n",
    "# Note: indicates only the dupplicate!\n"
   ]
  },
  {
   "cell_type": "code",
   "execution_count": 185,
   "id": "e72b7abd",
   "metadata": {},
   "outputs": [
    {
     "name": "stdout",
     "output_type": "stream",
     "text": [
      "Help on function isin in module pandas.core.series:\n",
      "\n",
      "isin(self, values) -> 'Series'\n",
      "    Whether elements in Series are contained in `values`.\n",
      "    \n",
      "    Return a boolean Series showing whether each element in the Series\n",
      "    matches an element in the passed sequence of `values` exactly.\n",
      "    \n",
      "    Parameters\n",
      "    ----------\n",
      "    values : set or list-like\n",
      "        The sequence of values to test. Passing in a single string will\n",
      "        raise a ``TypeError``. Instead, turn a single string into a\n",
      "        list of one element.\n",
      "    \n",
      "    Returns\n",
      "    -------\n",
      "    Series\n",
      "        Series of booleans indicating if each element is in values.\n",
      "    \n",
      "    Raises\n",
      "    ------\n",
      "    TypeError\n",
      "      * If `values` is a string\n",
      "    \n",
      "    See Also\n",
      "    --------\n",
      "    DataFrame.isin : Equivalent method on DataFrame.\n",
      "    \n",
      "    Examples\n",
      "    --------\n",
      "    >>> s = pd.Series(['lama', 'cow', 'lama', 'beetle', 'lama',\n",
      "    ...                'hippo'], name='animal')\n",
      "    >>> s.isin(['cow', 'lama'])\n",
      "    0     True\n",
      "    1     True\n",
      "    2     True\n",
      "    3    False\n",
      "    4     True\n",
      "    5    False\n",
      "    Name: animal, dtype: bool\n",
      "    \n",
      "    Passing a single string as ``s.isin('lama')`` will raise an error. Use\n",
      "    a list of one element instead:\n",
      "    \n",
      "    >>> s.isin(['lama'])\n",
      "    0     True\n",
      "    1    False\n",
      "    2     True\n",
      "    3    False\n",
      "    4     True\n",
      "    5    False\n",
      "    Name: animal, dtype: bool\n",
      "    \n",
      "    Strings and integers are distinct and are therefore not comparable:\n",
      "    \n",
      "    >>> pd.Series([1]).isin(['1'])\n",
      "    0    False\n",
      "    dtype: bool\n",
      "    >>> pd.Series([1.1]).isin(['1.1'])\n",
      "    0    False\n",
      "    dtype: bool\n",
      "\n"
     ]
    }
   ],
   "source": [
    "\n",
    "help(pd.Series.isin)"
   ]
  },
  {
   "cell_type": "code",
   "execution_count": 240,
   "metadata": {},
   "outputs": [
    {
     "data": {
      "text/plain": [
       "0        33\n",
       "1       122\n",
       "2        22\n",
       "3       182\n",
       "4       243\n",
       "       ... \n",
       "102      22\n",
       "103      17\n",
       "104      49\n",
       "105    1123\n",
       "106      49\n",
       "Name: Value, Length: 107, dtype: int64"
      ]
     },
     "execution_count": 240,
     "metadata": {},
     "output_type": "execute_result"
    }
   ],
   "source": [
    "\n",
    "# Conversion float to integer\n",
    "df_transactions.Value\n",
    "INT = df_transactions.Value.astype(int)\n",
    "INT"
   ]
  },
  {
   "cell_type": "code",
   "execution_count": 192,
   "id": "5b59f92d",
   "metadata": {},
   "outputs": [
    {
     "data": {
      "text/html": [
       "<div>\n",
       "<style scoped>\n",
       "    .dataframe tbody tr th:only-of-type {\n",
       "        vertical-align: middle;\n",
       "    }\n",
       "\n",
       "    .dataframe tbody tr th {\n",
       "        vertical-align: top;\n",
       "    }\n",
       "\n",
       "    .dataframe thead th {\n",
       "        text-align: right;\n",
       "    }\n",
       "</style>\n",
       "<table border=\"1\" class=\"dataframe\">\n",
       "  <thead>\n",
       "    <tr style=\"text-align: right;\">\n",
       "      <th></th>\n",
       "      <th>0</th>\n",
       "    </tr>\n",
       "  </thead>\n",
       "  <tbody>\n",
       "    <tr>\n",
       "      <th>0</th>\n",
       "      <td>3</td>\n",
       "    </tr>\n",
       "    <tr>\n",
       "      <th>1</th>\n",
       "      <td>2</td>\n",
       "    </tr>\n",
       "    <tr>\n",
       "      <th>2</th>\n",
       "      <td>2</td>\n",
       "    </tr>\n",
       "    <tr>\n",
       "      <th>3</th>\n",
       "      <td>2</td>\n",
       "    </tr>\n",
       "    <tr>\n",
       "      <th>4</th>\n",
       "      <td>3</td>\n",
       "    </tr>\n",
       "  </tbody>\n",
       "</table>\n",
       "</div>"
      ],
      "text/plain": [
       "   0\n",
       "0  3\n",
       "1  2\n",
       "2  2\n",
       "3  2\n",
       "4  3"
      ]
     },
     "execution_count": 192,
     "metadata": {},
     "output_type": "execute_result"
    }
   ],
   "source": [
    "\n",
    "# filter precomma digit\n",
    "\n",
    "DigitBeforeComma = pd.DataFrame(map(int, [str(x)[-1] for x in INT]))\n",
    "DigitBeforeComma.head()\n"
   ]
  },
  {
   "cell_type": "code",
   "execution_count": 195,
   "metadata": {},
   "outputs": [],
   "source": [
    "\n",
    "# Count absolute frequencies\n",
    "\n",
    "H_DigitBeforeComma = DigitBeforeComma.value_counts()\n"
   ]
  },
  {
   "cell_type": "code",
   "execution_count": 196,
   "metadata": {},
   "outputs": [
    {
     "data": {
      "text/plain": [
       "3    31\n",
       "2    23\n",
       "6    12\n",
       "7    11\n",
       "9    11\n",
       "5     6\n",
       "1     5\n",
       "4     3\n",
       "8     3\n",
       "0     2\n",
       "dtype: int64"
      ]
     },
     "execution_count": 196,
     "metadata": {},
     "output_type": "execute_result"
    }
   ],
   "source": [
    "\n",
    "H_DigitBeforeComma\n"
   ]
  },
  {
   "cell_type": "code",
   "execution_count": 197,
   "metadata": {},
   "outputs": [
    {
     "data": {
      "text/plain": [
       "Power_divergenceResult(statistic=76.08411214953271, pvalue=9.650328851395323e-13)"
      ]
     },
     "execution_count": 197,
     "metadata": {},
     "output_type": "execute_result"
    }
   ],
   "source": [
    "\n",
    "# Carry out Chi-square-test\n",
    "chisquare(H_DigitBeforeComma)\n"
   ]
  },
  {
   "cell_type": "code",
   "execution_count": 253,
   "id": "dacb61bb",
   "metadata": {},
   "outputs": [
    {
     "data": {
      "text/plain": [
       "0        33.40\n",
       "1       122.00\n",
       "2        22.44\n",
       "3       182.40\n",
       "4       243.20\n",
       "        ...   \n",
       "102      22.44\n",
       "103      17.56\n",
       "104      49.99\n",
       "105    1123.00\n",
       "106      49.99\n",
       "Name: Value, Length: 107, dtype: float64"
      ]
     },
     "execution_count": 253,
     "metadata": {},
     "output_type": "execute_result"
    }
   ],
   "source": [
    "df_transactions.Value\n"
   ]
  },
  {
   "cell_type": "code",
   "execution_count": 10,
   "id": "d1584185",
   "metadata": {},
   "outputs": [
    {
     "data": {
      "text/html": [
       "<div>\n",
       "<style scoped>\n",
       "    .dataframe tbody tr th:only-of-type {\n",
       "        vertical-align: middle;\n",
       "    }\n",
       "\n",
       "    .dataframe tbody tr th {\n",
       "        vertical-align: top;\n",
       "    }\n",
       "\n",
       "    .dataframe thead th {\n",
       "        text-align: right;\n",
       "    }\n",
       "</style>\n",
       "<table border=\"1\" class=\"dataframe\">\n",
       "  <thead>\n",
       "    <tr style=\"text-align: right;\">\n",
       "      <th></th>\n",
       "      <th>0</th>\n",
       "    </tr>\n",
       "  </thead>\n",
       "  <tbody>\n",
       "    <tr>\n",
       "      <th>0</th>\n",
       "      <td>4</td>\n",
       "    </tr>\n",
       "    <tr>\n",
       "      <th>1</th>\n",
       "      <td>0</td>\n",
       "    </tr>\n",
       "    <tr>\n",
       "      <th>2</th>\n",
       "      <td>4</td>\n",
       "    </tr>\n",
       "    <tr>\n",
       "      <th>3</th>\n",
       "      <td>4</td>\n",
       "    </tr>\n",
       "    <tr>\n",
       "      <th>4</th>\n",
       "      <td>2</td>\n",
       "    </tr>\n",
       "  </tbody>\n",
       "</table>\n",
       "</div>"
      ],
      "text/plain": [
       "   0\n",
       "0  4\n",
       "1  0\n",
       "2  4\n",
       "3  4\n",
       "4  2"
      ]
     },
     "execution_count": 10,
     "metadata": {},
     "output_type": "execute_result"
    }
   ],
   "source": [
    "# filter first digit after decimal point\n",
    "AfterDecimal = df_transactions['Value']*10\n",
    "AfterDecimal = AfterDecimal.astype(int)\n",
    "firstAfterDecimal = pd.DataFrame(map(int, [str(x)[-1] for x in AfterDecimal]))\n",
    "firstAfterDecimal.head()\n"
   ]
  },
  {
   "cell_type": "code",
   "execution_count": 11,
   "id": "e4540f1c",
   "metadata": {},
   "outputs": [],
   "source": [
    "freq_FirstDig = firstAfterDecimal.value_counts()\n"
   ]
  },
  {
   "cell_type": "markdown",
   "id": "318f9461",
   "metadata": {},
   "source": [
    "<!--\n",
    " Copyright 2022 XinGuan\n",
    " \n",
    " Licensed under the Apache License, Version 2.0 (the \"License\");\n",
    " you may not use this file except in compliance with the License.\n",
    " You may obtain a copy of the License at\n",
    " \n",
    "     http://www.apache.org/licenses/LICENSE-2.0\n",
    " \n",
    " Unless required by applicable law or agreed to in writing, software\n",
    " distributed under the License is distributed on an \"AS IS\" BASIS,\n",
    " WITHOUT WARRANTIES OR CONDITIONS OF ANY KIND, either express or implied.\n",
    " See the License for the specific language governing permissions and\n",
    " limitations under the License.\n",
    "-->\n",
    "\n"
   ]
  },
  {
   "cell_type": "code",
   "execution_count": 12,
   "id": "df629f5f",
   "metadata": {},
   "outputs": [
    {
     "data": {
      "text/plain": [
       "Power_divergenceResult(statistic=119.44859813084113, pvalue=1.732664729994546e-21)"
      ]
     },
     "execution_count": 12,
     "metadata": {},
     "output_type": "execute_result"
    }
   ],
   "source": [
    "chisquare(freq_FirstDig)\n"
   ]
  },
  {
   "cell_type": "markdown",
   "id": "d63f845d",
   "metadata": {},
   "source": [
    "Check leading digit for Benford distribution"
   ]
  },
  {
   "cell_type": "code",
   "execution_count": 198,
   "id": "dd5adf95",
   "metadata": {},
   "outputs": [],
   "source": [
    "import matplotlib.pyplot as plt\n",
    "import math \n",
    "import numpy as np\n",
    "numbers = np.arange(1,10)\n",
    "Probs = []\n",
    "for x in numbers: Probs.append(math.log10(1 + 1/x))"
   ]
  },
  {
   "cell_type": "code",
   "execution_count": 199,
   "metadata": {},
   "outputs": [
    {
     "data": {
      "text/plain": [
       "array([0, 1, 2, 3, 4, 5, 6, 7, 8])"
      ]
     },
     "execution_count": 199,
     "metadata": {},
     "output_type": "execute_result"
    }
   ],
   "source": [
    "np.arange(len(numbers))\n"
   ]
  },
  {
   "cell_type": "code",
   "execution_count": 200,
   "id": "375cbfeb",
   "metadata": {},
   "outputs": [
    {
     "data": {
      "text/plain": [
       "[0.3010299956639812,\n",
       " 0.17609125905568124,\n",
       " 0.12493873660829993,\n",
       " 0.09691001300805642,\n",
       " 0.07918124604762482,\n",
       " 0.06694678963061322,\n",
       " 0.05799194697768673,\n",
       " 0.05115252244738129,\n",
       " 0.04575749056067514]"
      ]
     },
     "execution_count": 200,
     "metadata": {},
     "output_type": "execute_result"
    }
   ],
   "source": [
    "Probs"
   ]
  },
  {
   "cell_type": "code",
   "execution_count": 206,
   "id": "a52fc91e",
   "metadata": {},
   "outputs": [
    {
     "data": {
      "text/plain": [
       "Power_divergenceResult(statistic=14.45619805497751, pvalue=0.07062274443468691)"
      ]
     },
     "execution_count": 206,
     "metadata": {},
     "output_type": "execute_result"
    }
   ],
   "source": [
    "    \n",
    "chisquare(f_obs = H_FirstDigit[0], f_exp = Probs)\n"
   ]
  },
  {
   "cell_type": "markdown",
   "id": "2452ed72",
   "metadata": {},
   "source": [
    "Consider booking values in 'df_transactions.Value'. Test the null hypothesis \"H0: The distribution of the first digit of transaction values greater than 100 follows a Benford distribution\" with a Chi square test. Specify the values provided by the corresponding Python output"
   ]
  },
  {
   "cell_type": "code",
   "execution_count": 229,
   "id": "073fb407",
   "metadata": {},
   "outputs": [
    {
     "data": {
      "text/plain": [
       "1        122.00\n",
       "3        182.40\n",
       "4        243.20\n",
       "5        193.33\n",
       "6        364.80\n",
       "         ...   \n",
       "93     11223.00\n",
       "94      1368.00\n",
       "98       126.99\n",
       "100      122.00\n",
       "105     1123.00\n",
       "Name: Value, Length: 62, dtype: float64"
      ]
     },
     "execution_count": 229,
     "metadata": {},
     "output_type": "execute_result"
    }
   ],
   "source": [
    "# Knowledge test case 1 D\n",
    "INT_greater100 = df_transactions.Value[df_transactions['Value']>100.00] \n",
    "#INT_greater100 = INT_greater100.astype(int)\n",
    "INT_greater100\n"
   ]
  },
  {
   "cell_type": "code",
   "execution_count": 201,
   "id": "6320df7a",
   "metadata": {
    "tags": [
     "remove-output"
    ]
   },
   "outputs": [
    {
     "data": {
      "application/vnd.plotly.v1+json": {
       "config": {
        "plotlyServerURL": "https://plot.ly"
       },
       "data": [
        {
         "alignmentgroup": "True",
         "bingroup": "x",
         "histfunc": "sum",
         "histnorm": "probability density",
         "hovertemplate": "x=%{x}<br>probability density weighted by y=%{y}<extra></extra>",
         "legendgroup": "",
         "marker": {
          "color": "#636efa",
          "pattern": {
           "shape": ""
          }
         },
         "name": "",
         "nbinsx": 9,
         "offsetgroup": "",
         "orientation": "v",
         "showlegend": false,
         "type": "histogram",
         "x": [
          1,
          2,
          3,
          4,
          5,
          6,
          7,
          8,
          9
         ],
         "xaxis": "x",
         "y": [
          0.3010299956639812,
          0.17609125905568124,
          0.12493873660829993,
          0.09691001300805642,
          0.07918124604762482,
          0.06694678963061322,
          0.05799194697768673,
          0.05115252244738129,
          0.04575749056067514
         ],
         "yaxis": "y"
        }
       ],
       "layout": {
        "bargap": 0.1,
        "barmode": "relative",
        "legend": {
         "tracegroupgap": 0
        },
        "margin": {
         "t": 60
        },
        "template": {
         "data": {
          "bar": [
           {
            "error_x": {
             "color": "#2a3f5f"
            },
            "error_y": {
             "color": "#2a3f5f"
            },
            "marker": {
             "line": {
              "color": "#E5ECF6",
              "width": 0.5
             },
             "pattern": {
              "fillmode": "overlay",
              "size": 10,
              "solidity": 0.2
             }
            },
            "type": "bar"
           }
          ],
          "barpolar": [
           {
            "marker": {
             "line": {
              "color": "#E5ECF6",
              "width": 0.5
             },
             "pattern": {
              "fillmode": "overlay",
              "size": 10,
              "solidity": 0.2
             }
            },
            "type": "barpolar"
           }
          ],
          "carpet": [
           {
            "aaxis": {
             "endlinecolor": "#2a3f5f",
             "gridcolor": "white",
             "linecolor": "white",
             "minorgridcolor": "white",
             "startlinecolor": "#2a3f5f"
            },
            "baxis": {
             "endlinecolor": "#2a3f5f",
             "gridcolor": "white",
             "linecolor": "white",
             "minorgridcolor": "white",
             "startlinecolor": "#2a3f5f"
            },
            "type": "carpet"
           }
          ],
          "choropleth": [
           {
            "colorbar": {
             "outlinewidth": 0,
             "ticks": ""
            },
            "type": "choropleth"
           }
          ],
          "contour": [
           {
            "colorbar": {
             "outlinewidth": 0,
             "ticks": ""
            },
            "colorscale": [
             [
              0,
              "#0d0887"
             ],
             [
              0.1111111111111111,
              "#46039f"
             ],
             [
              0.2222222222222222,
              "#7201a8"
             ],
             [
              0.3333333333333333,
              "#9c179e"
             ],
             [
              0.4444444444444444,
              "#bd3786"
             ],
             [
              0.5555555555555556,
              "#d8576b"
             ],
             [
              0.6666666666666666,
              "#ed7953"
             ],
             [
              0.7777777777777778,
              "#fb9f3a"
             ],
             [
              0.8888888888888888,
              "#fdca26"
             ],
             [
              1,
              "#f0f921"
             ]
            ],
            "type": "contour"
           }
          ],
          "contourcarpet": [
           {
            "colorbar": {
             "outlinewidth": 0,
             "ticks": ""
            },
            "type": "contourcarpet"
           }
          ],
          "heatmap": [
           {
            "colorbar": {
             "outlinewidth": 0,
             "ticks": ""
            },
            "colorscale": [
             [
              0,
              "#0d0887"
             ],
             [
              0.1111111111111111,
              "#46039f"
             ],
             [
              0.2222222222222222,
              "#7201a8"
             ],
             [
              0.3333333333333333,
              "#9c179e"
             ],
             [
              0.4444444444444444,
              "#bd3786"
             ],
             [
              0.5555555555555556,
              "#d8576b"
             ],
             [
              0.6666666666666666,
              "#ed7953"
             ],
             [
              0.7777777777777778,
              "#fb9f3a"
             ],
             [
              0.8888888888888888,
              "#fdca26"
             ],
             [
              1,
              "#f0f921"
             ]
            ],
            "type": "heatmap"
           }
          ],
          "heatmapgl": [
           {
            "colorbar": {
             "outlinewidth": 0,
             "ticks": ""
            },
            "colorscale": [
             [
              0,
              "#0d0887"
             ],
             [
              0.1111111111111111,
              "#46039f"
             ],
             [
              0.2222222222222222,
              "#7201a8"
             ],
             [
              0.3333333333333333,
              "#9c179e"
             ],
             [
              0.4444444444444444,
              "#bd3786"
             ],
             [
              0.5555555555555556,
              "#d8576b"
             ],
             [
              0.6666666666666666,
              "#ed7953"
             ],
             [
              0.7777777777777778,
              "#fb9f3a"
             ],
             [
              0.8888888888888888,
              "#fdca26"
             ],
             [
              1,
              "#f0f921"
             ]
            ],
            "type": "heatmapgl"
           }
          ],
          "histogram": [
           {
            "marker": {
             "pattern": {
              "fillmode": "overlay",
              "size": 10,
              "solidity": 0.2
             }
            },
            "type": "histogram"
           }
          ],
          "histogram2d": [
           {
            "colorbar": {
             "outlinewidth": 0,
             "ticks": ""
            },
            "colorscale": [
             [
              0,
              "#0d0887"
             ],
             [
              0.1111111111111111,
              "#46039f"
             ],
             [
              0.2222222222222222,
              "#7201a8"
             ],
             [
              0.3333333333333333,
              "#9c179e"
             ],
             [
              0.4444444444444444,
              "#bd3786"
             ],
             [
              0.5555555555555556,
              "#d8576b"
             ],
             [
              0.6666666666666666,
              "#ed7953"
             ],
             [
              0.7777777777777778,
              "#fb9f3a"
             ],
             [
              0.8888888888888888,
              "#fdca26"
             ],
             [
              1,
              "#f0f921"
             ]
            ],
            "type": "histogram2d"
           }
          ],
          "histogram2dcontour": [
           {
            "colorbar": {
             "outlinewidth": 0,
             "ticks": ""
            },
            "colorscale": [
             [
              0,
              "#0d0887"
             ],
             [
              0.1111111111111111,
              "#46039f"
             ],
             [
              0.2222222222222222,
              "#7201a8"
             ],
             [
              0.3333333333333333,
              "#9c179e"
             ],
             [
              0.4444444444444444,
              "#bd3786"
             ],
             [
              0.5555555555555556,
              "#d8576b"
             ],
             [
              0.6666666666666666,
              "#ed7953"
             ],
             [
              0.7777777777777778,
              "#fb9f3a"
             ],
             [
              0.8888888888888888,
              "#fdca26"
             ],
             [
              1,
              "#f0f921"
             ]
            ],
            "type": "histogram2dcontour"
           }
          ],
          "mesh3d": [
           {
            "colorbar": {
             "outlinewidth": 0,
             "ticks": ""
            },
            "type": "mesh3d"
           }
          ],
          "parcoords": [
           {
            "line": {
             "colorbar": {
              "outlinewidth": 0,
              "ticks": ""
             }
            },
            "type": "parcoords"
           }
          ],
          "pie": [
           {
            "automargin": true,
            "type": "pie"
           }
          ],
          "scatter": [
           {
            "fillpattern": {
             "fillmode": "overlay",
             "size": 10,
             "solidity": 0.2
            },
            "type": "scatter"
           }
          ],
          "scatter3d": [
           {
            "line": {
             "colorbar": {
              "outlinewidth": 0,
              "ticks": ""
             }
            },
            "marker": {
             "colorbar": {
              "outlinewidth": 0,
              "ticks": ""
             }
            },
            "type": "scatter3d"
           }
          ],
          "scattercarpet": [
           {
            "marker": {
             "colorbar": {
              "outlinewidth": 0,
              "ticks": ""
             }
            },
            "type": "scattercarpet"
           }
          ],
          "scattergeo": [
           {
            "marker": {
             "colorbar": {
              "outlinewidth": 0,
              "ticks": ""
             }
            },
            "type": "scattergeo"
           }
          ],
          "scattergl": [
           {
            "marker": {
             "colorbar": {
              "outlinewidth": 0,
              "ticks": ""
             }
            },
            "type": "scattergl"
           }
          ],
          "scattermapbox": [
           {
            "marker": {
             "colorbar": {
              "outlinewidth": 0,
              "ticks": ""
             }
            },
            "type": "scattermapbox"
           }
          ],
          "scatterpolar": [
           {
            "marker": {
             "colorbar": {
              "outlinewidth": 0,
              "ticks": ""
             }
            },
            "type": "scatterpolar"
           }
          ],
          "scatterpolargl": [
           {
            "marker": {
             "colorbar": {
              "outlinewidth": 0,
              "ticks": ""
             }
            },
            "type": "scatterpolargl"
           }
          ],
          "scatterternary": [
           {
            "marker": {
             "colorbar": {
              "outlinewidth": 0,
              "ticks": ""
             }
            },
            "type": "scatterternary"
           }
          ],
          "surface": [
           {
            "colorbar": {
             "outlinewidth": 0,
             "ticks": ""
            },
            "colorscale": [
             [
              0,
              "#0d0887"
             ],
             [
              0.1111111111111111,
              "#46039f"
             ],
             [
              0.2222222222222222,
              "#7201a8"
             ],
             [
              0.3333333333333333,
              "#9c179e"
             ],
             [
              0.4444444444444444,
              "#bd3786"
             ],
             [
              0.5555555555555556,
              "#d8576b"
             ],
             [
              0.6666666666666666,
              "#ed7953"
             ],
             [
              0.7777777777777778,
              "#fb9f3a"
             ],
             [
              0.8888888888888888,
              "#fdca26"
             ],
             [
              1,
              "#f0f921"
             ]
            ],
            "type": "surface"
           }
          ],
          "table": [
           {
            "cells": {
             "fill": {
              "color": "#EBF0F8"
             },
             "line": {
              "color": "white"
             }
            },
            "header": {
             "fill": {
              "color": "#C8D4E3"
             },
             "line": {
              "color": "white"
             }
            },
            "type": "table"
           }
          ]
         },
         "layout": {
          "annotationdefaults": {
           "arrowcolor": "#2a3f5f",
           "arrowhead": 0,
           "arrowwidth": 1
          },
          "autotypenumbers": "strict",
          "coloraxis": {
           "colorbar": {
            "outlinewidth": 0,
            "ticks": ""
           }
          },
          "colorscale": {
           "diverging": [
            [
             0,
             "#8e0152"
            ],
            [
             0.1,
             "#c51b7d"
            ],
            [
             0.2,
             "#de77ae"
            ],
            [
             0.3,
             "#f1b6da"
            ],
            [
             0.4,
             "#fde0ef"
            ],
            [
             0.5,
             "#f7f7f7"
            ],
            [
             0.6,
             "#e6f5d0"
            ],
            [
             0.7,
             "#b8e186"
            ],
            [
             0.8,
             "#7fbc41"
            ],
            [
             0.9,
             "#4d9221"
            ],
            [
             1,
             "#276419"
            ]
           ],
           "sequential": [
            [
             0,
             "#0d0887"
            ],
            [
             0.1111111111111111,
             "#46039f"
            ],
            [
             0.2222222222222222,
             "#7201a8"
            ],
            [
             0.3333333333333333,
             "#9c179e"
            ],
            [
             0.4444444444444444,
             "#bd3786"
            ],
            [
             0.5555555555555556,
             "#d8576b"
            ],
            [
             0.6666666666666666,
             "#ed7953"
            ],
            [
             0.7777777777777778,
             "#fb9f3a"
            ],
            [
             0.8888888888888888,
             "#fdca26"
            ],
            [
             1,
             "#f0f921"
            ]
           ],
           "sequentialminus": [
            [
             0,
             "#0d0887"
            ],
            [
             0.1111111111111111,
             "#46039f"
            ],
            [
             0.2222222222222222,
             "#7201a8"
            ],
            [
             0.3333333333333333,
             "#9c179e"
            ],
            [
             0.4444444444444444,
             "#bd3786"
            ],
            [
             0.5555555555555556,
             "#d8576b"
            ],
            [
             0.6666666666666666,
             "#ed7953"
            ],
            [
             0.7777777777777778,
             "#fb9f3a"
            ],
            [
             0.8888888888888888,
             "#fdca26"
            ],
            [
             1,
             "#f0f921"
            ]
           ]
          },
          "colorway": [
           "#636efa",
           "#EF553B",
           "#00cc96",
           "#ab63fa",
           "#FFA15A",
           "#19d3f3",
           "#FF6692",
           "#B6E880",
           "#FF97FF",
           "#FECB52"
          ],
          "font": {
           "color": "#2a3f5f"
          },
          "geo": {
           "bgcolor": "white",
           "lakecolor": "white",
           "landcolor": "#E5ECF6",
           "showlakes": true,
           "showland": true,
           "subunitcolor": "white"
          },
          "hoverlabel": {
           "align": "left"
          },
          "hovermode": "closest",
          "mapbox": {
           "style": "light"
          },
          "paper_bgcolor": "white",
          "plot_bgcolor": "#E5ECF6",
          "polar": {
           "angularaxis": {
            "gridcolor": "white",
            "linecolor": "white",
            "ticks": ""
           },
           "bgcolor": "#E5ECF6",
           "radialaxis": {
            "gridcolor": "white",
            "linecolor": "white",
            "ticks": ""
           }
          },
          "scene": {
           "xaxis": {
            "backgroundcolor": "#E5ECF6",
            "gridcolor": "white",
            "gridwidth": 2,
            "linecolor": "white",
            "showbackground": true,
            "ticks": "",
            "zerolinecolor": "white"
           },
           "yaxis": {
            "backgroundcolor": "#E5ECF6",
            "gridcolor": "white",
            "gridwidth": 2,
            "linecolor": "white",
            "showbackground": true,
            "ticks": "",
            "zerolinecolor": "white"
           },
           "zaxis": {
            "backgroundcolor": "#E5ECF6",
            "gridcolor": "white",
            "gridwidth": 2,
            "linecolor": "white",
            "showbackground": true,
            "ticks": "",
            "zerolinecolor": "white"
           }
          },
          "shapedefaults": {
           "line": {
            "color": "#2a3f5f"
           }
          },
          "ternary": {
           "aaxis": {
            "gridcolor": "white",
            "linecolor": "white",
            "ticks": ""
           },
           "baxis": {
            "gridcolor": "white",
            "linecolor": "white",
            "ticks": ""
           },
           "bgcolor": "#E5ECF6",
           "caxis": {
            "gridcolor": "white",
            "linecolor": "white",
            "ticks": ""
           }
          },
          "title": {
           "x": 0.05
          },
          "xaxis": {
           "automargin": true,
           "gridcolor": "white",
           "linecolor": "white",
           "ticks": "",
           "title": {
            "standoff": 15
           },
           "zerolinecolor": "white",
           "zerolinewidth": 2
          },
          "yaxis": {
           "automargin": true,
           "gridcolor": "white",
           "linecolor": "white",
           "ticks": "",
           "title": {
            "standoff": 15
           },
           "zerolinecolor": "white",
           "zerolinewidth": 2
          }
         }
        },
        "xaxis": {
         "anchor": "y",
         "domain": [
          0,
          1
         ],
         "title": {
          "text": "x"
         }
        },
        "yaxis": {
         "anchor": "x",
         "domain": [
          0,
          1
         ],
         "title": {
          "text": "probability density weighted by y"
         }
        }
       }
      }
     },
     "metadata": {},
     "output_type": "display_data"
    }
   ],
   "source": [
    "import plotly.io as pio\n",
    "import plotly.express as px\n",
    "fig = px.histogram(x = numbers, y = Probs, nbins = 9, histnorm ='probability density',\n",
    "                  category_orders=dict(day=[\"1\", \"2\", \"3\", \"4\", \"5\", \"6\", \"7\", \"8\", \"9\"]))\n",
    "fig.update_layout(bargap=0.1)\n",
    "fig"
   ]
  },
  {
   "cell_type": "code",
   "execution_count": 202,
   "id": "71e79e54",
   "metadata": {},
   "outputs": [
    {
     "data": {
      "text/html": [
       "<div>\n",
       "<style scoped>\n",
       "    .dataframe tbody tr th:only-of-type {\n",
       "        vertical-align: middle;\n",
       "    }\n",
       "\n",
       "    .dataframe tbody tr th {\n",
       "        vertical-align: top;\n",
       "    }\n",
       "\n",
       "    .dataframe thead th {\n",
       "        text-align: right;\n",
       "    }\n",
       "</style>\n",
       "<table border=\"1\" class=\"dataframe\">\n",
       "  <thead>\n",
       "    <tr style=\"text-align: right;\">\n",
       "      <th></th>\n",
       "      <th>0</th>\n",
       "    </tr>\n",
       "  </thead>\n",
       "  <tbody>\n",
       "    <tr>\n",
       "      <th>0</th>\n",
       "      <td>3</td>\n",
       "    </tr>\n",
       "    <tr>\n",
       "      <th>1</th>\n",
       "      <td>1</td>\n",
       "    </tr>\n",
       "    <tr>\n",
       "      <th>2</th>\n",
       "      <td>2</td>\n",
       "    </tr>\n",
       "    <tr>\n",
       "      <th>3</th>\n",
       "      <td>1</td>\n",
       "    </tr>\n",
       "    <tr>\n",
       "      <th>4</th>\n",
       "      <td>2</td>\n",
       "    </tr>\n",
       "    <tr>\n",
       "      <th>...</th>\n",
       "      <td>...</td>\n",
       "    </tr>\n",
       "    <tr>\n",
       "      <th>102</th>\n",
       "      <td>2</td>\n",
       "    </tr>\n",
       "    <tr>\n",
       "      <th>103</th>\n",
       "      <td>1</td>\n",
       "    </tr>\n",
       "    <tr>\n",
       "      <th>104</th>\n",
       "      <td>4</td>\n",
       "    </tr>\n",
       "    <tr>\n",
       "      <th>105</th>\n",
       "      <td>1</td>\n",
       "    </tr>\n",
       "    <tr>\n",
       "      <th>106</th>\n",
       "      <td>4</td>\n",
       "    </tr>\n",
       "  </tbody>\n",
       "</table>\n",
       "<p>107 rows × 1 columns</p>\n",
       "</div>"
      ],
      "text/plain": [
       "     0\n",
       "0    3\n",
       "1    1\n",
       "2    2\n",
       "3    1\n",
       "4    2\n",
       "..  ..\n",
       "102  2\n",
       "103  1\n",
       "104  4\n",
       "105  1\n",
       "106  4\n",
       "\n",
       "[107 rows x 1 columns]"
      ]
     },
     "execution_count": 202,
     "metadata": {},
     "output_type": "execute_result"
    }
   ],
   "source": [
    "FirstDigit = pd.DataFrame(map(int, [str(x)[0] for x in INT]))\n",
    "FirstDigit\n"
   ]
  },
  {
   "cell_type": "code",
   "execution_count": 216,
   "id": "19b4586f",
   "metadata": {},
   "outputs": [],
   "source": [
    "H_FirstDigit = pd.DataFrame(FirstDigit.value_counts().sort_index())\n"
   ]
  },
  {
   "cell_type": "code",
   "execution_count": 217,
   "id": "239717f9",
   "metadata": {},
   "outputs": [],
   "source": [
    "\n",
    "H_FirstDigit.loc[9,0] = 0"
   ]
  },
  {
   "cell_type": "code",
   "execution_count": 228,
   "id": "513b48b8",
   "metadata": {},
   "outputs": [
    {
     "data": {
      "text/html": [
       "<div>\n",
       "<style scoped>\n",
       "    .dataframe tbody tr th:only-of-type {\n",
       "        vertical-align: middle;\n",
       "    }\n",
       "\n",
       "    .dataframe tbody tr th {\n",
       "        vertical-align: top;\n",
       "    }\n",
       "\n",
       "    .dataframe thead th {\n",
       "        text-align: right;\n",
       "    }\n",
       "</style>\n",
       "<table border=\"1\" class=\"dataframe\">\n",
       "  <thead>\n",
       "    <tr style=\"text-align: right;\">\n",
       "      <th></th>\n",
       "      <th>0</th>\n",
       "    </tr>\n",
       "  </thead>\n",
       "  <tbody>\n",
       "    <tr>\n",
       "      <th>0</th>\n",
       "      <td>1</td>\n",
       "    </tr>\n",
       "    <tr>\n",
       "      <th>1</th>\n",
       "      <td>1</td>\n",
       "    </tr>\n",
       "    <tr>\n",
       "      <th>2</th>\n",
       "      <td>2</td>\n",
       "    </tr>\n",
       "    <tr>\n",
       "      <th>3</th>\n",
       "      <td>1</td>\n",
       "    </tr>\n",
       "    <tr>\n",
       "      <th>4</th>\n",
       "      <td>3</td>\n",
       "    </tr>\n",
       "    <tr>\n",
       "      <th>...</th>\n",
       "      <td>...</td>\n",
       "    </tr>\n",
       "    <tr>\n",
       "      <th>57</th>\n",
       "      <td>1</td>\n",
       "    </tr>\n",
       "    <tr>\n",
       "      <th>58</th>\n",
       "      <td>1</td>\n",
       "    </tr>\n",
       "    <tr>\n",
       "      <th>59</th>\n",
       "      <td>1</td>\n",
       "    </tr>\n",
       "    <tr>\n",
       "      <th>60</th>\n",
       "      <td>1</td>\n",
       "    </tr>\n",
       "    <tr>\n",
       "      <th>61</th>\n",
       "      <td>1</td>\n",
       "    </tr>\n",
       "  </tbody>\n",
       "</table>\n",
       "<p>62 rows × 1 columns</p>\n",
       "</div>"
      ],
      "text/plain": [
       "    0\n",
       "0   1\n",
       "1   1\n",
       "2   2\n",
       "3   1\n",
       "4   3\n",
       ".. ..\n",
       "57  1\n",
       "58  1\n",
       "59  1\n",
       "60  1\n",
       "61  1\n",
       "\n",
       "[62 rows x 1 columns]"
      ]
     },
     "execution_count": 228,
     "metadata": {},
     "output_type": "execute_result"
    }
   ],
   "source": [
    "FirstDigit_greater100 = pd.DataFrame(map(int, [str(x)[0] for x in INT_greater100]))\n",
    "FirstDigit_greater100"
   ]
  },
  {
   "cell_type": "code",
   "execution_count": 218,
   "id": "ad2ebf69",
   "metadata": {},
   "outputs": [
    {
     "data": {
      "text/plain": [
       "1    30.0\n",
       "2    12.0\n",
       "3    15.0\n",
       "4    15.0\n",
       "5    12.0\n",
       "6     9.0\n",
       "7    10.0\n",
       "8     4.0\n",
       "9     0.0\n",
       "Name: 0, dtype: float64"
      ]
     },
     "execution_count": 218,
     "metadata": {},
     "output_type": "execute_result"
    }
   ],
   "source": [
    "H_FirstDigit[0]"
   ]
  },
  {
   "cell_type": "code",
   "execution_count": 236,
   "id": "725cbd1c",
   "metadata": {},
   "outputs": [
    {
     "data": {
      "text/plain": [
       "1    22.0\n",
       "2     6.0\n",
       "3     4.0\n",
       "4     4.0\n",
       "5    12.0\n",
       "6     8.0\n",
       "7     2.0\n",
       "8     4.0\n",
       "9     0.0\n",
       "Name: 0, dtype: float64"
      ]
     },
     "execution_count": 236,
     "metadata": {},
     "output_type": "execute_result"
    }
   ],
   "source": [
    "freq_firstDigGreater100 = pd.DataFrame(FirstDigit_greater100.value_counts().sort_index())\n",
    "freq_firstDigGreater100.loc[9,0] = 0\n",
    "freq_firstDigGreater100[0]\n"
   ]
  },
  {
   "cell_type": "code",
   "execution_count": 238,
   "id": "06590772",
   "metadata": {},
   "outputs": [
    {
     "data": {
      "text/plain": [
       "[18.663859731166834,\n",
       " 10.917658061452236,\n",
       " 7.746201669714596,\n",
       " 6.008420806499498,\n",
       " 4.909237254952739,\n",
       " 4.15070095709802,\n",
       " 3.595500712616577,\n",
       " 3.17145639173764,\n",
       " 2.8369644147618587]"
      ]
     },
     "execution_count": 238,
     "metadata": {},
     "output_type": "execute_result"
    }
   ],
   "source": [
    "\n",
    "Probs_greater100 = []\n",
    "for x in numbers: Probs_greater100.append(math.log10(1 + 1/x))\n",
    "for i in range(0, len(Probs_greater100)):\n",
    "    Probs_greater100[i] = Probs_greater100[i] * len(FirstDigit_greater100)\n",
    "Probs_greater100"
   ]
  },
  {
   "cell_type": "code",
   "execution_count": 239,
   "id": "dfb2801f",
   "metadata": {},
   "outputs": [
    {
     "data": {
      "text/plain": [
       "Power_divergenceResult(statistic=22.867382781613838, pvalue=0.0035387498663053355)"
      ]
     },
     "execution_count": 239,
     "metadata": {},
     "output_type": "execute_result"
    }
   ],
   "source": [
    "chisquare(f_obs = freq_firstDigGreater100[0], f_exp=Probs_greater100)\n"
   ]
  }
 ],
 "metadata": {
  "kernelspec": {
   "display_name": "Python 3.10.4 64-bit",
   "language": "python",
   "name": "python3"
  },
  "language_info": {
   "codemirror_mode": {
    "name": "ipython",
    "version": 3
   },
   "file_extension": ".py",
   "mimetype": "text/x-python",
   "name": "python",
   "nbconvert_exporter": "python",
   "pygments_lexer": "ipython3",
   "version": "3.10.4"
  },
  "vscode": {
   "interpreter": {
    "hash": "aee8b7b246df8f9039afb4144a1f6fd8d2ca17a180786b69acc140d282b71a49"
   }
  }
 },
 "nbformat": 4,
 "nbformat_minor": 5
}
